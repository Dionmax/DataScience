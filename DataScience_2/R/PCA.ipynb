{
 "cells": [
  {
   "cell_type": "code",
   "execution_count": 1,
   "metadata": {
    "vscode": {
     "languageId": "r"
    }
   },
   "outputs": [
    {
     "name": "stderr",
     "output_type": "stream",
     "text": [
      "randomForest 4.7-1.1\n",
      "\n",
      "Type rfNews() to see new features/changes/bug fixes.\n",
      "\n"
     ]
    }
   ],
   "source": [
    "# install.packages(\"randomForest\")\n",
    "# install.packages(\"FactoMineR\")\n",
    "\n",
    "library(randomForest)\n",
    "library(FactoMineR)\n"
   ]
  },
  {
   "cell_type": "code",
   "execution_count": 2,
   "metadata": {
    "vscode": {
     "languageId": "r"
    }
   },
   "outputs": [],
   "source": [
    "# Set seed for reproducibility\n",
    "set.seed(2334)\n"
   ]
  },
  {
   "cell_type": "code",
   "execution_count": 9,
   "metadata": {
    "vscode": {
     "languageId": "r"
    }
   },
   "outputs": [
    {
     "data": {
      "text/html": [
       "<table class=\"dataframe\">\n",
       "<caption>A data.frame: 6 × 5</caption>\n",
       "<thead>\n",
       "\t<tr><th></th><th scope=col>Sepal.Length</th><th scope=col>Sepal.Width</th><th scope=col>Petal.Length</th><th scope=col>Petal.Width</th><th scope=col>Species</th></tr>\n",
       "\t<tr><th></th><th scope=col>&lt;dbl&gt;</th><th scope=col>&lt;dbl&gt;</th><th scope=col>&lt;dbl&gt;</th><th scope=col>&lt;dbl&gt;</th><th scope=col>&lt;fct&gt;</th></tr>\n",
       "</thead>\n",
       "<tbody>\n",
       "\t<tr><th scope=row>1</th><td>5.1</td><td>3.5</td><td>1.4</td><td>0.2</td><td>setosa</td></tr>\n",
       "\t<tr><th scope=row>2</th><td>4.9</td><td>3.0</td><td>1.4</td><td>0.2</td><td>setosa</td></tr>\n",
       "\t<tr><th scope=row>3</th><td>4.7</td><td>3.2</td><td>1.3</td><td>0.2</td><td>setosa</td></tr>\n",
       "\t<tr><th scope=row>4</th><td>4.6</td><td>3.1</td><td>1.5</td><td>0.2</td><td>setosa</td></tr>\n",
       "\t<tr><th scope=row>5</th><td>5.0</td><td>3.6</td><td>1.4</td><td>0.2</td><td>setosa</td></tr>\n",
       "\t<tr><th scope=row>6</th><td>5.4</td><td>3.9</td><td>1.7</td><td>0.4</td><td>setosa</td></tr>\n",
       "</tbody>\n",
       "</table>\n"
      ],
      "text/latex": [
       "A data.frame: 6 × 5\n",
       "\\begin{tabular}{r|lllll}\n",
       "  & Sepal.Length & Sepal.Width & Petal.Length & Petal.Width & Species\\\\\n",
       "  & <dbl> & <dbl> & <dbl> & <dbl> & <fct>\\\\\n",
       "\\hline\n",
       "\t1 & 5.1 & 3.5 & 1.4 & 0.2 & setosa\\\\\n",
       "\t2 & 4.9 & 3.0 & 1.4 & 0.2 & setosa\\\\\n",
       "\t3 & 4.7 & 3.2 & 1.3 & 0.2 & setosa\\\\\n",
       "\t4 & 4.6 & 3.1 & 1.5 & 0.2 & setosa\\\\\n",
       "\t5 & 5.0 & 3.6 & 1.4 & 0.2 & setosa\\\\\n",
       "\t6 & 5.4 & 3.9 & 1.7 & 0.4 & setosa\\\\\n",
       "\\end{tabular}\n"
      ],
      "text/markdown": [
       "\n",
       "A data.frame: 6 × 5\n",
       "\n",
       "| <!--/--> | Sepal.Length &lt;dbl&gt; | Sepal.Width &lt;dbl&gt; | Petal.Length &lt;dbl&gt; | Petal.Width &lt;dbl&gt; | Species &lt;fct&gt; |\n",
       "|---|---|---|---|---|---|\n",
       "| 1 | 5.1 | 3.5 | 1.4 | 0.2 | setosa |\n",
       "| 2 | 4.9 | 3.0 | 1.4 | 0.2 | setosa |\n",
       "| 3 | 4.7 | 3.2 | 1.3 | 0.2 | setosa |\n",
       "| 4 | 4.6 | 3.1 | 1.5 | 0.2 | setosa |\n",
       "| 5 | 5.0 | 3.6 | 1.4 | 0.2 | setosa |\n",
       "| 6 | 5.4 | 3.9 | 1.7 | 0.4 | setosa |\n",
       "\n"
      ],
      "text/plain": [
       "  Sepal.Length Sepal.Width Petal.Length Petal.Width Species\n",
       "1 5.1          3.5         1.4          0.2         setosa \n",
       "2 4.9          3.0         1.4          0.2         setosa \n",
       "3 4.7          3.2         1.3          0.2         setosa \n",
       "4 4.6          3.1         1.5          0.2         setosa \n",
       "5 5.0          3.6         1.4          0.2         setosa \n",
       "6 5.4          3.9         1.7          0.4         setosa "
      ]
     },
     "metadata": {},
     "output_type": "display_data"
    }
   ],
   "source": [
    "head(iris)\n"
   ]
  },
  {
   "cell_type": "markdown",
   "metadata": {},
   "source": [
    "### Normalize the data"
   ]
  },
  {
   "cell_type": "code",
   "execution_count": 6,
   "metadata": {
    "vscode": {
     "languageId": "r"
    }
   },
   "outputs": [],
   "source": [
    "iris2 <- as.data.frame(scale(iris[, -5]))\n",
    "\n",
    "# Perform PCA\n",
    "iris2$Species <- iris$Species\n"
   ]
  },
  {
   "cell_type": "code",
   "execution_count": 10,
   "metadata": {
    "vscode": {
     "languageId": "r"
    }
   },
   "outputs": [
    {
     "data": {
      "text/html": [
       "<table class=\"dataframe\">\n",
       "<caption>A data.frame: 6 × 5</caption>\n",
       "<thead>\n",
       "\t<tr><th></th><th scope=col>Sepal.Length</th><th scope=col>Sepal.Width</th><th scope=col>Petal.Length</th><th scope=col>Petal.Width</th><th scope=col>Species</th></tr>\n",
       "\t<tr><th></th><th scope=col>&lt;dbl&gt;</th><th scope=col>&lt;dbl&gt;</th><th scope=col>&lt;dbl&gt;</th><th scope=col>&lt;dbl&gt;</th><th scope=col>&lt;fct&gt;</th></tr>\n",
       "</thead>\n",
       "<tbody>\n",
       "\t<tr><th scope=row>1</th><td>-0.8976739</td><td> 1.01560199</td><td>-1.335752</td><td>-1.311052</td><td>setosa</td></tr>\n",
       "\t<tr><th scope=row>2</th><td>-1.1392005</td><td>-0.13153881</td><td>-1.335752</td><td>-1.311052</td><td>setosa</td></tr>\n",
       "\t<tr><th scope=row>3</th><td>-1.3807271</td><td> 0.32731751</td><td>-1.392399</td><td>-1.311052</td><td>setosa</td></tr>\n",
       "\t<tr><th scope=row>4</th><td>-1.5014904</td><td> 0.09788935</td><td>-1.279104</td><td>-1.311052</td><td>setosa</td></tr>\n",
       "\t<tr><th scope=row>5</th><td>-1.0184372</td><td> 1.24503015</td><td>-1.335752</td><td>-1.311052</td><td>setosa</td></tr>\n",
       "\t<tr><th scope=row>6</th><td>-0.5353840</td><td> 1.93331463</td><td>-1.165809</td><td>-1.048667</td><td>setosa</td></tr>\n",
       "</tbody>\n",
       "</table>\n"
      ],
      "text/latex": [
       "A data.frame: 6 × 5\n",
       "\\begin{tabular}{r|lllll}\n",
       "  & Sepal.Length & Sepal.Width & Petal.Length & Petal.Width & Species\\\\\n",
       "  & <dbl> & <dbl> & <dbl> & <dbl> & <fct>\\\\\n",
       "\\hline\n",
       "\t1 & -0.8976739 &  1.01560199 & -1.335752 & -1.311052 & setosa\\\\\n",
       "\t2 & -1.1392005 & -0.13153881 & -1.335752 & -1.311052 & setosa\\\\\n",
       "\t3 & -1.3807271 &  0.32731751 & -1.392399 & -1.311052 & setosa\\\\\n",
       "\t4 & -1.5014904 &  0.09788935 & -1.279104 & -1.311052 & setosa\\\\\n",
       "\t5 & -1.0184372 &  1.24503015 & -1.335752 & -1.311052 & setosa\\\\\n",
       "\t6 & -0.5353840 &  1.93331463 & -1.165809 & -1.048667 & setosa\\\\\n",
       "\\end{tabular}\n"
      ],
      "text/markdown": [
       "\n",
       "A data.frame: 6 × 5\n",
       "\n",
       "| <!--/--> | Sepal.Length &lt;dbl&gt; | Sepal.Width &lt;dbl&gt; | Petal.Length &lt;dbl&gt; | Petal.Width &lt;dbl&gt; | Species &lt;fct&gt; |\n",
       "|---|---|---|---|---|---|\n",
       "| 1 | -0.8976739 |  1.01560199 | -1.335752 | -1.311052 | setosa |\n",
       "| 2 | -1.1392005 | -0.13153881 | -1.335752 | -1.311052 | setosa |\n",
       "| 3 | -1.3807271 |  0.32731751 | -1.392399 | -1.311052 | setosa |\n",
       "| 4 | -1.5014904 |  0.09788935 | -1.279104 | -1.311052 | setosa |\n",
       "| 5 | -1.0184372 |  1.24503015 | -1.335752 | -1.311052 | setosa |\n",
       "| 6 | -0.5353840 |  1.93331463 | -1.165809 | -1.048667 | setosa |\n",
       "\n"
      ],
      "text/plain": [
       "  Sepal.Length Sepal.Width Petal.Length Petal.Width Species\n",
       "1 -0.8976739    1.01560199 -1.335752    -1.311052   setosa \n",
       "2 -1.1392005   -0.13153881 -1.335752    -1.311052   setosa \n",
       "3 -1.3807271    0.32731751 -1.392399    -1.311052   setosa \n",
       "4 -1.5014904    0.09788935 -1.279104    -1.311052   setosa \n",
       "5 -1.0184372    1.24503015 -1.335752    -1.311052   setosa \n",
       "6 -0.5353840    1.93331463 -1.165809    -1.048667   setosa "
      ]
     },
     "metadata": {},
     "output_type": "display_data"
    }
   ],
   "source": [
    "head(iris2)\n"
   ]
  },
  {
   "cell_type": "markdown",
   "metadata": {},
   "source": [
    "### Random Forest"
   ]
  },
  {
   "cell_type": "code",
   "execution_count": 11,
   "metadata": {
    "vscode": {
     "languageId": "r"
    }
   },
   "outputs": [],
   "source": [
    "amostra <- sample(2, 150, replace = T, prob = c(0.7, 0.3))\n",
    "\n",
    "iristreino <- iris2[amostra == 1, ]\n",
    "iristeste <- iris2[amostra == 2, ]\n"
   ]
  },
  {
   "cell_type": "code",
   "execution_count": 12,
   "metadata": {
    "vscode": {
     "languageId": "r"
    }
   },
   "outputs": [],
   "source": [
    "floresta <- randomForest(Species ~ ., data = iristreino, ntree = 1000, importance = T)\n",
    "\n",
    "previsao <- predict(floresta, iristeste)\n"
   ]
  },
  {
   "cell_type": "code",
   "execution_count": 15,
   "metadata": {
    "vscode": {
     "languageId": "r"
    }
   },
   "outputs": [
    {
     "data": {
      "text/plain": [
       "            \n",
       "previsao     setosa versicolor virginica\n",
       "  setosa         18          0         0\n",
       "  versicolor      0          8         3\n",
       "  virginica       0          0         7"
      ]
     },
     "metadata": {},
     "output_type": "display_data"
    }
   ],
   "source": [
    "confusao <- table(previsao, iristeste$Species)\n",
    "confusao\n"
   ]
  },
  {
   "cell_type": "code",
   "execution_count": 16,
   "metadata": {
    "vscode": {
     "languageId": "r"
    }
   },
   "outputs": [
    {
     "data": {
      "text/html": [
       "0.916666666666667"
      ],
      "text/latex": [
       "0.916666666666667"
      ],
      "text/markdown": [
       "0.916666666666667"
      ],
      "text/plain": [
       "[1] 0.9166667"
      ]
     },
     "metadata": {},
     "output_type": "display_data"
    }
   ],
   "source": [
    "taxa_acerto <- sum(diag(confusao)) / sum(confusao)\n",
    "taxa_acerto\n"
   ]
  },
  {
   "cell_type": "markdown",
   "metadata": {},
   "source": [
    "### PCA (Reducing dimensions)"
   ]
  },
  {
   "cell_type": "code",
   "execution_count": 19,
   "metadata": {
    "vscode": {
     "languageId": "r"
    }
   },
   "outputs": [
    {
     "name": "stdout",
     "output_type": "stream",
     "text": [
      "\n",
      "Call:\n",
      "PCA(X = iris[, -5], ncp = 3, graph = FALSE) \n",
      "\n",
      "\n",
      "Eigenvalues\n",
      "                       Dim.1   Dim.2   Dim.3   Dim.4\n",
      "Variance               2.918   0.914   0.147   0.021\n",
      "% of var.             72.962  22.851   3.669   0.518\n",
      "Cumulative % of var.  72.962  95.813  99.482 100.000\n",
      "\n",
      "Individuals (the 10 first)\n",
      "                 Dist    Dim.1    ctr   cos2    Dim.2    ctr   cos2    Dim.3\n",
      "1            |  2.319 | -2.265  1.172  0.954 |  0.480  0.168  0.043 | -0.128\n",
      "2            |  2.202 | -2.081  0.989  0.893 | -0.674  0.331  0.094 | -0.235\n",
      "3            |  2.389 | -2.364  1.277  0.979 | -0.342  0.085  0.020 |  0.044\n",
      "4            |  2.378 | -2.299  1.208  0.935 | -0.597  0.260  0.063 |  0.091\n",
      "5            |  2.476 | -2.390  1.305  0.932 |  0.647  0.305  0.068 |  0.016\n",
      "6            |  2.555 | -2.076  0.984  0.660 |  1.489  1.617  0.340 |  0.027\n",
      "7            |  2.468 | -2.444  1.364  0.981 |  0.048  0.002  0.000 |  0.335\n",
      "8            |  2.246 | -2.233  1.139  0.988 |  0.223  0.036  0.010 | -0.089\n",
      "9            |  2.592 | -2.335  1.245  0.812 | -1.115  0.907  0.185 |  0.145\n",
      "10           |  2.249 | -2.184  1.090  0.943 | -0.469  0.160  0.043 | -0.254\n",
      "                ctr   cos2  \n",
      "1             0.074  0.003 |\n",
      "2             0.250  0.011 |\n",
      "3             0.009  0.000 |\n",
      "4             0.038  0.001 |\n",
      "5             0.001  0.000 |\n",
      "6             0.003  0.000 |\n",
      "7             0.511  0.018 |\n",
      "8             0.036  0.002 |\n",
      "9             0.096  0.003 |\n",
      "10            0.293  0.013 |\n",
      "\n",
      "Variables\n",
      "                Dim.1    ctr   cos2    Dim.2    ctr   cos2    Dim.3    ctr\n",
      "Sepal.Length |  0.890 27.151  0.792 |  0.361 14.244  0.130 | -0.276 51.778\n",
      "Sepal.Width  | -0.460  7.255  0.212 |  0.883 85.247  0.779 |  0.094  5.972\n",
      "Petal.Length |  0.992 33.688  0.983 |  0.023  0.060  0.001 |  0.054  2.020\n",
      "Petal.Width  |  0.965 31.906  0.931 |  0.064  0.448  0.004 |  0.243 40.230\n",
      "               cos2  \n",
      "Sepal.Length  0.076 |\n",
      "Sepal.Width   0.009 |\n",
      "Petal.Length  0.003 |\n",
      "Petal.Width   0.059 |\n"
     ]
    }
   ],
   "source": [
    "# Perform PCA\n",
    "pca <- PCA(iris[, -5], ncp = 3, graph = FALSE)\n",
    "\n",
    "summary(pca)\n"
   ]
  },
  {
   "cell_type": "code",
   "execution_count": 21,
   "metadata": {
    "vscode": {
     "languageId": "r"
    }
   },
   "outputs": [
    {
     "data": {
      "text/html": [
       "<table class=\"dataframe\">\n",
       "<caption>A data.frame: 6 × 4</caption>\n",
       "<thead>\n",
       "\t<tr><th></th><th scope=col>Dim.1</th><th scope=col>Dim.2</th><th scope=col>Dim.3</th><th scope=col>Species</th></tr>\n",
       "\t<tr><th></th><th scope=col>&lt;dbl&gt;</th><th scope=col>&lt;dbl&gt;</th><th scope=col>&lt;dbl&gt;</th><th scope=col>&lt;fct&gt;</th></tr>\n",
       "</thead>\n",
       "<tbody>\n",
       "\t<tr><th scope=row>1</th><td>-2.264703</td><td> 0.4800266</td><td>-0.12770602</td><td>setosa</td></tr>\n",
       "\t<tr><th scope=row>2</th><td>-2.080961</td><td>-0.6741336</td><td>-0.23460885</td><td>setosa</td></tr>\n",
       "\t<tr><th scope=row>3</th><td>-2.364229</td><td>-0.3419080</td><td> 0.04420148</td><td>setosa</td></tr>\n",
       "\t<tr><th scope=row>4</th><td>-2.299384</td><td>-0.5973945</td><td> 0.09129011</td><td>setosa</td></tr>\n",
       "\t<tr><th scope=row>5</th><td>-2.389842</td><td> 0.6468354</td><td> 0.01573820</td><td>setosa</td></tr>\n",
       "\t<tr><th scope=row>6</th><td>-2.075631</td><td> 1.4891775</td><td> 0.02696829</td><td>setosa</td></tr>\n",
       "</tbody>\n",
       "</table>\n"
      ],
      "text/latex": [
       "A data.frame: 6 × 4\n",
       "\\begin{tabular}{r|llll}\n",
       "  & Dim.1 & Dim.2 & Dim.3 & Species\\\\\n",
       "  & <dbl> & <dbl> & <dbl> & <fct>\\\\\n",
       "\\hline\n",
       "\t1 & -2.264703 &  0.4800266 & -0.12770602 & setosa\\\\\n",
       "\t2 & -2.080961 & -0.6741336 & -0.23460885 & setosa\\\\\n",
       "\t3 & -2.364229 & -0.3419080 &  0.04420148 & setosa\\\\\n",
       "\t4 & -2.299384 & -0.5973945 &  0.09129011 & setosa\\\\\n",
       "\t5 & -2.389842 &  0.6468354 &  0.01573820 & setosa\\\\\n",
       "\t6 & -2.075631 &  1.4891775 &  0.02696829 & setosa\\\\\n",
       "\\end{tabular}\n"
      ],
      "text/markdown": [
       "\n",
       "A data.frame: 6 × 4\n",
       "\n",
       "| <!--/--> | Dim.1 &lt;dbl&gt; | Dim.2 &lt;dbl&gt; | Dim.3 &lt;dbl&gt; | Species &lt;fct&gt; |\n",
       "|---|---|---|---|---|\n",
       "| 1 | -2.264703 |  0.4800266 | -0.12770602 | setosa |\n",
       "| 2 | -2.080961 | -0.6741336 | -0.23460885 | setosa |\n",
       "| 3 | -2.364229 | -0.3419080 |  0.04420148 | setosa |\n",
       "| 4 | -2.299384 | -0.5973945 |  0.09129011 | setosa |\n",
       "| 5 | -2.389842 |  0.6468354 |  0.01573820 | setosa |\n",
       "| 6 | -2.075631 |  1.4891775 |  0.02696829 | setosa |\n",
       "\n"
      ],
      "text/plain": [
       "  Dim.1     Dim.2      Dim.3       Species\n",
       "1 -2.264703  0.4800266 -0.12770602 setosa \n",
       "2 -2.080961 -0.6741336 -0.23460885 setosa \n",
       "3 -2.364229 -0.3419080  0.04420148 setosa \n",
       "4 -2.299384 -0.5973945  0.09129011 setosa \n",
       "5 -2.389842  0.6468354  0.01573820 setosa \n",
       "6 -2.075631  1.4891775  0.02696829 setosa "
      ]
     },
     "metadata": {},
     "output_type": "display_data"
    }
   ],
   "source": [
    "irispca <- data.frame(pca$ind$coord[, 1:3], Species = iris$Species)\n",
    "\n",
    "head(irispca)\n"
   ]
  },
  {
   "cell_type": "code",
   "execution_count": 22,
   "metadata": {
    "vscode": {
     "languageId": "r"
    }
   },
   "outputs": [],
   "source": [
    "amostrapca <- sample(2, 150, replace = T, prob = c(0.7, 0.3))\n",
    "\n",
    "irispcatreino <- irispca[amostrapca == 1, ]\n",
    "irispcateste <- irispca[amostrapca == 2, ]\n"
   ]
  },
  {
   "cell_type": "code",
   "execution_count": 23,
   "metadata": {
    "vscode": {
     "languageId": "r"
    }
   },
   "outputs": [],
   "source": [
    "florestapca <- randomForest(Species ~ ., data = irispcatreino, ntree = 1000, importance = T)\n",
    "\n",
    "previsaopca <- predict(florestapca, irispcateste)\n"
   ]
  },
  {
   "cell_type": "code",
   "execution_count": 24,
   "metadata": {
    "vscode": {
     "languageId": "r"
    }
   },
   "outputs": [
    {
     "data": {
      "text/plain": [
       "            \n",
       "previsaopca  setosa versicolor virginica\n",
       "  setosa         13          0         0\n",
       "  versicolor      0         14         2\n",
       "  virginica       0          0        13"
      ]
     },
     "metadata": {},
     "output_type": "display_data"
    }
   ],
   "source": [
    "confusaopca <- table(previsaopca, irispcateste$Species)\n",
    "confusaopca\n"
   ]
  },
  {
   "cell_type": "code",
   "execution_count": 26,
   "metadata": {
    "vscode": {
     "languageId": "r"
    }
   },
   "outputs": [
    {
     "data": {
      "text/html": [
       "0.952380952380952"
      ],
      "text/latex": [
       "0.952380952380952"
      ],
      "text/markdown": [
       "0.952380952380952"
      ],
      "text/plain": [
       "[1] 0.952381"
      ]
     },
     "metadata": {},
     "output_type": "display_data"
    }
   ],
   "source": [
    "taxa_acertopca <- sum(diag(confusaopca)) / sum(confusaopca)\n",
    "taxa_acertopca\n"
   ]
  }
 ],
 "metadata": {
  "kernelspec": {
   "display_name": "R",
   "language": "R",
   "name": "ir"
  },
  "language_info": {
   "codemirror_mode": "r",
   "file_extension": ".r",
   "mimetype": "text/x-r-source",
   "name": "R",
   "pygments_lexer": "r",
   "version": "4.3.1"
  }
 },
 "nbformat": 4,
 "nbformat_minor": 2
}
