{
 "cells": [
  {
   "cell_type": "code",
   "execution_count": 9,
   "metadata": {
    "vscode": {
     "languageId": "r"
    }
   },
   "outputs": [
    {
     "name": "stderr",
     "output_type": "stream",
     "text": [
      "Warning message:\n",
      "“package ‘h2o’ was built under R version 4.3.2”\n"
     ]
    },
    {
     "name": "stderr",
     "output_type": "stream",
     "text": [
      "\n",
      "----------------------------------------------------------------------\n",
      "\n",
      "Your next step is to start H2O:\n",
      "    > h2o.init()\n",
      "\n",
      "For H2O package documentation, ask for help:\n",
      "    > ??h2o\n",
      "\n",
      "After starting H2O, you can use the Web UI at http://localhost:54321\n",
      "For more information visit https://docs.h2o.ai\n",
      "\n",
      "----------------------------------------------------------------------\n",
      "\n",
      "\n",
      "\n",
      "Attaching package: ‘h2o’\n",
      "\n",
      "\n",
      "The following objects are masked from ‘package:stats’:\n",
      "\n",
      "    cor, sd, var\n",
      "\n",
      "\n",
      "The following objects are masked from ‘package:base’:\n",
      "\n",
      "    &&, %*%, %in%, ||, apply, as.factor, as.numeric, colnames,\n",
      "    colnames<-, ifelse, is.character, is.factor, is.numeric, log,\n",
      "    log10, log1p, log2, round, signif, trunc\n",
      "\n",
      "\n"
     ]
    }
   ],
   "source": [
    "# conda install conda-forge::r-h2o\n",
    "library(\"h2o\")\n"
   ]
  },
  {
   "cell_type": "code",
   "execution_count": 10,
   "metadata": {
    "vscode": {
     "languageId": "r"
    }
   },
   "outputs": [
    {
     "name": "stdout",
     "output_type": "stream",
     "text": [
      "\n",
      "H2O is not running yet, starting it now...\n",
      "\n",
      "Note:  In case of errors look at the following log files:\n",
      "    /tmp/RtmplwzrcP/file3d1679e5e801/h2o_UnknownUser_started_from_r.out\n",
      "    /tmp/RtmplwzrcP/file3d161364abd1/h2o_UnknownUser_started_from_r.err\n",
      "\n",
      "\n",
      "Starting H2O JVM and connecting: .. Connection successful!\n",
      "\n",
      "R is connected to the H2O cluster: \n",
      "    H2O cluster uptime:         1 seconds 882 milliseconds \n",
      "    H2O cluster timezone:       Etc/UTC \n",
      "    H2O data parsing timezone:  UTC \n",
      "    H2O cluster version:        3.44.0.3 \n",
      "    H2O cluster version age:    8 months and 20 days \n",
      "    H2O cluster name:           H2O_started_from_R_root_luh827 \n",
      "    H2O cluster total nodes:    1 \n",
      "    H2O cluster total memory:   1.71 GB \n",
      "    H2O cluster total cores:    12 \n",
      "    H2O cluster allowed cores:  12 \n",
      "    H2O cluster healthy:        TRUE \n",
      "    H2O Connection ip:          localhost \n",
      "    H2O Connection port:        54321 \n",
      "    H2O Connection proxy:       NA \n",
      "    H2O Internal Security:      FALSE \n",
      "    R Version:                  R version 4.3.1 (2023-06-16) \n"
     ]
    },
    {
     "name": "stderr",
     "output_type": "stream",
     "text": [
      "Warning message in h2o.clusterInfo():\n",
      "“\n",
      "Your H2O cluster version is (8 months and 20 days) old. There may be a newer version available.\n",
      "Please download and install the latest version from: https://h2o-release.s3.amazonaws.com/h2o/latest_stable.html”\n"
     ]
    },
    {
     "name": "stdout",
     "output_type": "stream",
     "text": [
      "\n"
     ]
    }
   ],
   "source": [
    "localH2O <- h2o.init(nthreads = -1)\n"
   ]
  },
  {
   "cell_type": "code",
   "execution_count": 11,
   "metadata": {
    "vscode": {
     "languageId": "r"
    }
   },
   "outputs": [
    {
     "name": "stdout",
     "output_type": "stream",
     "text": [
      "\n",
      "\n",
      "\tdemo(h2o.kmeans)\n",
      "\t---- ~~~~~~~~~~\n",
      "\n",
      "> # This is a demo of H2O's K-Means function\n",
      "> # It imports a data set, parses it, and prints a summary\n",
      "> # Then, it runs K-Means with k = 5 centers on a subset of characteristics\n",
      "> # Note: This demo runs H2O on localhost:54321\n",
      "> library(h2o)\n",
      "\n",
      "> h2o.init()\n",
      " Connection successful!\n",
      "\n",
      "R is connected to the H2O cluster: \n",
      "    H2O cluster uptime:         16 seconds 460 milliseconds \n",
      "    H2O cluster timezone:       Etc/UTC \n",
      "    H2O data parsing timezone:  UTC \n",
      "    H2O cluster version:        3.44.0.3 \n",
      "    H2O cluster version age:    8 months and 20 days \n",
      "    H2O cluster name:           H2O_started_from_R_root_luh827 \n",
      "    H2O cluster total nodes:    1 \n",
      "    H2O cluster total memory:   1.71 GB \n",
      "    H2O cluster total cores:    12 \n",
      "    H2O cluster allowed cores:  12 \n",
      "    H2O cluster healthy:        TRUE \n",
      "    H2O Connection ip:          localhost \n",
      "    H2O Connection port:        54321 \n",
      "    H2O Connection proxy:       NA \n",
      "    H2O Internal Security:      FALSE \n",
      "    R Version:                  R version 4.3.1 (2023-06-16) \n"
     ]
    },
    {
     "name": "stderr",
     "output_type": "stream",
     "text": [
      "Warning message in h2o.clusterInfo():\n",
      "“\n",
      "Your H2O cluster version is (8 months and 20 days) old. There may be a newer version available.\n",
      "Please download and install the latest version from: https://h2o-release.s3.amazonaws.com/h2o/latest_stable.html”\n"
     ]
    },
    {
     "name": "stdout",
     "output_type": "stream",
     "text": [
      "\n",
      "\n",
      "> prostate.hex = h2o.uploadFile(path = system.file(\"extdata\", \"prostate.csv\", package=\"h2o\"), destination_frame = \"prostate\")\n",
      "  |======================================================================| 100%\n",
      "\n",
      "> summary(prostate.hex)\n"
     ]
    },
    {
     "name": "stderr",
     "output_type": "stream",
     "text": [
      "Warning message in summary.H2OFrame(prostate.hex):\n",
      "“Approximated quantiles computed! If you are interested in exact quantiles, please pass the `exact_quantiles=TRUE` parameter.”\n"
     ]
    },
    {
     "name": "stdout",
     "output_type": "stream",
     "text": [
      " ID               CAPSULE          AGE             RACE           \n",
      " Min.   :  1.00   Min.   :0.0000   Min.   :43.00   Min.   :0.000  \n",
      " 1st Qu.: 95.75   1st Qu.:0.0000   1st Qu.:62.00   1st Qu.:1.000  \n",
      " Median :190.50   Median :0.0000   Median :67.00   Median :1.000  \n",
      " Mean   :190.50   Mean   :0.4026   Mean   :66.04   Mean   :1.087  \n",
      " 3rd Qu.:285.25   3rd Qu.:1.0000   3rd Qu.:71.00   3rd Qu.:1.000  \n",
      " Max.   :380.00   Max.   :1.0000   Max.   :79.00   Max.   :2.000  \n",
      " DPROS           DCAPS           PSA               VOL            \n",
      " Min.   :1.000   Min.   :1.000   Min.   :  0.300   Min.   : 0.00  \n",
      " 1st Qu.:1.000   1st Qu.:1.000   1st Qu.:  4.900   1st Qu.: 0.00  \n",
      " Median :2.000   Median :1.000   Median :  8.664   Median :14.20  \n",
      " Mean   :2.271   Mean   :1.108   Mean   : 15.409   Mean   :15.81  \n",
      " 3rd Qu.:3.000   3rd Qu.:1.000   3rd Qu.: 17.063   3rd Qu.:26.40  \n",
      " Max.   :4.000   Max.   :2.000   Max.   :139.700   Max.   :97.60  \n",
      " GLEASON        \n",
      " Min.   :0.000  \n",
      " 1st Qu.:6.000  \n",
      " Median :6.000  \n",
      " Mean   :6.384  \n",
      " 3rd Qu.:7.000  \n",
      " Max.   :9.000  \n",
      "\n",
      "> prostate.km = h2o.kmeans(prostate.hex, k = 10, x = c(\"AGE\",\"RACE\",\"GLEASON\",\"CAPSULE\",\"DCAPS\"))\n",
      "  |======================================================================| 100%\n",
      "\n",
      "> print(prostate.km)\n",
      "Model Details:\n",
      "==============\n",
      "\n",
      "H2OClusteringModel: kmeans\n",
      "Model ID:  KMeans_model_R_1725979403471_1 \n",
      "Model Summary: \n",
      "  number_of_rows number_of_clusters number_of_categorical_columns\n",
      "1            380                 10                             0\n",
      "  number_of_iterations within_cluster_sum_of_squares total_sum_of_squares\n",
      "1                    8                     489.80054           1895.00000\n",
      "  between_cluster_sum_of_squares\n",
      "1                     1405.19946\n",
      "\n",
      "\n",
      "H2OClusteringMetrics: kmeans\n",
      "** Reported on training data. **\n",
      "\n",
      "\n",
      "Total Within SS:  489.8005\n",
      "Between SS:  1405.199\n",
      "Total SS:  1895 \n",
      "Centroid Statistics: \n",
      "   centroid      size within_cluster_sum_of_squares\n",
      "1         1 111.00000                     106.82456\n",
      "2         2   2.00000                       0.04695\n",
      "3         3  85.00000                      84.35896\n",
      "4         4   6.00000                      10.15081\n",
      "5         5 110.00000                     188.40103\n",
      "6         6   2.00000                       5.89369\n",
      "7         7  13.00000                      23.36712\n",
      "8         8  11.00000                      18.54178\n",
      "9         9  17.00000                      16.97542\n",
      "10       10  23.00000                      35.24021\n",
      "\n",
      "\n",
      "\n",
      "\n",
      "> prostate.data = as.data.frame(prostate.hex)\n",
      "\n",
      "> # prostate.clus = as.data.frame(prostate.km@model$cluster)\n",
      "> \n",
      "> # Plot categorized data\n",
      "> # if(!\"fpc\" %in% rownames(installed.packages())) install.packages(\"fpc\")\n",
      "> # if(\"fpc\" %in% rownames(installed.packages())) {\n",
      "> #  library(fpc)\n",
      "> \n",
      "> #  par(mfrow=c(1,1))\n",
      "> #  plotcluster(prostate.data, prostate.clus[,1])\n",
      "> #  title(\"K-Means Classification for k = 10\")\n",
      "> # }\n",
      "> \n",
      "> # if(!\"cluster\" %in% rownames(installed.packages())) install.packages(\"cluster\")\n",
      "> # if(\"cluster\" %in% rownames(installed.packages())) {\n",
      "> #  library(cluster)\n",
      "> #  clusplot(prostate.data, prostate.clus[,1], color = TRUE, shade = TRUE)\n",
      "> # }\n",
      "> # pairs(prostate.data[,c(2,3,7,8)], col=prostate.clus[,1])\n",
      "> \n",
      "> # Plot k-means centers\n",
      "> par(mfrow = c(1,2))\n",
      "\n",
      "> prostate.ctrs = as.data.frame(prostate.km@model$centers)\n",
      "\n",
      "> plot(prostate.ctrs[,1:2])\n",
      "\n",
      "> plot(prostate.ctrs[,3:4])\n",
      "\n",
      "> title(\"K-Means Centers for k = 10\", outer = TRUE, line = -2.0)\n"
     ]
    },
    {
     "data": {
      "application/pdf": "[encoded data removed]",
      "image/jpeg": "[encoded data removed]",
      "image/png": "[encoded data removed]",
      "image/svg+xml": [
       "<?xml version=\"1.0\" encoding=\"UTF-8\"?>\n",
       "<svg xmlns=\"http://www.w3.org/2000/svg\" xmlns:xlink=\"http://www.w3.org/1999/xlink\" width=\"504\" height=\"504\" viewBox=\"0 0 504 504\">\n",
       "<defs>\n",
       "<g>\n",
       "<g id=\"glyph-0-0\">\n",
       "<path d=\"M 0.609375 0 L 0.609375 -0.75 C 0.804688 -1.207031 1.046875 -1.609375 1.328125 -1.953125 C 1.617188 -2.304688 1.921875 -2.625 2.234375 -2.90625 C 2.554688 -3.1875 2.867188 -3.445312 3.171875 -3.6875 C 3.484375 -3.9375 3.765625 -4.179688 4.015625 -4.421875 C 4.265625 -4.660156 4.46875 -4.910156 4.625 -5.171875 C 4.78125 -5.441406 4.859375 -5.742188 4.859375 -6.078125 C 4.859375 -6.316406 4.820312 -6.523438 4.75 -6.703125 C 4.675781 -6.878906 4.570312 -7.023438 4.4375 -7.140625 C 4.3125 -7.265625 4.15625 -7.359375 3.96875 -7.421875 C 3.78125 -7.484375 3.578125 -7.515625 3.359375 -7.515625 C 3.140625 -7.515625 2.9375 -7.484375 2.75 -7.421875 C 2.570312 -7.367188 2.410156 -7.28125 2.265625 -7.15625 C 2.117188 -7.039062 2 -6.894531 1.90625 -6.71875 C 1.8125 -6.550781 1.753906 -6.351562 1.734375 -6.125 L 0.65625 -6.21875 C 0.6875 -6.507812 0.765625 -6.785156 0.890625 -7.046875 C 1.023438 -7.316406 1.203125 -7.550781 1.421875 -7.75 C 1.648438 -7.945312 1.921875 -8.097656 2.234375 -8.203125 C 2.554688 -8.316406 2.929688 -8.375 3.359375 -8.375 C 3.765625 -8.375 4.125 -8.328125 4.4375 -8.234375 C 4.757812 -8.140625 5.03125 -7.992188 5.25 -7.796875 C 5.476562 -7.609375 5.648438 -7.375 5.765625 -7.09375 C 5.878906 -6.8125 5.9375 -6.488281 5.9375 -6.125 C 5.9375 -5.84375 5.882812 -5.578125 5.78125 -5.328125 C 5.6875 -5.078125 5.554688 -4.835938 5.390625 -4.609375 C 5.222656 -4.378906 5.03125 -4.160156 4.8125 -3.953125 C 4.59375 -3.742188 4.363281 -3.535156 4.125 -3.328125 C 3.894531 -3.128906 3.65625 -2.929688 3.40625 -2.734375 C 3.164062 -2.535156 2.9375 -2.335938 2.71875 -2.140625 C 2.507812 -1.941406 2.320312 -1.738281 2.15625 -1.53125 C 1.988281 -1.332031 1.859375 -1.117188 1.765625 -0.890625 L 6.078125 -0.890625 L 6.078125 0 Z M 0.609375 0 \"/>\n",
       "</g>\n",
       "<g id=\"glyph-0-1\">\n",
       "<path d=\"M 5.15625 -1.875 L 5.15625 0 L 4.171875 0 L 4.171875 -1.875 L 0.28125 -1.875 L 0.28125 -2.6875 L 4.0625 -8.25 L 5.15625 -8.25 L 5.15625 -2.703125 L 6.328125 -2.703125 L 6.328125 -1.875 Z M 4.171875 -7.0625 C 4.160156 -7.039062 4.140625 -7.003906 4.109375 -6.953125 C 4.078125 -6.898438 4.039062 -6.835938 4 -6.765625 C 3.957031 -6.691406 3.914062 -6.617188 3.875 -6.546875 C 3.84375 -6.472656 3.8125 -6.414062 3.78125 -6.375 L 1.65625 -3.25 C 1.632812 -3.21875 1.601562 -3.175781 1.5625 -3.125 C 1.53125 -3.070312 1.492188 -3.019531 1.453125 -2.96875 C 1.421875 -2.914062 1.382812 -2.863281 1.34375 -2.8125 C 1.300781 -2.769531 1.269531 -2.734375 1.25 -2.703125 L 4.171875 -2.703125 Z M 4.171875 -7.0625 \"/>\n",
       "</g>\n",
       "<g id=\"glyph-0-2\">\n",
       "<path d=\"M 6.140625 -2.703125 C 6.140625 -2.285156 6.082031 -1.90625 5.96875 -1.5625 C 5.851562 -1.21875 5.679688 -0.921875 5.453125 -0.671875 C 5.234375 -0.421875 4.957031 -0.222656 4.625 -0.078125 C 4.289062 0.0546875 3.910156 0.125 3.484375 0.125 C 3.003906 0.125 2.582031 0.03125 2.21875 -0.15625 C 1.863281 -0.34375 1.566406 -0.609375 1.328125 -0.953125 C 1.085938 -1.296875 0.90625 -1.71875 0.78125 -2.21875 C 0.664062 -2.726562 0.609375 -3.300781 0.609375 -3.9375 C 0.609375 -4.675781 0.675781 -5.320312 0.8125 -5.875 C 0.945312 -6.425781 1.140625 -6.882812 1.390625 -7.25 C 1.648438 -7.625 1.960938 -7.90625 2.328125 -8.09375 C 2.691406 -8.28125 3.101562 -8.375 3.5625 -8.375 C 3.84375 -8.375 4.101562 -8.34375 4.34375 -8.28125 C 4.59375 -8.226562 4.816406 -8.132812 5.015625 -8 C 5.222656 -7.875 5.398438 -7.703125 5.546875 -7.484375 C 5.703125 -7.273438 5.828125 -7.015625 5.921875 -6.703125 L 4.90625 -6.515625 C 4.800781 -6.867188 4.628906 -7.125 4.390625 -7.28125 C 4.148438 -7.445312 3.867188 -7.53125 3.546875 -7.53125 C 3.265625 -7.53125 3.003906 -7.457031 2.765625 -7.3125 C 2.535156 -7.175781 2.335938 -6.972656 2.171875 -6.703125 C 2.003906 -6.429688 1.875 -6.085938 1.78125 -5.671875 C 1.695312 -5.265625 1.65625 -4.789062 1.65625 -4.25 C 1.851562 -4.601562 2.125 -4.875 2.46875 -5.0625 C 2.8125 -5.25 3.207031 -5.34375 3.65625 -5.34375 C 4.03125 -5.34375 4.367188 -5.28125 4.671875 -5.15625 C 4.984375 -5.03125 5.25 -4.851562 5.46875 -4.625 C 5.6875 -4.40625 5.851562 -4.128906 5.96875 -3.796875 C 6.082031 -3.472656 6.140625 -3.109375 6.140625 -2.703125 Z M 5.078125 -2.65625 C 5.078125 -2.9375 5.039062 -3.191406 4.96875 -3.421875 C 4.894531 -3.660156 4.785156 -3.859375 4.640625 -4.015625 C 4.503906 -4.179688 4.332031 -4.304688 4.125 -4.390625 C 3.925781 -4.484375 3.6875 -4.53125 3.40625 -4.53125 C 3.21875 -4.53125 3.023438 -4.5 2.828125 -4.4375 C 2.628906 -4.382812 2.453125 -4.289062 2.296875 -4.15625 C 2.140625 -4.03125 2.007812 -3.863281 1.90625 -3.65625 C 1.8125 -3.457031 1.765625 -3.207031 1.765625 -2.90625 C 1.765625 -2.601562 1.800781 -2.316406 1.875 -2.046875 C 1.957031 -1.785156 2.070312 -1.554688 2.21875 -1.359375 C 2.363281 -1.171875 2.539062 -1.019531 2.75 -0.90625 C 2.957031 -0.789062 3.191406 -0.734375 3.453125 -0.734375 C 3.703125 -0.734375 3.925781 -0.773438 4.125 -0.859375 C 4.332031 -0.953125 4.503906 -1.082031 4.640625 -1.25 C 4.785156 -1.414062 4.894531 -1.613281 4.96875 -1.84375 C 5.039062 -2.082031 5.078125 -2.351562 5.078125 -2.65625 Z M 5.078125 -2.65625 \"/>\n",
       "</g>\n",
       "<g id=\"glyph-0-3\">\n",
       "<path d=\"M 6.15625 -2.296875 C 6.15625 -1.953125 6.097656 -1.628906 5.984375 -1.328125 C 5.867188 -1.035156 5.695312 -0.78125 5.46875 -0.5625 C 5.25 -0.351562 4.957031 -0.1875 4.59375 -0.0625 C 4.238281 0.0625 3.820312 0.125 3.34375 0.125 C 2.851562 0.125 2.429688 0.0625 2.078125 -0.0625 C 1.722656 -0.1875 1.429688 -0.351562 1.203125 -0.5625 C 0.972656 -0.78125 0.800781 -1.035156 0.6875 -1.328125 C 0.570312 -1.617188 0.515625 -1.941406 0.515625 -2.296875 C 0.515625 -2.597656 0.5625 -2.863281 0.65625 -3.09375 C 0.75 -3.332031 0.875 -3.535156 1.03125 -3.703125 C 1.1875 -3.867188 1.363281 -4.003906 1.5625 -4.109375 C 1.757812 -4.210938 1.960938 -4.28125 2.171875 -4.3125 L 2.171875 -4.34375 C 1.941406 -4.394531 1.734375 -4.476562 1.546875 -4.59375 C 1.367188 -4.71875 1.21875 -4.863281 1.09375 -5.03125 C 0.96875 -5.207031 0.875 -5.398438 0.8125 -5.609375 C 0.75 -5.816406 0.71875 -6.035156 0.71875 -6.265625 C 0.71875 -6.554688 0.769531 -6.828125 0.875 -7.078125 C 0.988281 -7.335938 1.15625 -7.5625 1.375 -7.75 C 1.59375 -7.945312 1.863281 -8.097656 2.1875 -8.203125 C 2.507812 -8.316406 2.882812 -8.375 3.3125 -8.375 C 3.757812 -8.375 4.148438 -8.316406 4.484375 -8.203125 C 4.816406 -8.097656 5.085938 -7.945312 5.296875 -7.75 C 5.515625 -7.550781 5.675781 -7.320312 5.78125 -7.0625 C 5.894531 -6.8125 5.953125 -6.539062 5.953125 -6.25 C 5.953125 -6.019531 5.914062 -5.800781 5.84375 -5.59375 C 5.78125 -5.394531 5.6875 -5.207031 5.5625 -5.03125 C 5.445312 -4.863281 5.296875 -4.71875 5.109375 -4.59375 C 4.929688 -4.476562 4.722656 -4.398438 4.484375 -4.359375 L 4.484375 -4.328125 C 4.722656 -4.285156 4.941406 -4.210938 5.140625 -4.109375 C 5.347656 -4.015625 5.523438 -3.878906 5.671875 -3.703125 C 5.816406 -3.535156 5.929688 -3.332031 6.015625 -3.09375 C 6.109375 -2.863281 6.15625 -2.597656 6.15625 -2.296875 Z M 4.859375 -6.1875 C 4.859375 -6.394531 4.828125 -6.582031 4.765625 -6.75 C 4.710938 -6.925781 4.625 -7.078125 4.5 -7.203125 C 4.382812 -7.328125 4.226562 -7.421875 4.03125 -7.484375 C 3.84375 -7.554688 3.601562 -7.59375 3.3125 -7.59375 C 3.039062 -7.59375 2.804688 -7.554688 2.609375 -7.484375 C 2.421875 -7.421875 2.265625 -7.328125 2.140625 -7.203125 C 2.015625 -7.078125 1.925781 -6.925781 1.875 -6.75 C 1.820312 -6.582031 1.796875 -6.394531 1.796875 -6.1875 C 1.796875 -6.03125 1.816406 -5.863281 1.859375 -5.6875 C 1.898438 -5.519531 1.976562 -5.363281 2.09375 -5.21875 C 2.207031 -5.082031 2.363281 -4.96875 2.5625 -4.875 C 2.757812 -4.78125 3.015625 -4.734375 3.328125 -4.734375 C 3.660156 -4.734375 3.925781 -4.78125 4.125 -4.875 C 4.332031 -4.96875 4.488281 -5.082031 4.59375 -5.21875 C 4.695312 -5.363281 4.765625 -5.519531 4.796875 -5.6875 C 4.835938 -5.863281 4.859375 -6.03125 4.859375 -6.1875 Z M 5.0625 -2.40625 C 5.0625 -2.601562 5.03125 -2.796875 4.96875 -2.984375 C 4.914062 -3.171875 4.820312 -3.332031 4.6875 -3.46875 C 4.5625 -3.613281 4.382812 -3.726562 4.15625 -3.8125 C 3.9375 -3.90625 3.65625 -3.953125 3.3125 -3.953125 C 3.007812 -3.953125 2.75 -3.90625 2.53125 -3.8125 C 2.3125 -3.726562 2.132812 -3.613281 2 -3.46875 C 1.863281 -3.320312 1.765625 -3.15625 1.703125 -2.96875 C 1.640625 -2.78125 1.609375 -2.582031 1.609375 -2.375 C 1.609375 -2.125 1.640625 -1.894531 1.703125 -1.6875 C 1.765625 -1.476562 1.863281 -1.296875 2 -1.140625 C 2.132812 -0.992188 2.3125 -0.878906 2.53125 -0.796875 C 2.757812 -0.710938 3.035156 -0.671875 3.359375 -0.671875 C 3.671875 -0.671875 3.9375 -0.710938 4.15625 -0.796875 C 4.375 -0.878906 4.550781 -0.992188 4.6875 -1.140625 C 4.820312 -1.296875 4.914062 -1.476562 4.96875 -1.6875 C 5.03125 -1.90625 5.0625 -2.144531 5.0625 -2.40625 Z M 5.0625 -2.40625 \"/>\n",
       "</g>\n",
       "<g id=\"glyph-0-4\">\n",
       "<path d=\"M 0.921875 0 L 0.921875 -0.890625 L 3.015625 -0.890625 L 3.015625 -7.25 L 1.15625 -5.921875 L 1.15625 -6.921875 L 3.109375 -8.25 L 4.078125 -8.25 L 4.078125 -0.890625 L 6.09375 -0.890625 L 6.09375 0 Z M 0.921875 0 \"/>\n",
       "</g>\n",
       "<g id=\"glyph-0-5\">\n",
       "<path d=\"M 6.203125 -4.125 C 6.203125 -3.332031 6.125 -2.664062 5.96875 -2.125 C 5.820312 -1.582031 5.617188 -1.144531 5.359375 -0.8125 C 5.097656 -0.476562 4.789062 -0.238281 4.4375 -0.09375 C 4.09375 0.0507812 3.722656 0.125 3.328125 0.125 C 2.921875 0.125 2.539062 0.0507812 2.1875 -0.09375 C 1.84375 -0.238281 1.539062 -0.476562 1.28125 -0.8125 C 1.03125 -1.144531 0.832031 -1.582031 0.6875 -2.125 C 0.539062 -2.664062 0.46875 -3.332031 0.46875 -4.125 C 0.46875 -4.957031 0.539062 -5.644531 0.6875 -6.1875 C 0.832031 -6.738281 1.035156 -7.175781 1.296875 -7.5 C 1.554688 -7.820312 1.859375 -8.046875 2.203125 -8.171875 C 2.554688 -8.304688 2.941406 -8.375 3.359375 -8.375 C 3.753906 -8.375 4.125 -8.304688 4.46875 -8.171875 C 4.8125 -8.046875 5.113281 -7.820312 5.375 -7.5 C 5.632812 -7.175781 5.835938 -6.738281 5.984375 -6.1875 C 6.128906 -5.644531 6.203125 -4.957031 6.203125 -4.125 Z M 5.140625 -4.125 C 5.140625 -4.78125 5.097656 -5.328125 5.015625 -5.765625 C 4.941406 -6.203125 4.828125 -6.550781 4.671875 -6.8125 C 4.515625 -7.070312 4.328125 -7.253906 4.109375 -7.359375 C 3.890625 -7.472656 3.640625 -7.53125 3.359375 -7.53125 C 3.054688 -7.53125 2.789062 -7.472656 2.5625 -7.359375 C 2.34375 -7.253906 2.15625 -7.070312 2 -6.8125 C 1.84375 -6.550781 1.722656 -6.203125 1.640625 -5.765625 C 1.566406 -5.328125 1.53125 -4.78125 1.53125 -4.125 C 1.53125 -3.5 1.570312 -2.96875 1.65625 -2.53125 C 1.738281 -2.09375 1.851562 -1.742188 2 -1.484375 C 2.15625 -1.222656 2.34375 -1.035156 2.5625 -0.921875 C 2.789062 -0.804688 3.046875 -0.75 3.328125 -0.75 C 3.609375 -0.75 3.859375 -0.804688 4.078125 -0.921875 C 4.304688 -1.035156 4.492188 -1.222656 4.640625 -1.484375 C 4.796875 -1.742188 4.914062 -2.09375 5 -2.53125 C 5.09375 -2.96875 5.140625 -3.5 5.140625 -4.125 Z M 5.140625 -4.125 \"/>\n",
       "</g>\n",
       "<g id=\"glyph-0-6\">\n",
       "<path d=\"M 1.609375 -3.203125 C 1.609375 -2.835938 1.632812 -2.5 1.6875 -2.1875 C 1.738281 -1.882812 1.828125 -1.625 1.953125 -1.40625 C 2.078125 -1.1875 2.242188 -1.015625 2.453125 -0.890625 C 2.660156 -0.773438 2.914062 -0.71875 3.21875 -0.71875 C 3.59375 -0.71875 3.90625 -0.816406 4.15625 -1.015625 C 4.40625 -1.222656 4.5625 -1.535156 4.625 -1.953125 L 5.6875 -1.890625 C 5.644531 -1.628906 5.566406 -1.375 5.453125 -1.125 C 5.335938 -0.882812 5.175781 -0.671875 4.96875 -0.484375 C 4.769531 -0.304688 4.523438 -0.160156 4.234375 -0.046875 C 3.953125 0.0664062 3.617188 0.125 3.234375 0.125 C 2.742188 0.125 2.320312 0.0390625 1.96875 -0.125 C 1.625 -0.300781 1.34375 -0.535156 1.125 -0.828125 C 0.90625 -1.117188 0.75 -1.460938 0.65625 -1.859375 C 0.5625 -2.265625 0.515625 -2.703125 0.515625 -3.171875 C 0.515625 -3.597656 0.546875 -3.972656 0.609375 -4.296875 C 0.679688 -4.628906 0.78125 -4.914062 0.90625 -5.15625 C 1.039062 -5.40625 1.191406 -5.613281 1.359375 -5.78125 C 1.535156 -5.945312 1.722656 -6.078125 1.921875 -6.171875 C 2.117188 -6.273438 2.328125 -6.347656 2.546875 -6.390625 C 2.773438 -6.429688 3.003906 -6.453125 3.234375 -6.453125 C 3.585938 -6.453125 3.898438 -6.40625 4.171875 -6.3125 C 4.453125 -6.21875 4.691406 -6.082031 4.890625 -5.90625 C 5.097656 -5.738281 5.265625 -5.539062 5.390625 -5.3125 C 5.515625 -5.082031 5.601562 -4.832031 5.65625 -4.5625 L 4.5625 -4.484375 C 4.507812 -4.835938 4.367188 -5.113281 4.140625 -5.3125 C 3.921875 -5.519531 3.609375 -5.625 3.203125 -5.625 C 2.898438 -5.625 2.644531 -5.570312 2.4375 -5.46875 C 2.238281 -5.375 2.078125 -5.226562 1.953125 -5.03125 C 1.828125 -4.832031 1.738281 -4.578125 1.6875 -4.265625 C 1.632812 -3.960938 1.609375 -3.609375 1.609375 -3.203125 Z M 1.609375 -3.203125 \"/>\n",
       "</g>\n",
       "<g id=\"glyph-0-7\">\n",
       "<path d=\"M 1.625 -2.953125 C 1.625 -2.617188 1.65625 -2.3125 1.71875 -2.03125 C 1.789062 -1.75 1.894531 -1.507812 2.03125 -1.3125 C 2.175781 -1.113281 2.359375 -0.957031 2.578125 -0.84375 C 2.804688 -0.726562 3.078125 -0.671875 3.390625 -0.671875 C 3.847656 -0.671875 4.210938 -0.757812 4.484375 -0.9375 C 4.765625 -1.125 4.953125 -1.359375 5.046875 -1.640625 L 5.96875 -1.390625 C 5.90625 -1.210938 5.8125 -1.035156 5.6875 -0.859375 C 5.570312 -0.679688 5.414062 -0.519531 5.21875 -0.375 C 5.019531 -0.226562 4.769531 -0.109375 4.46875 -0.015625 C 4.164062 0.078125 3.804688 0.125 3.390625 0.125 C 2.453125 0.125 1.738281 -0.15625 1.25 -0.71875 C 0.757812 -1.28125 0.515625 -2.113281 0.515625 -3.21875 C 0.515625 -3.8125 0.585938 -4.3125 0.734375 -4.71875 C 0.878906 -5.132812 1.082031 -5.46875 1.34375 -5.71875 C 1.601562 -5.976562 1.90625 -6.164062 2.25 -6.28125 C 2.59375 -6.394531 2.957031 -6.453125 3.34375 -6.453125 C 3.875 -6.453125 4.316406 -6.363281 4.671875 -6.1875 C 5.035156 -6.019531 5.320312 -5.785156 5.53125 -5.484375 C 5.75 -5.179688 5.90625 -4.820312 6 -4.40625 C 6.09375 -4 6.140625 -3.5625 6.140625 -3.09375 L 6.140625 -2.953125 Z M 5.046875 -3.75 C 4.992188 -4.425781 4.828125 -4.914062 4.546875 -5.21875 C 4.265625 -5.519531 3.859375 -5.671875 3.328125 -5.671875 C 3.148438 -5.671875 2.960938 -5.644531 2.765625 -5.59375 C 2.578125 -5.539062 2.398438 -5.441406 2.234375 -5.296875 C 2.078125 -5.148438 1.941406 -4.953125 1.828125 -4.703125 C 1.710938 -4.453125 1.644531 -4.132812 1.625 -3.75 Z M 5.046875 -3.75 \"/>\n",
       "</g>\n",
       "<g id=\"glyph-0-8\">\n",
       "<path d=\"M 4.828125 0 L 4.828125 -4.015625 C 4.828125 -4.328125 4.804688 -4.585938 4.765625 -4.796875 C 4.722656 -5.003906 4.648438 -5.171875 4.546875 -5.296875 C 4.441406 -5.421875 4.304688 -5.507812 4.140625 -5.5625 C 3.972656 -5.613281 3.769531 -5.640625 3.53125 -5.640625 C 3.28125 -5.640625 3.050781 -5.59375 2.84375 -5.5 C 2.644531 -5.414062 2.472656 -5.289062 2.328125 -5.125 C 2.191406 -4.957031 2.082031 -4.753906 2 -4.515625 C 1.925781 -4.273438 1.890625 -3.992188 1.890625 -3.671875 L 1.890625 0 L 0.828125 0 L 0.828125 -4.984375 C 0.828125 -5.117188 0.828125 -5.257812 0.828125 -5.40625 C 0.828125 -5.550781 0.820312 -5.6875 0.8125 -5.8125 C 0.8125 -5.945312 0.804688 -6.0625 0.796875 -6.15625 C 0.796875 -6.25 0.796875 -6.3125 0.796875 -6.34375 L 1.796875 -6.34375 C 1.796875 -6.320312 1.796875 -6.265625 1.796875 -6.171875 C 1.804688 -6.085938 1.8125 -5.988281 1.8125 -5.875 C 1.820312 -5.769531 1.828125 -5.660156 1.828125 -5.546875 C 1.835938 -5.429688 1.84375 -5.332031 1.84375 -5.25 L 1.859375 -5.25 C 1.960938 -5.4375 2.070312 -5.601562 2.1875 -5.75 C 2.3125 -5.90625 2.453125 -6.03125 2.609375 -6.125 C 2.773438 -6.226562 2.957031 -6.304688 3.15625 -6.359375 C 3.363281 -6.421875 3.609375 -6.453125 3.890625 -6.453125 C 4.234375 -6.453125 4.53125 -6.410156 4.78125 -6.328125 C 5.039062 -6.242188 5.253906 -6.109375 5.421875 -5.921875 C 5.585938 -5.742188 5.707031 -5.515625 5.78125 -5.234375 C 5.851562 -4.953125 5.890625 -4.613281 5.890625 -4.21875 L 5.890625 0 Z M 4.828125 0 \"/>\n",
       "</g>\n",
       "<g id=\"glyph-0-9\">\n",
       "<path d=\"M 3.25 -0.046875 C 3.082031 -0.00390625 2.914062 0.0234375 2.75 0.046875 C 2.59375 0.078125 2.40625 0.09375 2.1875 0.09375 C 1.34375 0.09375 0.921875 -0.382812 0.921875 -1.34375 L 0.921875 -5.578125 L 0.1875 -5.578125 L 0.1875 -6.34375 L 0.953125 -6.34375 L 1.265625 -7.765625 L 1.96875 -7.765625 L 1.96875 -6.34375 L 3.140625 -6.34375 L 3.140625 -5.578125 L 1.96875 -5.578125 L 1.96875 -1.578125 C 1.96875 -1.265625 2.015625 -1.046875 2.109375 -0.921875 C 2.210938 -0.804688 2.390625 -0.75 2.640625 -0.75 C 2.742188 -0.75 2.84375 -0.753906 2.9375 -0.765625 C 3.03125 -0.785156 3.132812 -0.804688 3.25 -0.828125 Z M 3.25 -0.046875 \"/>\n",
       "</g>\n",
       "<g id=\"glyph-0-10\">\n",
       "<path d=\"M 0.828125 0 L 0.828125 -4.859375 C 0.828125 -4.992188 0.828125 -5.128906 0.828125 -5.265625 C 0.828125 -5.410156 0.820312 -5.546875 0.8125 -5.671875 C 0.8125 -5.796875 0.804688 -5.914062 0.796875 -6.03125 C 0.796875 -6.144531 0.796875 -6.25 0.796875 -6.34375 L 1.796875 -6.34375 C 1.796875 -6.25 1.796875 -6.144531 1.796875 -6.03125 C 1.804688 -5.914062 1.8125 -5.796875 1.8125 -5.671875 C 1.820312 -5.554688 1.828125 -5.441406 1.828125 -5.328125 C 1.835938 -5.210938 1.84375 -5.117188 1.84375 -5.046875 L 1.859375 -5.046875 C 1.929688 -5.285156 2.007812 -5.492188 2.09375 -5.671875 C 2.1875 -5.847656 2.285156 -5.992188 2.390625 -6.109375 C 2.503906 -6.222656 2.640625 -6.304688 2.796875 -6.359375 C 2.953125 -6.421875 3.144531 -6.453125 3.375 -6.453125 C 3.457031 -6.453125 3.535156 -6.445312 3.609375 -6.4375 C 3.691406 -6.425781 3.753906 -6.414062 3.796875 -6.40625 L 3.796875 -5.4375 C 3.722656 -5.457031 3.640625 -5.46875 3.546875 -5.46875 C 3.453125 -5.476562 3.347656 -5.484375 3.234375 -5.484375 C 2.992188 -5.484375 2.785156 -5.425781 2.609375 -5.3125 C 2.441406 -5.207031 2.304688 -5.054688 2.203125 -4.859375 C 2.097656 -4.671875 2.019531 -4.441406 1.96875 -4.171875 C 1.914062 -3.910156 1.890625 -3.625 1.890625 -3.3125 L 1.890625 0 Z M 0.828125 0 \"/>\n",
       "</g>\n",
       "<g id=\"glyph-0-11\">\n",
       "<path d=\"M 6.171875 -3.171875 C 6.171875 -2.066406 5.925781 -1.238281 5.4375 -0.6875 C 4.945312 -0.144531 4.238281 0.125 3.3125 0.125 C 2.875 0.125 2.476562 0.0546875 2.125 -0.078125 C 1.78125 -0.210938 1.488281 -0.414062 1.25 -0.6875 C 1.007812 -0.96875 0.820312 -1.3125 0.6875 -1.71875 C 0.5625 -2.132812 0.5 -2.617188 0.5 -3.171875 C 0.5 -5.359375 1.445312 -6.453125 3.34375 -6.453125 C 3.832031 -6.453125 4.253906 -6.382812 4.609375 -6.25 C 4.972656 -6.113281 5.269531 -5.910156 5.5 -5.640625 C 5.726562 -5.367188 5.894531 -5.023438 6 -4.609375 C 6.113281 -4.203125 6.171875 -3.722656 6.171875 -3.171875 Z M 5.0625 -3.171875 C 5.0625 -3.671875 5.019531 -4.078125 4.9375 -4.390625 C 4.863281 -4.710938 4.753906 -4.96875 4.609375 -5.15625 C 4.460938 -5.351562 4.285156 -5.488281 4.078125 -5.5625 C 3.867188 -5.632812 3.628906 -5.671875 3.359375 -5.671875 C 3.085938 -5.671875 2.84375 -5.628906 2.625 -5.546875 C 2.414062 -5.472656 2.234375 -5.335938 2.078125 -5.140625 C 1.929688 -4.953125 1.816406 -4.695312 1.734375 -4.375 C 1.648438 -4.050781 1.609375 -3.648438 1.609375 -3.171875 C 1.609375 -2.679688 1.648438 -2.273438 1.734375 -1.953125 C 1.828125 -1.628906 1.945312 -1.367188 2.09375 -1.171875 C 2.25 -0.984375 2.425781 -0.847656 2.625 -0.765625 C 2.832031 -0.691406 3.054688 -0.65625 3.296875 -0.65625 C 3.566406 -0.65625 3.8125 -0.691406 4.03125 -0.765625 C 4.25 -0.847656 4.429688 -0.984375 4.578125 -1.171875 C 4.734375 -1.367188 4.851562 -1.628906 4.9375 -1.953125 C 5.019531 -2.273438 5.0625 -2.679688 5.0625 -3.171875 Z M 5.0625 -3.171875 \"/>\n",
       "</g>\n",
       "<g id=\"glyph-0-12\">\n",
       "<path d=\"M 0.796875 -7.6875 L 0.796875 -8.703125 L 1.859375 -8.703125 L 1.859375 -7.6875 Z M 0.796875 0 L 0.796875 -6.34375 L 1.859375 -6.34375 L 1.859375 0 Z M 0.796875 0 \"/>\n",
       "</g>\n",
       "<g id=\"glyph-0-13\">\n",
       "<path d=\"M 4.8125 -1.015625 C 4.613281 -0.609375 4.351562 -0.316406 4.03125 -0.140625 C 3.707031 0.0351562 3.3125 0.125 2.84375 0.125 C 2.039062 0.125 1.445312 -0.144531 1.0625 -0.6875 C 0.6875 -1.226562 0.5 -2.046875 0.5 -3.140625 C 0.5 -5.347656 1.28125 -6.453125 2.84375 -6.453125 C 3.320312 -6.453125 3.71875 -6.363281 4.03125 -6.1875 C 4.351562 -6.019531 4.613281 -5.742188 4.8125 -5.359375 L 4.828125 -5.359375 C 4.828125 -5.398438 4.820312 -5.460938 4.8125 -5.546875 C 4.8125 -5.628906 4.8125 -5.710938 4.8125 -5.796875 C 4.8125 -5.890625 4.8125 -5.976562 4.8125 -6.0625 C 4.8125 -6.144531 4.8125 -6.203125 4.8125 -6.234375 L 4.8125 -8.703125 L 5.859375 -8.703125 L 5.859375 -1.3125 C 5.859375 -1.15625 5.859375 -1.003906 5.859375 -0.859375 C 5.867188 -0.722656 5.875 -0.597656 5.875 -0.484375 C 5.882812 -0.367188 5.890625 -0.265625 5.890625 -0.171875 C 5.890625 -0.0859375 5.894531 -0.03125 5.90625 0 L 4.890625 0 C 4.878906 -0.0390625 4.867188 -0.0976562 4.859375 -0.171875 C 4.859375 -0.242188 4.851562 -0.328125 4.84375 -0.421875 C 4.84375 -0.515625 4.835938 -0.613281 4.828125 -0.71875 C 4.828125 -0.820312 4.828125 -0.921875 4.828125 -1.015625 Z M 1.609375 -3.171875 C 1.609375 -2.734375 1.632812 -2.359375 1.6875 -2.046875 C 1.75 -1.734375 1.835938 -1.476562 1.953125 -1.28125 C 2.078125 -1.082031 2.234375 -0.9375 2.421875 -0.84375 C 2.609375 -0.75 2.835938 -0.703125 3.109375 -0.703125 C 3.378906 -0.703125 3.617188 -0.742188 3.828125 -0.828125 C 4.046875 -0.921875 4.226562 -1.066406 4.375 -1.265625 C 4.519531 -1.472656 4.628906 -1.738281 4.703125 -2.0625 C 4.773438 -2.382812 4.8125 -2.78125 4.8125 -3.25 C 4.8125 -3.695312 4.773438 -4.078125 4.703125 -4.390625 C 4.628906 -4.703125 4.519531 -4.953125 4.375 -5.140625 C 4.226562 -5.328125 4.050781 -5.460938 3.84375 -5.546875 C 3.632812 -5.628906 3.394531 -5.671875 3.125 -5.671875 C 2.863281 -5.671875 2.640625 -5.625 2.453125 -5.53125 C 2.265625 -5.445312 2.109375 -5.304688 1.984375 -5.109375 C 1.859375 -4.910156 1.765625 -4.648438 1.703125 -4.328125 C 1.640625 -4.015625 1.609375 -3.628906 1.609375 -3.171875 Z M 1.609375 -3.171875 \"/>\n",
       "</g>\n",
       "<g id=\"glyph-0-14\">\n",
       "<path d=\"M 6.171875 -2.6875 C 6.171875 -2.269531 6.109375 -1.890625 5.984375 -1.546875 C 5.859375 -1.203125 5.671875 -0.90625 5.421875 -0.65625 C 5.179688 -0.414062 4.878906 -0.222656 4.515625 -0.078125 C 4.148438 0.0546875 3.722656 0.125 3.234375 0.125 C 2.804688 0.125 2.429688 0.0703125 2.109375 -0.03125 C 1.785156 -0.132812 1.507812 -0.273438 1.28125 -0.453125 C 1.0625 -0.628906 0.882812 -0.835938 0.75 -1.078125 C 0.625 -1.316406 0.535156 -1.570312 0.484375 -1.84375 L 1.546875 -1.96875 C 1.585938 -1.8125 1.644531 -1.660156 1.71875 -1.515625 C 1.800781 -1.367188 1.910156 -1.238281 2.046875 -1.125 C 2.179688 -1.007812 2.347656 -0.914062 2.546875 -0.84375 C 2.742188 -0.78125 2.984375 -0.75 3.265625 -0.75 C 3.535156 -0.75 3.78125 -0.789062 4 -0.875 C 4.226562 -0.957031 4.421875 -1.078125 4.578125 -1.234375 C 4.734375 -1.398438 4.851562 -1.601562 4.9375 -1.84375 C 5.03125 -2.082031 5.078125 -2.359375 5.078125 -2.671875 C 5.078125 -2.921875 5.035156 -3.148438 4.953125 -3.359375 C 4.867188 -3.578125 4.75 -3.765625 4.59375 -3.921875 C 4.445312 -4.078125 4.257812 -4.195312 4.03125 -4.28125 C 3.8125 -4.363281 3.5625 -4.40625 3.28125 -4.40625 C 3.113281 -4.40625 2.953125 -4.390625 2.796875 -4.359375 C 2.648438 -4.328125 2.515625 -4.285156 2.390625 -4.234375 C 2.265625 -4.179688 2.148438 -4.117188 2.046875 -4.046875 C 1.941406 -3.972656 1.84375 -3.894531 1.75 -3.8125 L 0.71875 -3.8125 L 1 -8.25 L 5.6875 -8.25 L 5.6875 -7.359375 L 1.953125 -7.359375 L 1.796875 -4.734375 C 1.984375 -4.878906 2.21875 -5.003906 2.5 -5.109375 C 2.78125 -5.210938 3.113281 -5.265625 3.5 -5.265625 C 3.914062 -5.265625 4.285156 -5.203125 4.609375 -5.078125 C 4.941406 -4.953125 5.222656 -4.773438 5.453125 -4.546875 C 5.679688 -4.316406 5.859375 -4.046875 5.984375 -3.734375 C 6.109375 -3.421875 6.171875 -3.070312 6.171875 -2.6875 Z M 6.171875 -2.6875 \"/>\n",
       "</g>\n",
       "<g id=\"glyph-0-15\">\n",
       "<path d=\"M 6.078125 -7.40625 C 5.660156 -6.769531 5.273438 -6.160156 4.921875 -5.578125 C 4.578125 -4.992188 4.28125 -4.40625 4.03125 -3.8125 C 3.78125 -3.21875 3.582031 -2.609375 3.4375 -1.984375 C 3.300781 -1.367188 3.234375 -0.707031 3.234375 0 L 2.140625 0 C 2.140625 -0.65625 2.21875 -1.300781 2.375 -1.9375 C 2.53125 -2.570312 2.738281 -3.195312 3 -3.8125 C 3.269531 -4.425781 3.578125 -5.023438 3.921875 -5.609375 C 4.273438 -6.203125 4.648438 -6.785156 5.046875 -7.359375 L 0.609375 -7.359375 L 0.609375 -8.25 L 6.078125 -8.25 Z M 6.078125 -7.40625 \"/>\n",
       "</g>\n",
       "<g id=\"glyph-0-16\">\n",
       "<path d=\"M 2.421875 0.125 C 1.785156 0.125 1.304688 -0.0390625 0.984375 -0.375 C 0.671875 -0.71875 0.515625 -1.179688 0.515625 -1.765625 C 0.515625 -2.179688 0.59375 -2.523438 0.75 -2.796875 C 0.90625 -3.066406 1.109375 -3.273438 1.359375 -3.421875 C 1.617188 -3.578125 1.910156 -3.679688 2.234375 -3.734375 C 2.566406 -3.796875 2.90625 -3.832031 3.25 -3.84375 L 4.671875 -3.875 L 4.671875 -4.21875 C 4.671875 -4.476562 4.640625 -4.695312 4.578125 -4.875 C 4.523438 -5.0625 4.441406 -5.210938 4.328125 -5.328125 C 4.222656 -5.441406 4.082031 -5.523438 3.90625 -5.578125 C 3.738281 -5.628906 3.539062 -5.65625 3.3125 -5.65625 C 3.101562 -5.65625 2.914062 -5.640625 2.75 -5.609375 C 2.59375 -5.578125 2.453125 -5.523438 2.328125 -5.453125 C 2.210938 -5.378906 2.113281 -5.273438 2.03125 -5.140625 C 1.957031 -5.015625 1.910156 -4.847656 1.890625 -4.640625 L 0.796875 -4.75 C 0.828125 -5 0.894531 -5.226562 1 -5.4375 C 1.113281 -5.644531 1.269531 -5.820312 1.46875 -5.96875 C 1.675781 -6.125 1.929688 -6.242188 2.234375 -6.328125 C 2.535156 -6.410156 2.898438 -6.453125 3.328125 -6.453125 C 4.128906 -6.453125 4.726562 -6.269531 5.125 -5.90625 C 5.53125 -5.539062 5.734375 -5.015625 5.734375 -4.328125 L 5.734375 -1.59375 C 5.734375 -1.28125 5.773438 -1.046875 5.859375 -0.890625 C 5.941406 -0.734375 6.097656 -0.65625 6.328125 -0.65625 C 6.390625 -0.65625 6.445312 -0.65625 6.5 -0.65625 C 6.5625 -0.664062 6.617188 -0.675781 6.671875 -0.6875 L 6.671875 -0.03125 C 6.535156 0 6.398438 0.0195312 6.265625 0.03125 C 6.140625 0.0507812 6.003906 0.0625 5.859375 0.0625 C 5.660156 0.0625 5.488281 0.0351562 5.34375 -0.015625 C 5.207031 -0.0664062 5.09375 -0.144531 5 -0.25 C 4.90625 -0.363281 4.832031 -0.5 4.78125 -0.65625 C 4.738281 -0.8125 4.710938 -1 4.703125 -1.21875 L 4.671875 -1.21875 C 4.554688 -1.007812 4.429688 -0.820312 4.296875 -0.65625 C 4.160156 -0.5 4.003906 -0.363281 3.828125 -0.25 C 3.648438 -0.132812 3.445312 -0.046875 3.21875 0.015625 C 2.988281 0.0859375 2.722656 0.125 2.421875 0.125 Z M 2.671875 -0.671875 C 3.003906 -0.671875 3.296875 -0.734375 3.546875 -0.859375 C 3.796875 -0.984375 4.003906 -1.140625 4.171875 -1.328125 C 4.335938 -1.523438 4.460938 -1.734375 4.546875 -1.953125 C 4.628906 -2.179688 4.671875 -2.398438 4.671875 -2.609375 L 4.671875 -3.125 L 3.515625 -3.109375 C 3.253906 -3.097656 3.007812 -3.078125 2.78125 -3.046875 C 2.550781 -3.015625 2.347656 -2.945312 2.171875 -2.84375 C 1.992188 -2.75 1.851562 -2.613281 1.75 -2.4375 C 1.644531 -2.269531 1.59375 -2.039062 1.59375 -1.75 C 1.59375 -1.40625 1.6875 -1.140625 1.875 -0.953125 C 2.0625 -0.765625 2.328125 -0.671875 2.671875 -0.671875 Z M 2.671875 -0.671875 \"/>\n",
       "</g>\n",
       "<g id=\"glyph-0-17\">\n",
       "<path d=\"M 3.21875 2.484375 C 2.851562 2.484375 2.53125 2.445312 2.25 2.375 C 1.96875 2.300781 1.722656 2.195312 1.515625 2.0625 C 1.316406 1.925781 1.15625 1.757812 1.03125 1.5625 C 0.90625 1.375 0.816406 1.160156 0.765625 0.921875 L 1.828125 0.78125 C 1.898438 1.070312 2.054688 1.296875 2.296875 1.453125 C 2.535156 1.609375 2.847656 1.6875 3.234375 1.6875 C 3.472656 1.6875 3.691406 1.648438 3.890625 1.578125 C 4.085938 1.515625 4.253906 1.410156 4.390625 1.265625 C 4.523438 1.117188 4.628906 0.925781 4.703125 0.6875 C 4.773438 0.457031 4.8125 0.175781 4.8125 -0.15625 L 4.8125 -1.171875 C 4.726562 -1.015625 4.628906 -0.863281 4.515625 -0.71875 C 4.398438 -0.570312 4.257812 -0.441406 4.09375 -0.328125 C 3.925781 -0.210938 3.734375 -0.117188 3.515625 -0.046875 C 3.296875 0.015625 3.046875 0.046875 2.765625 0.046875 C 2.359375 0.046875 2.007812 -0.0195312 1.71875 -0.15625 C 1.4375 -0.289062 1.203125 -0.492188 1.015625 -0.765625 C 0.835938 -1.035156 0.707031 -1.367188 0.625 -1.765625 C 0.539062 -2.171875 0.5 -2.632812 0.5 -3.15625 C 0.5 -3.664062 0.539062 -4.125 0.625 -4.53125 C 0.707031 -4.9375 0.84375 -5.28125 1.03125 -5.5625 C 1.226562 -5.84375 1.476562 -6.054688 1.78125 -6.203125 C 2.082031 -6.359375 2.453125 -6.4375 2.890625 -6.4375 C 3.335938 -6.4375 3.722656 -6.332031 4.046875 -6.125 C 4.378906 -5.925781 4.632812 -5.632812 4.8125 -5.25 L 4.828125 -5.25 C 4.828125 -5.351562 4.828125 -5.460938 4.828125 -5.578125 C 4.835938 -5.703125 4.84375 -5.816406 4.84375 -5.921875 C 4.851562 -6.035156 4.863281 -6.128906 4.875 -6.203125 C 4.882812 -6.285156 4.894531 -6.332031 4.90625 -6.34375 L 5.90625 -6.34375 C 5.894531 -6.300781 5.890625 -6.238281 5.890625 -6.15625 C 5.890625 -6.070312 5.882812 -5.972656 5.875 -5.859375 C 5.875 -5.742188 5.867188 -5.613281 5.859375 -5.46875 C 5.859375 -5.320312 5.859375 -5.175781 5.859375 -5.03125 L 5.859375 -0.1875 C 5.859375 0.707031 5.640625 1.375 5.203125 1.8125 C 4.773438 2.257812 4.113281 2.484375 3.21875 2.484375 Z M 4.8125 -3.171875 C 4.8125 -3.609375 4.765625 -3.984375 4.671875 -4.296875 C 4.578125 -4.617188 4.453125 -4.878906 4.296875 -5.078125 C 4.140625 -5.273438 3.957031 -5.421875 3.75 -5.515625 C 3.550781 -5.609375 3.347656 -5.65625 3.140625 -5.65625 C 2.867188 -5.65625 2.632812 -5.609375 2.4375 -5.515625 C 2.25 -5.421875 2.09375 -5.269531 1.96875 -5.0625 C 1.84375 -4.863281 1.75 -4.609375 1.6875 -4.296875 C 1.625 -3.984375 1.59375 -3.609375 1.59375 -3.171875 C 1.59375 -2.710938 1.625 -2.328125 1.6875 -2.015625 C 1.75 -1.703125 1.84375 -1.453125 1.96875 -1.265625 C 2.09375 -1.078125 2.25 -0.941406 2.4375 -0.859375 C 2.625 -0.773438 2.851562 -0.734375 3.125 -0.734375 C 3.332031 -0.734375 3.535156 -0.773438 3.734375 -0.859375 C 3.941406 -0.953125 4.125 -1.097656 4.28125 -1.296875 C 4.445312 -1.492188 4.578125 -1.742188 4.671875 -2.046875 C 4.765625 -2.359375 4.8125 -2.734375 4.8125 -3.171875 Z M 4.8125 -3.171875 \"/>\n",
       "</g>\n",
       "<g id=\"glyph-1-0\">\n",
       "<path d=\"M -4.125 -6.203125 C -3.332031 -6.203125 -2.664062 -6.125 -2.125 -5.96875 C -1.582031 -5.820312 -1.144531 -5.617188 -0.8125 -5.359375 C -0.476562 -5.097656 -0.238281 -4.789062 -0.09375 -4.4375 C 0.0507812 -4.09375 0.125 -3.722656 0.125 -3.328125 C 0.125 -2.921875 0.0507812 -2.539062 -0.09375 -2.1875 C -0.238281 -1.84375 -0.476562 -1.539062 -0.8125 -1.28125 C -1.144531 -1.03125 -1.582031 -0.832031 -2.125 -0.6875 C -2.664062 -0.539062 -3.332031 -0.46875 -4.125 -0.46875 C -4.957031 -0.46875 -5.644531 -0.539062 -6.1875 -0.6875 C -6.738281 -0.832031 -7.175781 -1.035156 -7.5 -1.296875 C -7.820312 -1.554688 -8.046875 -1.859375 -8.171875 -2.203125 C -8.304688 -2.554688 -8.375 -2.941406 -8.375 -3.359375 C -8.375 -3.753906 -8.304688 -4.125 -8.171875 -4.46875 C -8.046875 -4.8125 -7.820312 -5.113281 -7.5 -5.375 C -7.175781 -5.632812 -6.738281 -5.835938 -6.1875 -5.984375 C -5.644531 -6.128906 -4.957031 -6.203125 -4.125 -6.203125 Z M -4.125 -5.140625 C -4.78125 -5.140625 -5.328125 -5.097656 -5.765625 -5.015625 C -6.203125 -4.941406 -6.550781 -4.828125 -6.8125 -4.671875 C -7.070312 -4.515625 -7.253906 -4.328125 -7.359375 -4.109375 C -7.472656 -3.890625 -7.53125 -3.640625 -7.53125 -3.359375 C -7.53125 -3.054688 -7.472656 -2.789062 -7.359375 -2.5625 C -7.253906 -2.34375 -7.070312 -2.15625 -6.8125 -2 C -6.550781 -1.84375 -6.203125 -1.722656 -5.765625 -1.640625 C -5.328125 -1.566406 -4.78125 -1.53125 -4.125 -1.53125 C -3.5 -1.53125 -2.96875 -1.570312 -2.53125 -1.65625 C -2.09375 -1.738281 -1.742188 -1.851562 -1.484375 -2 C -1.222656 -2.15625 -1.035156 -2.34375 -0.921875 -2.5625 C -0.804688 -2.789062 -0.75 -3.046875 -0.75 -3.328125 C -0.75 -3.609375 -0.804688 -3.859375 -0.921875 -4.078125 C -1.035156 -4.304688 -1.222656 -4.492188 -1.484375 -4.640625 C -1.742188 -4.796875 -2.09375 -4.914062 -2.53125 -5 C -2.96875 -5.09375 -3.5 -5.140625 -4.125 -5.140625 Z M -4.125 -5.140625 \"/>\n",
       "</g>\n",
       "<g id=\"glyph-1-1\">\n",
       "<path d=\"M 0 -1.09375 L -1.28125 -1.09375 L -1.28125 -2.234375 L 0 -2.234375 Z M 0 -1.09375 \"/>\n",
       "</g>\n",
       "<g id=\"glyph-1-2\">\n",
       "<path d=\"M 0 -0.609375 L -0.75 -0.609375 C -1.207031 -0.804688 -1.609375 -1.046875 -1.953125 -1.328125 C -2.304688 -1.617188 -2.625 -1.921875 -2.90625 -2.234375 C -3.1875 -2.554688 -3.445312 -2.867188 -3.6875 -3.171875 C -3.9375 -3.484375 -4.179688 -3.765625 -4.421875 -4.015625 C -4.660156 -4.265625 -4.910156 -4.46875 -5.171875 -4.625 C -5.441406 -4.78125 -5.742188 -4.859375 -6.078125 -4.859375 C -6.316406 -4.859375 -6.523438 -4.820312 -6.703125 -4.75 C -6.878906 -4.675781 -7.023438 -4.570312 -7.140625 -4.4375 C -7.265625 -4.3125 -7.359375 -4.15625 -7.421875 -3.96875 C -7.484375 -3.78125 -7.515625 -3.578125 -7.515625 -3.359375 C -7.515625 -3.140625 -7.484375 -2.9375 -7.421875 -2.75 C -7.367188 -2.570312 -7.28125 -2.410156 -7.15625 -2.265625 C -7.039062 -2.117188 -6.894531 -2 -6.71875 -1.90625 C -6.550781 -1.8125 -6.351562 -1.753906 -6.125 -1.734375 L -6.21875 -0.65625 C -6.507812 -0.6875 -6.785156 -0.765625 -7.046875 -0.890625 C -7.316406 -1.023438 -7.550781 -1.203125 -7.75 -1.421875 C -7.945312 -1.648438 -8.097656 -1.921875 -8.203125 -2.234375 C -8.316406 -2.554688 -8.375 -2.929688 -8.375 -3.359375 C -8.375 -3.765625 -8.328125 -4.125 -8.234375 -4.4375 C -8.140625 -4.757812 -7.992188 -5.03125 -7.796875 -5.25 C -7.609375 -5.476562 -7.375 -5.648438 -7.09375 -5.765625 C -6.8125 -5.878906 -6.488281 -5.9375 -6.125 -5.9375 C -5.84375 -5.9375 -5.578125 -5.882812 -5.328125 -5.78125 C -5.078125 -5.6875 -4.835938 -5.554688 -4.609375 -5.390625 C -4.378906 -5.222656 -4.160156 -5.03125 -3.953125 -4.8125 C -3.742188 -4.59375 -3.535156 -4.363281 -3.328125 -4.125 C -3.128906 -3.894531 -2.929688 -3.65625 -2.734375 -3.40625 C -2.535156 -3.164062 -2.335938 -2.9375 -2.140625 -2.71875 C -1.941406 -2.507812 -1.738281 -2.320312 -1.53125 -2.15625 C -1.332031 -1.988281 -1.117188 -1.859375 -0.890625 -1.765625 L -0.890625 -6.078125 L 0 -6.078125 Z M 0 -0.609375 \"/>\n",
       "</g>\n",
       "<g id=\"glyph-1-3\">\n",
       "<path d=\"M -1.875 -5.15625 L 0 -5.15625 L 0 -4.171875 L -1.875 -4.171875 L -1.875 -0.28125 L -2.6875 -0.28125 L -8.25 -4.0625 L -8.25 -5.15625 L -2.703125 -5.15625 L -2.703125 -6.328125 L -1.875 -6.328125 Z M -7.0625 -4.171875 C -7.039062 -4.160156 -7.003906 -4.140625 -6.953125 -4.109375 C -6.898438 -4.078125 -6.835938 -4.039062 -6.765625 -4 C -6.691406 -3.957031 -6.617188 -3.914062 -6.546875 -3.875 C -6.472656 -3.84375 -6.414062 -3.8125 -6.375 -3.78125 L -3.25 -1.65625 C -3.21875 -1.632812 -3.175781 -1.601562 -3.125 -1.5625 C -3.070312 -1.53125 -3.019531 -1.492188 -2.96875 -1.453125 C -2.914062 -1.421875 -2.863281 -1.382812 -2.8125 -1.34375 C -2.769531 -1.300781 -2.734375 -1.269531 -2.703125 -1.25 L -2.703125 -4.171875 Z M -7.0625 -4.171875 \"/>\n",
       "</g>\n",
       "<g id=\"glyph-1-4\">\n",
       "<path d=\"M -2.703125 -6.140625 C -2.285156 -6.140625 -1.90625 -6.082031 -1.5625 -5.96875 C -1.21875 -5.851562 -0.921875 -5.679688 -0.671875 -5.453125 C -0.421875 -5.234375 -0.222656 -4.957031 -0.078125 -4.625 C 0.0546875 -4.289062 0.125 -3.910156 0.125 -3.484375 C 0.125 -3.003906 0.03125 -2.582031 -0.15625 -2.21875 C -0.34375 -1.863281 -0.609375 -1.566406 -0.953125 -1.328125 C -1.296875 -1.085938 -1.71875 -0.90625 -2.21875 -0.78125 C -2.726562 -0.664062 -3.300781 -0.609375 -3.9375 -0.609375 C -4.675781 -0.609375 -5.320312 -0.675781 -5.875 -0.8125 C -6.425781 -0.945312 -6.882812 -1.140625 -7.25 -1.390625 C -7.625 -1.648438 -7.90625 -1.960938 -8.09375 -2.328125 C -8.28125 -2.691406 -8.375 -3.101562 -8.375 -3.5625 C -8.375 -3.84375 -8.34375 -4.101562 -8.28125 -4.34375 C -8.226562 -4.59375 -8.132812 -4.816406 -8 -5.015625 C -7.875 -5.222656 -7.703125 -5.398438 -7.484375 -5.546875 C -7.273438 -5.703125 -7.015625 -5.828125 -6.703125 -5.921875 L -6.515625 -4.90625 C -6.867188 -4.800781 -7.125 -4.628906 -7.28125 -4.390625 C -7.445312 -4.148438 -7.53125 -3.867188 -7.53125 -3.546875 C -7.53125 -3.265625 -7.457031 -3.003906 -7.3125 -2.765625 C -7.175781 -2.535156 -6.972656 -2.335938 -6.703125 -2.171875 C -6.429688 -2.003906 -6.085938 -1.875 -5.671875 -1.78125 C -5.265625 -1.695312 -4.789062 -1.65625 -4.25 -1.65625 C -4.601562 -1.851562 -4.875 -2.125 -5.0625 -2.46875 C -5.25 -2.8125 -5.34375 -3.207031 -5.34375 -3.65625 C -5.34375 -4.03125 -5.28125 -4.367188 -5.15625 -4.671875 C -5.03125 -4.984375 -4.851562 -5.25 -4.625 -5.46875 C -4.40625 -5.6875 -4.128906 -5.851562 -3.796875 -5.96875 C -3.472656 -6.082031 -3.109375 -6.140625 -2.703125 -6.140625 Z M -2.65625 -5.078125 C -2.9375 -5.078125 -3.191406 -5.039062 -3.421875 -4.96875 C -3.660156 -4.894531 -3.859375 -4.785156 -4.015625 -4.640625 C -4.179688 -4.503906 -4.304688 -4.332031 -4.390625 -4.125 C -4.484375 -3.925781 -4.53125 -3.6875 -4.53125 -3.40625 C -4.53125 -3.21875 -4.5 -3.023438 -4.4375 -2.828125 C -4.382812 -2.628906 -4.289062 -2.453125 -4.15625 -2.296875 C -4.03125 -2.140625 -3.863281 -2.007812 -3.65625 -1.90625 C -3.457031 -1.8125 -3.207031 -1.765625 -2.90625 -1.765625 C -2.601562 -1.765625 -2.316406 -1.800781 -2.046875 -1.875 C -1.785156 -1.957031 -1.554688 -2.070312 -1.359375 -2.21875 C -1.171875 -2.363281 -1.019531 -2.539062 -0.90625 -2.75 C -0.789062 -2.957031 -0.734375 -3.191406 -0.734375 -3.453125 C -0.734375 -3.703125 -0.773438 -3.925781 -0.859375 -4.125 C -0.953125 -4.332031 -1.082031 -4.503906 -1.25 -4.640625 C -1.414062 -4.785156 -1.613281 -4.894531 -1.84375 -4.96875 C -2.082031 -5.039062 -2.351562 -5.078125 -2.65625 -5.078125 Z M -2.65625 -5.078125 \"/>\n",
       "</g>\n",
       "<g id=\"glyph-1-5\">\n",
       "<path d=\"M -2.296875 -6.15625 C -1.953125 -6.15625 -1.628906 -6.097656 -1.328125 -5.984375 C -1.035156 -5.867188 -0.78125 -5.695312 -0.5625 -5.46875 C -0.351562 -5.25 -0.1875 -4.957031 -0.0625 -4.59375 C 0.0625 -4.238281 0.125 -3.820312 0.125 -3.34375 C 0.125 -2.851562 0.0625 -2.429688 -0.0625 -2.078125 C -0.1875 -1.722656 -0.351562 -1.429688 -0.5625 -1.203125 C -0.78125 -0.972656 -1.035156 -0.800781 -1.328125 -0.6875 C -1.617188 -0.570312 -1.941406 -0.515625 -2.296875 -0.515625 C -2.597656 -0.515625 -2.863281 -0.5625 -3.09375 -0.65625 C -3.332031 -0.75 -3.535156 -0.875 -3.703125 -1.03125 C -3.867188 -1.1875 -4.003906 -1.363281 -4.109375 -1.5625 C -4.210938 -1.757812 -4.28125 -1.960938 -4.3125 -2.171875 L -4.34375 -2.171875 C -4.394531 -1.941406 -4.476562 -1.734375 -4.59375 -1.546875 C -4.71875 -1.367188 -4.863281 -1.21875 -5.03125 -1.09375 C -5.207031 -0.96875 -5.398438 -0.875 -5.609375 -0.8125 C -5.816406 -0.75 -6.035156 -0.71875 -6.265625 -0.71875 C -6.554688 -0.71875 -6.828125 -0.769531 -7.078125 -0.875 C -7.335938 -0.988281 -7.5625 -1.15625 -7.75 -1.375 C -7.945312 -1.59375 -8.097656 -1.863281 -8.203125 -2.1875 C -8.316406 -2.507812 -8.375 -2.882812 -8.375 -3.3125 C -8.375 -3.757812 -8.316406 -4.148438 -8.203125 -4.484375 C -8.097656 -4.816406 -7.945312 -5.085938 -7.75 -5.296875 C -7.550781 -5.515625 -7.320312 -5.675781 -7.0625 -5.78125 C -6.8125 -5.894531 -6.539062 -5.953125 -6.25 -5.953125 C -6.019531 -5.953125 -5.800781 -5.914062 -5.59375 -5.84375 C -5.394531 -5.78125 -5.207031 -5.6875 -5.03125 -5.5625 C -4.863281 -5.445312 -4.71875 -5.296875 -4.59375 -5.109375 C -4.476562 -4.929688 -4.398438 -4.722656 -4.359375 -4.484375 L -4.328125 -4.484375 C -4.285156 -4.722656 -4.210938 -4.941406 -4.109375 -5.140625 C -4.015625 -5.347656 -3.878906 -5.523438 -3.703125 -5.671875 C -3.535156 -5.816406 -3.332031 -5.929688 -3.09375 -6.015625 C -2.863281 -6.109375 -2.597656 -6.15625 -2.296875 -6.15625 Z M -6.1875 -4.859375 C -6.394531 -4.859375 -6.582031 -4.828125 -6.75 -4.765625 C -6.925781 -4.710938 -7.078125 -4.625 -7.203125 -4.5 C -7.328125 -4.382812 -7.421875 -4.226562 -7.484375 -4.03125 C -7.554688 -3.84375 -7.59375 -3.601562 -7.59375 -3.3125 C -7.59375 -3.039062 -7.554688 -2.804688 -7.484375 -2.609375 C -7.421875 -2.421875 -7.328125 -2.265625 -7.203125 -2.140625 C -7.078125 -2.015625 -6.925781 -1.925781 -6.75 -1.875 C -6.582031 -1.820312 -6.394531 -1.796875 -6.1875 -1.796875 C -6.03125 -1.796875 -5.863281 -1.816406 -5.6875 -1.859375 C -5.519531 -1.898438 -5.363281 -1.976562 -5.21875 -2.09375 C -5.082031 -2.207031 -4.96875 -2.363281 -4.875 -2.5625 C -4.78125 -2.757812 -4.734375 -3.015625 -4.734375 -3.328125 C -4.734375 -3.660156 -4.78125 -3.925781 -4.875 -4.125 C -4.96875 -4.332031 -5.082031 -4.488281 -5.21875 -4.59375 C -5.363281 -4.695312 -5.519531 -4.765625 -5.6875 -4.796875 C -5.863281 -4.835938 -6.03125 -4.859375 -6.1875 -4.859375 Z M -2.40625 -5.0625 C -2.601562 -5.0625 -2.796875 -5.03125 -2.984375 -4.96875 C -3.171875 -4.914062 -3.332031 -4.820312 -3.46875 -4.6875 C -3.613281 -4.5625 -3.726562 -4.382812 -3.8125 -4.15625 C -3.90625 -3.9375 -3.953125 -3.65625 -3.953125 -3.3125 C -3.953125 -3.007812 -3.90625 -2.75 -3.8125 -2.53125 C -3.726562 -2.3125 -3.613281 -2.132812 -3.46875 -2 C -3.320312 -1.863281 -3.15625 -1.765625 -2.96875 -1.703125 C -2.78125 -1.640625 -2.582031 -1.609375 -2.375 -1.609375 C -2.125 -1.609375 -1.894531 -1.640625 -1.6875 -1.703125 C -1.476562 -1.765625 -1.296875 -1.863281 -1.140625 -2 C -0.992188 -2.132812 -0.878906 -2.3125 -0.796875 -2.53125 C -0.710938 -2.757812 -0.671875 -3.035156 -0.671875 -3.359375 C -0.671875 -3.671875 -0.710938 -3.9375 -0.796875 -4.15625 C -0.878906 -4.375 -0.992188 -4.550781 -1.140625 -4.6875 C -1.296875 -4.820312 -1.476562 -4.914062 -1.6875 -4.96875 C -1.90625 -5.03125 -2.144531 -5.0625 -2.40625 -5.0625 Z M -2.40625 -5.0625 \"/>\n",
       "</g>\n",
       "<g id=\"glyph-1-6\">\n",
       "<path d=\"M 0 -0.921875 L -0.890625 -0.921875 L -0.890625 -3.015625 L -7.25 -3.015625 L -5.921875 -1.15625 L -6.921875 -1.15625 L -8.25 -3.109375 L -8.25 -4.078125 L -0.890625 -4.078125 L -0.890625 -6.09375 L 0 -6.09375 Z M 0 -0.921875 \"/>\n",
       "</g>\n",
       "<g id=\"glyph-1-7\">\n",
       "<path d=\"M -3.203125 -1.609375 C -2.835938 -1.609375 -2.5 -1.632812 -2.1875 -1.6875 C -1.882812 -1.738281 -1.625 -1.828125 -1.40625 -1.953125 C -1.1875 -2.078125 -1.015625 -2.242188 -0.890625 -2.453125 C -0.773438 -2.660156 -0.71875 -2.914062 -0.71875 -3.21875 C -0.71875 -3.59375 -0.816406 -3.90625 -1.015625 -4.15625 C -1.222656 -4.40625 -1.535156 -4.5625 -1.953125 -4.625 L -1.890625 -5.6875 C -1.628906 -5.644531 -1.375 -5.566406 -1.125 -5.453125 C -0.882812 -5.335938 -0.671875 -5.175781 -0.484375 -4.96875 C -0.304688 -4.769531 -0.160156 -4.523438 -0.046875 -4.234375 C 0.0664062 -3.953125 0.125 -3.617188 0.125 -3.234375 C 0.125 -2.742188 0.0390625 -2.320312 -0.125 -1.96875 C -0.300781 -1.625 -0.535156 -1.34375 -0.828125 -1.125 C -1.117188 -0.90625 -1.460938 -0.75 -1.859375 -0.65625 C -2.265625 -0.5625 -2.703125 -0.515625 -3.171875 -0.515625 C -3.597656 -0.515625 -3.972656 -0.546875 -4.296875 -0.609375 C -4.628906 -0.679688 -4.914062 -0.78125 -5.15625 -0.90625 C -5.40625 -1.039062 -5.613281 -1.191406 -5.78125 -1.359375 C -5.945312 -1.535156 -6.078125 -1.722656 -6.171875 -1.921875 C -6.273438 -2.117188 -6.347656 -2.328125 -6.390625 -2.546875 C -6.429688 -2.773438 -6.453125 -3.003906 -6.453125 -3.234375 C -6.453125 -3.585938 -6.40625 -3.898438 -6.3125 -4.171875 C -6.21875 -4.453125 -6.082031 -4.691406 -5.90625 -4.890625 C -5.738281 -5.097656 -5.539062 -5.265625 -5.3125 -5.390625 C -5.082031 -5.515625 -4.832031 -5.601562 -4.5625 -5.65625 L -4.484375 -4.5625 C -4.835938 -4.507812 -5.113281 -4.367188 -5.3125 -4.140625 C -5.519531 -3.921875 -5.625 -3.609375 -5.625 -3.203125 C -5.625 -2.898438 -5.570312 -2.644531 -5.46875 -2.4375 C -5.375 -2.238281 -5.226562 -2.078125 -5.03125 -1.953125 C -4.832031 -1.828125 -4.578125 -1.738281 -4.265625 -1.6875 C -3.960938 -1.632812 -3.609375 -1.609375 -3.203125 -1.609375 Z M -3.203125 -1.609375 \"/>\n",
       "</g>\n",
       "<g id=\"glyph-1-8\">\n",
       "<path d=\"M 0.125 -2.421875 C 0.125 -1.785156 -0.0390625 -1.304688 -0.375 -0.984375 C -0.71875 -0.671875 -1.179688 -0.515625 -1.765625 -0.515625 C -2.179688 -0.515625 -2.523438 -0.59375 -2.796875 -0.75 C -3.066406 -0.90625 -3.273438 -1.109375 -3.421875 -1.359375 C -3.578125 -1.617188 -3.679688 -1.910156 -3.734375 -2.234375 C -3.796875 -2.566406 -3.832031 -2.90625 -3.84375 -3.25 L -3.875 -4.671875 L -4.21875 -4.671875 C -4.476562 -4.671875 -4.695312 -4.640625 -4.875 -4.578125 C -5.0625 -4.523438 -5.210938 -4.441406 -5.328125 -4.328125 C -5.441406 -4.222656 -5.523438 -4.082031 -5.578125 -3.90625 C -5.628906 -3.738281 -5.65625 -3.539062 -5.65625 -3.3125 C -5.65625 -3.101562 -5.640625 -2.914062 -5.609375 -2.75 C -5.578125 -2.59375 -5.523438 -2.453125 -5.453125 -2.328125 C -5.378906 -2.210938 -5.273438 -2.113281 -5.140625 -2.03125 C -5.015625 -1.957031 -4.847656 -1.910156 -4.640625 -1.890625 L -4.75 -0.796875 C -5 -0.828125 -5.226562 -0.894531 -5.4375 -1 C -5.644531 -1.113281 -5.820312 -1.269531 -5.96875 -1.46875 C -6.125 -1.675781 -6.242188 -1.929688 -6.328125 -2.234375 C -6.410156 -2.535156 -6.453125 -2.898438 -6.453125 -3.328125 C -6.453125 -4.128906 -6.269531 -4.726562 -5.90625 -5.125 C -5.539062 -5.53125 -5.015625 -5.734375 -4.328125 -5.734375 L -1.59375 -5.734375 C -1.28125 -5.734375 -1.046875 -5.773438 -0.890625 -5.859375 C -0.734375 -5.941406 -0.65625 -6.097656 -0.65625 -6.328125 C -0.65625 -6.390625 -0.65625 -6.445312 -0.65625 -6.5 C -0.664062 -6.5625 -0.675781 -6.617188 -0.6875 -6.671875 L -0.03125 -6.671875 C 0 -6.535156 0.0195312 -6.398438 0.03125 -6.265625 C 0.0507812 -6.140625 0.0625 -6.003906 0.0625 -5.859375 C 0.0625 -5.660156 0.0351562 -5.488281 -0.015625 -5.34375 C -0.0664062 -5.207031 -0.144531 -5.09375 -0.25 -5 C -0.363281 -4.90625 -0.5 -4.832031 -0.65625 -4.78125 C -0.8125 -4.738281 -1 -4.710938 -1.21875 -4.703125 L -1.21875 -4.671875 C -1.007812 -4.554688 -0.820312 -4.429688 -0.65625 -4.296875 C -0.5 -4.160156 -0.363281 -4.003906 -0.25 -3.828125 C -0.132812 -3.648438 -0.046875 -3.445312 0.015625 -3.21875 C 0.0859375 -2.988281 0.125 -2.722656 0.125 -2.421875 Z M -0.671875 -2.671875 C -0.671875 -3.003906 -0.734375 -3.296875 -0.859375 -3.546875 C -0.984375 -3.796875 -1.140625 -4.003906 -1.328125 -4.171875 C -1.523438 -4.335938 -1.734375 -4.460938 -1.953125 -4.546875 C -2.179688 -4.628906 -2.398438 -4.671875 -2.609375 -4.671875 L -3.125 -4.671875 L -3.109375 -3.515625 C -3.097656 -3.253906 -3.078125 -3.007812 -3.046875 -2.78125 C -3.015625 -2.550781 -2.945312 -2.347656 -2.84375 -2.171875 C -2.75 -1.992188 -2.613281 -1.851562 -2.4375 -1.75 C -2.269531 -1.644531 -2.039062 -1.59375 -1.75 -1.59375 C -1.40625 -1.59375 -1.140625 -1.6875 -0.953125 -1.875 C -0.765625 -2.0625 -0.671875 -2.328125 -0.671875 -2.671875 Z M -0.671875 -2.671875 \"/>\n",
       "</g>\n",
       "<g id=\"glyph-1-9\">\n",
       "<path d=\"M -3.203125 -6.171875 C -2.722656 -6.171875 -2.28125 -6.128906 -1.875 -6.046875 C -1.46875 -5.972656 -1.113281 -5.84375 -0.8125 -5.65625 C -0.519531 -5.476562 -0.289062 -5.238281 -0.125 -4.9375 C 0.0390625 -4.644531 0.125 -4.28125 0.125 -3.84375 C 0.125 -3.382812 0.0351562 -2.984375 -0.140625 -2.640625 C -0.316406 -2.304688 -0.597656 -2.050781 -0.984375 -1.875 L -0.984375 -1.84375 C -0.972656 -1.84375 -0.9375 -1.84375 -0.875 -1.84375 C -0.8125 -1.851562 -0.734375 -1.859375 -0.640625 -1.859375 C -0.546875 -1.859375 -0.441406 -1.859375 -0.328125 -1.859375 C -0.210938 -1.859375 -0.0976562 -1.859375 0.015625 -1.859375 L 2.484375 -1.859375 L 2.484375 -0.8125 L -5.046875 -0.8125 C -5.203125 -0.8125 -5.347656 -0.804688 -5.484375 -0.796875 C -5.628906 -0.796875 -5.757812 -0.796875 -5.875 -0.796875 C -5.988281 -0.796875 -6.082031 -0.789062 -6.15625 -0.78125 C -6.238281 -0.78125 -6.300781 -0.78125 -6.34375 -0.78125 L -6.34375 -1.796875 C -6.332031 -1.796875 -6.289062 -1.796875 -6.21875 -1.796875 C -6.144531 -1.804688 -6.054688 -1.8125 -5.953125 -1.8125 C -5.859375 -1.820312 -5.753906 -1.832031 -5.640625 -1.84375 C -5.523438 -1.851562 -5.421875 -1.859375 -5.328125 -1.859375 L -5.328125 -1.875 C -5.523438 -1.96875 -5.691406 -2.078125 -5.828125 -2.203125 C -5.972656 -2.328125 -6.09375 -2.46875 -6.1875 -2.625 C -6.28125 -2.789062 -6.347656 -2.972656 -6.390625 -3.171875 C -6.429688 -3.367188 -6.453125 -3.59375 -6.453125 -3.84375 C -6.453125 -4.28125 -6.375 -4.644531 -6.21875 -4.9375 C -6.0625 -5.238281 -5.84375 -5.476562 -5.5625 -5.65625 C -5.28125 -5.84375 -4.9375 -5.972656 -4.53125 -6.046875 C -4.132812 -6.128906 -3.691406 -6.171875 -3.203125 -6.171875 Z M -3.171875 -5.0625 C -3.566406 -5.0625 -3.914062 -5.035156 -4.21875 -4.984375 C -4.519531 -4.941406 -4.773438 -4.863281 -4.984375 -4.75 C -5.203125 -4.632812 -5.363281 -4.476562 -5.46875 -4.28125 C -5.582031 -4.09375 -5.640625 -3.851562 -5.640625 -3.5625 C -5.640625 -3.332031 -5.601562 -3.113281 -5.53125 -2.90625 C -5.46875 -2.695312 -5.34375 -2.515625 -5.15625 -2.359375 C -4.96875 -2.210938 -4.707031 -2.09375 -4.375 -2 C -4.050781 -1.90625 -3.625 -1.859375 -3.09375 -1.859375 C -2.644531 -1.859375 -2.265625 -1.894531 -1.953125 -1.96875 C -1.640625 -2.050781 -1.390625 -2.160156 -1.203125 -2.296875 C -1.015625 -2.441406 -0.875 -2.617188 -0.78125 -2.828125 C -0.695312 -3.035156 -0.65625 -3.28125 -0.65625 -3.5625 C -0.65625 -3.851562 -0.710938 -4.09375 -0.828125 -4.28125 C -0.941406 -4.476562 -1.101562 -4.632812 -1.3125 -4.75 C -1.53125 -4.863281 -1.796875 -4.941406 -2.109375 -4.984375 C -2.421875 -5.035156 -2.773438 -5.0625 -3.171875 -5.0625 Z M -3.171875 -5.0625 \"/>\n",
       "</g>\n",
       "<g id=\"glyph-1-10\">\n",
       "<path d=\"M -1.75 -5.5625 C -1.457031 -5.5625 -1.191406 -5.503906 -0.953125 -5.390625 C -0.722656 -5.273438 -0.53125 -5.109375 -0.375 -4.890625 C -0.21875 -4.671875 -0.09375 -4.398438 0 -4.078125 C 0.0820312 -3.765625 0.125 -3.40625 0.125 -3 C 0.125 -2.625 0.09375 -2.289062 0.03125 -2 C -0.0195312 -1.707031 -0.109375 -1.445312 -0.234375 -1.21875 C -0.359375 -1 -0.523438 -0.8125 -0.734375 -0.65625 C -0.941406 -0.507812 -1.191406 -0.398438 -1.484375 -0.328125 L -1.671875 -1.265625 C -1.328125 -1.359375 -1.078125 -1.546875 -0.921875 -1.828125 C -0.765625 -2.109375 -0.6875 -2.5 -0.6875 -3 C -0.6875 -3.21875 -0.703125 -3.421875 -0.734375 -3.609375 C -0.765625 -3.804688 -0.816406 -3.972656 -0.890625 -4.109375 C -0.972656 -4.242188 -1.078125 -4.347656 -1.203125 -4.421875 C -1.328125 -4.503906 -1.484375 -4.546875 -1.671875 -4.546875 C -1.859375 -4.546875 -2.015625 -4.5 -2.140625 -4.40625 C -2.265625 -4.3125 -2.367188 -4.1875 -2.453125 -4.03125 C -2.535156 -3.875 -2.601562 -3.679688 -2.65625 -3.453125 C -2.71875 -3.222656 -2.785156 -2.972656 -2.859375 -2.703125 C -2.929688 -2.441406 -3.007812 -2.1875 -3.09375 -1.9375 C -3.175781 -1.6875 -3.28125 -1.460938 -3.40625 -1.265625 C -3.539062 -1.066406 -3.707031 -0.90625 -3.90625 -0.78125 C -4.113281 -0.65625 -4.367188 -0.59375 -4.671875 -0.59375 C -5.242188 -0.59375 -5.679688 -0.796875 -5.984375 -1.203125 C -6.285156 -1.617188 -6.4375 -2.21875 -6.4375 -3 C -6.4375 -3.707031 -6.3125 -4.265625 -6.0625 -4.671875 C -5.820312 -5.085938 -5.429688 -5.347656 -4.890625 -5.453125 L -4.765625 -4.5 C -4.929688 -4.46875 -5.066406 -4.40625 -5.171875 -4.3125 C -5.285156 -4.21875 -5.378906 -4.101562 -5.453125 -3.96875 C -5.523438 -3.84375 -5.570312 -3.695312 -5.59375 -3.53125 C -5.625 -3.363281 -5.640625 -3.1875 -5.640625 -3 C -5.640625 -2.53125 -5.566406 -2.179688 -5.421875 -1.953125 C -5.273438 -1.722656 -5.054688 -1.609375 -4.765625 -1.609375 C -4.597656 -1.609375 -4.457031 -1.648438 -4.34375 -1.734375 C -4.226562 -1.816406 -4.132812 -1.929688 -4.0625 -2.078125 C -3.988281 -2.234375 -3.921875 -2.414062 -3.859375 -2.625 C -3.804688 -2.84375 -3.75 -3.078125 -3.6875 -3.328125 C -3.644531 -3.492188 -3.597656 -3.664062 -3.546875 -3.84375 C -3.492188 -4.019531 -3.429688 -4.191406 -3.359375 -4.359375 C -3.296875 -4.523438 -3.21875 -4.679688 -3.125 -4.828125 C -3.039062 -4.972656 -2.929688 -5.097656 -2.796875 -5.203125 C -2.671875 -5.316406 -2.519531 -5.40625 -2.34375 -5.46875 C -2.175781 -5.53125 -1.976562 -5.5625 -1.75 -5.5625 Z M -1.75 -5.5625 \"/>\n",
       "</g>\n",
       "<g id=\"glyph-1-11\">\n",
       "<path d=\"M -6.34375 -1.84375 L -2.328125 -1.84375 C -2.015625 -1.84375 -1.753906 -1.863281 -1.546875 -1.90625 C -1.335938 -1.945312 -1.171875 -2.019531 -1.046875 -2.125 C -0.921875 -2.226562 -0.832031 -2.363281 -0.78125 -2.53125 C -0.726562 -2.695312 -0.703125 -2.898438 -0.703125 -3.140625 C -0.703125 -3.390625 -0.742188 -3.613281 -0.828125 -3.8125 C -0.921875 -4.019531 -1.046875 -4.191406 -1.203125 -4.328125 C -1.367188 -4.472656 -1.570312 -4.582031 -1.8125 -4.65625 C -2.0625 -4.738281 -2.347656 -4.78125 -2.671875 -4.78125 L -6.34375 -4.78125 L -6.34375 -5.84375 L -1.359375 -5.84375 C -1.222656 -5.84375 -1.082031 -5.84375 -0.9375 -5.84375 C -0.789062 -5.84375 -0.648438 -5.84375 -0.515625 -5.84375 C -0.390625 -5.851562 -0.28125 -5.859375 -0.1875 -5.859375 C -0.09375 -5.867188 -0.03125 -5.875 0 -5.875 L 0 -4.875 C -0.0195312 -4.875 -0.0703125 -4.867188 -0.15625 -4.859375 C -0.238281 -4.859375 -0.335938 -4.851562 -0.453125 -4.84375 C -0.566406 -4.84375 -0.679688 -4.835938 -0.796875 -4.828125 C -0.910156 -4.828125 -1.003906 -4.828125 -1.078125 -4.828125 L -1.078125 -4.8125 C -0.898438 -4.71875 -0.734375 -4.609375 -0.578125 -4.484375 C -0.429688 -4.359375 -0.304688 -4.21875 -0.203125 -4.0625 C -0.0976562 -3.90625 -0.0195312 -3.722656 0.03125 -3.515625 C 0.09375 -3.304688 0.125 -3.066406 0.125 -2.796875 C 0.125 -2.441406 0.0820312 -2.132812 0 -1.875 C -0.09375 -1.625 -0.226562 -1.414062 -0.40625 -1.25 C -0.59375 -1.09375 -0.828125 -0.972656 -1.109375 -0.890625 C -1.390625 -0.816406 -1.722656 -0.78125 -2.109375 -0.78125 L -6.34375 -0.78125 Z M -6.34375 -1.84375 \"/>\n",
       "</g>\n",
       "<g id=\"glyph-1-12\">\n",
       "<path d=\"M 0 -0.8125 L -8.703125 -0.8125 L -8.703125 -1.859375 L 0 -1.859375 Z M 0 -0.8125 \"/>\n",
       "</g>\n",
       "<g id=\"glyph-1-13\">\n",
       "<path d=\"M -2.953125 -1.625 C -2.617188 -1.625 -2.3125 -1.65625 -2.03125 -1.71875 C -1.75 -1.789062 -1.507812 -1.894531 -1.3125 -2.03125 C -1.113281 -2.175781 -0.957031 -2.359375 -0.84375 -2.578125 C -0.726562 -2.804688 -0.671875 -3.078125 -0.671875 -3.390625 C -0.671875 -3.847656 -0.757812 -4.210938 -0.9375 -4.484375 C -1.125 -4.765625 -1.359375 -4.953125 -1.640625 -5.046875 L -1.390625 -5.96875 C -1.210938 -5.90625 -1.035156 -5.8125 -0.859375 -5.6875 C -0.679688 -5.570312 -0.519531 -5.414062 -0.375 -5.21875 C -0.226562 -5.019531 -0.109375 -4.769531 -0.015625 -4.46875 C 0.078125 -4.164062 0.125 -3.804688 0.125 -3.390625 C 0.125 -2.453125 -0.15625 -1.738281 -0.71875 -1.25 C -1.28125 -0.757812 -2.113281 -0.515625 -3.21875 -0.515625 C -3.8125 -0.515625 -4.3125 -0.585938 -4.71875 -0.734375 C -5.132812 -0.878906 -5.46875 -1.082031 -5.71875 -1.34375 C -5.976562 -1.601562 -6.164062 -1.90625 -6.28125 -2.25 C -6.394531 -2.59375 -6.453125 -2.957031 -6.453125 -3.34375 C -6.453125 -3.875 -6.363281 -4.316406 -6.1875 -4.671875 C -6.019531 -5.035156 -5.785156 -5.320312 -5.484375 -5.53125 C -5.179688 -5.75 -4.820312 -5.90625 -4.40625 -6 C -4 -6.09375 -3.5625 -6.140625 -3.09375 -6.140625 L -2.953125 -6.140625 Z M -3.75 -5.046875 C -4.425781 -4.992188 -4.914062 -4.828125 -5.21875 -4.546875 C -5.519531 -4.265625 -5.671875 -3.859375 -5.671875 -3.328125 C -5.671875 -3.148438 -5.644531 -2.960938 -5.59375 -2.765625 C -5.539062 -2.578125 -5.441406 -2.398438 -5.296875 -2.234375 C -5.148438 -2.078125 -4.953125 -1.941406 -4.703125 -1.828125 C -4.453125 -1.710938 -4.132812 -1.644531 -3.75 -1.625 Z M -3.75 -5.046875 \"/>\n",
       "</g>\n",
       "<g id=\"glyph-1-14\">\n",
       "<path d=\"M -2.6875 -6.171875 C -2.269531 -6.171875 -1.890625 -6.109375 -1.546875 -5.984375 C -1.203125 -5.859375 -0.90625 -5.671875 -0.65625 -5.421875 C -0.414062 -5.179688 -0.222656 -4.878906 -0.078125 -4.515625 C 0.0546875 -4.148438 0.125 -3.722656 0.125 -3.234375 C 0.125 -2.804688 0.0703125 -2.429688 -0.03125 -2.109375 C -0.132812 -1.785156 -0.273438 -1.507812 -0.453125 -1.28125 C -0.628906 -1.0625 -0.835938 -0.882812 -1.078125 -0.75 C -1.316406 -0.625 -1.570312 -0.535156 -1.84375 -0.484375 L -1.96875 -1.546875 C -1.8125 -1.585938 -1.660156 -1.644531 -1.515625 -1.71875 C -1.367188 -1.800781 -1.238281 -1.910156 -1.125 -2.046875 C -1.007812 -2.179688 -0.914062 -2.347656 -0.84375 -2.546875 C -0.78125 -2.742188 -0.75 -2.984375 -0.75 -3.265625 C -0.75 -3.535156 -0.789062 -3.78125 -0.875 -4 C -0.957031 -4.226562 -1.078125 -4.421875 -1.234375 -4.578125 C -1.398438 -4.734375 -1.601562 -4.851562 -1.84375 -4.9375 C -2.082031 -5.03125 -2.359375 -5.078125 -2.671875 -5.078125 C -2.921875 -5.078125 -3.148438 -5.035156 -3.359375 -4.953125 C -3.578125 -4.867188 -3.765625 -4.75 -3.921875 -4.59375 C -4.078125 -4.445312 -4.195312 -4.257812 -4.28125 -4.03125 C -4.363281 -3.8125 -4.40625 -3.5625 -4.40625 -3.28125 C -4.40625 -3.113281 -4.390625 -2.953125 -4.359375 -2.796875 C -4.328125 -2.648438 -4.285156 -2.515625 -4.234375 -2.390625 C -4.179688 -2.265625 -4.117188 -2.148438 -4.046875 -2.046875 C -3.972656 -1.941406 -3.894531 -1.84375 -3.8125 -1.75 L -3.8125 -0.71875 L -8.25 -1 L -8.25 -5.6875 L -7.359375 -5.6875 L -7.359375 -1.953125 L -4.734375 -1.796875 C -4.878906 -1.984375 -5.003906 -2.21875 -5.109375 -2.5 C -5.210938 -2.78125 -5.265625 -3.113281 -5.265625 -3.5 C -5.265625 -3.914062 -5.203125 -4.285156 -5.078125 -4.609375 C -4.953125 -4.941406 -4.773438 -5.222656 -4.546875 -5.453125 C -4.316406 -5.679688 -4.046875 -5.859375 -3.734375 -5.984375 C -3.421875 -6.109375 -3.070312 -6.171875 -2.6875 -6.171875 Z M -2.6875 -6.171875 \"/>\n",
       "</g>\n",
       "<g id=\"glyph-1-15\">\n",
       "<path d=\"M 0 -0.828125 L -4.859375 -0.828125 C -4.992188 -0.828125 -5.128906 -0.828125 -5.265625 -0.828125 C -5.410156 -0.828125 -5.546875 -0.820312 -5.671875 -0.8125 C -5.796875 -0.8125 -5.914062 -0.804688 -6.03125 -0.796875 C -6.144531 -0.796875 -6.25 -0.796875 -6.34375 -0.796875 L -6.34375 -1.796875 C -6.25 -1.796875 -6.144531 -1.796875 -6.03125 -1.796875 C -5.914062 -1.804688 -5.796875 -1.8125 -5.671875 -1.8125 C -5.554688 -1.820312 -5.441406 -1.828125 -5.328125 -1.828125 C -5.210938 -1.835938 -5.117188 -1.84375 -5.046875 -1.84375 L -5.046875 -1.859375 C -5.285156 -1.929688 -5.492188 -2.007812 -5.671875 -2.09375 C -5.847656 -2.1875 -5.992188 -2.285156 -6.109375 -2.390625 C -6.222656 -2.503906 -6.304688 -2.640625 -6.359375 -2.796875 C -6.421875 -2.953125 -6.453125 -3.144531 -6.453125 -3.375 C -6.453125 -3.457031 -6.445312 -3.535156 -6.4375 -3.609375 C -6.425781 -3.691406 -6.414062 -3.753906 -6.40625 -3.796875 L -5.4375 -3.796875 C -5.457031 -3.722656 -5.46875 -3.640625 -5.46875 -3.546875 C -5.476562 -3.453125 -5.484375 -3.347656 -5.484375 -3.234375 C -5.484375 -2.992188 -5.425781 -2.785156 -5.3125 -2.609375 C -5.207031 -2.441406 -5.054688 -2.304688 -4.859375 -2.203125 C -4.671875 -2.097656 -4.441406 -2.019531 -4.171875 -1.96875 C -3.910156 -1.914062 -3.625 -1.890625 -3.3125 -1.890625 L 0 -1.890625 Z M 0 -0.828125 \"/>\n",
       "</g>\n",
       "<g id=\"glyph-2-0\">\n",
       "<path d=\"M 7.828125 0 L 4.265625 -4.546875 L 3.03125 -3.609375 L 3.03125 0 L 0.96875 0 L 0.96875 -9.90625 L 3.03125 -9.90625 L 3.03125 -5.421875 L 7.5 -9.90625 L 9.921875 -9.90625 L 5.6875 -5.71875 L 10.265625 0 Z M 7.828125 0 \"/>\n",
       "</g>\n",
       "<g id=\"glyph-2-1\">\n",
       "<path d=\"M 0.5625 -2.875 L 0.5625 -4.59375 L 4.21875 -4.59375 L 4.21875 -2.875 Z M 0.5625 -2.875 \"/>\n",
       "</g>\n",
       "<g id=\"glyph-2-2\">\n",
       "<path d=\"M 9.1875 0 L 9.1875 -6 C 9.1875 -6.238281 9.191406 -6.484375 9.203125 -6.734375 C 9.210938 -6.992188 9.222656 -7.226562 9.234375 -7.4375 C 9.242188 -7.6875 9.253906 -7.929688 9.265625 -8.171875 C 9.160156 -7.796875 9.066406 -7.441406 8.984375 -7.109375 C 8.941406 -6.972656 8.898438 -6.828125 8.859375 -6.671875 C 8.816406 -6.523438 8.773438 -6.378906 8.734375 -6.234375 C 8.703125 -6.097656 8.664062 -5.96875 8.625 -5.84375 C 8.582031 -5.71875 8.550781 -5.613281 8.53125 -5.53125 L 6.734375 0 L 5.265625 0 L 3.46875 -5.53125 C 3.445312 -5.613281 3.414062 -5.71875 3.375 -5.84375 C 3.34375 -5.96875 3.304688 -6.097656 3.265625 -6.234375 C 3.222656 -6.378906 3.179688 -6.523438 3.140625 -6.671875 C 3.097656 -6.828125 3.054688 -6.972656 3.015625 -7.109375 C 2.921875 -7.441406 2.820312 -7.796875 2.71875 -8.171875 C 2.738281 -7.898438 2.753906 -7.628906 2.765625 -7.359375 C 2.773438 -7.140625 2.785156 -6.90625 2.796875 -6.65625 C 2.804688 -6.40625 2.8125 -6.1875 2.8125 -6 L 2.8125 0 L 0.96875 0 L 0.96875 -9.90625 L 3.75 -9.90625 L 5.515625 -4.375 C 5.554688 -4.226562 5.601562 -4.046875 5.65625 -3.828125 C 5.71875 -3.617188 5.773438 -3.414062 5.828125 -3.21875 C 5.878906 -2.988281 5.9375 -2.75 6 -2.5 C 6.070312 -2.75 6.140625 -2.984375 6.203125 -3.203125 C 6.222656 -3.304688 6.25 -3.410156 6.28125 -3.515625 C 6.3125 -3.617188 6.335938 -3.71875 6.359375 -3.8125 C 6.390625 -3.90625 6.421875 -4 6.453125 -4.09375 C 6.484375 -4.1875 6.507812 -4.265625 6.53125 -4.328125 L 8.265625 -9.90625 L 11.03125 -9.90625 L 11.03125 0 Z M 9.1875 0 \"/>\n",
       "</g>\n",
       "<g id=\"glyph-2-3\">\n",
       "<path d=\"M 4.125 0.140625 C 3.570312 0.140625 3.078125 0.0625 2.640625 -0.09375 C 2.203125 -0.257812 1.828125 -0.507812 1.515625 -0.84375 C 1.210938 -1.175781 0.976562 -1.585938 0.8125 -2.078125 C 0.644531 -2.578125 0.5625 -3.164062 0.5625 -3.84375 C 0.5625 -4.570312 0.65625 -5.179688 0.84375 -5.671875 C 1.039062 -6.171875 1.304688 -6.570312 1.640625 -6.875 C 1.972656 -7.1875 2.351562 -7.410156 2.78125 -7.546875 C 3.21875 -7.679688 3.675781 -7.75 4.15625 -7.75 C 4.75 -7.75 5.257812 -7.644531 5.6875 -7.4375 C 6.113281 -7.226562 6.460938 -6.9375 6.734375 -6.5625 C 7.003906 -6.1875 7.203125 -5.738281 7.328125 -5.21875 C 7.453125 -4.695312 7.515625 -4.117188 7.515625 -3.484375 L 7.515625 -3.421875 L 2.640625 -3.421875 C 2.640625 -3.109375 2.664062 -2.8125 2.71875 -2.53125 C 2.78125 -2.257812 2.875 -2.023438 3 -1.828125 C 3.125 -1.628906 3.285156 -1.472656 3.484375 -1.359375 C 3.691406 -1.242188 3.9375 -1.1875 4.21875 -1.1875 C 4.5625 -1.1875 4.84375 -1.257812 5.0625 -1.40625 C 5.289062 -1.550781 5.453125 -1.78125 5.546875 -2.09375 L 7.40625 -1.921875 C 7.320312 -1.710938 7.203125 -1.484375 7.046875 -1.234375 C 6.898438 -0.992188 6.695312 -0.769531 6.4375 -0.5625 C 6.1875 -0.363281 5.875 -0.195312 5.5 -0.0625 C 5.125 0.0703125 4.664062 0.140625 4.125 0.140625 Z M 4.125 -6.5 C 3.914062 -6.5 3.722656 -6.460938 3.546875 -6.390625 C 3.378906 -6.328125 3.226562 -6.222656 3.09375 -6.078125 C 2.96875 -5.929688 2.863281 -5.738281 2.78125 -5.5 C 2.707031 -5.269531 2.664062 -4.988281 2.65625 -4.65625 L 5.609375 -4.65625 C 5.566406 -5.269531 5.414062 -5.726562 5.15625 -6.03125 C 4.90625 -6.34375 4.5625 -6.5 4.125 -6.5 Z M 4.125 -6.5 \"/>\n",
       "</g>\n",
       "<g id=\"glyph-2-4\">\n",
       "<path d=\"M 2.765625 0.140625 C 2.398438 0.140625 2.070312 0.09375 1.78125 0 C 1.488281 -0.101562 1.242188 -0.253906 1.046875 -0.453125 C 0.847656 -0.648438 0.691406 -0.890625 0.578125 -1.171875 C 0.472656 -1.460938 0.421875 -1.789062 0.421875 -2.15625 C 0.421875 -2.601562 0.5 -2.976562 0.65625 -3.28125 C 0.8125 -3.59375 1.023438 -3.84375 1.296875 -4.03125 C 1.566406 -4.21875 1.882812 -4.351562 2.25 -4.4375 C 2.625 -4.53125 3.015625 -4.582031 3.421875 -4.59375 L 5.0625 -4.609375 L 5.0625 -5 C 5.0625 -5.28125 5.035156 -5.507812 4.984375 -5.6875 C 4.941406 -5.875 4.875 -6.023438 4.78125 -6.140625 C 4.6875 -6.265625 4.566406 -6.347656 4.421875 -6.390625 C 4.285156 -6.441406 4.128906 -6.46875 3.953125 -6.46875 C 3.785156 -6.46875 3.632812 -6.453125 3.5 -6.421875 C 3.375 -6.390625 3.265625 -6.332031 3.171875 -6.25 C 3.078125 -6.164062 3 -6.054688 2.9375 -5.921875 C 2.882812 -5.785156 2.847656 -5.609375 2.828125 -5.390625 L 0.765625 -5.5 C 0.816406 -5.832031 0.914062 -6.132812 1.0625 -6.40625 C 1.21875 -6.675781 1.425781 -6.910156 1.6875 -7.109375 C 1.957031 -7.316406 2.285156 -7.472656 2.671875 -7.578125 C 3.054688 -7.691406 3.507812 -7.75 4.03125 -7.75 C 4.507812 -7.75 4.929688 -7.691406 5.296875 -7.578125 C 5.671875 -7.460938 5.988281 -7.285156 6.25 -7.046875 C 6.507812 -6.816406 6.707031 -6.53125 6.84375 -6.1875 C 6.976562 -5.851562 7.046875 -5.460938 7.046875 -5.015625 L 7.046875 -2.25 C 7.046875 -2.070312 7.050781 -1.910156 7.0625 -1.765625 C 7.082031 -1.628906 7.113281 -1.507812 7.15625 -1.40625 C 7.195312 -1.3125 7.257812 -1.238281 7.34375 -1.1875 C 7.425781 -1.144531 7.535156 -1.125 7.671875 -1.125 C 7.816406 -1.125 7.960938 -1.140625 8.109375 -1.171875 L 8.109375 -0.09375 C 7.984375 -0.0703125 7.875 -0.046875 7.78125 -0.015625 C 7.6875 0.00390625 7.59375 0.0195312 7.5 0.03125 C 7.40625 0.0507812 7.304688 0.0625 7.203125 0.0625 C 7.097656 0.0703125 6.976562 0.078125 6.84375 0.078125 C 6.34375 0.078125 5.972656 -0.0390625 5.734375 -0.28125 C 5.492188 -0.519531 5.351562 -0.878906 5.3125 -1.359375 L 5.265625 -1.359375 C 5.003906 -0.878906 4.664062 -0.507812 4.25 -0.25 C 3.84375 0.0078125 3.347656 0.140625 2.765625 0.140625 Z M 5.0625 -3.53125 L 4.046875 -3.515625 C 3.835938 -3.503906 3.640625 -3.484375 3.453125 -3.453125 C 3.265625 -3.429688 3.097656 -3.378906 2.953125 -3.296875 C 2.804688 -3.210938 2.691406 -3.09375 2.609375 -2.9375 C 2.523438 -2.78125 2.484375 -2.570312 2.484375 -2.3125 C 2.484375 -1.945312 2.566406 -1.675781 2.734375 -1.5 C 2.898438 -1.320312 3.117188 -1.234375 3.390625 -1.234375 C 3.648438 -1.234375 3.878906 -1.285156 4.078125 -1.390625 C 4.285156 -1.503906 4.460938 -1.648438 4.609375 -1.828125 C 4.753906 -2.003906 4.863281 -2.207031 4.9375 -2.4375 C 5.019531 -2.664062 5.0625 -2.898438 5.0625 -3.140625 Z M 5.0625 -3.53125 \"/>\n",
       "</g>\n",
       "<g id=\"glyph-2-5\">\n",
       "<path d=\"M 5.9375 0 L 5.9375 -4.265625 C 5.9375 -4.566406 5.910156 -4.835938 5.859375 -5.078125 C 5.816406 -5.328125 5.738281 -5.539062 5.625 -5.71875 C 5.519531 -5.894531 5.378906 -6.03125 5.203125 -6.125 C 5.035156 -6.226562 4.828125 -6.28125 4.578125 -6.28125 C 4.335938 -6.28125 4.117188 -6.222656 3.921875 -6.109375 C 3.734375 -6.003906 3.566406 -5.851562 3.421875 -5.65625 C 3.285156 -5.46875 3.175781 -5.238281 3.09375 -4.96875 C 3.019531 -4.695312 2.984375 -4.398438 2.984375 -4.078125 L 2.984375 0 L 1 0 L 1 -5.90625 C 1 -6.070312 1 -6.238281 1 -6.40625 C 1 -6.582031 0.992188 -6.75 0.984375 -6.90625 C 0.984375 -7.0625 0.976562 -7.203125 0.96875 -7.328125 C 0.96875 -7.453125 0.960938 -7.546875 0.953125 -7.609375 L 2.828125 -7.609375 C 2.835938 -7.554688 2.847656 -7.46875 2.859375 -7.34375 C 2.867188 -7.21875 2.878906 -7.078125 2.890625 -6.921875 C 2.898438 -6.773438 2.90625 -6.625 2.90625 -6.46875 C 2.914062 -6.320312 2.921875 -6.195312 2.921875 -6.09375 L 2.953125 -6.09375 C 3.222656 -6.675781 3.554688 -7.097656 3.953125 -7.359375 C 4.359375 -7.628906 4.84375 -7.765625 5.40625 -7.765625 C 5.863281 -7.765625 6.25 -7.6875 6.5625 -7.53125 C 6.882812 -7.382812 7.144531 -7.175781 7.34375 -6.90625 C 7.539062 -6.644531 7.679688 -6.335938 7.765625 -5.984375 C 7.859375 -5.628906 7.90625 -5.242188 7.90625 -4.828125 L 7.90625 0 Z M 5.9375 0 \"/>\n",
       "</g>\n",
       "<g id=\"glyph-2-6\">\n",
       "<path d=\"M 7.421875 -2.21875 C 7.421875 -1.851562 7.34375 -1.523438 7.1875 -1.234375 C 7.039062 -0.941406 6.820312 -0.691406 6.53125 -0.484375 C 6.238281 -0.285156 5.878906 -0.128906 5.453125 -0.015625 C 5.035156 0.0859375 4.554688 0.140625 4.015625 0.140625 C 3.535156 0.140625 3.097656 0.101562 2.703125 0.03125 C 2.316406 -0.0390625 1.976562 -0.15625 1.6875 -0.3125 C 1.394531 -0.476562 1.148438 -0.6875 0.953125 -0.9375 C 0.753906 -1.195312 0.601562 -1.519531 0.5 -1.90625 L 2.25 -2.15625 C 2.300781 -1.945312 2.375 -1.773438 2.46875 -1.640625 C 2.570312 -1.515625 2.695312 -1.414062 2.84375 -1.34375 C 2.988281 -1.269531 3.15625 -1.222656 3.34375 -1.203125 C 3.539062 -1.179688 3.765625 -1.171875 4.015625 -1.171875 C 4.242188 -1.171875 4.453125 -1.179688 4.640625 -1.203125 C 4.835938 -1.234375 5.003906 -1.28125 5.140625 -1.34375 C 5.285156 -1.40625 5.398438 -1.492188 5.484375 -1.609375 C 5.566406 -1.722656 5.609375 -1.867188 5.609375 -2.046875 C 5.609375 -2.234375 5.550781 -2.382812 5.4375 -2.5 C 5.320312 -2.625 5.160156 -2.71875 4.953125 -2.78125 C 4.753906 -2.851562 4.519531 -2.914062 4.25 -2.96875 C 3.988281 -3.03125 3.703125 -3.097656 3.390625 -3.171875 C 3.078125 -3.234375 2.765625 -3.3125 2.453125 -3.40625 C 2.140625 -3.507812 1.863281 -3.644531 1.625 -3.8125 C 1.382812 -3.988281 1.1875 -4.207031 1.03125 -4.46875 C 0.882812 -4.726562 0.8125 -5.054688 0.8125 -5.453125 C 0.8125 -5.816406 0.878906 -6.140625 1.015625 -6.421875 C 1.160156 -6.703125 1.367188 -6.941406 1.640625 -7.140625 C 1.910156 -7.335938 2.242188 -7.488281 2.640625 -7.59375 C 3.046875 -7.707031 3.507812 -7.765625 4.03125 -7.765625 C 4.445312 -7.765625 4.832031 -7.722656 5.1875 -7.640625 C 5.539062 -7.566406 5.859375 -7.445312 6.140625 -7.28125 C 6.421875 -7.113281 6.65625 -6.898438 6.84375 -6.640625 C 7.03125 -6.378906 7.164062 -6.066406 7.25 -5.703125 L 5.5 -5.515625 C 5.457031 -5.703125 5.394531 -5.851562 5.3125 -5.96875 C 5.226562 -6.09375 5.125 -6.1875 5 -6.25 C 4.875 -6.320312 4.726562 -6.367188 4.5625 -6.390625 C 4.40625 -6.421875 4.226562 -6.4375 4.03125 -6.4375 C 3.5625 -6.4375 3.207031 -6.375 2.96875 -6.25 C 2.738281 -6.132812 2.625 -5.9375 2.625 -5.65625 C 2.625 -5.488281 2.671875 -5.351562 2.765625 -5.25 C 2.859375 -5.144531 2.992188 -5.054688 3.171875 -4.984375 C 3.347656 -4.921875 3.554688 -4.863281 3.796875 -4.8125 C 4.046875 -4.757812 4.3125 -4.703125 4.59375 -4.640625 C 4.945312 -4.554688 5.289062 -4.460938 5.625 -4.359375 C 5.96875 -4.265625 6.269531 -4.128906 6.53125 -3.953125 C 6.800781 -3.773438 7.015625 -3.546875 7.171875 -3.265625 C 7.335938 -2.992188 7.421875 -2.644531 7.421875 -2.21875 Z M 7.421875 -2.21875 \"/>\n",
       "</g>\n",
       "<g id=\"glyph-2-7\">\n",
       "</g>\n",
       "<g id=\"glyph-2-8\">\n",
       "<path d=\"M 5.59375 -1.484375 C 5.976562 -1.484375 6.3125 -1.539062 6.59375 -1.65625 C 6.882812 -1.769531 7.132812 -1.914062 7.34375 -2.09375 C 7.550781 -2.269531 7.722656 -2.46875 7.859375 -2.6875 C 7.992188 -2.914062 8.109375 -3.144531 8.203125 -3.375 L 10.015625 -2.6875 C 9.867188 -2.332031 9.675781 -1.984375 9.4375 -1.640625 C 9.207031 -1.296875 8.914062 -0.992188 8.5625 -0.734375 C 8.207031 -0.472656 7.785156 -0.257812 7.296875 -0.09375 C 6.816406 0.0625 6.25 0.140625 5.59375 0.140625 C 4.738281 0.140625 3.992188 0.015625 3.359375 -0.234375 C 2.734375 -0.492188 2.210938 -0.851562 1.796875 -1.3125 C 1.390625 -1.769531 1.085938 -2.3125 0.890625 -2.9375 C 0.691406 -3.570312 0.59375 -4.257812 0.59375 -5 C 0.59375 -5.769531 0.691406 -6.46875 0.890625 -7.09375 C 1.085938 -7.71875 1.390625 -8.25 1.796875 -8.6875 C 2.203125 -9.125 2.710938 -9.460938 3.328125 -9.703125 C 3.941406 -9.941406 4.664062 -10.0625 5.5 -10.0625 C 6.144531 -10.0625 6.707031 -9.992188 7.1875 -9.859375 C 7.675781 -9.722656 8.097656 -9.53125 8.453125 -9.28125 C 8.804688 -9.03125 9.097656 -8.738281 9.328125 -8.40625 C 9.566406 -8.070312 9.753906 -7.703125 9.890625 -7.296875 L 8.046875 -6.796875 C 7.984375 -7.015625 7.882812 -7.21875 7.75 -7.40625 C 7.613281 -7.601562 7.441406 -7.773438 7.234375 -7.921875 C 7.023438 -8.078125 6.78125 -8.195312 6.5 -8.28125 C 6.21875 -8.375 5.898438 -8.421875 5.546875 -8.421875 C 5.046875 -8.421875 4.613281 -8.335938 4.25 -8.171875 C 3.882812 -8.015625 3.585938 -7.785156 3.359375 -7.484375 C 3.128906 -7.191406 2.957031 -6.832031 2.84375 -6.40625 C 2.738281 -5.988281 2.6875 -5.519531 2.6875 -5 C 2.6875 -4.488281 2.738281 -4.015625 2.84375 -3.578125 C 2.957031 -3.148438 3.128906 -2.78125 3.359375 -2.46875 C 3.597656 -2.164062 3.898438 -1.925781 4.265625 -1.75 C 4.628906 -1.570312 5.070312 -1.484375 5.59375 -1.484375 Z M 5.59375 -1.484375 \"/>\n",
       "</g>\n",
       "<g id=\"glyph-2-9\">\n",
       "<path d=\"M 2.953125 0.125 C 2.367188 0.125 1.921875 -0.03125 1.609375 -0.34375 C 1.296875 -0.664062 1.140625 -1.144531 1.140625 -1.78125 L 1.140625 -6.28125 L 0.171875 -6.28125 L 0.171875 -7.609375 L 1.234375 -7.609375 L 1.859375 -9.390625 L 3.09375 -9.390625 L 3.09375 -7.609375 L 4.53125 -7.609375 L 4.53125 -6.28125 L 3.09375 -6.28125 L 3.09375 -2.328125 C 3.09375 -1.953125 3.160156 -1.675781 3.296875 -1.5 C 3.441406 -1.320312 3.660156 -1.234375 3.953125 -1.234375 C 4.078125 -1.234375 4.1875 -1.242188 4.28125 -1.265625 C 4.382812 -1.285156 4.5 -1.3125 4.625 -1.34375 L 4.625 -0.109375 C 4.375 -0.0351562 4.113281 0.0195312 3.84375 0.0625 C 3.570312 0.101562 3.273438 0.125 2.953125 0.125 Z M 2.953125 0.125 \"/>\n",
       "</g>\n",
       "<g id=\"glyph-2-10\">\n",
       "<path d=\"M 1 0 L 1 -5.828125 C 1 -5.992188 1 -6.164062 1 -6.34375 C 1 -6.53125 0.992188 -6.707031 0.984375 -6.875 C 0.984375 -7.039062 0.976562 -7.1875 0.96875 -7.3125 C 0.96875 -7.445312 0.960938 -7.546875 0.953125 -7.609375 L 2.828125 -7.609375 C 2.835938 -7.554688 2.847656 -7.457031 2.859375 -7.3125 C 2.867188 -7.175781 2.878906 -7.023438 2.890625 -6.859375 C 2.898438 -6.703125 2.90625 -6.539062 2.90625 -6.375 C 2.914062 -6.21875 2.921875 -6.085938 2.921875 -5.984375 L 2.953125 -5.984375 C 3.054688 -6.265625 3.15625 -6.515625 3.25 -6.734375 C 3.34375 -6.953125 3.457031 -7.132812 3.59375 -7.28125 C 3.726562 -7.4375 3.890625 -7.554688 4.078125 -7.640625 C 4.265625 -7.722656 4.5 -7.765625 4.78125 -7.765625 C 4.894531 -7.765625 5.007812 -7.753906 5.125 -7.734375 C 5.238281 -7.710938 5.328125 -7.6875 5.390625 -7.65625 L 5.390625 -6 C 5.265625 -6.03125 5.132812 -6.054688 5 -6.078125 C 4.875 -6.097656 4.722656 -6.109375 4.546875 -6.109375 C 4.054688 -6.109375 3.671875 -5.90625 3.390625 -5.5 C 3.117188 -5.101562 2.984375 -4.515625 2.984375 -3.734375 L 2.984375 0 Z M 1 0 \"/>\n",
       "</g>\n",
       "<g id=\"glyph-2-11\">\n",
       "<path d=\"M 3.328125 -6.28125 L 3.328125 0 L 1.359375 0 L 1.359375 -6.28125 L 0.25 -6.28125 L 0.25 -7.609375 L 1.359375 -7.609375 L 1.359375 -8.40625 C 1.359375 -8.695312 1.390625 -8.960938 1.453125 -9.203125 C 1.523438 -9.453125 1.644531 -9.664062 1.8125 -9.84375 C 1.988281 -10.03125 2.21875 -10.175781 2.5 -10.28125 C 2.789062 -10.382812 3.148438 -10.4375 3.578125 -10.4375 C 3.796875 -10.4375 4.015625 -10.425781 4.234375 -10.40625 C 4.453125 -10.382812 4.648438 -10.359375 4.828125 -10.328125 L 4.828125 -9.046875 C 4.742188 -9.066406 4.644531 -9.082031 4.53125 -9.09375 C 4.425781 -9.101562 4.332031 -9.109375 4.25 -9.109375 C 4.0625 -9.109375 3.90625 -9.085938 3.78125 -9.046875 C 3.664062 -9.015625 3.570312 -8.960938 3.5 -8.890625 C 3.4375 -8.816406 3.390625 -8.722656 3.359375 -8.609375 C 3.335938 -8.492188 3.328125 -8.359375 3.328125 -8.203125 L 3.328125 -7.609375 L 4.828125 -7.609375 L 4.828125 -6.28125 Z M 3.328125 -6.28125 \"/>\n",
       "</g>\n",
       "<g id=\"glyph-2-12\">\n",
       "<path d=\"M 8.234375 -3.8125 C 8.234375 -3.226562 8.148438 -2.691406 7.984375 -2.203125 C 7.828125 -1.722656 7.585938 -1.304688 7.265625 -0.953125 C 6.941406 -0.609375 6.535156 -0.335938 6.046875 -0.140625 C 5.566406 0.046875 5.007812 0.140625 4.375 0.140625 C 3.75 0.140625 3.195312 0.046875 2.71875 -0.140625 C 2.25 -0.335938 1.851562 -0.609375 1.53125 -0.953125 C 1.21875 -1.304688 0.976562 -1.722656 0.8125 -2.203125 C 0.644531 -2.691406 0.5625 -3.226562 0.5625 -3.8125 C 0.5625 -4.375 0.640625 -4.894531 0.796875 -5.375 C 0.953125 -5.863281 1.1875 -6.28125 1.5 -6.625 C 1.820312 -6.976562 2.222656 -7.253906 2.703125 -7.453125 C 3.191406 -7.648438 3.757812 -7.75 4.40625 -7.75 C 5.09375 -7.75 5.675781 -7.648438 6.15625 -7.453125 C 6.644531 -7.253906 7.039062 -6.976562 7.34375 -6.625 C 7.65625 -6.28125 7.878906 -5.867188 8.015625 -5.390625 C 8.160156 -4.910156 8.234375 -4.382812 8.234375 -3.8125 Z M 6.171875 -3.8125 C 6.171875 -4.71875 6.019531 -5.375 5.71875 -5.78125 C 5.425781 -6.1875 5 -6.390625 4.4375 -6.390625 C 3.851562 -6.390625 3.40625 -6.179688 3.09375 -5.765625 C 2.789062 -5.359375 2.640625 -4.707031 2.640625 -3.8125 C 2.640625 -3.351562 2.679688 -2.957031 2.765625 -2.625 C 2.847656 -2.300781 2.960938 -2.035156 3.109375 -1.828125 C 3.253906 -1.617188 3.429688 -1.460938 3.640625 -1.359375 C 3.859375 -1.253906 4.09375 -1.203125 4.34375 -1.203125 C 4.632812 -1.203125 4.894531 -1.253906 5.125 -1.359375 C 5.351562 -1.460938 5.546875 -1.617188 5.703125 -1.828125 C 5.859375 -2.035156 5.972656 -2.300781 6.046875 -2.625 C 6.128906 -2.957031 6.171875 -3.351562 6.171875 -3.8125 Z M 6.171875 -3.8125 \"/>\n",
       "</g>\n",
       "<g id=\"glyph-2-13\">\n",
       "<path d=\"M 5.859375 0 L 3.828125 -3.453125 L 2.984375 -2.859375 L 2.984375 0 L 1 0 L 1 -10.4375 L 2.984375 -10.4375 L 2.984375 -4.453125 L 5.703125 -7.609375 L 7.828125 -7.609375 L 5.15625 -4.640625 L 8.03125 0 Z M 5.859375 0 \"/>\n",
       "</g>\n",
       "<g id=\"glyph-2-14\">\n",
       "<path d=\"M 0.59375 -5.921875 L 0.59375 -7.484375 L 7.828125 -7.484375 L 7.828125 -5.921875 Z M 0.59375 -2.046875 L 0.59375 -3.609375 L 7.828125 -3.609375 L 7.828125 -2.046875 Z M 0.59375 -2.046875 \"/>\n",
       "</g>\n",
       "<g id=\"glyph-2-15\">\n",
       "<path d=\"M 0.90625 0 L 0.90625 -1.46875 L 3.359375 -1.46875 L 3.359375 -8.234375 L 0.984375 -6.75 L 0.984375 -8.296875 L 3.46875 -9.90625 L 5.34375 -9.90625 L 5.34375 -1.46875 L 7.609375 -1.46875 L 7.609375 0 Z M 0.90625 0 \"/>\n",
       "</g>\n",
       "<g id=\"glyph-2-16\">\n",
       "<path d=\"M 7.421875 -4.953125 C 7.421875 -4.003906 7.332031 -3.207031 7.15625 -2.5625 C 6.988281 -1.914062 6.75 -1.390625 6.4375 -0.984375 C 6.132812 -0.585938 5.769531 -0.300781 5.34375 -0.125 C 4.925781 0.0507812 4.46875 0.140625 3.96875 0.140625 C 3.476562 0.140625 3.023438 0.0546875 2.609375 -0.109375 C 2.191406 -0.285156 1.832031 -0.570312 1.53125 -0.96875 C 1.226562 -1.375 0.988281 -1.898438 0.8125 -2.546875 C 0.644531 -3.203125 0.5625 -4.003906 0.5625 -4.953125 C 0.5625 -5.953125 0.644531 -6.78125 0.8125 -7.4375 C 0.976562 -8.09375 1.210938 -8.613281 1.515625 -9 C 1.828125 -9.394531 2.191406 -9.671875 2.609375 -9.828125 C 3.035156 -9.984375 3.507812 -10.0625 4.03125 -10.0625 C 4.507812 -10.0625 4.957031 -9.984375 5.375 -9.828125 C 5.789062 -9.671875 6.148438 -9.394531 6.453125 -9 C 6.753906 -8.613281 6.988281 -8.09375 7.15625 -7.4375 C 7.332031 -6.78125 7.421875 -5.953125 7.421875 -4.953125 Z M 5.4375 -4.953125 C 5.4375 -5.648438 5.410156 -6.226562 5.359375 -6.6875 C 5.304688 -7.144531 5.222656 -7.507812 5.109375 -7.78125 C 4.992188 -8.050781 4.847656 -8.238281 4.671875 -8.34375 C 4.492188 -8.457031 4.273438 -8.515625 4.015625 -8.515625 C 3.742188 -8.515625 3.507812 -8.457031 3.3125 -8.34375 C 3.125 -8.238281 2.972656 -8.046875 2.859375 -7.765625 C 2.742188 -7.492188 2.660156 -7.128906 2.609375 -6.671875 C 2.566406 -6.222656 2.546875 -5.648438 2.546875 -4.953125 C 2.546875 -4.273438 2.570312 -3.707031 2.625 -3.25 C 2.675781 -2.800781 2.753906 -2.4375 2.859375 -2.15625 C 2.972656 -1.882812 3.125 -1.691406 3.3125 -1.578125 C 3.5 -1.460938 3.722656 -1.40625 3.984375 -1.40625 C 4.242188 -1.40625 4.460938 -1.460938 4.640625 -1.578125 C 4.828125 -1.691406 4.976562 -1.882812 5.09375 -2.15625 C 5.21875 -2.4375 5.304688 -2.800781 5.359375 -3.25 C 5.410156 -3.707031 5.4375 -4.273438 5.4375 -4.953125 Z M 5.4375 -4.953125 \"/>\n",
       "</g>\n",
       "</g>\n",
       "</defs>\n",
       "<rect x=\"-50.4\" y=\"-50.4\" width=\"604.8\" height=\"604.8\" fill=\"rgb(100%, 100%, 100%)\" fill-opacity=\"1\"/>\n",
       "<path fill=\"none\" stroke-width=\"0.75\" stroke-linecap=\"round\" stroke-linejoin=\"round\" stroke=\"rgb(0%, 0%, 0%)\" stroke-opacity=\"1\" stroke-miterlimit=\"10\" d=\"M 67.765625 416.800781 C 67.765625 420.398438 62.367188 420.398438 62.367188 416.800781 C 62.367188 413.199219 67.765625 413.199219 67.765625 416.800781 \"/>\n",
       "<path fill=\"none\" stroke-width=\"0.75\" stroke-linecap=\"round\" stroke-linejoin=\"round\" stroke=\"rgb(0%, 0%, 0%)\" stroke-opacity=\"1\" stroke-miterlimit=\"10\" d=\"M 84.507812 416.800781 C 84.507812 420.398438 79.105469 420.398438 79.105469 416.800781 C 79.105469 413.199219 84.507812 413.199219 84.507812 416.800781 \"/>\n",
       "<path fill=\"none\" stroke-width=\"0.75\" stroke-linecap=\"round\" stroke-linejoin=\"round\" stroke=\"rgb(0%, 0%, 0%)\" stroke-opacity=\"1\" stroke-miterlimit=\"10\" d=\"M 101.25 416.800781 C 101.25 420.398438 95.847656 420.398438 95.847656 416.800781 C 95.847656 413.199219 101.25 413.199219 101.25 416.800781 \"/>\n",
       "<path fill=\"none\" stroke-width=\"0.75\" stroke-linecap=\"round\" stroke-linejoin=\"round\" stroke=\"rgb(0%, 0%, 0%)\" stroke-opacity=\"1\" stroke-miterlimit=\"10\" d=\"M 117.988281 244.800781 C 117.988281 248.398438 112.589844 248.398438 112.589844 244.800781 C 112.589844 241.199219 117.988281 241.199219 117.988281 244.800781 \"/>\n",
       "<path fill=\"none\" stroke-width=\"0.75\" stroke-linecap=\"round\" stroke-linejoin=\"round\" stroke=\"rgb(0%, 0%, 0%)\" stroke-opacity=\"1\" stroke-miterlimit=\"10\" d=\"M 134.730469 72.800781 C 134.730469 76.398438 129.328125 76.398438 129.328125 72.800781 C 129.328125 69.199219 134.730469 69.199219 134.730469 72.800781 \"/>\n",
       "<path fill=\"none\" stroke-width=\"0.75\" stroke-linecap=\"round\" stroke-linejoin=\"round\" stroke=\"rgb(0%, 0%, 0%)\" stroke-opacity=\"1\" stroke-miterlimit=\"10\" d=\"M 151.46875 72.800781 C 151.46875 76.398438 146.070312 76.398438 146.070312 72.800781 C 146.070312 69.199219 151.46875 69.199219 151.46875 72.800781 \"/>\n",
       "<path fill=\"none\" stroke-width=\"0.75\" stroke-linecap=\"round\" stroke-linejoin=\"round\" stroke=\"rgb(0%, 0%, 0%)\" stroke-opacity=\"1\" stroke-miterlimit=\"10\" d=\"M 168.210938 125.722656 C 168.210938 129.324219 162.8125 129.324219 162.8125 125.722656 C 162.8125 122.125 168.210938 122.125 168.210938 125.722656 \"/>\n",
       "<path fill=\"none\" stroke-width=\"0.75\" stroke-linecap=\"round\" stroke-linejoin=\"round\" stroke=\"rgb(0%, 0%, 0%)\" stroke-opacity=\"1\" stroke-miterlimit=\"10\" d=\"M 184.953125 166.617188 C 184.953125 170.21875 179.550781 170.21875 179.550781 166.617188 C 179.550781 163.019531 184.953125 163.019531 184.953125 166.617188 \"/>\n",
       "<path fill=\"none\" stroke-width=\"0.75\" stroke-linecap=\"round\" stroke-linejoin=\"round\" stroke=\"rgb(0%, 0%, 0%)\" stroke-opacity=\"1\" stroke-miterlimit=\"10\" d=\"M 201.691406 416.800781 C 201.691406 420.398438 196.292969 420.398438 196.292969 416.800781 C 196.292969 413.199219 201.691406 413.199219 201.691406 416.800781 \"/>\n",
       "<path fill=\"none\" stroke-width=\"0.75\" stroke-linecap=\"round\" stroke-linejoin=\"round\" stroke=\"rgb(0%, 0%, 0%)\" stroke-opacity=\"1\" stroke-miterlimit=\"10\" d=\"M 218.433594 132.625 C 218.433594 136.226562 213.035156 136.226562 213.035156 132.625 C 213.035156 129.027344 218.433594 129.027344 218.433594 132.625 \"/>\n",
       "<path fill=\"none\" stroke-width=\"0.75\" stroke-linecap=\"round\" stroke-linejoin=\"round\" stroke=\"rgb(0%, 0%, 0%)\" stroke-opacity=\"1\" stroke-miterlimit=\"10\" d=\"M 81.808594 430.558594 L 215.734375 430.558594 \"/>\n",
       "<path fill=\"none\" stroke-width=\"0.75\" stroke-linecap=\"round\" stroke-linejoin=\"round\" stroke=\"rgb(0%, 0%, 0%)\" stroke-opacity=\"1\" stroke-miterlimit=\"10\" d=\"M 81.808594 430.558594 L 81.808594 437.761719 \"/>\n",
       "<path fill=\"none\" stroke-width=\"0.75\" stroke-linecap=\"round\" stroke-linejoin=\"round\" stroke=\"rgb(0%, 0%, 0%)\" stroke-opacity=\"1\" stroke-miterlimit=\"10\" d=\"M 115.289062 430.558594 L 115.289062 437.761719 \"/>\n",
       "<path fill=\"none\" stroke-width=\"0.75\" stroke-linecap=\"round\" stroke-linejoin=\"round\" stroke=\"rgb(0%, 0%, 0%)\" stroke-opacity=\"1\" stroke-miterlimit=\"10\" d=\"M 148.769531 430.558594 L 148.769531 437.761719 \"/>\n",
       "<path fill=\"none\" stroke-width=\"0.75\" stroke-linecap=\"round\" stroke-linejoin=\"round\" stroke=\"rgb(0%, 0%, 0%)\" stroke-opacity=\"1\" stroke-miterlimit=\"10\" d=\"M 182.25 430.558594 L 182.25 437.761719 \"/>\n",
       "<path fill=\"none\" stroke-width=\"0.75\" stroke-linecap=\"round\" stroke-linejoin=\"round\" stroke=\"rgb(0%, 0%, 0%)\" stroke-opacity=\"1\" stroke-miterlimit=\"10\" d=\"M 215.734375 430.558594 L 215.734375 437.761719 \"/>\n",
       "<g fill=\"rgb(0%, 0%, 0%)\" fill-opacity=\"1\">\n",
       "<use xlink:href=\"#glyph-0-0\" x=\"78.308594\" y=\"456.34375\"/>\n",
       "</g>\n",
       "<g fill=\"rgb(0%, 0%, 0%)\" fill-opacity=\"1\">\n",
       "<use xlink:href=\"#glyph-0-1\" x=\"111.789062\" y=\"456.34375\"/>\n",
       "</g>\n",
       "<g fill=\"rgb(0%, 0%, 0%)\" fill-opacity=\"1\">\n",
       "<use xlink:href=\"#glyph-0-2\" x=\"145.269531\" y=\"456.34375\"/>\n",
       "</g>\n",
       "<g fill=\"rgb(0%, 0%, 0%)\" fill-opacity=\"1\">\n",
       "<use xlink:href=\"#glyph-0-3\" x=\"178.75\" y=\"456.34375\"/>\n",
       "</g>\n",
       "<g fill=\"rgb(0%, 0%, 0%)\" fill-opacity=\"1\">\n",
       "<use xlink:href=\"#glyph-0-4\" x=\"208.734375\" y=\"456.34375\"/>\n",
       "<use xlink:href=\"#glyph-0-5\" x=\"215.734375\" y=\"456.34375\"/>\n",
       "</g>\n",
       "<path fill=\"none\" stroke-width=\"0.75\" stroke-linecap=\"round\" stroke-linejoin=\"round\" stroke=\"rgb(0%, 0%, 0%)\" stroke-opacity=\"1\" stroke-miterlimit=\"10\" d=\"M 59.039062 416.800781 L 59.039062 72.800781 \"/>\n",
       "<path fill=\"none\" stroke-width=\"0.75\" stroke-linecap=\"round\" stroke-linejoin=\"round\" stroke=\"rgb(0%, 0%, 0%)\" stroke-opacity=\"1\" stroke-miterlimit=\"10\" d=\"M 59.039062 416.800781 L 51.839844 416.800781 \"/>\n",
       "<path fill=\"none\" stroke-width=\"0.75\" stroke-linecap=\"round\" stroke-linejoin=\"round\" stroke=\"rgb(0%, 0%, 0%)\" stroke-opacity=\"1\" stroke-miterlimit=\"10\" d=\"M 59.039062 348 L 51.839844 348 \"/>\n",
       "<path fill=\"none\" stroke-width=\"0.75\" stroke-linecap=\"round\" stroke-linejoin=\"round\" stroke=\"rgb(0%, 0%, 0%)\" stroke-opacity=\"1\" stroke-miterlimit=\"10\" d=\"M 59.039062 279.199219 L 51.839844 279.199219 \"/>\n",
       "<path fill=\"none\" stroke-width=\"0.75\" stroke-linecap=\"round\" stroke-linejoin=\"round\" stroke=\"rgb(0%, 0%, 0%)\" stroke-opacity=\"1\" stroke-miterlimit=\"10\" d=\"M 59.039062 210.398438 L 51.839844 210.398438 \"/>\n",
       "<path fill=\"none\" stroke-width=\"0.75\" stroke-linecap=\"round\" stroke-linejoin=\"round\" stroke=\"rgb(0%, 0%, 0%)\" stroke-opacity=\"1\" stroke-miterlimit=\"10\" d=\"M 59.039062 141.601562 L 51.839844 141.601562 \"/>\n",
       "<path fill=\"none\" stroke-width=\"0.75\" stroke-linecap=\"round\" stroke-linejoin=\"round\" stroke=\"rgb(0%, 0%, 0%)\" stroke-opacity=\"1\" stroke-miterlimit=\"10\" d=\"M 59.039062 72.800781 L 51.839844 72.800781 \"/>\n",
       "<g fill=\"rgb(0%, 0%, 0%)\" fill-opacity=\"1\">\n",
       "<use xlink:href=\"#glyph-1-0\" x=\"41.625\" y=\"425.300781\"/>\n",
       "<use xlink:href=\"#glyph-1-1\" x=\"41.625\" y=\"418.300781\"/>\n",
       "<use xlink:href=\"#glyph-1-0\" x=\"41.625\" y=\"415.300781\"/>\n",
       "</g>\n",
       "<g fill=\"rgb(0%, 0%, 0%)\" fill-opacity=\"1\">\n",
       "<use xlink:href=\"#glyph-1-0\" x=\"41.625\" y=\"356.5\"/>\n",
       "<use xlink:href=\"#glyph-1-1\" x=\"41.625\" y=\"349.5\"/>\n",
       "<use xlink:href=\"#glyph-1-2\" x=\"41.625\" y=\"346.5\"/>\n",
       "</g>\n",
       "<g fill=\"rgb(0%, 0%, 0%)\" fill-opacity=\"1\">\n",
       "<use xlink:href=\"#glyph-1-0\" x=\"41.625\" y=\"287.699219\"/>\n",
       "<use xlink:href=\"#glyph-1-1\" x=\"41.625\" y=\"280.699219\"/>\n",
       "<use xlink:href=\"#glyph-1-3\" x=\"41.625\" y=\"277.699219\"/>\n",
       "</g>\n",
       "<g fill=\"rgb(0%, 0%, 0%)\" fill-opacity=\"1\">\n",
       "<use xlink:href=\"#glyph-1-0\" x=\"41.625\" y=\"218.898438\"/>\n",
       "<use xlink:href=\"#glyph-1-1\" x=\"41.625\" y=\"211.898438\"/>\n",
       "<use xlink:href=\"#glyph-1-4\" x=\"41.625\" y=\"208.898438\"/>\n",
       "</g>\n",
       "<g fill=\"rgb(0%, 0%, 0%)\" fill-opacity=\"1\">\n",
       "<use xlink:href=\"#glyph-1-0\" x=\"41.625\" y=\"150.101562\"/>\n",
       "<use xlink:href=\"#glyph-1-1\" x=\"41.625\" y=\"143.101562\"/>\n",
       "<use xlink:href=\"#glyph-1-5\" x=\"41.625\" y=\"140.101562\"/>\n",
       "</g>\n",
       "<g fill=\"rgb(0%, 0%, 0%)\" fill-opacity=\"1\">\n",
       "<use xlink:href=\"#glyph-1-6\" x=\"41.625\" y=\"81.300781\"/>\n",
       "<use xlink:href=\"#glyph-1-1\" x=\"41.625\" y=\"74.300781\"/>\n",
       "<use xlink:href=\"#glyph-1-0\" x=\"41.625\" y=\"71.300781\"/>\n",
       "</g>\n",
       "<path fill=\"none\" stroke-width=\"0.75\" stroke-linecap=\"round\" stroke-linejoin=\"round\" stroke=\"rgb(0%, 0%, 0%)\" stroke-opacity=\"1\" stroke-miterlimit=\"10\" d=\"M 59.039062 430.558594 L 221.761719 430.558594 L 221.761719 59.039062 L 59.039062 59.039062 Z M 59.039062 430.558594 \"/>\n",
       "<g fill=\"rgb(0%, 0%, 0%)\" fill-opacity=\"1\">\n",
       "<use xlink:href=\"#glyph-0-6\" x=\"118.398438\" y=\"485.144531\"/>\n",
       "<use xlink:href=\"#glyph-0-7\" x=\"124.398438\" y=\"485.144531\"/>\n",
       "<use xlink:href=\"#glyph-0-8\" x=\"131.398438\" y=\"485.144531\"/>\n",
       "<use xlink:href=\"#glyph-0-9\" x=\"138.398438\" y=\"485.144531\"/>\n",
       "<use xlink:href=\"#glyph-0-10\" x=\"141.398438\" y=\"485.144531\"/>\n",
       "<use xlink:href=\"#glyph-0-11\" x=\"145.398438\" y=\"485.144531\"/>\n",
       "<use xlink:href=\"#glyph-0-12\" x=\"152.398438\" y=\"485.144531\"/>\n",
       "<use xlink:href=\"#glyph-0-13\" x=\"155.398438\" y=\"485.144531\"/>\n",
       "</g>\n",
       "<g fill=\"rgb(0%, 0%, 0%)\" fill-opacity=\"1\">\n",
       "<use xlink:href=\"#glyph-1-7\" x=\"12.824219\" y=\"266.300781\"/>\n",
       "<use xlink:href=\"#glyph-1-8\" x=\"12.824219\" y=\"260.300781\"/>\n",
       "<use xlink:href=\"#glyph-1-9\" x=\"12.824219\" y=\"253.300781\"/>\n",
       "<use xlink:href=\"#glyph-1-10\" x=\"12.824219\" y=\"246.300781\"/>\n",
       "<use xlink:href=\"#glyph-1-11\" x=\"12.824219\" y=\"240.300781\"/>\n",
       "<use xlink:href=\"#glyph-1-12\" x=\"12.824219\" y=\"233.300781\"/>\n",
       "<use xlink:href=\"#glyph-1-13\" x=\"12.824219\" y=\"230.300781\"/>\n",
       "</g>\n",
       "<path fill=\"none\" stroke-width=\"0.75\" stroke-linecap=\"round\" stroke-linejoin=\"round\" stroke=\"rgb(0%, 0%, 0%)\" stroke-opacity=\"1\" stroke-miterlimit=\"10\" d=\"M 451.398438 244.800781 C 451.398438 248.398438 446 248.398438 446 244.800781 C 446 241.199219 451.398438 241.199219 451.398438 244.800781 \"/>\n",
       "<path fill=\"none\" stroke-width=\"0.75\" stroke-linecap=\"round\" stroke-linejoin=\"round\" stroke=\"rgb(0%, 0%, 0%)\" stroke-opacity=\"1\" stroke-miterlimit=\"10\" d=\"M 380.417969 244.800781 C 380.417969 248.398438 375.019531 248.398438 375.019531 244.800781 C 375.019531 241.199219 380.417969 241.199219 380.417969 244.800781 \"/>\n",
       "<path fill=\"none\" stroke-width=\"0.75\" stroke-linecap=\"round\" stroke-linejoin=\"round\" stroke=\"rgb(0%, 0%, 0%)\" stroke-opacity=\"1\" stroke-miterlimit=\"10\" d=\"M 339.925781 246.824219 C 339.925781 250.421875 334.527344 250.421875 334.527344 246.824219 C 334.527344 243.222656 339.925781 243.222656 339.925781 246.824219 \"/>\n",
       "<path fill=\"none\" stroke-width=\"0.75\" stroke-linecap=\"round\" stroke-linejoin=\"round\" stroke=\"rgb(0%, 0%, 0%)\" stroke-opacity=\"1\" stroke-miterlimit=\"10\" d=\"M 391.007812 72.800781 C 391.007812 76.398438 385.609375 76.398438 385.609375 72.800781 C 385.609375 69.199219 391.007812 69.199219 391.007812 72.800781 \"/>\n",
       "<path fill=\"none\" stroke-width=\"0.75\" stroke-linecap=\"round\" stroke-linejoin=\"round\" stroke=\"rgb(0%, 0%, 0%)\" stroke-opacity=\"1\" stroke-miterlimit=\"10\" d=\"M 401.117188 244.800781 C 401.117188 248.398438 395.71875 248.398438 395.71875 244.800781 C 395.71875 241.199219 401.117188 241.199219 401.117188 244.800781 \"/>\n",
       "<path fill=\"none\" stroke-width=\"0.75\" stroke-linecap=\"round\" stroke-linejoin=\"round\" stroke=\"rgb(0%, 0%, 0%)\" stroke-opacity=\"1\" stroke-miterlimit=\"10\" d=\"M 470.433594 416.800781 C 470.433594 420.398438 465.035156 420.398438 465.035156 416.800781 C 465.035156 413.199219 470.433594 413.199219 470.433594 416.800781 \"/>\n",
       "<path fill=\"none\" stroke-width=\"0.75\" stroke-linecap=\"round\" stroke-linejoin=\"round\" stroke=\"rgb(0%, 0%, 0%)\" stroke-opacity=\"1\" stroke-miterlimit=\"10\" d=\"M 350.277344 72.800781 C 350.277344 76.398438 344.878906 76.398438 344.878906 72.800781 C 344.878906 69.199219 350.277344 69.199219 350.277344 72.800781 \"/>\n",
       "<path fill=\"none\" stroke-width=\"0.75\" stroke-linecap=\"round\" stroke-linejoin=\"round\" stroke=\"rgb(0%, 0%, 0%)\" stroke-opacity=\"1\" stroke-miterlimit=\"10\" d=\"M 319.765625 244.800781 C 319.765625 248.398438 314.367188 248.398438 314.367188 244.800781 C 314.367188 241.199219 319.765625 241.199219 319.765625 244.800781 \"/>\n",
       "<path fill=\"none\" stroke-width=\"0.75\" stroke-linecap=\"round\" stroke-linejoin=\"round\" stroke=\"rgb(0%, 0%, 0%)\" stroke-opacity=\"1\" stroke-miterlimit=\"10\" d=\"M 425.894531 72.800781 C 425.894531 76.398438 420.492188 76.398438 420.492188 72.800781 C 420.492188 69.199219 425.894531 69.199219 425.894531 72.800781 \"/>\n",
       "<path fill=\"none\" stroke-width=\"0.75\" stroke-linecap=\"round\" stroke-linejoin=\"round\" stroke=\"rgb(0%, 0%, 0%)\" stroke-opacity=\"1\" stroke-miterlimit=\"10\" d=\"M 447.179688 244.800781 C 447.179688 248.398438 441.78125 248.398438 441.78125 244.800781 C 441.78125 241.199219 447.179688 241.199219 447.179688 244.800781 \"/>\n",
       "<path fill=\"none\" stroke-width=\"0.75\" stroke-linecap=\"round\" stroke-linejoin=\"round\" stroke=\"rgb(0%, 0%, 0%)\" stroke-opacity=\"1\" stroke-miterlimit=\"10\" d=\"M 314.179688 430.558594 L 462.4375 430.558594 \"/>\n",
       "<path fill=\"none\" stroke-width=\"0.75\" stroke-linecap=\"round\" stroke-linejoin=\"round\" stroke=\"rgb(0%, 0%, 0%)\" stroke-opacity=\"1\" stroke-miterlimit=\"10\" d=\"M 314.179688 430.558594 L 314.179688 437.761719 \"/>\n",
       "<path fill=\"none\" stroke-width=\"0.75\" stroke-linecap=\"round\" stroke-linejoin=\"round\" stroke=\"rgb(0%, 0%, 0%)\" stroke-opacity=\"1\" stroke-miterlimit=\"10\" d=\"M 335.359375 430.558594 L 335.359375 437.761719 \"/>\n",
       "<path fill=\"none\" stroke-width=\"0.75\" stroke-linecap=\"round\" stroke-linejoin=\"round\" stroke=\"rgb(0%, 0%, 0%)\" stroke-opacity=\"1\" stroke-miterlimit=\"10\" d=\"M 356.539062 430.558594 L 356.539062 437.761719 \"/>\n",
       "<path fill=\"none\" stroke-width=\"0.75\" stroke-linecap=\"round\" stroke-linejoin=\"round\" stroke=\"rgb(0%, 0%, 0%)\" stroke-opacity=\"1\" stroke-miterlimit=\"10\" d=\"M 377.71875 430.558594 L 377.71875 437.761719 \"/>\n",
       "<path fill=\"none\" stroke-width=\"0.75\" stroke-linecap=\"round\" stroke-linejoin=\"round\" stroke=\"rgb(0%, 0%, 0%)\" stroke-opacity=\"1\" stroke-miterlimit=\"10\" d=\"M 398.898438 430.558594 L 398.898438 437.761719 \"/>\n",
       "<path fill=\"none\" stroke-width=\"0.75\" stroke-linecap=\"round\" stroke-linejoin=\"round\" stroke=\"rgb(0%, 0%, 0%)\" stroke-opacity=\"1\" stroke-miterlimit=\"10\" d=\"M 420.078125 430.558594 L 420.078125 437.761719 \"/>\n",
       "<path fill=\"none\" stroke-width=\"0.75\" stroke-linecap=\"round\" stroke-linejoin=\"round\" stroke=\"rgb(0%, 0%, 0%)\" stroke-opacity=\"1\" stroke-miterlimit=\"10\" d=\"M 441.257812 430.558594 L 441.257812 437.761719 \"/>\n",
       "<path fill=\"none\" stroke-width=\"0.75\" stroke-linecap=\"round\" stroke-linejoin=\"round\" stroke=\"rgb(0%, 0%, 0%)\" stroke-opacity=\"1\" stroke-miterlimit=\"10\" d=\"M 462.4375 430.558594 L 462.4375 437.761719 \"/>\n",
       "<g fill=\"rgb(0%, 0%, 0%)\" fill-opacity=\"1\">\n",
       "<use xlink:href=\"#glyph-0-14\" x=\"307.179688\" y=\"456.34375\"/>\n",
       "<use xlink:href=\"#glyph-0-3\" x=\"314.179688\" y=\"456.34375\"/>\n",
       "</g>\n",
       "<g fill=\"rgb(0%, 0%, 0%)\" fill-opacity=\"1\">\n",
       "<use xlink:href=\"#glyph-0-2\" x=\"349.539062\" y=\"456.34375\"/>\n",
       "<use xlink:href=\"#glyph-0-0\" x=\"356.539062\" y=\"456.34375\"/>\n",
       "</g>\n",
       "<g fill=\"rgb(0%, 0%, 0%)\" fill-opacity=\"1\">\n",
       "<use xlink:href=\"#glyph-0-2\" x=\"391.898438\" y=\"456.34375\"/>\n",
       "<use xlink:href=\"#glyph-0-2\" x=\"398.898438\" y=\"456.34375\"/>\n",
       "</g>\n",
       "<g fill=\"rgb(0%, 0%, 0%)\" fill-opacity=\"1\">\n",
       "<use xlink:href=\"#glyph-0-15\" x=\"434.257812\" y=\"456.34375\"/>\n",
       "<use xlink:href=\"#glyph-0-5\" x=\"441.257812\" y=\"456.34375\"/>\n",
       "</g>\n",
       "<path fill=\"none\" stroke-width=\"0.75\" stroke-linecap=\"round\" stroke-linejoin=\"round\" stroke=\"rgb(0%, 0%, 0%)\" stroke-opacity=\"1\" stroke-miterlimit=\"10\" d=\"M 311.039062 416.800781 L 311.039062 72.800781 \"/>\n",
       "<path fill=\"none\" stroke-width=\"0.75\" stroke-linecap=\"round\" stroke-linejoin=\"round\" stroke=\"rgb(0%, 0%, 0%)\" stroke-opacity=\"1\" stroke-miterlimit=\"10\" d=\"M 311.039062 416.800781 L 303.839844 416.800781 \"/>\n",
       "<path fill=\"none\" stroke-width=\"0.75\" stroke-linecap=\"round\" stroke-linejoin=\"round\" stroke=\"rgb(0%, 0%, 0%)\" stroke-opacity=\"1\" stroke-miterlimit=\"10\" d=\"M 311.039062 330.800781 L 303.839844 330.800781 \"/>\n",
       "<path fill=\"none\" stroke-width=\"0.75\" stroke-linecap=\"round\" stroke-linejoin=\"round\" stroke=\"rgb(0%, 0%, 0%)\" stroke-opacity=\"1\" stroke-miterlimit=\"10\" d=\"M 311.039062 244.800781 L 303.839844 244.800781 \"/>\n",
       "<path fill=\"none\" stroke-width=\"0.75\" stroke-linecap=\"round\" stroke-linejoin=\"round\" stroke=\"rgb(0%, 0%, 0%)\" stroke-opacity=\"1\" stroke-miterlimit=\"10\" d=\"M 311.039062 158.800781 L 303.839844 158.800781 \"/>\n",
       "<path fill=\"none\" stroke-width=\"0.75\" stroke-linecap=\"round\" stroke-linejoin=\"round\" stroke=\"rgb(0%, 0%, 0%)\" stroke-opacity=\"1\" stroke-miterlimit=\"10\" d=\"M 311.039062 72.800781 L 303.839844 72.800781 \"/>\n",
       "<g fill=\"rgb(0%, 0%, 0%)\" fill-opacity=\"1\">\n",
       "<use xlink:href=\"#glyph-1-0\" x=\"293.625\" y=\"425.300781\"/>\n",
       "<use xlink:href=\"#glyph-1-1\" x=\"293.625\" y=\"418.300781\"/>\n",
       "<use xlink:href=\"#glyph-1-0\" x=\"293.625\" y=\"415.300781\"/>\n",
       "</g>\n",
       "<g fill=\"rgb(0%, 0%, 0%)\" fill-opacity=\"1\">\n",
       "<use xlink:href=\"#glyph-1-0\" x=\"293.625\" y=\"339.300781\"/>\n",
       "<use xlink:href=\"#glyph-1-1\" x=\"293.625\" y=\"332.300781\"/>\n",
       "<use xlink:href=\"#glyph-1-14\" x=\"293.625\" y=\"329.300781\"/>\n",
       "</g>\n",
       "<g fill=\"rgb(0%, 0%, 0%)\" fill-opacity=\"1\">\n",
       "<use xlink:href=\"#glyph-1-6\" x=\"293.625\" y=\"253.300781\"/>\n",
       "<use xlink:href=\"#glyph-1-1\" x=\"293.625\" y=\"246.300781\"/>\n",
       "<use xlink:href=\"#glyph-1-0\" x=\"293.625\" y=\"243.300781\"/>\n",
       "</g>\n",
       "<g fill=\"rgb(0%, 0%, 0%)\" fill-opacity=\"1\">\n",
       "<use xlink:href=\"#glyph-1-6\" x=\"293.625\" y=\"167.300781\"/>\n",
       "<use xlink:href=\"#glyph-1-1\" x=\"293.625\" y=\"160.300781\"/>\n",
       "<use xlink:href=\"#glyph-1-14\" x=\"293.625\" y=\"157.300781\"/>\n",
       "</g>\n",
       "<g fill=\"rgb(0%, 0%, 0%)\" fill-opacity=\"1\">\n",
       "<use xlink:href=\"#glyph-1-2\" x=\"293.625\" y=\"81.300781\"/>\n",
       "<use xlink:href=\"#glyph-1-1\" x=\"293.625\" y=\"74.300781\"/>\n",
       "<use xlink:href=\"#glyph-1-0\" x=\"293.625\" y=\"71.300781\"/>\n",
       "</g>\n",
       "<path fill=\"none\" stroke-width=\"0.75\" stroke-linecap=\"round\" stroke-linejoin=\"round\" stroke=\"rgb(0%, 0%, 0%)\" stroke-opacity=\"1\" stroke-miterlimit=\"10\" d=\"M 311.039062 430.558594 L 473.761719 430.558594 L 473.761719 59.039062 L 311.039062 59.039062 Z M 311.039062 430.558594 \"/>\n",
       "<g fill=\"rgb(0%, 0%, 0%)\" fill-opacity=\"1\">\n",
       "<use xlink:href=\"#glyph-0-16\" x=\"381.898438\" y=\"485.144531\"/>\n",
       "<use xlink:href=\"#glyph-0-17\" x=\"388.898438\" y=\"485.144531\"/>\n",
       "<use xlink:href=\"#glyph-0-7\" x=\"395.898438\" y=\"485.144531\"/>\n",
       "</g>\n",
       "<g fill=\"rgb(0%, 0%, 0%)\" fill-opacity=\"1\">\n",
       "<use xlink:href=\"#glyph-1-15\" x=\"264.824219\" y=\"256.800781\"/>\n",
       "<use xlink:href=\"#glyph-1-8\" x=\"264.824219\" y=\"252.800781\"/>\n",
       "<use xlink:href=\"#glyph-1-7\" x=\"264.824219\" y=\"245.800781\"/>\n",
       "<use xlink:href=\"#glyph-1-13\" x=\"264.824219\" y=\"239.800781\"/>\n",
       "</g>\n",
       "<g fill=\"rgb(0%, 0%, 0%)\" fill-opacity=\"1\">\n",
       "<use xlink:href=\"#glyph-2-0\" x=\"159\" y=\"27.835938\"/>\n",
       "<use xlink:href=\"#glyph-2-1\" x=\"169\" y=\"27.835938\"/>\n",
       "<use xlink:href=\"#glyph-2-2\" x=\"174\" y=\"27.835938\"/>\n",
       "<use xlink:href=\"#glyph-2-3\" x=\"186\" y=\"27.835938\"/>\n",
       "<use xlink:href=\"#glyph-2-4\" x=\"194\" y=\"27.835938\"/>\n",
       "<use xlink:href=\"#glyph-2-5\" x=\"202\" y=\"27.835938\"/>\n",
       "<use xlink:href=\"#glyph-2-6\" x=\"211\" y=\"27.835938\"/>\n",
       "<use xlink:href=\"#glyph-2-7\" x=\"219\" y=\"27.835938\"/>\n",
       "<use xlink:href=\"#glyph-2-8\" x=\"223\" y=\"27.835938\"/>\n",
       "<use xlink:href=\"#glyph-2-3\" x=\"233\" y=\"27.835938\"/>\n",
       "<use xlink:href=\"#glyph-2-5\" x=\"241\" y=\"27.835938\"/>\n",
       "<use xlink:href=\"#glyph-2-9\" x=\"250\" y=\"27.835938\"/>\n",
       "<use xlink:href=\"#glyph-2-3\" x=\"255\" y=\"27.835938\"/>\n",
       "<use xlink:href=\"#glyph-2-10\" x=\"263\" y=\"27.835938\"/>\n",
       "<use xlink:href=\"#glyph-2-6\" x=\"269\" y=\"27.835938\"/>\n",
       "<use xlink:href=\"#glyph-2-7\" x=\"277\" y=\"27.835938\"/>\n",
       "<use xlink:href=\"#glyph-2-11\" x=\"281\" y=\"27.835938\"/>\n",
       "<use xlink:href=\"#glyph-2-12\" x=\"286\" y=\"27.835938\"/>\n",
       "<use xlink:href=\"#glyph-2-10\" x=\"295\" y=\"27.835938\"/>\n",
       "<use xlink:href=\"#glyph-2-7\" x=\"301\" y=\"27.835938\"/>\n",
       "<use xlink:href=\"#glyph-2-13\" x=\"305\" y=\"27.835938\"/>\n",
       "<use xlink:href=\"#glyph-2-7\" x=\"313\" y=\"27.835938\"/>\n",
       "<use xlink:href=\"#glyph-2-14\" x=\"317\" y=\"27.835938\"/>\n",
       "<use xlink:href=\"#glyph-2-7\" x=\"325\" y=\"27.835938\"/>\n",
       "<use xlink:href=\"#glyph-2-15\" x=\"329\" y=\"27.835938\"/>\n",
       "<use xlink:href=\"#glyph-2-16\" x=\"337\" y=\"27.835938\"/>\n",
       "</g>\n",
       "</svg>\n"
      ],
      "text/plain": [
       "Plot with title “K-Means Centers for k = 10”"
      ]
     },
     "metadata": {
      "application/pdf": {
       "height": 420,
       "width": 420
      },
      "image/jpeg": {
       "height": 420,
       "width": 420
      },
      "image/png": {
       "height": 420,
       "width": 420
      },
      "image/svg+xml": {
       "height": 420,
       "isolated": true,
       "width": 420
      }
     },
     "output_type": "display_data"
    }
   ],
   "source": [
    "demo(h2o.kmeans)\n"
   ]
  },
  {
   "cell_type": "code",
   "execution_count": 13,
   "metadata": {
    "vscode": {
     "languageId": "r"
    }
   },
   "outputs": [
    {
     "name": "stdout",
     "output_type": "stream",
     "text": [
      " Connection successful!\n",
      "\n",
      "R is connected to the H2O cluster: \n",
      "    H2O cluster uptime:         1 minutes 26 seconds \n",
      "    H2O cluster timezone:       Etc/UTC \n",
      "    H2O data parsing timezone:  UTC \n",
      "    H2O cluster version:        3.44.0.3 \n",
      "    H2O cluster version age:    8 months and 20 days \n",
      "    H2O cluster name:           H2O_started_from_R_root_luh827 \n",
      "    H2O cluster total nodes:    1 \n",
      "    H2O cluster total memory:   1.69 GB \n",
      "    H2O cluster total cores:    12 \n",
      "    H2O cluster allowed cores:  12 \n",
      "    H2O cluster healthy:        TRUE \n",
      "    H2O Connection ip:          localhost \n",
      "    H2O Connection port:        54321 \n",
      "    H2O Connection proxy:       NA \n",
      "    H2O Internal Security:      FALSE \n",
      "    R Version:                  R version 4.3.1 (2023-06-16) \n"
     ]
    },
    {
     "name": "stderr",
     "output_type": "stream",
     "text": [
      "Warning message in h2o.clusterInfo():\n",
      "“\n",
      "Your H2O cluster version is (8 months and 20 days) old. There may be a newer version available.\n",
      "Please download and install the latest version from: https://h2o-release.s3.amazonaws.com/h2o/latest_stable.html”\n"
     ]
    },
    {
     "name": "stdout",
     "output_type": "stream",
     "text": [
      "\n"
     ]
    }
   ],
   "source": [
    "h2o.init()\n"
   ]
  },
  {
   "cell_type": "code",
   "execution_count": 14,
   "metadata": {
    "vscode": {
     "languageId": "r"
    }
   },
   "outputs": [
    {
     "data": {
      "text/html": [
       "<table class=\"dataframe\">\n",
       "<caption>A data.frame: 6 × 11</caption>\n",
       "<thead>\n",
       "\t<tr><th></th><th scope=col>CreditScore</th><th scope=col>Geography</th><th scope=col>Gender</th><th scope=col>Age</th><th scope=col>Tenure</th><th scope=col>Balance</th><th scope=col>NumOfProducts</th><th scope=col>HasCrCard</th><th scope=col>IsActiveMember</th><th scope=col>EstimatedSalary</th><th scope=col>Exited</th></tr>\n",
       "\t<tr><th></th><th scope=col>&lt;int&gt;</th><th scope=col>&lt;chr&gt;</th><th scope=col>&lt;chr&gt;</th><th scope=col>&lt;int&gt;</th><th scope=col>&lt;int&gt;</th><th scope=col>&lt;int&gt;</th><th scope=col>&lt;int&gt;</th><th scope=col>&lt;int&gt;</th><th scope=col>&lt;int&gt;</th><th scope=col>&lt;int&gt;</th><th scope=col>&lt;int&gt;</th></tr>\n",
       "</thead>\n",
       "<tbody>\n",
       "\t<tr><th scope=row>1</th><td>619</td><td>France</td><td>Female</td><td>42</td><td>2</td><td>       0</td><td>1</td><td>1</td><td>1</td><td>10134888</td><td>1</td></tr>\n",
       "\t<tr><th scope=row>2</th><td>608</td><td>Spain </td><td>Female</td><td>41</td><td>1</td><td> 8380786</td><td>1</td><td>0</td><td>1</td><td>11254258</td><td>0</td></tr>\n",
       "\t<tr><th scope=row>3</th><td>502</td><td>France</td><td>Female</td><td>42</td><td>8</td><td> 1596608</td><td>3</td><td>1</td><td>0</td><td>11393157</td><td>1</td></tr>\n",
       "\t<tr><th scope=row>4</th><td>699</td><td>France</td><td>Female</td><td>39</td><td>1</td><td>       0</td><td>2</td><td>0</td><td>0</td><td> 9382663</td><td>0</td></tr>\n",
       "\t<tr><th scope=row>5</th><td>850</td><td>Spain </td><td>Female</td><td>43</td><td>2</td><td>12551082</td><td>1</td><td>1</td><td>1</td><td>  790841</td><td>0</td></tr>\n",
       "\t<tr><th scope=row>6</th><td>645</td><td>Spain </td><td>Male  </td><td>44</td><td>8</td><td>11375578</td><td>2</td><td>1</td><td>0</td><td>14975671</td><td>1</td></tr>\n",
       "</tbody>\n",
       "</table>\n"
      ],
      "text/latex": [
       "A data.frame: 6 × 11\n",
       "\\begin{tabular}{r|lllllllllll}\n",
       "  & CreditScore & Geography & Gender & Age & Tenure & Balance & NumOfProducts & HasCrCard & IsActiveMember & EstimatedSalary & Exited\\\\\n",
       "  & <int> & <chr> & <chr> & <int> & <int> & <int> & <int> & <int> & <int> & <int> & <int>\\\\\n",
       "\\hline\n",
       "\t1 & 619 & France & Female & 42 & 2 &        0 & 1 & 1 & 1 & 10134888 & 1\\\\\n",
       "\t2 & 608 & Spain  & Female & 41 & 1 &  8380786 & 1 & 0 & 1 & 11254258 & 0\\\\\n",
       "\t3 & 502 & France & Female & 42 & 8 &  1596608 & 3 & 1 & 0 & 11393157 & 1\\\\\n",
       "\t4 & 699 & France & Female & 39 & 1 &        0 & 2 & 0 & 0 &  9382663 & 0\\\\\n",
       "\t5 & 850 & Spain  & Female & 43 & 2 & 12551082 & 1 & 1 & 1 &   790841 & 0\\\\\n",
       "\t6 & 645 & Spain  & Male   & 44 & 8 & 11375578 & 2 & 1 & 0 & 14975671 & 1\\\\\n",
       "\\end{tabular}\n"
      ],
      "text/markdown": [
       "\n",
       "A data.frame: 6 × 11\n",
       "\n",
       "| <!--/--> | CreditScore &lt;int&gt; | Geography &lt;chr&gt; | Gender &lt;chr&gt; | Age &lt;int&gt; | Tenure &lt;int&gt; | Balance &lt;int&gt; | NumOfProducts &lt;int&gt; | HasCrCard &lt;int&gt; | IsActiveMember &lt;int&gt; | EstimatedSalary &lt;int&gt; | Exited &lt;int&gt; |\n",
       "|---|---|---|---|---|---|---|---|---|---|---|---|\n",
       "| 1 | 619 | France | Female | 42 | 2 |        0 | 1 | 1 | 1 | 10134888 | 1 |\n",
       "| 2 | 608 | Spain  | Female | 41 | 1 |  8380786 | 1 | 0 | 1 | 11254258 | 0 |\n",
       "| 3 | 502 | France | Female | 42 | 8 |  1596608 | 3 | 1 | 0 | 11393157 | 1 |\n",
       "| 4 | 699 | France | Female | 39 | 1 |        0 | 2 | 0 | 0 |  9382663 | 0 |\n",
       "| 5 | 850 | Spain  | Female | 43 | 2 | 12551082 | 1 | 1 | 1 |   790841 | 0 |\n",
       "| 6 | 645 | Spain  | Male   | 44 | 8 | 11375578 | 2 | 1 | 0 | 14975671 | 1 |\n",
       "\n"
      ],
      "text/plain": [
       "  CreditScore Geography Gender Age Tenure Balance  NumOfProducts HasCrCard\n",
       "1 619         France    Female 42  2             0 1             1        \n",
       "2 608         Spain     Female 41  1       8380786 1             0        \n",
       "3 502         France    Female 42  8       1596608 3             1        \n",
       "4 699         France    Female 39  1             0 2             0        \n",
       "5 850         Spain     Female 43  2      12551082 1             1        \n",
       "6 645         Spain     Male   44  8      11375578 2             1        \n",
       "  IsActiveMember EstimatedSalary Exited\n",
       "1 1              10134888        1     \n",
       "2 1              11254258        0     \n",
       "3 0              11393157        1     \n",
       "4 0               9382663        0     \n",
       "5 1                790841        0     \n",
       "6 0              14975671        1     "
      ]
     },
     "metadata": {},
     "output_type": "display_data"
    }
   ],
   "source": [
    "imp <- read.csv(\"../data/Churn_treino.csv\", sep = \";\")\n",
    "\n",
    "head(imp)\n"
   ]
  },
  {
   "cell_type": "code",
   "execution_count": 17,
   "metadata": {
    "vscode": {
     "languageId": "r"
    }
   },
   "outputs": [
    {
     "data": {
      "text/html": [
       "'Exited'"
      ],
      "text/latex": [
       "'Exited'"
      ],
      "text/markdown": [
       "'Exited'"
      ],
      "text/plain": [
       "[1] \"Exited\""
      ]
     },
     "metadata": {},
     "output_type": "display_data"
    }
   ],
   "source": [
    "y <- colnames(imp[length(imp)])\n",
    "\n",
    "y\n"
   ]
  },
  {
   "cell_type": "code",
   "execution_count": 18,
   "metadata": {
    "vscode": {
     "languageId": "r"
    }
   },
   "outputs": [
    {
     "name": "stdout",
     "output_type": "stream",
     "text": [
      "  |======================================================================| 100%\n"
     ]
    }
   ],
   "source": [
    "data = as.h2o(imp)"
   ]
  },
  {
   "cell_type": "code",
   "execution_count": 19,
   "metadata": {
    "vscode": {
     "languageId": "r"
    }
   },
   "outputs": [],
   "source": [
    "data <- h2o.splitFrame(data, ratios = 0.7)\n",
    "\n",
    "train <- data[[1]]\n",
    "\n",
    "test <- data[[2]]\n"
   ]
  },
  {
   "cell_type": "code",
   "execution_count": 20,
   "metadata": {
    "vscode": {
     "languageId": "r"
    }
   },
   "outputs": [],
   "source": [
    "train[, y] <- as.factor(train[, y])\n",
    "\n",
    "test[, y] <- as.factor(test[, y])"
   ]
  },
  {
   "cell_type": "code",
   "execution_count": 21,
   "metadata": {
    "vscode": {
     "languageId": "r"
    }
   },
   "outputs": [
    {
     "name": "stdout",
     "output_type": "stream",
     "text": [
      "  |                                                                      |   1%\n",
      "  |==                                                                    |   3%er]\n",
      "15:00:46.476: _train param, Dropping bad and constant columns: [Geography, Gender]\n",
      "  |====                                                                  |   6%er]\n",
      "15:00:50.316: _train param, Dropping unused columns: [Geography, Gender]\n",
      "15:00:50.768: _train param, Dropping bad and constant columns: [Geography, Gender]\n",
      "  |======                                                                |   8%er]\n",
      "  |========                                                              |  11%er]\n",
      "15:00:57.178: _train param, Dropping bad and constant columns: [Geography, Gender]\n",
      "  |==========                                                            |  14%er]\n",
      "15:00:59.562: _train param, Dropping unused columns: [Geography, Gender]\n",
      "15:00:59.902: _train param, Dropping unused columns: [Geography, Gender]\n",
      "  |=============                                                         |  18%er]\n",
      "  |==============                                                        |  20%er]\n",
      "15:01:05.271: _train param, Dropping bad and constant columns: [Geography, Gender]\n",
      "  |=================                                                     |  24%er]\n",
      "15:01:07.190: _train param, Dropping unused columns: [Geography, Gender]\n",
      "  |=================================================================     |  94%\n",
      "15:03:30.174: _train param, Dropping unused columns: [Geography, Gender]\n",
      "  |===================================================================== |  99%\n",
      "15:03:40.329: _train param, Dropping unused columns: [Geography, Gender]\n",
      "  |======================================================================| 100%\n"
     ]
    }
   ],
   "source": [
    "# Model training for 180 seconds\n",
    "# Also can be used max_models parameter to limit the number of models\n",
    "# AUC is the metric used to sort the models\n",
    "modelo_auto <- h2o.automl(\n",
    "    x = colnames(train[1:(length(imp) - 1)]), y = y,\n",
    "    training_frame = train, max_runtime_secs = 180, sort_metric = \"AUC\"\n",
    ")\n"
   ]
  },
  {
   "cell_type": "code",
   "execution_count": 22,
   "metadata": {
    "vscode": {
     "languageId": "r"
    }
   },
   "outputs": [
    {
     "name": "stderr",
     "output_type": "stream",
     "text": [
      "Warning message in .h2o.processResponseWarnings(res):\n",
      "“Dropping bad and constant columns: [Geography, Gender].\n",
      "”\n"
     ]
    },
    {
     "name": "stdout",
     "output_type": "stream",
     "text": [
      "  |======================================================================| 100%\n"
     ]
    }
   ],
   "source": [
    "modelo_forest <- h2o.randomForest(\n",
    "    x = colnames(train[1:(length(imp) - 1)]), y = y,\n",
    "    training_frame = train, nfolds = 5\n",
    ")\n"
   ]
  },
  {
   "cell_type": "code",
   "execution_count": 23,
   "metadata": {
    "vscode": {
     "languageId": "r"
    }
   },
   "outputs": [
    {
     "data": {
      "text/plain": [
       "H2OBinomialMetrics: drf\n",
       "\n",
       "MSE:  0.1161272\n",
       "RMSE:  0.3407744\n",
       "LogLoss:  0.4658079\n",
       "Mean Per-Class Error:  0.2568531\n",
       "AUC:  0.8289589\n",
       "AUCPR:  0.6646846\n",
       "Gini:  0.6579177\n",
       "R^2:  0.3141591\n",
       "\n",
       "Confusion Matrix (vertical: actual; across: predicted) for F1-optimal threshold:\n",
       "          0   1    Error       Rate\n",
       "0      2045 264 0.114335  =264/2309\n",
       "1       254 382 0.399371   =254/636\n",
       "Totals 2299 646 0.175891  =518/2945\n",
       "\n",
       "Maximum Metrics: Maximum metrics at their respective thresholds\n",
       "                        metric threshold       value idx\n",
       "1                       max f1  0.317222    0.595944 178\n",
       "2                       max f2  0.116945    0.677419 310\n",
       "3                 max f0point5  0.573333    0.660545  73\n",
       "4                 max accuracy  0.488000    0.846520 100\n",
       "5                max precision  1.000000    1.000000   0\n",
       "6                   max recall  0.000000    1.000000 399\n",
       "7              max specificity  1.000000    1.000000   0\n",
       "8             max absolute_mcc  0.488000    0.487400 100\n",
       "9   max min_per_class_accuracy  0.191145    0.741447 256\n",
       "10 max mean_per_class_accuracy  0.279955    0.746047 198\n",
       "11                     max tns  1.000000 2309.000000   0\n",
       "12                     max fns  1.000000  634.000000   0\n",
       "13                     max fps  0.000000 2309.000000 399\n",
       "14                     max tps  0.000000  636.000000 399\n",
       "15                     max tnr  1.000000    1.000000   0\n",
       "16                     max fnr  1.000000    0.996855   0\n",
       "17                     max fpr  0.000000    1.000000 399\n",
       "18                     max tpr  0.000000    1.000000 399\n",
       "\n",
       "Gains/Lift Table: Extract with `h2o.gainsLift(<model>, <data>)` or `h2o.gainsLift(<model>, valid=<T/F>, xval=<T/F>)`"
      ]
     },
     "metadata": {},
     "output_type": "display_data"
    }
   ],
   "source": [
    "h2o.performance(modelo_forest, test)"
   ]
  },
  {
   "cell_type": "code",
   "execution_count": 25,
   "metadata": {
    "vscode": {
     "languageId": "r"
    }
   },
   "outputs": [
    {
     "data": {
      "text/html": [
       "<table class=\"dataframe\">\n",
       "<caption>A data.frame: 6 × 7</caption>\n",
       "<thead>\n",
       "\t<tr><th></th><th scope=col>model_id</th><th scope=col>auc</th><th scope=col>logloss</th><th scope=col>aucpr</th><th scope=col>mean_per_class_error</th><th scope=col>rmse</th><th scope=col>mse</th></tr>\n",
       "\t<tr><th></th><th scope=col>&lt;chr&gt;</th><th scope=col>&lt;dbl&gt;</th><th scope=col>&lt;dbl&gt;</th><th scope=col>&lt;dbl&gt;</th><th scope=col>&lt;dbl&gt;</th><th scope=col>&lt;dbl&gt;</th><th scope=col>&lt;dbl&gt;</th></tr>\n",
       "</thead>\n",
       "<tbody>\n",
       "\t<tr><th scope=row>1</th><td>StackedEnsemble_AllModels_4_AutoML_1_20240910_150041   </td><td>0.8506155</td><td>0.3441203</td><td>0.6718204</td><td>0.2533370</td><td>0.3245569</td><td>0.1053372</td></tr>\n",
       "\t<tr><th scope=row>2</th><td>GBM_grid_1_AutoML_1_20240910_150041_model_12           </td><td>0.8505360</td><td>0.3461021</td><td>0.6689105</td><td>0.2466699</td><td>0.3251054</td><td>0.1056935</td></tr>\n",
       "\t<tr><th scope=row>3</th><td>StackedEnsemble_AllModels_2_AutoML_1_20240910_150041   </td><td>0.8501716</td><td>0.3450950</td><td>0.6691218</td><td>0.2479269</td><td>0.3249676</td><td>0.1056040</td></tr>\n",
       "\t<tr><th scope=row>4</th><td>StackedEnsemble_BestOfFamily_4_AutoML_1_20240910_150041</td><td>0.8501710</td><td>0.3443115</td><td>0.6720468</td><td>0.2440769</td><td>0.3244295</td><td>0.1052545</td></tr>\n",
       "\t<tr><th scope=row>5</th><td>StackedEnsemble_BestOfFamily_5_AutoML_1_20240910_150041</td><td>0.8500753</td><td>0.3447991</td><td>0.6711137</td><td>0.2455803</td><td>0.3247109</td><td>0.1054372</td></tr>\n",
       "\t<tr><th scope=row>6</th><td>StackedEnsemble_AllModels_3_AutoML_1_20240910_150041   </td><td>0.8497160</td><td>0.3447156</td><td>0.6713523</td><td>0.2553204</td><td>0.3246616</td><td>0.1054052</td></tr>\n",
       "</tbody>\n",
       "</table>\n"
      ],
      "text/latex": [
       "A data.frame: 6 × 7\n",
       "\\begin{tabular}{r|lllllll}\n",
       "  & model\\_id & auc & logloss & aucpr & mean\\_per\\_class\\_error & rmse & mse\\\\\n",
       "  & <chr> & <dbl> & <dbl> & <dbl> & <dbl> & <dbl> & <dbl>\\\\\n",
       "\\hline\n",
       "\t1 & StackedEnsemble\\_AllModels\\_4\\_AutoML\\_1\\_20240910\\_150041    & 0.8506155 & 0.3441203 & 0.6718204 & 0.2533370 & 0.3245569 & 0.1053372\\\\\n",
       "\t2 & GBM\\_grid\\_1\\_AutoML\\_1\\_20240910\\_150041\\_model\\_12            & 0.8505360 & 0.3461021 & 0.6689105 & 0.2466699 & 0.3251054 & 0.1056935\\\\\n",
       "\t3 & StackedEnsemble\\_AllModels\\_2\\_AutoML\\_1\\_20240910\\_150041    & 0.8501716 & 0.3450950 & 0.6691218 & 0.2479269 & 0.3249676 & 0.1056040\\\\\n",
       "\t4 & StackedEnsemble\\_BestOfFamily\\_4\\_AutoML\\_1\\_20240910\\_150041 & 0.8501710 & 0.3443115 & 0.6720468 & 0.2440769 & 0.3244295 & 0.1052545\\\\\n",
       "\t5 & StackedEnsemble\\_BestOfFamily\\_5\\_AutoML\\_1\\_20240910\\_150041 & 0.8500753 & 0.3447991 & 0.6711137 & 0.2455803 & 0.3247109 & 0.1054372\\\\\n",
       "\t6 & StackedEnsemble\\_AllModels\\_3\\_AutoML\\_1\\_20240910\\_150041    & 0.8497160 & 0.3447156 & 0.6713523 & 0.2553204 & 0.3246616 & 0.1054052\\\\\n",
       "\\end{tabular}\n"
      ],
      "text/markdown": [
       "\n",
       "A data.frame: 6 × 7\n",
       "\n",
       "| <!--/--> | model_id &lt;chr&gt; | auc &lt;dbl&gt; | logloss &lt;dbl&gt; | aucpr &lt;dbl&gt; | mean_per_class_error &lt;dbl&gt; | rmse &lt;dbl&gt; | mse &lt;dbl&gt; |\n",
       "|---|---|---|---|---|---|---|---|\n",
       "| 1 | StackedEnsemble_AllModels_4_AutoML_1_20240910_150041    | 0.8506155 | 0.3441203 | 0.6718204 | 0.2533370 | 0.3245569 | 0.1053372 |\n",
       "| 2 | GBM_grid_1_AutoML_1_20240910_150041_model_12            | 0.8505360 | 0.3461021 | 0.6689105 | 0.2466699 | 0.3251054 | 0.1056935 |\n",
       "| 3 | StackedEnsemble_AllModels_2_AutoML_1_20240910_150041    | 0.8501716 | 0.3450950 | 0.6691218 | 0.2479269 | 0.3249676 | 0.1056040 |\n",
       "| 4 | StackedEnsemble_BestOfFamily_4_AutoML_1_20240910_150041 | 0.8501710 | 0.3443115 | 0.6720468 | 0.2440769 | 0.3244295 | 0.1052545 |\n",
       "| 5 | StackedEnsemble_BestOfFamily_5_AutoML_1_20240910_150041 | 0.8500753 | 0.3447991 | 0.6711137 | 0.2455803 | 0.3247109 | 0.1054372 |\n",
       "| 6 | StackedEnsemble_AllModels_3_AutoML_1_20240910_150041    | 0.8497160 | 0.3447156 | 0.6713523 | 0.2553204 | 0.3246616 | 0.1054052 |\n",
       "\n"
      ],
      "text/plain": [
       "  model_id                                                auc       logloss  \n",
       "1 StackedEnsemble_AllModels_4_AutoML_1_20240910_150041    0.8506155 0.3441203\n",
       "2 GBM_grid_1_AutoML_1_20240910_150041_model_12            0.8505360 0.3461021\n",
       "3 StackedEnsemble_AllModels_2_AutoML_1_20240910_150041    0.8501716 0.3450950\n",
       "4 StackedEnsemble_BestOfFamily_4_AutoML_1_20240910_150041 0.8501710 0.3443115\n",
       "5 StackedEnsemble_BestOfFamily_5_AutoML_1_20240910_150041 0.8500753 0.3447991\n",
       "6 StackedEnsemble_AllModels_3_AutoML_1_20240910_150041    0.8497160 0.3447156\n",
       "  aucpr     mean_per_class_error rmse      mse      \n",
       "1 0.6718204 0.2533370            0.3245569 0.1053372\n",
       "2 0.6689105 0.2466699            0.3251054 0.1056935\n",
       "3 0.6691218 0.2479269            0.3249676 0.1056040\n",
       "4 0.6720468 0.2440769            0.3244295 0.1052545\n",
       "5 0.6711137 0.2455803            0.3247109 0.1054372\n",
       "6 0.6713523 0.2553204            0.3246616 0.1054052"
      ]
     },
     "metadata": {},
     "output_type": "display_data"
    }
   ],
   "source": [
    "lb <- as.data.frame(modelo_auto@leaderboard)\n",
    "\n",
    "head(lb)\n"
   ]
  },
  {
   "cell_type": "code",
   "execution_count": 27,
   "metadata": {
    "vscode": {
     "languageId": "r"
    }
   },
   "outputs": [
    {
     "name": "stdout",
     "output_type": "stream",
     "text": [
      "  |======================================================================| 100%\n",
      "  |======================================================================| 100%\n"
     ]
    },
    {
     "data": {
      "text/html": [
       "<table class=\"dataframe\">\n",
       "<caption>A data.frame: 9 × 3</caption>\n",
       "<thead>\n",
       "\t<tr><th></th><th scope=col>predict</th><th scope=col>p0</th><th scope=col>p1</th></tr>\n",
       "\t<tr><th></th><th scope=col>&lt;fct&gt;</th><th scope=col>&lt;dbl&gt;</th><th scope=col>&lt;dbl&gt;</th></tr>\n",
       "</thead>\n",
       "<tbody>\n",
       "\t<tr><th scope=row>1</th><td>0</td><td>0.926766510</td><td>0.07323349</td></tr>\n",
       "\t<tr><th scope=row>2</th><td>0</td><td>0.932281341</td><td>0.06771866</td></tr>\n",
       "\t<tr><th scope=row>3</th><td>1</td><td>0.007381455</td><td>0.99261854</td></tr>\n",
       "\t<tr><th scope=row>4</th><td>0</td><td>0.970323279</td><td>0.02967672</td></tr>\n",
       "\t<tr><th scope=row>5</th><td>0</td><td>0.946017528</td><td>0.05398247</td></tr>\n",
       "\t<tr><th scope=row>6</th><td>0</td><td>0.859972057</td><td>0.14002794</td></tr>\n",
       "\t<tr><th scope=row>7</th><td>0</td><td>0.874162505</td><td>0.12583749</td></tr>\n",
       "\t<tr><th scope=row>8</th><td>0</td><td>0.876329836</td><td>0.12367016</td></tr>\n",
       "\t<tr><th scope=row>9</th><td>0</td><td>0.885558403</td><td>0.11444160</td></tr>\n",
       "</tbody>\n",
       "</table>\n"
      ],
      "text/latex": [
       "A data.frame: 9 × 3\n",
       "\\begin{tabular}{r|lll}\n",
       "  & predict & p0 & p1\\\\\n",
       "  & <fct> & <dbl> & <dbl>\\\\\n",
       "\\hline\n",
       "\t1 & 0 & 0.926766510 & 0.07323349\\\\\n",
       "\t2 & 0 & 0.932281341 & 0.06771866\\\\\n",
       "\t3 & 1 & 0.007381455 & 0.99261854\\\\\n",
       "\t4 & 0 & 0.970323279 & 0.02967672\\\\\n",
       "\t5 & 0 & 0.946017528 & 0.05398247\\\\\n",
       "\t6 & 0 & 0.859972057 & 0.14002794\\\\\n",
       "\t7 & 0 & 0.874162505 & 0.12583749\\\\\n",
       "\t8 & 0 & 0.876329836 & 0.12367016\\\\\n",
       "\t9 & 0 & 0.885558403 & 0.11444160\\\\\n",
       "\\end{tabular}\n"
      ],
      "text/markdown": [
       "\n",
       "A data.frame: 9 × 3\n",
       "\n",
       "| <!--/--> | predict &lt;fct&gt; | p0 &lt;dbl&gt; | p1 &lt;dbl&gt; |\n",
       "|---|---|---|---|\n",
       "| 1 | 0 | 0.926766510 | 0.07323349 |\n",
       "| 2 | 0 | 0.932281341 | 0.06771866 |\n",
       "| 3 | 1 | 0.007381455 | 0.99261854 |\n",
       "| 4 | 0 | 0.970323279 | 0.02967672 |\n",
       "| 5 | 0 | 0.946017528 | 0.05398247 |\n",
       "| 6 | 0 | 0.859972057 | 0.14002794 |\n",
       "| 7 | 0 | 0.874162505 | 0.12583749 |\n",
       "| 8 | 0 | 0.876329836 | 0.12367016 |\n",
       "| 9 | 0 | 0.885558403 | 0.11444160 |\n",
       "\n"
      ],
      "text/plain": [
       "  predict p0          p1        \n",
       "1 0       0.926766510 0.07323349\n",
       "2 0       0.932281341 0.06771866\n",
       "3 1       0.007381455 0.99261854\n",
       "4 0       0.970323279 0.02967672\n",
       "5 0       0.946017528 0.05398247\n",
       "6 0       0.859972057 0.14002794\n",
       "7 0       0.874162505 0.12583749\n",
       "8 0       0.876329836 0.12367016\n",
       "9 0       0.885558403 0.11444160"
      ]
     },
     "metadata": {},
     "output_type": "display_data"
    }
   ],
   "source": [
    "imp <- read.csv(\"../data/Churn_prever.csv\", sep = \";\")\n",
    "\n",
    "imp <- as.h2o(imp)\n",
    "\n",
    "# Predicting with the best model\n",
    "pred <- h2o.predict(modelo_auto@leader, imp)\n",
    "\n",
    "pred <- as.data.frame(pred)\n",
    "\n",
    "head(pred, 10)\n"
   ]
  }
 ],
 "metadata": {
  "kernelspec": {
   "display_name": "R",
   "language": "R",
   "name": "ir"
  },
  "language_info": {
   "codemirror_mode": "r",
   "file_extension": ".r",
   "mimetype": "text/x-r-source",
   "name": "R",
   "pygments_lexer": "r",
   "version": "4.3.1"
  }
 },
 "nbformat": 4,
 "nbformat_minor": 2
}
