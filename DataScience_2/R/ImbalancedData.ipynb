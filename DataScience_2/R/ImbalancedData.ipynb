{
 "cells": [
  {
   "cell_type": "code",
   "execution_count": 3,
   "metadata": {
    "vscode": {
     "languageId": "r"
    }
   },
   "outputs": [
    {
     "name": "stderr",
     "output_type": "stream",
     "text": [
      "Downloading GitHub repo cran/DMwR@HEAD\n",
      "\n"
     ]
    },
    {
     "name": "stdout",
     "output_type": "stream",
     "text": [
      "bitops   (1.0-7  -> 1.0-8 ) [CRAN]\n",
      "curl     (5.1.0  -> 5.2.2 ) [CRAN]\n",
      "xts      (0.13.1 -> 0.14.0) [CRAN]\n",
      "jsonlite (1.8.7  -> 1.8.8 ) [CRAN]\n",
      "TTR      (0.24.3 -> 0.24.4) [CRAN]\n",
      "abind    (NA     -> 1.4-5 ) [CRAN]\n",
      "quantmod (0.4.25 -> 0.4.26) [CRAN]\n"
     ]
    },
    {
     "name": "stderr",
     "output_type": "stream",
     "text": [
      "Installing 7 packages: bitops, curl, xts, jsonlite, TTR, abind, quantmod\n",
      "\n",
      "Updating HTML index of packages in '.Library'\n",
      "\n",
      "Making 'packages.html' ...\n",
      " done\n",
      "\n"
     ]
    },
    {
     "name": "stdout",
     "output_type": "stream",
     "text": [
      "\u001b[36m──\u001b[39m \u001b[36mR CMD build\u001b[39m \u001b[36m─────────────────────────────────────────────────────────────────\u001b[39m\n",
      "* checking for file ‘/tmp/RtmpKgCXKV/remotes133e81c5e3b52/cran-DMwR-6fd4f0c/DESCRIPTION’ ... OK\n",
      "* preparing ‘DMwR’:\n",
      "* checking DESCRIPTION meta-information ... OK\n",
      "* checking for LF line-endings in source and make files and shell scripts\n",
      "* checking for empty or unneeded directories\n",
      "* building ‘DMwR_0.4.1.tar.gz’\n",
      "\n"
     ]
    }
   ],
   "source": [
    "remotes::install_github(\"cran/DMwR\")"
   ]
  },
  {
   "cell_type": "code",
   "execution_count": 1,
   "metadata": {
    "vscode": {
     "languageId": "r"
    }
   },
   "outputs": [
    {
     "name": "stderr",
     "output_type": "stream",
     "text": [
      "Loading required package: lattice\n",
      "\n",
      "Loading required package: grid\n",
      "\n",
      "Registered S3 method overwritten by 'quantmod':\n",
      "  method            from\n",
      "  as.zoo.data.frame zoo \n",
      "\n"
     ]
    }
   ],
   "source": [
    "library(DMwR)"
   ]
  },
  {
   "cell_type": "code",
   "execution_count": 2,
   "metadata": {
    "vscode": {
     "languageId": "r"
    }
   },
   "outputs": [
    {
     "data": {
      "text/html": [
       "<table class=\"dataframe\">\n",
       "<caption>A data.frame: 6 × 10</caption>\n",
       "<thead>\n",
       "\t<tr><th></th><th scope=col>checking_status</th><th scope=col>credit_history</th><th scope=col>duration</th><th scope=col>credit_amount</th><th scope=col>installment_commitment</th><th scope=col>residence_since</th><th scope=col>age</th><th scope=col>existing_credits</th><th scope=col>num_dependents</th><th scope=col>class</th></tr>\n",
       "\t<tr><th></th><th scope=col>&lt;fct&gt;</th><th scope=col>&lt;fct&gt;</th><th scope=col>&lt;int&gt;</th><th scope=col>&lt;int&gt;</th><th scope=col>&lt;int&gt;</th><th scope=col>&lt;int&gt;</th><th scope=col>&lt;int&gt;</th><th scope=col>&lt;int&gt;</th><th scope=col>&lt;int&gt;</th><th scope=col>&lt;fct&gt;</th></tr>\n",
       "</thead>\n",
       "<tbody>\n",
       "\t<tr><th scope=row>1</th><td><span style=white-space:pre-wrap>&lt;0         </span></td><td>critical/other existing credit</td><td> 6</td><td>1169</td><td>4</td><td>4</td><td>67</td><td>2</td><td>1</td><td>1</td></tr>\n",
       "\t<tr><th scope=row>2</th><td><span style=white-space:pre-wrap>0&lt;=X&lt;200   </span></td><td><span style=white-space:pre-wrap>existing paid                 </span></td><td>48</td><td>5951</td><td>2</td><td>2</td><td>22</td><td>1</td><td>1</td><td>0</td></tr>\n",
       "\t<tr><th scope=row>3</th><td>no checking</td><td>critical/other existing credit</td><td>12</td><td>2096</td><td>2</td><td>3</td><td>49</td><td>1</td><td>2</td><td>1</td></tr>\n",
       "\t<tr><th scope=row>4</th><td><span style=white-space:pre-wrap>&lt;0         </span></td><td><span style=white-space:pre-wrap>existing paid                 </span></td><td>42</td><td>7882</td><td>2</td><td>4</td><td>45</td><td>1</td><td>2</td><td>1</td></tr>\n",
       "\t<tr><th scope=row>5</th><td><span style=white-space:pre-wrap>&lt;0         </span></td><td><span style=white-space:pre-wrap>delayed previously            </span></td><td>24</td><td>4870</td><td>3</td><td>4</td><td>53</td><td>2</td><td>2</td><td>0</td></tr>\n",
       "\t<tr><th scope=row>6</th><td>no checking</td><td>existing paid                 </td><td>36</td><td>9055</td><td>2</td><td>4</td><td>35</td><td>1</td><td>2</td><td>1</td></tr>\n",
       "</tbody>\n",
       "</table>\n"
      ],
      "text/latex": [
       "A data.frame: 6 × 10\n",
       "\\begin{tabular}{r|llllllllll}\n",
       "  & checking\\_status & credit\\_history & duration & credit\\_amount & installment\\_commitment & residence\\_since & age & existing\\_credits & num\\_dependents & class\\\\\n",
       "  & <fct> & <fct> & <int> & <int> & <int> & <int> & <int> & <int> & <int> & <fct>\\\\\n",
       "\\hline\n",
       "\t1 & <0          & critical/other existing credit &  6 & 1169 & 4 & 4 & 67 & 2 & 1 & 1\\\\\n",
       "\t2 & 0<=X<200    & existing paid                  & 48 & 5951 & 2 & 2 & 22 & 1 & 1 & 0\\\\\n",
       "\t3 & no checking & critical/other existing credit & 12 & 2096 & 2 & 3 & 49 & 1 & 2 & 1\\\\\n",
       "\t4 & <0          & existing paid                  & 42 & 7882 & 2 & 4 & 45 & 1 & 2 & 1\\\\\n",
       "\t5 & <0          & delayed previously             & 24 & 4870 & 3 & 4 & 53 & 2 & 2 & 0\\\\\n",
       "\t6 & no checking & existing paid                  & 36 & 9055 & 2 & 4 & 35 & 1 & 2 & 1\\\\\n",
       "\\end{tabular}\n"
      ],
      "text/markdown": [
       "\n",
       "A data.frame: 6 × 10\n",
       "\n",
       "| <!--/--> | checking_status &lt;fct&gt; | credit_history &lt;fct&gt; | duration &lt;int&gt; | credit_amount &lt;int&gt; | installment_commitment &lt;int&gt; | residence_since &lt;int&gt; | age &lt;int&gt; | existing_credits &lt;int&gt; | num_dependents &lt;int&gt; | class &lt;fct&gt; |\n",
       "|---|---|---|---|---|---|---|---|---|---|---|\n",
       "| 1 | &lt;0          | critical/other existing credit |  6 | 1169 | 4 | 4 | 67 | 2 | 1 | 1 |\n",
       "| 2 | 0&lt;=X&lt;200    | existing paid                  | 48 | 5951 | 2 | 2 | 22 | 1 | 1 | 0 |\n",
       "| 3 | no checking | critical/other existing credit | 12 | 2096 | 2 | 3 | 49 | 1 | 2 | 1 |\n",
       "| 4 | &lt;0          | existing paid                  | 42 | 7882 | 2 | 4 | 45 | 1 | 2 | 1 |\n",
       "| 5 | &lt;0          | delayed previously             | 24 | 4870 | 3 | 4 | 53 | 2 | 2 | 0 |\n",
       "| 6 | no checking | existing paid                  | 36 | 9055 | 2 | 4 | 35 | 1 | 2 | 1 |\n",
       "\n"
      ],
      "text/plain": [
       "  checking_status credit_history                 duration credit_amount\n",
       "1 <0              critical/other existing credit  6       1169         \n",
       "2 0<=X<200        existing paid                  48       5951         \n",
       "3 no checking     critical/other existing credit 12       2096         \n",
       "4 <0              existing paid                  42       7882         \n",
       "5 <0              delayed previously             24       4870         \n",
       "6 no checking     existing paid                  36       9055         \n",
       "  installment_commitment residence_since age existing_credits num_dependents\n",
       "1 4                      4               67  2                1             \n",
       "2 2                      2               22  1                1             \n",
       "3 2                      3               49  1                2             \n",
       "4 2                      4               45  1                2             \n",
       "5 3                      4               53  2                2             \n",
       "6 2                      4               35  1                2             \n",
       "  class\n",
       "1 1    \n",
       "2 0    \n",
       "3 1    \n",
       "4 1    \n",
       "5 0    \n",
       "6 1    "
      ]
     },
     "metadata": {},
     "output_type": "display_data"
    }
   ],
   "source": [
    "credito <- read.csv(\"../data/Credit3.csv\", sep = \";\", stringsAsFactors = TRUE)\n",
    "\n",
    "# Remove the first column\n",
    "credito <- credito[, -1]\n",
    "\n",
    "# Remove the rows with missing values\n",
    "credito$class <- as.factor(credito$class)\n",
    "\n",
    "head(credito)\n"
   ]
  },
  {
   "cell_type": "code",
   "execution_count": 3,
   "metadata": {
    "vscode": {
     "languageId": "r"
    }
   },
   "outputs": [
    {
     "data": {
      "text/html": [
       "<style>\n",
       ".dl-inline {width: auto; margin:0; padding: 0}\n",
       ".dl-inline>dt, .dl-inline>dd {float: none; width: auto; display: inline-block}\n",
       ".dl-inline>dt::after {content: \":\\0020\"; padding-right: .5ex}\n",
       ".dl-inline>dt:not(:first-of-type) {padding-left: .5ex}\n",
       "</style><dl class=dl-inline><dt>0</dt><dd>300</dd><dt>1</dt><dd>700</dd></dl>\n"
      ],
      "text/latex": [
       "\\begin{description*}\n",
       "\\item[0] 300\n",
       "\\item[1] 700\n",
       "\\end{description*}\n"
      ],
      "text/markdown": [
       "0\n",
       ":   3001\n",
       ":   700\n",
       "\n"
      ],
      "text/plain": [
       "  0   1 \n",
       "300 700 "
      ]
     },
     "metadata": {},
     "output_type": "display_data"
    }
   ],
   "source": [
    "summary(credito$class)"
   ]
  },
  {
   "cell_type": "code",
   "execution_count": 5,
   "metadata": {
    "vscode": {
     "languageId": "r"
    }
   },
   "outputs": [
    {
     "data": {
      "text/html": [
       "<style>\n",
       ".dl-inline {width: auto; margin:0; padding: 0}\n",
       ".dl-inline>dt, .dl-inline>dd {float: none; width: auto; display: inline-block}\n",
       ".dl-inline>dt::after {content: \":\\0020\"; padding-right: .5ex}\n",
       ".dl-inline>dt:not(:first-of-type) {padding-left: .5ex}\n",
       "</style><dl class=dl-inline><dt>0</dt><dd>600</dd><dt>1</dt><dd>300</dd></dl>\n"
      ],
      "text/latex": [
       "\\begin{description*}\n",
       "\\item[0] 600\n",
       "\\item[1] 300\n",
       "\\end{description*}\n"
      ],
      "text/markdown": [
       "0\n",
       ":   6001\n",
       ":   300\n",
       "\n"
      ],
      "text/plain": [
       "  0   1 \n",
       "600 300 "
      ]
     },
     "metadata": {},
     "output_type": "display_data"
    }
   ],
   "source": [
    "# Apply the SMOTE algorithm, generating 100% more synthetic examples of the minority class\n",
    "credito_new <- SMOTE(class ~ ., credito, perc.over = 100, perc.under = 100)\n",
    "\n",
    "summary(credito_new$class)\n"
   ]
  },
  {
   "cell_type": "code",
   "execution_count": 6,
   "metadata": {
    "vscode": {
     "languageId": "r"
    }
   },
   "outputs": [
    {
     "data": {
      "text/html": [
       "<style>\n",
       ".dl-inline {width: auto; margin:0; padding: 0}\n",
       ".dl-inline>dt, .dl-inline>dd {float: none; width: auto; display: inline-block}\n",
       ".dl-inline>dt::after {content: \":\\0020\"; padding-right: .5ex}\n",
       ".dl-inline>dt:not(:first-of-type) {padding-left: .5ex}\n",
       "</style><dl class=dl-inline><dt>0</dt><dd>600</dd><dt>1</dt><dd>600</dd></dl>\n"
      ],
      "text/latex": [
       "\\begin{description*}\n",
       "\\item[0] 600\n",
       "\\item[1] 600\n",
       "\\end{description*}\n"
      ],
      "text/markdown": [
       "0\n",
       ":   6001\n",
       ":   600\n",
       "\n"
      ],
      "text/plain": [
       "  0   1 \n",
       "600 600 "
      ]
     },
     "metadata": {},
     "output_type": "display_data"
    }
   ],
   "source": [
    "credito_new_1 <- SMOTE(class ~ ., credito, perc.over = 100, perc.under = 200)\n",
    "\n",
    "summary(credito_new_1$class)\n"
   ]
  },
  {
   "cell_type": "code",
   "execution_count": 7,
   "metadata": {
    "vscode": {
     "languageId": "r"
    }
   },
   "outputs": [
    {
     "data": {
      "text/html": [
       "<table class=\"dataframe\">\n",
       "<caption>A data.frame: 6 × 10</caption>\n",
       "<thead>\n",
       "\t<tr><th></th><th scope=col>checking_status</th><th scope=col>credit_history</th><th scope=col>duration</th><th scope=col>credit_amount</th><th scope=col>installment_commitment</th><th scope=col>residence_since</th><th scope=col>age</th><th scope=col>existing_credits</th><th scope=col>num_dependents</th><th scope=col>class</th></tr>\n",
       "\t<tr><th></th><th scope=col>&lt;fct&gt;</th><th scope=col>&lt;fct&gt;</th><th scope=col>&lt;dbl&gt;</th><th scope=col>&lt;dbl&gt;</th><th scope=col>&lt;dbl&gt;</th><th scope=col>&lt;dbl&gt;</th><th scope=col>&lt;dbl&gt;</th><th scope=col>&lt;dbl&gt;</th><th scope=col>&lt;dbl&gt;</th><th scope=col>&lt;fct&gt;</th></tr>\n",
       "</thead>\n",
       "<tbody>\n",
       "\t<tr><th scope=row>699</th><td>no checking</td><td>critical/other existing credit</td><td>18</td><td>1800</td><td>4</td><td>2</td><td>24</td><td>2</td><td>1</td><td>1</td></tr>\n",
       "\t<tr><th scope=row>490</th><td>no checking</td><td>existing paid                 </td><td> 6</td><td>3518</td><td>2</td><td>3</td><td>26</td><td>1</td><td>1</td><td>1</td></tr>\n",
       "\t<tr><th scope=row>534</th><td>no checking</td><td>existing paid                 </td><td>24</td><td>1311</td><td>4</td><td>3</td><td>26</td><td>1</td><td>1</td><td>1</td></tr>\n",
       "\t<tr><th scope=row>340</th><td><span style=white-space:pre-wrap>0&lt;=X&lt;200   </span></td><td><span style=white-space:pre-wrap>existing paid                 </span></td><td>10</td><td>1521</td><td>4</td><td>2</td><td>31</td><td>1</td><td>1</td><td>1</td></tr>\n",
       "\t<tr><th scope=row>782</th><td>no checking</td><td>critical/other existing credit</td><td>24</td><td>1940</td><td>4</td><td>4</td><td>60</td><td>1</td><td>1</td><td>1</td></tr>\n",
       "\t<tr><th scope=row>20</th><td>no checking</td><td>existing paid                 </td><td>24</td><td>3430</td><td>3</td><td>2</td><td>31</td><td>1</td><td>2</td><td>1</td></tr>\n",
       "</tbody>\n",
       "</table>\n"
      ],
      "text/latex": [
       "A data.frame: 6 × 10\n",
       "\\begin{tabular}{r|llllllllll}\n",
       "  & checking\\_status & credit\\_history & duration & credit\\_amount & installment\\_commitment & residence\\_since & age & existing\\_credits & num\\_dependents & class\\\\\n",
       "  & <fct> & <fct> & <dbl> & <dbl> & <dbl> & <dbl> & <dbl> & <dbl> & <dbl> & <fct>\\\\\n",
       "\\hline\n",
       "\t699 & no checking & critical/other existing credit & 18 & 1800 & 4 & 2 & 24 & 2 & 1 & 1\\\\\n",
       "\t490 & no checking & existing paid                  &  6 & 3518 & 2 & 3 & 26 & 1 & 1 & 1\\\\\n",
       "\t534 & no checking & existing paid                  & 24 & 1311 & 4 & 3 & 26 & 1 & 1 & 1\\\\\n",
       "\t340 & 0<=X<200    & existing paid                  & 10 & 1521 & 4 & 2 & 31 & 1 & 1 & 1\\\\\n",
       "\t782 & no checking & critical/other existing credit & 24 & 1940 & 4 & 4 & 60 & 1 & 1 & 1\\\\\n",
       "\t20 & no checking & existing paid                  & 24 & 3430 & 3 & 2 & 31 & 1 & 2 & 1\\\\\n",
       "\\end{tabular}\n"
      ],
      "text/markdown": [
       "\n",
       "A data.frame: 6 × 10\n",
       "\n",
       "| <!--/--> | checking_status &lt;fct&gt; | credit_history &lt;fct&gt; | duration &lt;dbl&gt; | credit_amount &lt;dbl&gt; | installment_commitment &lt;dbl&gt; | residence_since &lt;dbl&gt; | age &lt;dbl&gt; | existing_credits &lt;dbl&gt; | num_dependents &lt;dbl&gt; | class &lt;fct&gt; |\n",
       "|---|---|---|---|---|---|---|---|---|---|---|\n",
       "| 699 | no checking | critical/other existing credit | 18 | 1800 | 4 | 2 | 24 | 2 | 1 | 1 |\n",
       "| 490 | no checking | existing paid                  |  6 | 3518 | 2 | 3 | 26 | 1 | 1 | 1 |\n",
       "| 534 | no checking | existing paid                  | 24 | 1311 | 4 | 3 | 26 | 1 | 1 | 1 |\n",
       "| 340 | 0&lt;=X&lt;200    | existing paid                  | 10 | 1521 | 4 | 2 | 31 | 1 | 1 | 1 |\n",
       "| 782 | no checking | critical/other existing credit | 24 | 1940 | 4 | 4 | 60 | 1 | 1 | 1 |\n",
       "| 20 | no checking | existing paid                  | 24 | 3430 | 3 | 2 | 31 | 1 | 2 | 1 |\n",
       "\n"
      ],
      "text/plain": [
       "    checking_status credit_history                 duration credit_amount\n",
       "699 no checking     critical/other existing credit 18       1800         \n",
       "490 no checking     existing paid                   6       3518         \n",
       "534 no checking     existing paid                  24       1311         \n",
       "340 0<=X<200        existing paid                  10       1521         \n",
       "782 no checking     critical/other existing credit 24       1940         \n",
       "20  no checking     existing paid                  24       3430         \n",
       "    installment_commitment residence_since age existing_credits num_dependents\n",
       "699 4                      2               24  2                1             \n",
       "490 2                      3               26  1                1             \n",
       "534 4                      3               26  1                1             \n",
       "340 4                      2               31  1                1             \n",
       "782 4                      4               60  1                1             \n",
       "20  3                      2               31  1                2             \n",
       "    class\n",
       "699 1    \n",
       "490 1    \n",
       "534 1    \n",
       "340 1    \n",
       "782 1    \n",
       "20  1    "
      ]
     },
     "metadata": {},
     "output_type": "display_data"
    }
   ],
   "source": [
    "head(credito_new_1)"
   ]
  }
 ],
 "metadata": {
  "kernelspec": {
   "display_name": "R",
   "language": "R",
   "name": "ir"
  },
  "language_info": {
   "codemirror_mode": "r",
   "file_extension": ".r",
   "mimetype": "text/x-r-source",
   "name": "R",
   "pygments_lexer": "r",
   "version": "4.3.1"
  }
 },
 "nbformat": 4,
 "nbformat_minor": 2
}
