{
 "cells": [
  {
   "cell_type": "markdown",
   "metadata": {},
   "source": [
    "X = Events\n",
    "p = Probability\n",
    "size = Number of events\n",
    "\n",
    "\n",
    "If I toss a coin 5 times, what is the probability that it will come up heads 4 times?"
   ]
  },
  {
   "cell_type": "code",
   "execution_count": 1,
   "metadata": {
    "vscode": {
     "languageId": "r"
    }
   },
   "outputs": [
    {
     "data": {
      "text/html": [
       "0.3125"
      ],
      "text/latex": [
       "0.3125"
      ],
      "text/markdown": [
       "0.3125"
      ],
      "text/plain": [
       "[1] 0.3125"
      ]
     },
     "metadata": {},
     "output_type": "display_data"
    }
   ],
   "source": [
    "# If I toss a coin 5 times, what is the probability that it will come up heads 4 times?\n",
    "\n",
    "dbinom(x = 3, size = 5, prob = 0.5)"
   ]
  },
  {
   "cell_type": "code",
   "execution_count": 3,
   "metadata": {
    "vscode": {
     "languageId": "r"
    }
   },
   "outputs": [
    {
     "data": {
      "text/html": [
       "1"
      ],
      "text/latex": [
       "1"
      ],
      "text/markdown": [
       "1"
      ],
      "text/plain": [
       "[1] 1"
      ]
     },
     "metadata": {},
     "output_type": "display_data"
    },
    {
     "data": {
      "text/html": [
       "0.99609375"
      ],
      "text/latex": [
       "0.99609375"
      ],
      "text/markdown": [
       "0.99609375"
      ],
      "text/plain": [
       "[1] 0.9960938"
      ]
     },
     "metadata": {},
     "output_type": "display_data"
    }
   ],
   "source": [
    "pbinom(q = 4, size = 4, prob = 0.25)\n",
    "\n",
    "pbinom(q = 3, size = 4, prob = 0.25)"
   ]
  },
  {
   "cell_type": "code",
   "execution_count": 4,
   "metadata": {
    "vscode": {
     "languageId": "r"
    }
   },
   "outputs": [
    {
     "data": {
      "text/html": [
       "0.0114712715148926"
      ],
      "text/latex": [
       "0.0114712715148926"
      ],
      "text/markdown": [
       "0.0114712715148926"
      ],
      "text/plain": [
       "[1] 0.01147127"
      ]
     },
     "metadata": {},
     "output_type": "display_data"
    }
   ],
   "source": [
    "dbinom(x = 7, size = 12, prob = 0.25)"
   ]
  },
  {
   "cell_type": "code",
   "execution_count": 6,
   "metadata": {
    "vscode": {
     "languageId": "r"
    }
   },
   "outputs": [
    {
     "data": {
      "text/html": [
       "0.05078125"
      ],
      "text/latex": [
       "0.05078125"
      ],
      "text/markdown": [
       "0.05078125"
      ],
      "text/plain": [
       "[1] 0.05078125"
      ]
     },
     "metadata": {},
     "output_type": "display_data"
    },
    {
     "data": {
      "text/html": [
       "0.05078125"
      ],
      "text/latex": [
       "0.05078125"
      ],
      "text/markdown": [
       "0.05078125"
      ],
      "text/plain": [
       "[1] 0.05078125"
      ]
     },
     "metadata": {},
     "output_type": "display_data"
    },
    {
     "data": {
      "text/html": [
       "0.05078125"
      ],
      "text/latex": [
       "0.05078125"
      ],
      "text/markdown": [
       "0.05078125"
      ],
      "text/plain": [
       "[1] 0.05078125"
      ]
     },
     "metadata": {},
     "output_type": "display_data"
    }
   ],
   "source": [
    "1 - pbinom(q = 2, size = 4, prob = 0.25)\n",
    "pbinom(q = 2, size = 4, prob = 0.25, lower.tail = FALSE)\n",
    "dbinom(x = 3, size = 4, prob = 0.25) + dbinom(x = 4, size = 4, prob = 0.25)"
   ]
  }
 ],
 "metadata": {
  "kernelspec": {
   "display_name": "R",
   "language": "R",
   "name": "ir"
  },
  "language_info": {
   "codemirror_mode": "r",
   "file_extension": ".r",
   "mimetype": "text/x-r-source",
   "name": "R",
   "pygments_lexer": "r",
   "version": "4.3.1"
  }
 },
 "nbformat": 4,
 "nbformat_minor": 2
}
