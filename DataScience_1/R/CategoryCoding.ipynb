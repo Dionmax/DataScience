{
 "cells": [
  {
   "cell_type": "code",
   "execution_count": 4,
   "metadata": {
    "vscode": {
     "languageId": "r"
    }
   },
   "outputs": [],
   "source": [
    "# install.packages(\"mltools\")\n",
    "library(mltools)\n",
    "library(data.table)\n"
   ]
  },
  {
   "cell_type": "code",
   "execution_count": 5,
   "metadata": {
    "vscode": {
     "languageId": "r"
    }
   },
   "outputs": [
    {
     "data": {
      "text/plain": [
       ", , Age = Child, Survived = No\n",
       "\n",
       "      Sex\n",
       "Class  Male Female\n",
       "  1st     0      0\n",
       "  2nd     0      0\n",
       "  3rd    35     17\n",
       "  Crew    0      0\n",
       "\n",
       ", , Age = Adult, Survived = No\n",
       "\n",
       "      Sex\n",
       "Class  Male Female\n",
       "  1st   118      4\n",
       "  2nd   154     13\n",
       "  3rd   387     89\n",
       "  Crew  670      3\n",
       "\n",
       ", , Age = Child, Survived = Yes\n",
       "\n",
       "      Sex\n",
       "Class  Male Female\n",
       "  1st     5      1\n",
       "  2nd    11     13\n",
       "  3rd    13     14\n",
       "  Crew    0      0\n",
       "\n",
       ", , Age = Adult, Survived = Yes\n",
       "\n",
       "      Sex\n",
       "Class  Male Female\n",
       "  1st    57    140\n",
       "  2nd    14     80\n",
       "  3rd    75     76\n",
       "  Crew  192     20\n"
      ]
     },
     "metadata": {},
     "output_type": "display_data"
    }
   ],
   "source": [
    "Titanic\n"
   ]
  },
  {
   "cell_type": "code",
   "execution_count": 6,
   "metadata": {
    "vscode": {
     "languageId": "r"
    }
   },
   "outputs": [
    {
     "data": {
      "text/html": [
       "<table class=\"dataframe\">\n",
       "<caption>A data.frame: 10 × 5</caption>\n",
       "<thead>\n",
       "\t<tr><th></th><th scope=col>Class</th><th scope=col>Sex</th><th scope=col>Age</th><th scope=col>Survived</th><th scope=col>Freq</th></tr>\n",
       "\t<tr><th></th><th scope=col>&lt;fct&gt;</th><th scope=col>&lt;fct&gt;</th><th scope=col>&lt;fct&gt;</th><th scope=col>&lt;fct&gt;</th><th scope=col>&lt;dbl&gt;</th></tr>\n",
       "</thead>\n",
       "<tbody>\n",
       "\t<tr><th scope=row>1</th><td>1st </td><td>Male  </td><td>Child</td><td>No</td><td>  0</td></tr>\n",
       "\t<tr><th scope=row>2</th><td>2nd </td><td>Male  </td><td>Child</td><td>No</td><td>  0</td></tr>\n",
       "\t<tr><th scope=row>3</th><td>3rd </td><td>Male  </td><td>Child</td><td>No</td><td> 35</td></tr>\n",
       "\t<tr><th scope=row>4</th><td>Crew</td><td>Male  </td><td>Child</td><td>No</td><td>  0</td></tr>\n",
       "\t<tr><th scope=row>5</th><td>1st </td><td>Female</td><td>Child</td><td>No</td><td>  0</td></tr>\n",
       "\t<tr><th scope=row>6</th><td>2nd </td><td>Female</td><td>Child</td><td>No</td><td>  0</td></tr>\n",
       "\t<tr><th scope=row>7</th><td>3rd </td><td>Female</td><td>Child</td><td>No</td><td> 17</td></tr>\n",
       "\t<tr><th scope=row>8</th><td>Crew</td><td>Female</td><td>Child</td><td>No</td><td>  0</td></tr>\n",
       "\t<tr><th scope=row>9</th><td>1st </td><td>Male  </td><td>Adult</td><td>No</td><td>118</td></tr>\n",
       "\t<tr><th scope=row>10</th><td>2nd </td><td>Male  </td><td>Adult</td><td>No</td><td>154</td></tr>\n",
       "</tbody>\n",
       "</table>\n"
      ],
      "text/latex": [
       "A data.frame: 10 × 5\n",
       "\\begin{tabular}{r|lllll}\n",
       "  & Class & Sex & Age & Survived & Freq\\\\\n",
       "  & <fct> & <fct> & <fct> & <fct> & <dbl>\\\\\n",
       "\\hline\n",
       "\t1 & 1st  & Male   & Child & No &   0\\\\\n",
       "\t2 & 2nd  & Male   & Child & No &   0\\\\\n",
       "\t3 & 3rd  & Male   & Child & No &  35\\\\\n",
       "\t4 & Crew & Male   & Child & No &   0\\\\\n",
       "\t5 & 1st  & Female & Child & No &   0\\\\\n",
       "\t6 & 2nd  & Female & Child & No &   0\\\\\n",
       "\t7 & 3rd  & Female & Child & No &  17\\\\\n",
       "\t8 & Crew & Female & Child & No &   0\\\\\n",
       "\t9 & 1st  & Male   & Adult & No & 118\\\\\n",
       "\t10 & 2nd  & Male   & Adult & No & 154\\\\\n",
       "\\end{tabular}\n"
      ],
      "text/markdown": [
       "\n",
       "A data.frame: 10 × 5\n",
       "\n",
       "| <!--/--> | Class &lt;fct&gt; | Sex &lt;fct&gt; | Age &lt;fct&gt; | Survived &lt;fct&gt; | Freq &lt;dbl&gt; |\n",
       "|---|---|---|---|---|---|\n",
       "| 1 | 1st  | Male   | Child | No |   0 |\n",
       "| 2 | 2nd  | Male   | Child | No |   0 |\n",
       "| 3 | 3rd  | Male   | Child | No |  35 |\n",
       "| 4 | Crew | Male   | Child | No |   0 |\n",
       "| 5 | 1st  | Female | Child | No |   0 |\n",
       "| 6 | 2nd  | Female | Child | No |   0 |\n",
       "| 7 | 3rd  | Female | Child | No |  17 |\n",
       "| 8 | Crew | Female | Child | No |   0 |\n",
       "| 9 | 1st  | Male   | Adult | No | 118 |\n",
       "| 10 | 2nd  | Male   | Adult | No | 154 |\n",
       "\n"
      ],
      "text/plain": [
       "   Class Sex    Age   Survived Freq\n",
       "1  1st   Male   Child No         0 \n",
       "2  2nd   Male   Child No         0 \n",
       "3  3rd   Male   Child No        35 \n",
       "4  Crew  Male   Child No         0 \n",
       "5  1st   Female Child No         0 \n",
       "6  2nd   Female Child No         0 \n",
       "7  3rd   Female Child No        17 \n",
       "8  Crew  Female Child No         0 \n",
       "9  1st   Male   Adult No       118 \n",
       "10 2nd   Male   Adult No       154 "
      ]
     },
     "metadata": {},
     "output_type": "display_data"
    }
   ],
   "source": [
    "tit <- as.data.frame(Titanic)\n",
    "head(tit, 10)\n"
   ]
  },
  {
   "cell_type": "code",
   "execution_count": 7,
   "metadata": {
    "vscode": {
     "languageId": "r"
    }
   },
   "outputs": [
    {
     "data": {
      "text/html": [
       "<table class=\"dataframe\">\n",
       "<caption>A matrix: 10 × 3 of type int</caption>\n",
       "<thead>\n",
       "\t<tr><th scope=col>Class</th><th scope=col>Sex</th><th scope=col>Age</th></tr>\n",
       "</thead>\n",
       "<tbody>\n",
       "\t<tr><td>1</td><td>1</td><td>1</td></tr>\n",
       "\t<tr><td>2</td><td>1</td><td>1</td></tr>\n",
       "\t<tr><td>3</td><td>1</td><td>1</td></tr>\n",
       "\t<tr><td>4</td><td>1</td><td>1</td></tr>\n",
       "\t<tr><td>1</td><td>2</td><td>1</td></tr>\n",
       "\t<tr><td>2</td><td>2</td><td>1</td></tr>\n",
       "\t<tr><td>3</td><td>2</td><td>1</td></tr>\n",
       "\t<tr><td>4</td><td>2</td><td>1</td></tr>\n",
       "\t<tr><td>1</td><td>1</td><td>2</td></tr>\n",
       "\t<tr><td>2</td><td>1</td><td>2</td></tr>\n",
       "</tbody>\n",
       "</table>\n"
      ],
      "text/latex": [
       "A matrix: 10 × 3 of type int\n",
       "\\begin{tabular}{lll}\n",
       " Class & Sex & Age\\\\\n",
       "\\hline\n",
       "\t 1 & 1 & 1\\\\\n",
       "\t 2 & 1 & 1\\\\\n",
       "\t 3 & 1 & 1\\\\\n",
       "\t 4 & 1 & 1\\\\\n",
       "\t 1 & 2 & 1\\\\\n",
       "\t 2 & 2 & 1\\\\\n",
       "\t 3 & 2 & 1\\\\\n",
       "\t 4 & 2 & 1\\\\\n",
       "\t 1 & 1 & 2\\\\\n",
       "\t 2 & 1 & 2\\\\\n",
       "\\end{tabular}\n"
      ],
      "text/markdown": [
       "\n",
       "A matrix: 10 × 3 of type int\n",
       "\n",
       "| Class | Sex | Age |\n",
       "|---|---|---|\n",
       "| 1 | 1 | 1 |\n",
       "| 2 | 1 | 1 |\n",
       "| 3 | 1 | 1 |\n",
       "| 4 | 1 | 1 |\n",
       "| 1 | 2 | 1 |\n",
       "| 2 | 2 | 1 |\n",
       "| 3 | 2 | 1 |\n",
       "| 4 | 2 | 1 |\n",
       "| 1 | 1 | 2 |\n",
       "| 2 | 1 | 2 |\n",
       "\n"
      ],
      "text/plain": [
       "      Class Sex Age\n",
       " [1,] 1     1   1  \n",
       " [2,] 2     1   1  \n",
       " [3,] 3     1   1  \n",
       " [4,] 4     1   1  \n",
       " [5,] 1     2   1  \n",
       " [6,] 2     2   1  \n",
       " [7,] 3     2   1  \n",
       " [8,] 4     2   1  \n",
       " [9,] 1     1   2  \n",
       "[10,] 2     1   2  "
      ]
     },
     "metadata": {},
     "output_type": "display_data"
    }
   ],
   "source": [
    "labenc <- data.matrix(tit[, 1:3])\n",
    "head(labenc, 10)\n"
   ]
  },
  {
   "cell_type": "code",
   "execution_count": 9,
   "metadata": {
    "vscode": {
     "languageId": "r"
    }
   },
   "outputs": [
    {
     "data": {
      "text/html": [
       "<table class=\"dataframe\">\n",
       "<caption>A data.table: 32 × 8</caption>\n",
       "<thead>\n",
       "\t<tr><th scope=col>Class_1st</th><th scope=col>Class_2nd</th><th scope=col>Class_3rd</th><th scope=col>Class_Crew</th><th scope=col>Sex_Male</th><th scope=col>Sex_Female</th><th scope=col>Age_Child</th><th scope=col>Age_Adult</th></tr>\n",
       "\t<tr><th scope=col>&lt;int&gt;</th><th scope=col>&lt;int&gt;</th><th scope=col>&lt;int&gt;</th><th scope=col>&lt;int&gt;</th><th scope=col>&lt;int&gt;</th><th scope=col>&lt;int&gt;</th><th scope=col>&lt;int&gt;</th><th scope=col>&lt;int&gt;</th></tr>\n",
       "</thead>\n",
       "<tbody>\n",
       "\t<tr><td>1</td><td>0</td><td>0</td><td>0</td><td>1</td><td>0</td><td>1</td><td>0</td></tr>\n",
       "\t<tr><td>0</td><td>1</td><td>0</td><td>0</td><td>1</td><td>0</td><td>1</td><td>0</td></tr>\n",
       "\t<tr><td>0</td><td>0</td><td>1</td><td>0</td><td>1</td><td>0</td><td>1</td><td>0</td></tr>\n",
       "\t<tr><td>0</td><td>0</td><td>0</td><td>1</td><td>1</td><td>0</td><td>1</td><td>0</td></tr>\n",
       "\t<tr><td>1</td><td>0</td><td>0</td><td>0</td><td>0</td><td>1</td><td>1</td><td>0</td></tr>\n",
       "\t<tr><td>0</td><td>1</td><td>0</td><td>0</td><td>0</td><td>1</td><td>1</td><td>0</td></tr>\n",
       "\t<tr><td>0</td><td>0</td><td>1</td><td>0</td><td>0</td><td>1</td><td>1</td><td>0</td></tr>\n",
       "\t<tr><td>0</td><td>0</td><td>0</td><td>1</td><td>0</td><td>1</td><td>1</td><td>0</td></tr>\n",
       "\t<tr><td>1</td><td>0</td><td>0</td><td>0</td><td>1</td><td>0</td><td>0</td><td>1</td></tr>\n",
       "\t<tr><td>0</td><td>1</td><td>0</td><td>0</td><td>1</td><td>0</td><td>0</td><td>1</td></tr>\n",
       "\t<tr><td>0</td><td>0</td><td>1</td><td>0</td><td>1</td><td>0</td><td>0</td><td>1</td></tr>\n",
       "\t<tr><td>0</td><td>0</td><td>0</td><td>1</td><td>1</td><td>0</td><td>0</td><td>1</td></tr>\n",
       "\t<tr><td>1</td><td>0</td><td>0</td><td>0</td><td>0</td><td>1</td><td>0</td><td>1</td></tr>\n",
       "\t<tr><td>0</td><td>1</td><td>0</td><td>0</td><td>0</td><td>1</td><td>0</td><td>1</td></tr>\n",
       "\t<tr><td>0</td><td>0</td><td>1</td><td>0</td><td>0</td><td>1</td><td>0</td><td>1</td></tr>\n",
       "\t<tr><td>0</td><td>0</td><td>0</td><td>1</td><td>0</td><td>1</td><td>0</td><td>1</td></tr>\n",
       "\t<tr><td>1</td><td>0</td><td>0</td><td>0</td><td>1</td><td>0</td><td>1</td><td>0</td></tr>\n",
       "\t<tr><td>0</td><td>1</td><td>0</td><td>0</td><td>1</td><td>0</td><td>1</td><td>0</td></tr>\n",
       "\t<tr><td>0</td><td>0</td><td>1</td><td>0</td><td>1</td><td>0</td><td>1</td><td>0</td></tr>\n",
       "\t<tr><td>0</td><td>0</td><td>0</td><td>1</td><td>1</td><td>0</td><td>1</td><td>0</td></tr>\n",
       "\t<tr><td>1</td><td>0</td><td>0</td><td>0</td><td>0</td><td>1</td><td>1</td><td>0</td></tr>\n",
       "\t<tr><td>0</td><td>1</td><td>0</td><td>0</td><td>0</td><td>1</td><td>1</td><td>0</td></tr>\n",
       "\t<tr><td>0</td><td>0</td><td>1</td><td>0</td><td>0</td><td>1</td><td>1</td><td>0</td></tr>\n",
       "\t<tr><td>0</td><td>0</td><td>0</td><td>1</td><td>0</td><td>1</td><td>1</td><td>0</td></tr>\n",
       "\t<tr><td>1</td><td>0</td><td>0</td><td>0</td><td>1</td><td>0</td><td>0</td><td>1</td></tr>\n",
       "\t<tr><td>0</td><td>1</td><td>0</td><td>0</td><td>1</td><td>0</td><td>0</td><td>1</td></tr>\n",
       "\t<tr><td>0</td><td>0</td><td>1</td><td>0</td><td>1</td><td>0</td><td>0</td><td>1</td></tr>\n",
       "\t<tr><td>0</td><td>0</td><td>0</td><td>1</td><td>1</td><td>0</td><td>0</td><td>1</td></tr>\n",
       "\t<tr><td>1</td><td>0</td><td>0</td><td>0</td><td>0</td><td>1</td><td>0</td><td>1</td></tr>\n",
       "\t<tr><td>0</td><td>1</td><td>0</td><td>0</td><td>0</td><td>1</td><td>0</td><td>1</td></tr>\n",
       "\t<tr><td>0</td><td>0</td><td>1</td><td>0</td><td>0</td><td>1</td><td>0</td><td>1</td></tr>\n",
       "\t<tr><td>0</td><td>0</td><td>0</td><td>1</td><td>0</td><td>1</td><td>0</td><td>1</td></tr>\n",
       "</tbody>\n",
       "</table>\n"
      ],
      "text/latex": [
       "A data.table: 32 × 8\n",
       "\\begin{tabular}{llllllll}\n",
       " Class\\_1st & Class\\_2nd & Class\\_3rd & Class\\_Crew & Sex\\_Male & Sex\\_Female & Age\\_Child & Age\\_Adult\\\\\n",
       " <int> & <int> & <int> & <int> & <int> & <int> & <int> & <int>\\\\\n",
       "\\hline\n",
       "\t 1 & 0 & 0 & 0 & 1 & 0 & 1 & 0\\\\\n",
       "\t 0 & 1 & 0 & 0 & 1 & 0 & 1 & 0\\\\\n",
       "\t 0 & 0 & 1 & 0 & 1 & 0 & 1 & 0\\\\\n",
       "\t 0 & 0 & 0 & 1 & 1 & 0 & 1 & 0\\\\\n",
       "\t 1 & 0 & 0 & 0 & 0 & 1 & 1 & 0\\\\\n",
       "\t 0 & 1 & 0 & 0 & 0 & 1 & 1 & 0\\\\\n",
       "\t 0 & 0 & 1 & 0 & 0 & 1 & 1 & 0\\\\\n",
       "\t 0 & 0 & 0 & 1 & 0 & 1 & 1 & 0\\\\\n",
       "\t 1 & 0 & 0 & 0 & 1 & 0 & 0 & 1\\\\\n",
       "\t 0 & 1 & 0 & 0 & 1 & 0 & 0 & 1\\\\\n",
       "\t 0 & 0 & 1 & 0 & 1 & 0 & 0 & 1\\\\\n",
       "\t 0 & 0 & 0 & 1 & 1 & 0 & 0 & 1\\\\\n",
       "\t 1 & 0 & 0 & 0 & 0 & 1 & 0 & 1\\\\\n",
       "\t 0 & 1 & 0 & 0 & 0 & 1 & 0 & 1\\\\\n",
       "\t 0 & 0 & 1 & 0 & 0 & 1 & 0 & 1\\\\\n",
       "\t 0 & 0 & 0 & 1 & 0 & 1 & 0 & 1\\\\\n",
       "\t 1 & 0 & 0 & 0 & 1 & 0 & 1 & 0\\\\\n",
       "\t 0 & 1 & 0 & 0 & 1 & 0 & 1 & 0\\\\\n",
       "\t 0 & 0 & 1 & 0 & 1 & 0 & 1 & 0\\\\\n",
       "\t 0 & 0 & 0 & 1 & 1 & 0 & 1 & 0\\\\\n",
       "\t 1 & 0 & 0 & 0 & 0 & 1 & 1 & 0\\\\\n",
       "\t 0 & 1 & 0 & 0 & 0 & 1 & 1 & 0\\\\\n",
       "\t 0 & 0 & 1 & 0 & 0 & 1 & 1 & 0\\\\\n",
       "\t 0 & 0 & 0 & 1 & 0 & 1 & 1 & 0\\\\\n",
       "\t 1 & 0 & 0 & 0 & 1 & 0 & 0 & 1\\\\\n",
       "\t 0 & 1 & 0 & 0 & 1 & 0 & 0 & 1\\\\\n",
       "\t 0 & 0 & 1 & 0 & 1 & 0 & 0 & 1\\\\\n",
       "\t 0 & 0 & 0 & 1 & 1 & 0 & 0 & 1\\\\\n",
       "\t 1 & 0 & 0 & 0 & 0 & 1 & 0 & 1\\\\\n",
       "\t 0 & 1 & 0 & 0 & 0 & 1 & 0 & 1\\\\\n",
       "\t 0 & 0 & 1 & 0 & 0 & 1 & 0 & 1\\\\\n",
       "\t 0 & 0 & 0 & 1 & 0 & 1 & 0 & 1\\\\\n",
       "\\end{tabular}\n"
      ],
      "text/markdown": [
       "\n",
       "A data.table: 32 × 8\n",
       "\n",
       "| Class_1st &lt;int&gt; | Class_2nd &lt;int&gt; | Class_3rd &lt;int&gt; | Class_Crew &lt;int&gt; | Sex_Male &lt;int&gt; | Sex_Female &lt;int&gt; | Age_Child &lt;int&gt; | Age_Adult &lt;int&gt; |\n",
       "|---|---|---|---|---|---|---|---|\n",
       "| 1 | 0 | 0 | 0 | 1 | 0 | 1 | 0 |\n",
       "| 0 | 1 | 0 | 0 | 1 | 0 | 1 | 0 |\n",
       "| 0 | 0 | 1 | 0 | 1 | 0 | 1 | 0 |\n",
       "| 0 | 0 | 0 | 1 | 1 | 0 | 1 | 0 |\n",
       "| 1 | 0 | 0 | 0 | 0 | 1 | 1 | 0 |\n",
       "| 0 | 1 | 0 | 0 | 0 | 1 | 1 | 0 |\n",
       "| 0 | 0 | 1 | 0 | 0 | 1 | 1 | 0 |\n",
       "| 0 | 0 | 0 | 1 | 0 | 1 | 1 | 0 |\n",
       "| 1 | 0 | 0 | 0 | 1 | 0 | 0 | 1 |\n",
       "| 0 | 1 | 0 | 0 | 1 | 0 | 0 | 1 |\n",
       "| 0 | 0 | 1 | 0 | 1 | 0 | 0 | 1 |\n",
       "| 0 | 0 | 0 | 1 | 1 | 0 | 0 | 1 |\n",
       "| 1 | 0 | 0 | 0 | 0 | 1 | 0 | 1 |\n",
       "| 0 | 1 | 0 | 0 | 0 | 1 | 0 | 1 |\n",
       "| 0 | 0 | 1 | 0 | 0 | 1 | 0 | 1 |\n",
       "| 0 | 0 | 0 | 1 | 0 | 1 | 0 | 1 |\n",
       "| 1 | 0 | 0 | 0 | 1 | 0 | 1 | 0 |\n",
       "| 0 | 1 | 0 | 0 | 1 | 0 | 1 | 0 |\n",
       "| 0 | 0 | 1 | 0 | 1 | 0 | 1 | 0 |\n",
       "| 0 | 0 | 0 | 1 | 1 | 0 | 1 | 0 |\n",
       "| 1 | 0 | 0 | 0 | 0 | 1 | 1 | 0 |\n",
       "| 0 | 1 | 0 | 0 | 0 | 1 | 1 | 0 |\n",
       "| 0 | 0 | 1 | 0 | 0 | 1 | 1 | 0 |\n",
       "| 0 | 0 | 0 | 1 | 0 | 1 | 1 | 0 |\n",
       "| 1 | 0 | 0 | 0 | 1 | 0 | 0 | 1 |\n",
       "| 0 | 1 | 0 | 0 | 1 | 0 | 0 | 1 |\n",
       "| 0 | 0 | 1 | 0 | 1 | 0 | 0 | 1 |\n",
       "| 0 | 0 | 0 | 1 | 1 | 0 | 0 | 1 |\n",
       "| 1 | 0 | 0 | 0 | 0 | 1 | 0 | 1 |\n",
       "| 0 | 1 | 0 | 0 | 0 | 1 | 0 | 1 |\n",
       "| 0 | 0 | 1 | 0 | 0 | 1 | 0 | 1 |\n",
       "| 0 | 0 | 0 | 1 | 0 | 1 | 0 | 1 |\n",
       "\n"
      ],
      "text/plain": [
       "   Class_1st Class_2nd Class_3rd Class_Crew Sex_Male Sex_Female Age_Child\n",
       "1  1         0         0         0          1        0          1        \n",
       "2  0         1         0         0          1        0          1        \n",
       "3  0         0         1         0          1        0          1        \n",
       "4  0         0         0         1          1        0          1        \n",
       "5  1         0         0         0          0        1          1        \n",
       "6  0         1         0         0          0        1          1        \n",
       "7  0         0         1         0          0        1          1        \n",
       "8  0         0         0         1          0        1          1        \n",
       "9  1         0         0         0          1        0          0        \n",
       "10 0         1         0         0          1        0          0        \n",
       "11 0         0         1         0          1        0          0        \n",
       "12 0         0         0         1          1        0          0        \n",
       "13 1         0         0         0          0        1          0        \n",
       "14 0         1         0         0          0        1          0        \n",
       "15 0         0         1         0          0        1          0        \n",
       "16 0         0         0         1          0        1          0        \n",
       "17 1         0         0         0          1        0          1        \n",
       "18 0         1         0         0          1        0          1        \n",
       "19 0         0         1         0          1        0          1        \n",
       "20 0         0         0         1          1        0          1        \n",
       "21 1         0         0         0          0        1          1        \n",
       "22 0         1         0         0          0        1          1        \n",
       "23 0         0         1         0          0        1          1        \n",
       "24 0         0         0         1          0        1          1        \n",
       "25 1         0         0         0          1        0          0        \n",
       "26 0         1         0         0          1        0          0        \n",
       "27 0         0         1         0          1        0          0        \n",
       "28 0         0         0         1          1        0          0        \n",
       "29 1         0         0         0          0        1          0        \n",
       "30 0         1         0         0          0        1          0        \n",
       "31 0         0         1         0          0        1          0        \n",
       "32 0         0         0         1          0        1          0        \n",
       "   Age_Adult\n",
       "1  0        \n",
       "2  0        \n",
       "3  0        \n",
       "4  0        \n",
       "5  0        \n",
       "6  0        \n",
       "7  0        \n",
       "8  0        \n",
       "9  1        \n",
       "10 1        \n",
       "11 1        \n",
       "12 1        \n",
       "13 1        \n",
       "14 1        \n",
       "15 1        \n",
       "16 1        \n",
       "17 0        \n",
       "18 0        \n",
       "19 0        \n",
       "20 0        \n",
       "21 0        \n",
       "22 0        \n",
       "23 0        \n",
       "24 0        \n",
       "25 1        \n",
       "26 1        \n",
       "27 1        \n",
       "28 1        \n",
       "29 1        \n",
       "30 1        \n",
       "31 1        \n",
       "32 1        "
      ]
     },
     "metadata": {},
     "output_type": "display_data"
    }
   ],
   "source": [
    "# \n",
    "hotenco <- one_hot(as.data.table(tit[, 1:3]))\n",
    "hotenco\n"
   ]
  }
 ],
 "metadata": {
  "kernelspec": {
   "display_name": "R",
   "language": "R",
   "name": "ir"
  },
  "language_info": {
   "codemirror_mode": "r",
   "file_extension": ".r",
   "mimetype": "text/x-r-source",
   "name": "R",
   "pygments_lexer": "r",
   "version": "4.3.1"
  }
 },
 "nbformat": 4,
 "nbformat_minor": 2
}
