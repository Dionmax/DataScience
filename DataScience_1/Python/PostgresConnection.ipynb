{
 "cells": [
  {
   "cell_type": "code",
   "execution_count": 2,
   "metadata": {},
   "outputs": [],
   "source": [
    "import psycopg2"
   ]
  },
  {
   "cell_type": "code",
   "execution_count": 4,
   "metadata": {},
   "outputs": [],
   "source": [
    "conexao = psycopg2.connect(\n",
    "    host=\"192.168.0.135\", database=\"mydb\", user=\"postgres\", password=\"postgres\"\n",
    ")"
   ]
  },
  {
   "cell_type": "code",
   "execution_count": 5,
   "metadata": {},
   "outputs": [],
   "source": [
    "cursor = conexao.cursor()"
   ]
  },
  {
   "cell_type": "code",
   "execution_count": 10,
   "metadata": {},
   "outputs": [],
   "source": [
    "clientes = \"select * from clientes\"\n",
    "\n",
    "cursor.execute(clientes)\n",
    "\n",
    "clientes = cursor.fetchall()"
   ]
  },
  {
   "cell_type": "code",
   "execution_count": 14,
   "metadata": {},
   "outputs": [
    {
     "name": "stdout",
     "output_type": "stream",
     "text": [
      "Nome:  Adelina Buenaventura\n",
      "Estado:  RJ\n",
      "Sexo:  M\n",
      "Status:  Silver \n",
      "\n",
      "Nome:  Adelino Gago\n",
      "Estado:  RJ\n",
      "Sexo:  M\n",
      "Status:  Silver \n",
      "\n",
      "Nome:  Adélio Lisboa\n",
      "Estado:  SE\n",
      "Sexo:  M\n",
      "Status:  Silver \n",
      "\n",
      "Nome:  Adérito Bahía\n",
      "Estado:  MA\n",
      "Sexo:  M\n",
      "Status:  Silver \n",
      "\n",
      "Nome:  Adolfo Patrício\n",
      "Estado:  PE\n",
      "Sexo:  M\n",
      "Status:  Silver \n",
      "\n"
     ]
    }
   ],
   "source": [
    "for cliente in clientes[:5]:\n",
    "    print(\"Nome: \", cliente[1])\n",
    "    print(\"Estado: \", cliente[2])\n",
    "    print(\"Sexo: \", cliente[3])\n",
    "    print(\"Status: \", cliente[4], \"\\n\")"
   ]
  },
  {
   "cell_type": "code",
   "execution_count": 15,
   "metadata": {},
   "outputs": [],
   "source": [
    "cursor.close()\n",
    "conexao.close()"
   ]
  }
 ],
 "metadata": {
  "kernelspec": {
   "display_name": "Python 3",
   "language": "python",
   "name": "python3"
  },
  "language_info": {
   "codemirror_mode": {
    "name": "ipython",
    "version": 3
   },
   "file_extension": ".py",
   "mimetype": "text/x-python",
   "name": "python",
   "nbconvert_exporter": "python",
   "pygments_lexer": "ipython3",
   "version": "3.12.4"
  }
 },
 "nbformat": 4,
 "nbformat_minor": 2
}
