{
 "cells": [
  {
   "cell_type": "code",
   "execution_count": 10,
   "metadata": {
    "vscode": {
     "languageId": "r"
    }
   },
   "outputs": [],
   "source": [
    "library(\"rpart\")\n",
    "library(\"forecast\")\n"
   ]
  },
  {
   "cell_type": "code",
   "execution_count": 11,
   "metadata": {
    "vscode": {
     "languageId": "r"
    }
   },
   "outputs": [
    {
     "data": {
      "text/html": [
       "<table class=\"dataframe\">\n",
       "<caption>A data.frame: 10 × 5</caption>\n",
       "<thead>\n",
       "\t<tr><th></th><th scope=col>Sepal.Length</th><th scope=col>Sepal.Width</th><th scope=col>Petal.Length</th><th scope=col>Petal.Width</th><th scope=col>Species</th></tr>\n",
       "\t<tr><th></th><th scope=col>&lt;dbl&gt;</th><th scope=col>&lt;dbl&gt;</th><th scope=col>&lt;dbl&gt;</th><th scope=col>&lt;dbl&gt;</th><th scope=col>&lt;fct&gt;</th></tr>\n",
       "</thead>\n",
       "<tbody>\n",
       "\t<tr><th scope=row>1</th><td>5.1</td><td>3.5</td><td>1.4</td><td>0.2</td><td>setosa</td></tr>\n",
       "\t<tr><th scope=row>2</th><td>4.9</td><td>3.0</td><td>1.4</td><td>0.2</td><td>setosa</td></tr>\n",
       "\t<tr><th scope=row>3</th><td>4.7</td><td>3.2</td><td>1.3</td><td>0.2</td><td>setosa</td></tr>\n",
       "\t<tr><th scope=row>4</th><td>4.6</td><td>3.1</td><td>1.5</td><td>0.2</td><td>setosa</td></tr>\n",
       "\t<tr><th scope=row>5</th><td>5.0</td><td>3.6</td><td>1.4</td><td>0.2</td><td>setosa</td></tr>\n",
       "\t<tr><th scope=row>6</th><td>5.4</td><td>3.9</td><td>1.7</td><td>0.4</td><td>setosa</td></tr>\n",
       "\t<tr><th scope=row>7</th><td>4.6</td><td>3.4</td><td>1.4</td><td>0.3</td><td>setosa</td></tr>\n",
       "\t<tr><th scope=row>8</th><td>5.0</td><td>3.4</td><td>1.5</td><td>0.2</td><td>setosa</td></tr>\n",
       "\t<tr><th scope=row>9</th><td>4.4</td><td>2.9</td><td>1.4</td><td>0.2</td><td>setosa</td></tr>\n",
       "\t<tr><th scope=row>10</th><td>4.9</td><td>3.1</td><td>1.5</td><td>0.1</td><td>setosa</td></tr>\n",
       "</tbody>\n",
       "</table>\n"
      ],
      "text/latex": [
       "A data.frame: 10 × 5\n",
       "\\begin{tabular}{r|lllll}\n",
       "  & Sepal.Length & Sepal.Width & Petal.Length & Petal.Width & Species\\\\\n",
       "  & <dbl> & <dbl> & <dbl> & <dbl> & <fct>\\\\\n",
       "\\hline\n",
       "\t1 & 5.1 & 3.5 & 1.4 & 0.2 & setosa\\\\\n",
       "\t2 & 4.9 & 3.0 & 1.4 & 0.2 & setosa\\\\\n",
       "\t3 & 4.7 & 3.2 & 1.3 & 0.2 & setosa\\\\\n",
       "\t4 & 4.6 & 3.1 & 1.5 & 0.2 & setosa\\\\\n",
       "\t5 & 5.0 & 3.6 & 1.4 & 0.2 & setosa\\\\\n",
       "\t6 & 5.4 & 3.9 & 1.7 & 0.4 & setosa\\\\\n",
       "\t7 & 4.6 & 3.4 & 1.4 & 0.3 & setosa\\\\\n",
       "\t8 & 5.0 & 3.4 & 1.5 & 0.2 & setosa\\\\\n",
       "\t9 & 4.4 & 2.9 & 1.4 & 0.2 & setosa\\\\\n",
       "\t10 & 4.9 & 3.1 & 1.5 & 0.1 & setosa\\\\\n",
       "\\end{tabular}\n"
      ],
      "text/markdown": [
       "\n",
       "A data.frame: 10 × 5\n",
       "\n",
       "| <!--/--> | Sepal.Length &lt;dbl&gt; | Sepal.Width &lt;dbl&gt; | Petal.Length &lt;dbl&gt; | Petal.Width &lt;dbl&gt; | Species &lt;fct&gt; |\n",
       "|---|---|---|---|---|---|\n",
       "| 1 | 5.1 | 3.5 | 1.4 | 0.2 | setosa |\n",
       "| 2 | 4.9 | 3.0 | 1.4 | 0.2 | setosa |\n",
       "| 3 | 4.7 | 3.2 | 1.3 | 0.2 | setosa |\n",
       "| 4 | 4.6 | 3.1 | 1.5 | 0.2 | setosa |\n",
       "| 5 | 5.0 | 3.6 | 1.4 | 0.2 | setosa |\n",
       "| 6 | 5.4 | 3.9 | 1.7 | 0.4 | setosa |\n",
       "| 7 | 4.6 | 3.4 | 1.4 | 0.3 | setosa |\n",
       "| 8 | 5.0 | 3.4 | 1.5 | 0.2 | setosa |\n",
       "| 9 | 4.4 | 2.9 | 1.4 | 0.2 | setosa |\n",
       "| 10 | 4.9 | 3.1 | 1.5 | 0.1 | setosa |\n",
       "\n"
      ],
      "text/plain": [
       "   Sepal.Length Sepal.Width Petal.Length Petal.Width Species\n",
       "1  5.1          3.5         1.4          0.2         setosa \n",
       "2  4.9          3.0         1.4          0.2         setosa \n",
       "3  4.7          3.2         1.3          0.2         setosa \n",
       "4  4.6          3.1         1.5          0.2         setosa \n",
       "5  5.0          3.6         1.4          0.2         setosa \n",
       "6  5.4          3.9         1.7          0.4         setosa \n",
       "7  4.6          3.4         1.4          0.3         setosa \n",
       "8  5.0          3.4         1.5          0.2         setosa \n",
       "9  4.4          2.9         1.4          0.2         setosa \n",
       "10 4.9          3.1         1.5          0.1         setosa "
      ]
     },
     "metadata": {},
     "output_type": "display_data"
    }
   ],
   "source": [
    "head(iris, 10)\n"
   ]
  },
  {
   "cell_type": "code",
   "execution_count": 12,
   "metadata": {
    "vscode": {
     "languageId": "r"
    }
   },
   "outputs": [
    {
     "data": {
      "text/plain": [
       "n= 150 \n",
       "\n",
       "node), split, n, deviance, yval\n",
       "      * denotes terminal node\n",
       "\n",
       " 1) root 150 102.1683000 5.843333  \n",
       "   2) Petal.Length< 4.25 73  13.1391800 5.179452  \n",
       "     4) Petal.Length< 3.4 53   6.1083020 5.005660  \n",
       "       8) Sepal.Width< 3.25 20   1.0855000 4.735000 *\n",
       "       9) Sepal.Width>=3.25 33   2.6696970 5.169697 *\n",
       "     5) Petal.Length>=3.4 20   1.1880000 5.640000 *\n",
       "   3) Petal.Length>=4.25 77  26.3527300 6.472727  \n",
       "     6) Petal.Length< 6.05 68  13.4923500 6.326471  \n",
       "      12) Petal.Length< 5.15 43   8.2576740 6.165116  \n",
       "        24) Sepal.Width< 3.05 33   5.2218180 6.054545 *\n",
       "        25) Sepal.Width>=3.05 10   1.3010000 6.530000 *\n",
       "      13) Petal.Length>=5.15 25   2.1896000 6.604000 *\n",
       "     7) Petal.Length>=6.05 9   0.4155556 7.577778 *"
      ]
     },
     "metadata": {},
     "output_type": "display_data"
    }
   ],
   "source": [
    "modelo <- rpart(Sepal.Length ~ Sepal.Width + Petal.Length + Petal.Width + Species, data = iris)\n",
    "modelo\n"
   ]
  },
  {
   "cell_type": "code",
   "execution_count": 13,
   "metadata": {
    "vscode": {
     "languageId": "r"
    }
   },
   "outputs": [
    {
     "name": "stdout",
     "output_type": "stream",
     "text": [
      "Call:\n",
      "rpart(formula = Sepal.Length ~ Sepal.Width + Petal.Length + Petal.Width + \n",
      "    Species, data = iris)\n",
      "  n= 150 \n",
      "\n",
      "          CP nsplit rel error    xerror       xstd\n",
      "1 0.61346237      0 1.0000000 1.0190751 0.10000392\n",
      "2 0.12180701      1 0.3865376 0.4406884 0.05134878\n",
      "3 0.05718872      2 0.2647306 0.3239390 0.03334145\n",
      "4 0.02980452      3 0.2075419 0.2644448 0.03168911\n",
      "5 0.02303165      4 0.1777374 0.2667193 0.03154271\n",
      "6 0.01698037      5 0.1547057 0.2553412 0.03103437\n",
      "7 0.01000000      6 0.1377254 0.2382536 0.02936139\n",
      "\n",
      "Variable importance\n",
      "Petal.Length  Petal.Width      Species  Sepal.Width \n",
      "          37           27           22           15 \n",
      "\n",
      "Node number 1: 150 observations,    complexity param=0.6134624\n",
      "  mean=5.843333, MSE=0.6811222 \n",
      "  left son=2 (73 obs) right son=3 (77 obs)\n",
      "  Primary splits:\n",
      "      Petal.Length < 4.25 to the left,  improve=0.61346240, (0 missing)\n",
      "      Petal.Width  < 1.15 to the left,  improve=0.58031680, (0 missing)\n",
      "      Species      splits as  LRR,      improve=0.51468520, (0 missing)\n",
      "      Sepal.Width  < 3.35 to the right, improve=0.07284853, (0 missing)\n",
      "  Surrogate splits:\n",
      "      Petal.Width < 1.35 to the left,  agree=0.940, adj=0.877, (0 split)\n",
      "      Species     splits as  LRR,      agree=0.847, adj=0.685, (0 split)\n",
      "      Sepal.Width < 3.35 to the right, agree=0.680, adj=0.342, (0 split)\n",
      "\n",
      "Node number 2: 73 observations,    complexity param=0.05718872\n",
      "  mean=5.179452, MSE=0.1799887 \n",
      "  left son=4 (53 obs) right son=5 (20 obs)\n",
      "  Primary splits:\n",
      "      Petal.Length < 3.4  to the left,  improve=0.4446911, (0 missing)\n",
      "      Species      splits as  LR-,      improve=0.3633756, (0 missing)\n",
      "      Petal.Width  < 0.8  to the left,  improve=0.3633756, (0 missing)\n",
      "      Sepal.Width  < 2.85 to the right, improve=0.1573443, (0 missing)\n",
      "  Surrogate splits:\n",
      "      Petal.Width < 0.8  to the left,  agree=0.959, adj=0.85, (0 split)\n",
      "      Species     splits as  LR-,      agree=0.959, adj=0.85, (0 split)\n",
      "      Sepal.Width < 2.95 to the right, agree=0.890, adj=0.60, (0 split)\n",
      "\n",
      "Node number 3: 77 observations,    complexity param=0.121807\n",
      "  mean=6.472727, MSE=0.3422432 \n",
      "  left son=6 (68 obs) right son=7 (9 obs)\n",
      "  Primary splits:\n",
      "      Petal.Length < 6.05 to the left,  improve=0.47224030, (0 missing)\n",
      "      Petal.Width  < 1.95 to the left,  improve=0.15491880, (0 missing)\n",
      "      Sepal.Width  < 2.75 to the left,  improve=0.09266865, (0 missing)\n",
      "      Species      splits as  -LR,      improve=0.07189928, (0 missing)\n",
      "  Surrogate splits:\n",
      "      Sepal.Width < 3.5  to the left,  agree=0.922, adj=0.333, (0 split)\n",
      "\n",
      "Node number 4: 53 observations,    complexity param=0.02303165\n",
      "  mean=5.00566, MSE=0.115251 \n",
      "  left son=8 (20 obs) right son=9 (33 obs)\n",
      "  Primary splits:\n",
      "      Sepal.Width  < 3.25 to the left,  improve=0.38523060, (0 missing)\n",
      "      Petal.Length < 1.45 to the left,  improve=0.08661382, (0 missing)\n",
      "      Petal.Width  < 0.35 to the left,  improve=0.08016696, (0 missing)\n",
      "  Surrogate splits:\n",
      "      Petal.Length < 2.45 to the right, agree=0.679, adj=0.15, (0 split)\n",
      "      Petal.Width  < 0.8  to the right, agree=0.679, adj=0.15, (0 split)\n",
      "      Species      splits as  RL-,      agree=0.679, adj=0.15, (0 split)\n",
      "\n",
      "Node number 5: 20 observations\n",
      "  mean=5.64, MSE=0.0594 \n",
      "\n",
      "Node number 6: 68 observations,    complexity param=0.02980452\n",
      "  mean=6.326471, MSE=0.198417 \n",
      "  left son=12 (43 obs) right son=13 (25 obs)\n",
      "  Primary splits:\n",
      "      Petal.Length < 5.15 to the left,  improve=0.22568920, (0 missing)\n",
      "      Sepal.Width  < 2.95 to the left,  improve=0.18113710, (0 missing)\n",
      "      Petal.Width  < 2.05 to the left,  improve=0.11970880, (0 missing)\n",
      "      Species      splits as  -LR,      improve=0.01499292, (0 missing)\n",
      "  Surrogate splits:\n",
      "      Petal.Width < 2.05 to the left,  agree=0.838, adj=0.56, (0 split)\n",
      "      Species     splits as  -LR,      agree=0.765, adj=0.36, (0 split)\n",
      "      Sepal.Width < 3.15 to the left,  agree=0.676, adj=0.12, (0 split)\n",
      "\n",
      "Node number 7: 9 observations\n",
      "  mean=7.577778, MSE=0.04617284 \n",
      "\n",
      "Node number 8: 20 observations\n",
      "  mean=4.735, MSE=0.054275 \n",
      "\n",
      "Node number 9: 33 observations\n",
      "  mean=5.169697, MSE=0.08089991 \n",
      "\n",
      "Node number 12: 43 observations,    complexity param=0.01698037\n",
      "  mean=6.165116, MSE=0.1920389 \n",
      "  left son=24 (33 obs) right son=25 (10 obs)\n",
      "  Primary splits:\n",
      "      Sepal.Width  < 3.05 to the left,  improve=0.21009020, (0 missing)\n",
      "      Species      splits as  -RL,      improve=0.07788079, (0 missing)\n",
      "      Petal.Length < 4.55 to the left,  improve=0.07459424, (0 missing)\n",
      "      Petal.Width  < 1.55 to the right, improve=0.06783151, (0 missing)\n",
      "\n",
      "Node number 13: 25 observations\n",
      "  mean=6.604, MSE=0.087584 \n",
      "\n",
      "Node number 24: 33 observations\n",
      "  mean=6.054545, MSE=0.1582369 \n",
      "\n",
      "Node number 25: 10 observations\n",
      "  mean=6.53, MSE=0.1301 \n",
      "\n"
     ]
    }
   ],
   "source": [
    "summary(modelo)\n"
   ]
  },
  {
   "cell_type": "code",
   "execution_count": 14,
   "metadata": {
    "vscode": {
     "languageId": "r"
    }
   },
   "outputs": [
    {
     "data": {
      "application/pdf": "[encoded data removed]",
      "image/jpeg": "[encoded data removed]",
      "image/png": "[encoded data removed]",
      "image/svg+xml": [
       "<?xml version=\"1.0\" encoding=\"UTF-8\"?>\n",
       "<svg xmlns=\"http://www.w3.org/2000/svg\" xmlns:xlink=\"http://www.w3.org/1999/xlink\" width=\"504\" height=\"504\" viewBox=\"0 0 504 504\">\n",
       "<defs>\n",
       "<g>\n",
       "<g id=\"glyph-0-0\">\n",
       "<path d=\"M 1.078125 2.546875 L 1.078125 -8.703125 L 2.046875 -8.703125 L 2.046875 2.546875 Z M 1.078125 2.546875 \"/>\n",
       "</g>\n",
       "<g id=\"glyph-0-1\">\n",
       "<path d=\"M 7.375 -5.765625 C 7.375 -5.410156 7.3125 -5.078125 7.1875 -4.765625 C 7.070312 -4.453125 6.894531 -4.179688 6.65625 -3.953125 C 6.425781 -3.722656 6.128906 -3.539062 5.765625 -3.40625 C 5.410156 -3.28125 5 -3.21875 4.53125 -3.21875 L 2.109375 -3.21875 L 2.109375 0 L 0.984375 0 L 0.984375 -8.25 L 4.453125 -8.25 C 4.941406 -8.25 5.367188 -8.191406 5.734375 -8.078125 C 6.097656 -7.960938 6.398438 -7.796875 6.640625 -7.578125 C 6.890625 -7.359375 7.070312 -7.09375 7.1875 -6.78125 C 7.3125 -6.476562 7.375 -6.140625 7.375 -5.765625 Z M 6.25 -5.765625 C 6.25 -6.285156 6.085938 -6.679688 5.765625 -6.953125 C 5.441406 -7.222656 4.960938 -7.359375 4.328125 -7.359375 L 2.109375 -7.359375 L 2.109375 -4.109375 L 4.375 -4.109375 C 5.019531 -4.109375 5.492188 -4.25 5.796875 -4.53125 C 6.097656 -4.8125 6.25 -5.222656 6.25 -5.765625 Z M 6.25 -5.765625 \"/>\n",
       "</g>\n",
       "<g id=\"glyph-0-2\">\n",
       "<path d=\"M 1.625 -2.953125 C 1.625 -2.617188 1.65625 -2.3125 1.71875 -2.03125 C 1.789062 -1.75 1.894531 -1.507812 2.03125 -1.3125 C 2.175781 -1.113281 2.359375 -0.957031 2.578125 -0.84375 C 2.804688 -0.726562 3.078125 -0.671875 3.390625 -0.671875 C 3.847656 -0.671875 4.210938 -0.757812 4.484375 -0.9375 C 4.765625 -1.125 4.953125 -1.359375 5.046875 -1.640625 L 5.96875 -1.390625 C 5.90625 -1.210938 5.8125 -1.035156 5.6875 -0.859375 C 5.570312 -0.679688 5.414062 -0.519531 5.21875 -0.375 C 5.019531 -0.226562 4.769531 -0.109375 4.46875 -0.015625 C 4.164062 0.078125 3.804688 0.125 3.390625 0.125 C 2.453125 0.125 1.738281 -0.15625 1.25 -0.71875 C 0.757812 -1.28125 0.515625 -2.113281 0.515625 -3.21875 C 0.515625 -3.8125 0.585938 -4.3125 0.734375 -4.71875 C 0.878906 -5.132812 1.082031 -5.46875 1.34375 -5.71875 C 1.601562 -5.976562 1.90625 -6.164062 2.25 -6.28125 C 2.59375 -6.394531 2.957031 -6.453125 3.34375 -6.453125 C 3.875 -6.453125 4.316406 -6.363281 4.671875 -6.1875 C 5.035156 -6.019531 5.320312 -5.785156 5.53125 -5.484375 C 5.75 -5.179688 5.90625 -4.820312 6 -4.40625 C 6.09375 -4 6.140625 -3.5625 6.140625 -3.09375 L 6.140625 -2.953125 Z M 5.046875 -3.75 C 4.992188 -4.425781 4.828125 -4.914062 4.546875 -5.21875 C 4.265625 -5.519531 3.859375 -5.671875 3.328125 -5.671875 C 3.148438 -5.671875 2.960938 -5.644531 2.765625 -5.59375 C 2.578125 -5.539062 2.398438 -5.441406 2.234375 -5.296875 C 2.078125 -5.148438 1.941406 -4.953125 1.828125 -4.703125 C 1.710938 -4.453125 1.644531 -4.132812 1.625 -3.75 Z M 5.046875 -3.75 \"/>\n",
       "</g>\n",
       "<g id=\"glyph-0-3\">\n",
       "<path d=\"M 3.25 -0.046875 C 3.082031 -0.00390625 2.914062 0.0234375 2.75 0.046875 C 2.59375 0.078125 2.40625 0.09375 2.1875 0.09375 C 1.34375 0.09375 0.921875 -0.382812 0.921875 -1.34375 L 0.921875 -5.578125 L 0.1875 -5.578125 L 0.1875 -6.34375 L 0.953125 -6.34375 L 1.265625 -7.765625 L 1.96875 -7.765625 L 1.96875 -6.34375 L 3.140625 -6.34375 L 3.140625 -5.578125 L 1.96875 -5.578125 L 1.96875 -1.578125 C 1.96875 -1.265625 2.015625 -1.046875 2.109375 -0.921875 C 2.210938 -0.804688 2.390625 -0.75 2.640625 -0.75 C 2.742188 -0.75 2.84375 -0.753906 2.9375 -0.765625 C 3.03125 -0.785156 3.132812 -0.804688 3.25 -0.828125 Z M 3.25 -0.046875 \"/>\n",
       "</g>\n",
       "<g id=\"glyph-0-4\">\n",
       "<path d=\"M 2.421875 0.125 C 1.785156 0.125 1.304688 -0.0390625 0.984375 -0.375 C 0.671875 -0.71875 0.515625 -1.179688 0.515625 -1.765625 C 0.515625 -2.179688 0.59375 -2.523438 0.75 -2.796875 C 0.90625 -3.066406 1.109375 -3.273438 1.359375 -3.421875 C 1.617188 -3.578125 1.910156 -3.679688 2.234375 -3.734375 C 2.566406 -3.796875 2.90625 -3.832031 3.25 -3.84375 L 4.671875 -3.875 L 4.671875 -4.21875 C 4.671875 -4.476562 4.640625 -4.695312 4.578125 -4.875 C 4.523438 -5.0625 4.441406 -5.210938 4.328125 -5.328125 C 4.222656 -5.441406 4.082031 -5.523438 3.90625 -5.578125 C 3.738281 -5.628906 3.539062 -5.65625 3.3125 -5.65625 C 3.101562 -5.65625 2.914062 -5.640625 2.75 -5.609375 C 2.59375 -5.578125 2.453125 -5.523438 2.328125 -5.453125 C 2.210938 -5.378906 2.113281 -5.273438 2.03125 -5.140625 C 1.957031 -5.015625 1.910156 -4.847656 1.890625 -4.640625 L 0.796875 -4.75 C 0.828125 -5 0.894531 -5.226562 1 -5.4375 C 1.113281 -5.644531 1.269531 -5.820312 1.46875 -5.96875 C 1.675781 -6.125 1.929688 -6.242188 2.234375 -6.328125 C 2.535156 -6.410156 2.898438 -6.453125 3.328125 -6.453125 C 4.128906 -6.453125 4.726562 -6.269531 5.125 -5.90625 C 5.53125 -5.539062 5.734375 -5.015625 5.734375 -4.328125 L 5.734375 -1.59375 C 5.734375 -1.28125 5.773438 -1.046875 5.859375 -0.890625 C 5.941406 -0.734375 6.097656 -0.65625 6.328125 -0.65625 C 6.390625 -0.65625 6.445312 -0.65625 6.5 -0.65625 C 6.5625 -0.664062 6.617188 -0.675781 6.671875 -0.6875 L 6.671875 -0.03125 C 6.535156 0 6.398438 0.0195312 6.265625 0.03125 C 6.140625 0.0507812 6.003906 0.0625 5.859375 0.0625 C 5.660156 0.0625 5.488281 0.0351562 5.34375 -0.015625 C 5.207031 -0.0664062 5.09375 -0.144531 5 -0.25 C 4.90625 -0.363281 4.832031 -0.5 4.78125 -0.65625 C 4.738281 -0.8125 4.710938 -1 4.703125 -1.21875 L 4.671875 -1.21875 C 4.554688 -1.007812 4.429688 -0.820312 4.296875 -0.65625 C 4.160156 -0.5 4.003906 -0.363281 3.828125 -0.25 C 3.648438 -0.132812 3.445312 -0.046875 3.21875 0.015625 C 2.988281 0.0859375 2.722656 0.125 2.421875 0.125 Z M 2.671875 -0.671875 C 3.003906 -0.671875 3.296875 -0.734375 3.546875 -0.859375 C 3.796875 -0.984375 4.003906 -1.140625 4.171875 -1.328125 C 4.335938 -1.523438 4.460938 -1.734375 4.546875 -1.953125 C 4.628906 -2.179688 4.671875 -2.398438 4.671875 -2.609375 L 4.671875 -3.125 L 3.515625 -3.109375 C 3.253906 -3.097656 3.007812 -3.078125 2.78125 -3.046875 C 2.550781 -3.015625 2.347656 -2.945312 2.171875 -2.84375 C 1.992188 -2.75 1.851562 -2.613281 1.75 -2.4375 C 1.644531 -2.269531 1.59375 -2.039062 1.59375 -1.75 C 1.59375 -1.40625 1.6875 -1.140625 1.875 -0.953125 C 2.0625 -0.765625 2.328125 -0.671875 2.671875 -0.671875 Z M 2.671875 -0.671875 \"/>\n",
       "</g>\n",
       "<g id=\"glyph-0-5\">\n",
       "<path d=\"M 0.8125 0 L 0.8125 -8.703125 L 1.859375 -8.703125 L 1.859375 0 Z M 0.8125 0 \"/>\n",
       "</g>\n",
       "<g id=\"glyph-0-6\">\n",
       "<path d=\"M 1.09375 0 L 1.09375 -1.28125 L 2.234375 -1.28125 L 2.234375 0 Z M 1.09375 0 \"/>\n",
       "</g>\n",
       "<g id=\"glyph-0-7\">\n",
       "<path d=\"M 0.984375 0 L 0.984375 -8.25 L 2.109375 -8.25 L 2.109375 -0.921875 L 6.28125 -0.921875 L 6.28125 0 Z M 0.984375 0 \"/>\n",
       "</g>\n",
       "<g id=\"glyph-0-8\">\n",
       "<path d=\"M 4.828125 0 L 4.828125 -4.015625 C 4.828125 -4.328125 4.804688 -4.585938 4.765625 -4.796875 C 4.722656 -5.003906 4.648438 -5.171875 4.546875 -5.296875 C 4.441406 -5.421875 4.304688 -5.507812 4.140625 -5.5625 C 3.972656 -5.613281 3.769531 -5.640625 3.53125 -5.640625 C 3.28125 -5.640625 3.050781 -5.59375 2.84375 -5.5 C 2.644531 -5.414062 2.472656 -5.289062 2.328125 -5.125 C 2.191406 -4.957031 2.082031 -4.753906 2 -4.515625 C 1.925781 -4.273438 1.890625 -3.992188 1.890625 -3.671875 L 1.890625 0 L 0.828125 0 L 0.828125 -4.984375 C 0.828125 -5.117188 0.828125 -5.257812 0.828125 -5.40625 C 0.828125 -5.550781 0.820312 -5.6875 0.8125 -5.8125 C 0.8125 -5.945312 0.804688 -6.0625 0.796875 -6.15625 C 0.796875 -6.25 0.796875 -6.3125 0.796875 -6.34375 L 1.796875 -6.34375 C 1.796875 -6.320312 1.796875 -6.265625 1.796875 -6.171875 C 1.804688 -6.085938 1.8125 -5.988281 1.8125 -5.875 C 1.820312 -5.769531 1.828125 -5.660156 1.828125 -5.546875 C 1.835938 -5.429688 1.84375 -5.332031 1.84375 -5.25 L 1.859375 -5.25 C 1.960938 -5.4375 2.070312 -5.601562 2.1875 -5.75 C 2.3125 -5.90625 2.453125 -6.03125 2.609375 -6.125 C 2.773438 -6.226562 2.957031 -6.304688 3.15625 -6.359375 C 3.363281 -6.421875 3.609375 -6.453125 3.890625 -6.453125 C 4.234375 -6.453125 4.53125 -6.410156 4.78125 -6.328125 C 5.039062 -6.242188 5.253906 -6.109375 5.421875 -5.921875 C 5.585938 -5.742188 5.707031 -5.515625 5.78125 -5.234375 C 5.851562 -4.953125 5.890625 -4.613281 5.890625 -4.21875 L 5.890625 0 Z M 4.828125 0 \"/>\n",
       "</g>\n",
       "<g id=\"glyph-0-9\">\n",
       "<path d=\"M 3.21875 2.484375 C 2.851562 2.484375 2.53125 2.445312 2.25 2.375 C 1.96875 2.300781 1.722656 2.195312 1.515625 2.0625 C 1.316406 1.925781 1.15625 1.757812 1.03125 1.5625 C 0.90625 1.375 0.816406 1.160156 0.765625 0.921875 L 1.828125 0.78125 C 1.898438 1.070312 2.054688 1.296875 2.296875 1.453125 C 2.535156 1.609375 2.847656 1.6875 3.234375 1.6875 C 3.472656 1.6875 3.691406 1.648438 3.890625 1.578125 C 4.085938 1.515625 4.253906 1.410156 4.390625 1.265625 C 4.523438 1.117188 4.628906 0.925781 4.703125 0.6875 C 4.773438 0.457031 4.8125 0.175781 4.8125 -0.15625 L 4.8125 -1.171875 C 4.726562 -1.015625 4.628906 -0.863281 4.515625 -0.71875 C 4.398438 -0.570312 4.257812 -0.441406 4.09375 -0.328125 C 3.925781 -0.210938 3.734375 -0.117188 3.515625 -0.046875 C 3.296875 0.015625 3.046875 0.046875 2.765625 0.046875 C 2.359375 0.046875 2.007812 -0.0195312 1.71875 -0.15625 C 1.4375 -0.289062 1.203125 -0.492188 1.015625 -0.765625 C 0.835938 -1.035156 0.707031 -1.367188 0.625 -1.765625 C 0.539062 -2.171875 0.5 -2.632812 0.5 -3.15625 C 0.5 -3.664062 0.539062 -4.125 0.625 -4.53125 C 0.707031 -4.9375 0.84375 -5.28125 1.03125 -5.5625 C 1.226562 -5.84375 1.476562 -6.054688 1.78125 -6.203125 C 2.082031 -6.359375 2.453125 -6.4375 2.890625 -6.4375 C 3.335938 -6.4375 3.722656 -6.332031 4.046875 -6.125 C 4.378906 -5.925781 4.632812 -5.632812 4.8125 -5.25 L 4.828125 -5.25 C 4.828125 -5.351562 4.828125 -5.460938 4.828125 -5.578125 C 4.835938 -5.703125 4.84375 -5.816406 4.84375 -5.921875 C 4.851562 -6.035156 4.863281 -6.128906 4.875 -6.203125 C 4.882812 -6.285156 4.894531 -6.332031 4.90625 -6.34375 L 5.90625 -6.34375 C 5.894531 -6.300781 5.890625 -6.238281 5.890625 -6.15625 C 5.890625 -6.070312 5.882812 -5.972656 5.875 -5.859375 C 5.875 -5.742188 5.867188 -5.613281 5.859375 -5.46875 C 5.859375 -5.320312 5.859375 -5.175781 5.859375 -5.03125 L 5.859375 -0.1875 C 5.859375 0.707031 5.640625 1.375 5.203125 1.8125 C 4.773438 2.257812 4.113281 2.484375 3.21875 2.484375 Z M 4.8125 -3.171875 C 4.8125 -3.609375 4.765625 -3.984375 4.671875 -4.296875 C 4.578125 -4.617188 4.453125 -4.878906 4.296875 -5.078125 C 4.140625 -5.273438 3.957031 -5.421875 3.75 -5.515625 C 3.550781 -5.609375 3.347656 -5.65625 3.140625 -5.65625 C 2.867188 -5.65625 2.632812 -5.609375 2.4375 -5.515625 C 2.25 -5.421875 2.09375 -5.269531 1.96875 -5.0625 C 1.84375 -4.863281 1.75 -4.609375 1.6875 -4.296875 C 1.625 -3.984375 1.59375 -3.609375 1.59375 -3.171875 C 1.59375 -2.710938 1.625 -2.328125 1.6875 -2.015625 C 1.75 -1.703125 1.84375 -1.453125 1.96875 -1.265625 C 2.09375 -1.078125 2.25 -0.941406 2.4375 -0.859375 C 2.625 -0.773438 2.851562 -0.734375 3.125 -0.734375 C 3.332031 -0.734375 3.535156 -0.773438 3.734375 -0.859375 C 3.941406 -0.953125 4.125 -1.097656 4.28125 -1.296875 C 4.445312 -1.492188 4.578125 -1.742188 4.671875 -2.046875 C 4.765625 -2.359375 4.8125 -2.734375 4.8125 -3.171875 Z M 4.8125 -3.171875 \"/>\n",
       "</g>\n",
       "<g id=\"glyph-0-10\">\n",
       "<path d=\"M 1.859375 -5.25 C 1.972656 -5.46875 2.097656 -5.648438 2.234375 -5.796875 C 2.367188 -5.953125 2.519531 -6.078125 2.6875 -6.171875 C 2.851562 -6.273438 3.03125 -6.347656 3.21875 -6.390625 C 3.414062 -6.429688 3.640625 -6.453125 3.890625 -6.453125 C 4.296875 -6.453125 4.628906 -6.394531 4.890625 -6.28125 C 5.148438 -6.175781 5.351562 -6.023438 5.5 -5.828125 C 5.644531 -5.628906 5.742188 -5.394531 5.796875 -5.125 C 5.859375 -4.851562 5.890625 -4.550781 5.890625 -4.21875 L 5.890625 0 L 4.828125 0 L 4.828125 -4.015625 C 4.828125 -4.285156 4.8125 -4.519531 4.78125 -4.71875 C 4.75 -4.925781 4.6875 -5.097656 4.59375 -5.234375 C 4.5 -5.367188 4.363281 -5.46875 4.1875 -5.53125 C 4.019531 -5.601562 3.800781 -5.640625 3.53125 -5.640625 C 3.28125 -5.640625 3.050781 -5.59375 2.84375 -5.5 C 2.644531 -5.414062 2.472656 -5.289062 2.328125 -5.125 C 2.191406 -4.957031 2.082031 -4.753906 2 -4.515625 C 1.925781 -4.285156 1.890625 -4.023438 1.890625 -3.734375 L 1.890625 0 L 0.828125 0 L 0.828125 -8.703125 L 1.890625 -8.703125 L 1.890625 -6.4375 C 1.890625 -6.300781 1.882812 -6.171875 1.875 -6.046875 C 1.875 -5.921875 1.867188 -5.800781 1.859375 -5.6875 C 1.859375 -5.582031 1.851562 -5.488281 1.84375 -5.40625 C 1.84375 -5.332031 1.84375 -5.28125 1.84375 -5.25 Z M 1.859375 -5.25 \"/>\n",
       "</g>\n",
       "<g id=\"glyph-0-11\">\n",
       "<path d=\"M 0.59375 -3.34375 L 0.59375 -4.546875 L 6.421875 -7 L 6.421875 -6.09375 L 1.390625 -3.953125 L 6.421875 -1.796875 L 6.421875 -0.90625 Z M 0.59375 -3.34375 \"/>\n",
       "</g>\n",
       "<g id=\"glyph-0-12\">\n",
       "</g>\n",
       "<g id=\"glyph-0-13\">\n",
       "<path d=\"M 5.15625 -1.875 L 5.15625 0 L 4.171875 0 L 4.171875 -1.875 L 0.28125 -1.875 L 0.28125 -2.6875 L 4.0625 -8.25 L 5.15625 -8.25 L 5.15625 -2.703125 L 6.328125 -2.703125 L 6.328125 -1.875 Z M 4.171875 -7.0625 C 4.160156 -7.039062 4.140625 -7.003906 4.109375 -6.953125 C 4.078125 -6.898438 4.039062 -6.835938 4 -6.765625 C 3.957031 -6.691406 3.914062 -6.617188 3.875 -6.546875 C 3.84375 -6.472656 3.8125 -6.414062 3.78125 -6.375 L 1.65625 -3.25 C 1.632812 -3.21875 1.601562 -3.175781 1.5625 -3.125 C 1.53125 -3.070312 1.492188 -3.019531 1.453125 -2.96875 C 1.421875 -2.914062 1.382812 -2.863281 1.34375 -2.8125 C 1.300781 -2.769531 1.269531 -2.734375 1.25 -2.703125 L 4.171875 -2.703125 Z M 4.171875 -7.0625 \"/>\n",
       "</g>\n",
       "<g id=\"glyph-0-14\">\n",
       "<path d=\"M 0.609375 0 L 0.609375 -0.75 C 0.804688 -1.207031 1.046875 -1.609375 1.328125 -1.953125 C 1.617188 -2.304688 1.921875 -2.625 2.234375 -2.90625 C 2.554688 -3.1875 2.867188 -3.445312 3.171875 -3.6875 C 3.484375 -3.9375 3.765625 -4.179688 4.015625 -4.421875 C 4.265625 -4.660156 4.46875 -4.910156 4.625 -5.171875 C 4.78125 -5.441406 4.859375 -5.742188 4.859375 -6.078125 C 4.859375 -6.316406 4.820312 -6.523438 4.75 -6.703125 C 4.675781 -6.878906 4.570312 -7.023438 4.4375 -7.140625 C 4.3125 -7.265625 4.15625 -7.359375 3.96875 -7.421875 C 3.78125 -7.484375 3.578125 -7.515625 3.359375 -7.515625 C 3.140625 -7.515625 2.9375 -7.484375 2.75 -7.421875 C 2.570312 -7.367188 2.410156 -7.28125 2.265625 -7.15625 C 2.117188 -7.039062 2 -6.894531 1.90625 -6.71875 C 1.8125 -6.550781 1.753906 -6.351562 1.734375 -6.125 L 0.65625 -6.21875 C 0.6875 -6.507812 0.765625 -6.785156 0.890625 -7.046875 C 1.023438 -7.316406 1.203125 -7.550781 1.421875 -7.75 C 1.648438 -7.945312 1.921875 -8.097656 2.234375 -8.203125 C 2.554688 -8.316406 2.929688 -8.375 3.359375 -8.375 C 3.765625 -8.375 4.125 -8.328125 4.4375 -8.234375 C 4.757812 -8.140625 5.03125 -7.992188 5.25 -7.796875 C 5.476562 -7.609375 5.648438 -7.375 5.765625 -7.09375 C 5.878906 -6.8125 5.9375 -6.488281 5.9375 -6.125 C 5.9375 -5.84375 5.882812 -5.578125 5.78125 -5.328125 C 5.6875 -5.078125 5.554688 -4.835938 5.390625 -4.609375 C 5.222656 -4.378906 5.03125 -4.160156 4.8125 -3.953125 C 4.59375 -3.742188 4.363281 -3.535156 4.125 -3.328125 C 3.894531 -3.128906 3.65625 -2.929688 3.40625 -2.734375 C 3.164062 -2.535156 2.9375 -2.335938 2.71875 -2.140625 C 2.507812 -1.941406 2.320312 -1.738281 2.15625 -1.53125 C 1.988281 -1.332031 1.859375 -1.117188 1.765625 -0.890625 L 6.078125 -0.890625 L 6.078125 0 Z M 0.609375 0 \"/>\n",
       "</g>\n",
       "<g id=\"glyph-0-15\">\n",
       "<path d=\"M 6.171875 -2.6875 C 6.171875 -2.269531 6.109375 -1.890625 5.984375 -1.546875 C 5.859375 -1.203125 5.671875 -0.90625 5.421875 -0.65625 C 5.179688 -0.414062 4.878906 -0.222656 4.515625 -0.078125 C 4.148438 0.0546875 3.722656 0.125 3.234375 0.125 C 2.804688 0.125 2.429688 0.0703125 2.109375 -0.03125 C 1.785156 -0.132812 1.507812 -0.273438 1.28125 -0.453125 C 1.0625 -0.628906 0.882812 -0.835938 0.75 -1.078125 C 0.625 -1.316406 0.535156 -1.570312 0.484375 -1.84375 L 1.546875 -1.96875 C 1.585938 -1.8125 1.644531 -1.660156 1.71875 -1.515625 C 1.800781 -1.367188 1.910156 -1.238281 2.046875 -1.125 C 2.179688 -1.007812 2.347656 -0.914062 2.546875 -0.84375 C 2.742188 -0.78125 2.984375 -0.75 3.265625 -0.75 C 3.535156 -0.75 3.78125 -0.789062 4 -0.875 C 4.226562 -0.957031 4.421875 -1.078125 4.578125 -1.234375 C 4.734375 -1.398438 4.851562 -1.601562 4.9375 -1.84375 C 5.03125 -2.082031 5.078125 -2.359375 5.078125 -2.671875 C 5.078125 -2.921875 5.035156 -3.148438 4.953125 -3.359375 C 4.867188 -3.578125 4.75 -3.765625 4.59375 -3.921875 C 4.445312 -4.078125 4.257812 -4.195312 4.03125 -4.28125 C 3.8125 -4.363281 3.5625 -4.40625 3.28125 -4.40625 C 3.113281 -4.40625 2.953125 -4.390625 2.796875 -4.359375 C 2.648438 -4.328125 2.515625 -4.285156 2.390625 -4.234375 C 2.265625 -4.179688 2.148438 -4.117188 2.046875 -4.046875 C 1.941406 -3.972656 1.84375 -3.894531 1.75 -3.8125 L 0.71875 -3.8125 L 1 -8.25 L 5.6875 -8.25 L 5.6875 -7.359375 L 1.953125 -7.359375 L 1.796875 -4.734375 C 1.984375 -4.878906 2.21875 -5.003906 2.5 -5.109375 C 2.78125 -5.210938 3.113281 -5.265625 3.5 -5.265625 C 3.914062 -5.265625 4.285156 -5.203125 4.609375 -5.078125 C 4.941406 -4.953125 5.222656 -4.773438 5.453125 -4.546875 C 5.679688 -4.316406 5.859375 -4.046875 5.984375 -3.734375 C 6.109375 -3.421875 6.171875 -3.070312 6.171875 -2.6875 Z M 6.171875 -2.6875 \"/>\n",
       "</g>\n",
       "<g id=\"glyph-0-16\">\n",
       "<path d=\"M 6.140625 -2.28125 C 6.140625 -1.90625 6.078125 -1.566406 5.953125 -1.265625 C 5.835938 -0.972656 5.660156 -0.722656 5.421875 -0.515625 C 5.179688 -0.304688 4.882812 -0.144531 4.53125 -0.03125 C 4.1875 0.0703125 3.789062 0.125 3.34375 0.125 C 2.832031 0.125 2.398438 0.0625 2.046875 -0.0625 C 1.703125 -0.195312 1.414062 -0.367188 1.1875 -0.578125 C 0.957031 -0.785156 0.785156 -1.019531 0.671875 -1.28125 C 0.566406 -1.550781 0.492188 -1.832031 0.453125 -2.125 L 1.546875 -2.21875 C 1.578125 -2 1.632812 -1.800781 1.71875 -1.625 C 1.800781 -1.445312 1.914062 -1.289062 2.0625 -1.15625 C 2.207031 -1.03125 2.382812 -0.929688 2.59375 -0.859375 C 2.800781 -0.785156 3.050781 -0.75 3.34375 -0.75 C 3.875 -0.75 4.289062 -0.878906 4.59375 -1.140625 C 4.894531 -1.410156 5.046875 -1.800781 5.046875 -2.3125 C 5.046875 -2.613281 4.976562 -2.859375 4.84375 -3.046875 C 4.707031 -3.234375 4.539062 -3.378906 4.34375 -3.484375 C 4.144531 -3.585938 3.925781 -3.65625 3.6875 -3.6875 C 3.445312 -3.726562 3.226562 -3.75 3.03125 -3.75 L 2.4375 -3.75 L 2.4375 -4.65625 L 3.015625 -4.65625 C 3.210938 -4.65625 3.414062 -4.675781 3.625 -4.71875 C 3.84375 -4.757812 4.039062 -4.832031 4.21875 -4.9375 C 4.394531 -5.050781 4.539062 -5.195312 4.65625 -5.375 C 4.769531 -5.5625 4.828125 -5.796875 4.828125 -6.078125 C 4.828125 -6.523438 4.695312 -6.875 4.4375 -7.125 C 4.1875 -7.382812 3.800781 -7.515625 3.28125 -7.515625 C 2.820312 -7.515625 2.445312 -7.394531 2.15625 -7.15625 C 1.875 -6.914062 1.707031 -6.578125 1.65625 -6.140625 L 0.59375 -6.234375 C 0.632812 -6.597656 0.734375 -6.910156 0.890625 -7.171875 C 1.046875 -7.441406 1.242188 -7.664062 1.484375 -7.84375 C 1.734375 -8.019531 2.007812 -8.148438 2.3125 -8.234375 C 2.625 -8.328125 2.953125 -8.375 3.296875 -8.375 C 3.753906 -8.375 4.148438 -8.316406 4.484375 -8.203125 C 4.816406 -8.085938 5.085938 -7.929688 5.296875 -7.734375 C 5.515625 -7.535156 5.671875 -7.300781 5.765625 -7.03125 C 5.867188 -6.769531 5.921875 -6.488281 5.921875 -6.1875 C 5.921875 -5.945312 5.882812 -5.722656 5.8125 -5.515625 C 5.75 -5.304688 5.644531 -5.113281 5.5 -4.9375 C 5.363281 -4.769531 5.1875 -4.625 4.96875 -4.5 C 4.75 -4.382812 4.488281 -4.296875 4.1875 -4.234375 L 4.1875 -4.21875 C 4.519531 -4.175781 4.804688 -4.097656 5.046875 -3.984375 C 5.296875 -3.867188 5.5 -3.722656 5.65625 -3.546875 C 5.820312 -3.378906 5.941406 -3.1875 6.015625 -2.96875 C 6.097656 -2.75 6.140625 -2.519531 6.140625 -2.28125 Z M 6.140625 -2.28125 \"/>\n",
       "</g>\n",
       "<g id=\"glyph-0-17\">\n",
       "<path d=\"M 7.453125 -2.28125 C 7.453125 -1.9375 7.382812 -1.613281 7.25 -1.3125 C 7.113281 -1.019531 6.90625 -0.765625 6.625 -0.546875 C 6.34375 -0.335938 5.988281 -0.171875 5.5625 -0.046875 C 5.132812 0.0664062 4.628906 0.125 4.046875 0.125 C 3.015625 0.125 2.210938 -0.0546875 1.640625 -0.421875 C 1.066406 -0.785156 0.703125 -1.304688 0.546875 -1.984375 L 1.625 -2.203125 C 1.6875 -1.984375 1.769531 -1.785156 1.875 -1.609375 C 1.988281 -1.429688 2.140625 -1.28125 2.328125 -1.15625 C 2.523438 -1.03125 2.765625 -0.929688 3.046875 -0.859375 C 3.335938 -0.785156 3.679688 -0.75 4.078125 -0.75 C 4.410156 -0.75 4.71875 -0.773438 5 -0.828125 C 5.28125 -0.890625 5.519531 -0.976562 5.71875 -1.09375 C 5.914062 -1.21875 6.066406 -1.367188 6.171875 -1.546875 C 6.285156 -1.734375 6.34375 -1.957031 6.34375 -2.21875 C 6.34375 -2.488281 6.28125 -2.707031 6.15625 -2.875 C 6.039062 -3.039062 5.867188 -3.175781 5.640625 -3.28125 C 5.421875 -3.394531 5.15625 -3.488281 4.84375 -3.5625 C 4.539062 -3.644531 4.203125 -3.726562 3.828125 -3.8125 C 3.585938 -3.863281 3.351562 -3.914062 3.125 -3.96875 C 2.894531 -4.03125 2.671875 -4.101562 2.453125 -4.1875 C 2.242188 -4.269531 2.046875 -4.367188 1.859375 -4.484375 C 1.671875 -4.597656 1.507812 -4.734375 1.375 -4.890625 C 1.238281 -5.054688 1.128906 -5.242188 1.046875 -5.453125 C 0.972656 -5.660156 0.9375 -5.898438 0.9375 -6.171875 C 0.9375 -6.554688 1.015625 -6.890625 1.171875 -7.171875 C 1.328125 -7.453125 1.546875 -7.679688 1.828125 -7.859375 C 2.109375 -8.046875 2.441406 -8.175781 2.828125 -8.25 C 3.210938 -8.332031 3.625 -8.375 4.0625 -8.375 C 4.570312 -8.375 5.007812 -8.332031 5.375 -8.25 C 5.738281 -8.175781 6.046875 -8.054688 6.296875 -7.890625 C 6.546875 -7.734375 6.742188 -7.535156 6.890625 -7.296875 C 7.046875 -7.066406 7.171875 -6.796875 7.265625 -6.484375 L 6.15625 -6.28125 C 6.101562 -6.488281 6.023438 -6.671875 5.921875 -6.828125 C 5.816406 -6.984375 5.679688 -7.113281 5.515625 -7.21875 C 5.347656 -7.320312 5.144531 -7.398438 4.90625 -7.453125 C 4.664062 -7.503906 4.382812 -7.53125 4.0625 -7.53125 C 3.675781 -7.53125 3.351562 -7.492188 3.09375 -7.421875 C 2.832031 -7.359375 2.625 -7.269531 2.46875 -7.15625 C 2.3125 -7.039062 2.195312 -6.898438 2.125 -6.734375 C 2.050781 -6.578125 2.015625 -6.410156 2.015625 -6.234375 C 2.015625 -5.984375 2.078125 -5.78125 2.203125 -5.625 C 2.328125 -5.46875 2.492188 -5.332031 2.703125 -5.21875 C 2.921875 -5.113281 3.164062 -5.023438 3.4375 -4.953125 C 3.71875 -4.890625 4.015625 -4.820312 4.328125 -4.75 C 4.578125 -4.695312 4.828125 -4.640625 5.078125 -4.578125 C 5.335938 -4.515625 5.582031 -4.441406 5.8125 -4.359375 C 6.039062 -4.273438 6.253906 -4.175781 6.453125 -4.0625 C 6.648438 -3.945312 6.820312 -3.804688 6.96875 -3.640625 C 7.125 -3.484375 7.242188 -3.289062 7.328125 -3.0625 C 7.410156 -2.84375 7.453125 -2.582031 7.453125 -2.28125 Z M 7.453125 -2.28125 \"/>\n",
       "</g>\n",
       "<g id=\"glyph-0-18\">\n",
       "<path d=\"M 6.171875 -3.203125 C 6.171875 -2.722656 6.128906 -2.28125 6.046875 -1.875 C 5.972656 -1.46875 5.84375 -1.113281 5.65625 -0.8125 C 5.476562 -0.519531 5.238281 -0.289062 4.9375 -0.125 C 4.644531 0.0390625 4.28125 0.125 3.84375 0.125 C 3.382812 0.125 2.984375 0.0351562 2.640625 -0.140625 C 2.304688 -0.316406 2.050781 -0.597656 1.875 -0.984375 L 1.84375 -0.984375 C 1.84375 -0.972656 1.84375 -0.9375 1.84375 -0.875 C 1.851562 -0.8125 1.859375 -0.734375 1.859375 -0.640625 C 1.859375 -0.546875 1.859375 -0.441406 1.859375 -0.328125 C 1.859375 -0.210938 1.859375 -0.0976562 1.859375 0.015625 L 1.859375 2.484375 L 0.8125 2.484375 L 0.8125 -5.046875 C 0.8125 -5.203125 0.804688 -5.347656 0.796875 -5.484375 C 0.796875 -5.628906 0.796875 -5.757812 0.796875 -5.875 C 0.796875 -5.988281 0.789062 -6.082031 0.78125 -6.15625 C 0.78125 -6.238281 0.78125 -6.300781 0.78125 -6.34375 L 1.796875 -6.34375 C 1.796875 -6.332031 1.796875 -6.289062 1.796875 -6.21875 C 1.804688 -6.144531 1.8125 -6.054688 1.8125 -5.953125 C 1.820312 -5.859375 1.832031 -5.753906 1.84375 -5.640625 C 1.851562 -5.523438 1.859375 -5.421875 1.859375 -5.328125 L 1.875 -5.328125 C 1.96875 -5.523438 2.078125 -5.691406 2.203125 -5.828125 C 2.328125 -5.972656 2.46875 -6.09375 2.625 -6.1875 C 2.789062 -6.28125 2.972656 -6.347656 3.171875 -6.390625 C 3.367188 -6.429688 3.59375 -6.453125 3.84375 -6.453125 C 4.28125 -6.453125 4.644531 -6.375 4.9375 -6.21875 C 5.238281 -6.0625 5.476562 -5.84375 5.65625 -5.5625 C 5.84375 -5.28125 5.972656 -4.9375 6.046875 -4.53125 C 6.128906 -4.132812 6.171875 -3.691406 6.171875 -3.203125 Z M 5.0625 -3.171875 C 5.0625 -3.566406 5.035156 -3.914062 4.984375 -4.21875 C 4.941406 -4.519531 4.863281 -4.773438 4.75 -4.984375 C 4.632812 -5.203125 4.476562 -5.363281 4.28125 -5.46875 C 4.09375 -5.582031 3.851562 -5.640625 3.5625 -5.640625 C 3.332031 -5.640625 3.113281 -5.601562 2.90625 -5.53125 C 2.695312 -5.46875 2.515625 -5.34375 2.359375 -5.15625 C 2.210938 -4.96875 2.09375 -4.707031 2 -4.375 C 1.90625 -4.050781 1.859375 -3.625 1.859375 -3.09375 C 1.859375 -2.644531 1.894531 -2.265625 1.96875 -1.953125 C 2.050781 -1.640625 2.160156 -1.390625 2.296875 -1.203125 C 2.441406 -1.015625 2.617188 -0.875 2.828125 -0.78125 C 3.035156 -0.695312 3.28125 -0.65625 3.5625 -0.65625 C 3.851562 -0.65625 4.09375 -0.710938 4.28125 -0.828125 C 4.476562 -0.941406 4.632812 -1.101562 4.75 -1.3125 C 4.863281 -1.53125 4.941406 -1.796875 4.984375 -2.109375 C 5.035156 -2.421875 5.0625 -2.773438 5.0625 -3.171875 Z M 5.0625 -3.171875 \"/>\n",
       "</g>\n",
       "<g id=\"glyph-0-19\">\n",
       "<path d=\"M 8.859375 0 L 7.515625 0 L 6.09375 -5.25 C 6.050781 -5.394531 6.003906 -5.566406 5.953125 -5.765625 C 5.898438 -5.972656 5.851562 -6.171875 5.8125 -6.359375 C 5.769531 -6.566406 5.722656 -6.785156 5.671875 -7.015625 C 5.628906 -6.785156 5.582031 -6.5625 5.53125 -6.34375 C 5.488281 -6.15625 5.441406 -5.960938 5.390625 -5.765625 C 5.347656 -5.566406 5.304688 -5.394531 5.265625 -5.25 L 3.828125 0 L 2.484375 0 L 0.046875 -8.25 L 1.21875 -8.25 L 2.703125 -3.015625 C 2.765625 -2.765625 2.828125 -2.519531 2.890625 -2.28125 C 2.953125 -2.039062 3.003906 -1.820312 3.046875 -1.625 C 3.097656 -1.40625 3.144531 -1.191406 3.1875 -0.984375 C 3.25 -1.253906 3.3125 -1.519531 3.375 -1.78125 C 3.394531 -1.894531 3.421875 -2.007812 3.453125 -2.125 C 3.484375 -2.25 3.507812 -2.367188 3.53125 -2.484375 C 3.5625 -2.597656 3.59375 -2.707031 3.625 -2.8125 C 3.65625 -2.925781 3.679688 -3.03125 3.703125 -3.125 L 5.140625 -8.25 L 6.21875 -8.25 L 7.640625 -3.125 C 7.671875 -3.03125 7.695312 -2.925781 7.71875 -2.8125 C 7.75 -2.707031 7.78125 -2.597656 7.8125 -2.484375 C 7.84375 -2.367188 7.867188 -2.25 7.890625 -2.125 C 7.921875 -2.007812 7.953125 -1.894531 7.984375 -1.78125 C 8.046875 -1.519531 8.101562 -1.253906 8.15625 -0.984375 C 8.164062 -0.984375 8.1875 -1.050781 8.21875 -1.1875 C 8.25 -1.320312 8.285156 -1.488281 8.328125 -1.6875 C 8.378906 -1.894531 8.429688 -2.113281 8.484375 -2.34375 C 8.546875 -2.582031 8.601562 -2.804688 8.65625 -3.015625 L 10.125 -8.25 L 11.28125 -8.25 Z M 8.859375 0 \"/>\n",
       "</g>\n",
       "<g id=\"glyph-0-20\">\n",
       "<path d=\"M 0.796875 -7.6875 L 0.796875 -8.703125 L 1.859375 -8.703125 L 1.859375 -7.6875 Z M 0.796875 0 L 0.796875 -6.34375 L 1.859375 -6.34375 L 1.859375 0 Z M 0.796875 0 \"/>\n",
       "</g>\n",
       "<g id=\"glyph-0-21\">\n",
       "<path d=\"M 4.8125 -1.015625 C 4.613281 -0.609375 4.351562 -0.316406 4.03125 -0.140625 C 3.707031 0.0351562 3.3125 0.125 2.84375 0.125 C 2.039062 0.125 1.445312 -0.144531 1.0625 -0.6875 C 0.6875 -1.226562 0.5 -2.046875 0.5 -3.140625 C 0.5 -5.347656 1.28125 -6.453125 2.84375 -6.453125 C 3.320312 -6.453125 3.71875 -6.363281 4.03125 -6.1875 C 4.351562 -6.019531 4.613281 -5.742188 4.8125 -5.359375 L 4.828125 -5.359375 C 4.828125 -5.398438 4.820312 -5.460938 4.8125 -5.546875 C 4.8125 -5.628906 4.8125 -5.710938 4.8125 -5.796875 C 4.8125 -5.890625 4.8125 -5.976562 4.8125 -6.0625 C 4.8125 -6.144531 4.8125 -6.203125 4.8125 -6.234375 L 4.8125 -8.703125 L 5.859375 -8.703125 L 5.859375 -1.3125 C 5.859375 -1.15625 5.859375 -1.003906 5.859375 -0.859375 C 5.867188 -0.722656 5.875 -0.597656 5.875 -0.484375 C 5.882812 -0.367188 5.890625 -0.265625 5.890625 -0.171875 C 5.890625 -0.0859375 5.894531 -0.03125 5.90625 0 L 4.890625 0 C 4.878906 -0.0390625 4.867188 -0.0976562 4.859375 -0.171875 C 4.859375 -0.242188 4.851562 -0.328125 4.84375 -0.421875 C 4.84375 -0.515625 4.835938 -0.613281 4.828125 -0.71875 C 4.828125 -0.820312 4.828125 -0.921875 4.828125 -1.015625 Z M 1.609375 -3.171875 C 1.609375 -2.734375 1.632812 -2.359375 1.6875 -2.046875 C 1.75 -1.734375 1.835938 -1.476562 1.953125 -1.28125 C 2.078125 -1.082031 2.234375 -0.9375 2.421875 -0.84375 C 2.609375 -0.75 2.835938 -0.703125 3.109375 -0.703125 C 3.378906 -0.703125 3.617188 -0.742188 3.828125 -0.828125 C 4.046875 -0.921875 4.226562 -1.066406 4.375 -1.265625 C 4.519531 -1.472656 4.628906 -1.738281 4.703125 -2.0625 C 4.773438 -2.382812 4.8125 -2.78125 4.8125 -3.25 C 4.8125 -3.695312 4.773438 -4.078125 4.703125 -4.390625 C 4.628906 -4.703125 4.519531 -4.953125 4.375 -5.140625 C 4.226562 -5.328125 4.050781 -5.460938 3.84375 -5.546875 C 3.632812 -5.628906 3.394531 -5.671875 3.125 -5.671875 C 2.863281 -5.671875 2.640625 -5.625 2.453125 -5.53125 C 2.265625 -5.445312 2.109375 -5.304688 1.984375 -5.109375 C 1.859375 -4.910156 1.765625 -4.648438 1.703125 -4.328125 C 1.640625 -4.015625 1.609375 -3.628906 1.609375 -3.171875 Z M 1.609375 -3.171875 \"/>\n",
       "</g>\n",
       "<g id=\"glyph-0-22\">\n",
       "<path d=\"M 6.140625 -2.703125 C 6.140625 -2.285156 6.082031 -1.90625 5.96875 -1.5625 C 5.851562 -1.21875 5.679688 -0.921875 5.453125 -0.671875 C 5.234375 -0.421875 4.957031 -0.222656 4.625 -0.078125 C 4.289062 0.0546875 3.910156 0.125 3.484375 0.125 C 3.003906 0.125 2.582031 0.03125 2.21875 -0.15625 C 1.863281 -0.34375 1.566406 -0.609375 1.328125 -0.953125 C 1.085938 -1.296875 0.90625 -1.71875 0.78125 -2.21875 C 0.664062 -2.726562 0.609375 -3.300781 0.609375 -3.9375 C 0.609375 -4.675781 0.675781 -5.320312 0.8125 -5.875 C 0.945312 -6.425781 1.140625 -6.882812 1.390625 -7.25 C 1.648438 -7.625 1.960938 -7.90625 2.328125 -8.09375 C 2.691406 -8.28125 3.101562 -8.375 3.5625 -8.375 C 3.84375 -8.375 4.101562 -8.34375 4.34375 -8.28125 C 4.59375 -8.226562 4.816406 -8.132812 5.015625 -8 C 5.222656 -7.875 5.398438 -7.703125 5.546875 -7.484375 C 5.703125 -7.273438 5.828125 -7.015625 5.921875 -6.703125 L 4.90625 -6.515625 C 4.800781 -6.867188 4.628906 -7.125 4.390625 -7.28125 C 4.148438 -7.445312 3.867188 -7.53125 3.546875 -7.53125 C 3.265625 -7.53125 3.003906 -7.457031 2.765625 -7.3125 C 2.535156 -7.175781 2.335938 -6.972656 2.171875 -6.703125 C 2.003906 -6.429688 1.875 -6.085938 1.78125 -5.671875 C 1.695312 -5.265625 1.65625 -4.789062 1.65625 -4.25 C 1.851562 -4.601562 2.125 -4.875 2.46875 -5.0625 C 2.8125 -5.25 3.207031 -5.34375 3.65625 -5.34375 C 4.03125 -5.34375 4.367188 -5.28125 4.671875 -5.15625 C 4.984375 -5.03125 5.25 -4.851562 5.46875 -4.625 C 5.6875 -4.40625 5.851562 -4.128906 5.96875 -3.796875 C 6.082031 -3.472656 6.140625 -3.109375 6.140625 -2.703125 Z M 5.078125 -2.65625 C 5.078125 -2.9375 5.039062 -3.191406 4.96875 -3.421875 C 4.894531 -3.660156 4.785156 -3.859375 4.640625 -4.015625 C 4.503906 -4.179688 4.332031 -4.304688 4.125 -4.390625 C 3.925781 -4.484375 3.6875 -4.53125 3.40625 -4.53125 C 3.21875 -4.53125 3.023438 -4.5 2.828125 -4.4375 C 2.628906 -4.382812 2.453125 -4.289062 2.296875 -4.15625 C 2.140625 -4.03125 2.007812 -3.863281 1.90625 -3.65625 C 1.8125 -3.457031 1.765625 -3.207031 1.765625 -2.90625 C 1.765625 -2.601562 1.800781 -2.316406 1.875 -2.046875 C 1.957031 -1.785156 2.070312 -1.554688 2.21875 -1.359375 C 2.363281 -1.171875 2.539062 -1.019531 2.75 -0.90625 C 2.957031 -0.789062 3.191406 -0.734375 3.453125 -0.734375 C 3.703125 -0.734375 3.925781 -0.773438 4.125 -0.859375 C 4.332031 -0.953125 4.503906 -1.082031 4.640625 -1.25 C 4.785156 -1.414062 4.894531 -1.613281 4.96875 -1.84375 C 5.039062 -2.082031 5.078125 -2.351562 5.078125 -2.65625 Z M 5.078125 -2.65625 \"/>\n",
       "</g>\n",
       "<g id=\"glyph-0-23\">\n",
       "<path d=\"M 6.203125 -4.125 C 6.203125 -3.332031 6.125 -2.664062 5.96875 -2.125 C 5.820312 -1.582031 5.617188 -1.144531 5.359375 -0.8125 C 5.097656 -0.476562 4.789062 -0.238281 4.4375 -0.09375 C 4.09375 0.0507812 3.722656 0.125 3.328125 0.125 C 2.921875 0.125 2.539062 0.0507812 2.1875 -0.09375 C 1.84375 -0.238281 1.539062 -0.476562 1.28125 -0.8125 C 1.03125 -1.144531 0.832031 -1.582031 0.6875 -2.125 C 0.539062 -2.664062 0.46875 -3.332031 0.46875 -4.125 C 0.46875 -4.957031 0.539062 -5.644531 0.6875 -6.1875 C 0.832031 -6.738281 1.035156 -7.175781 1.296875 -7.5 C 1.554688 -7.820312 1.859375 -8.046875 2.203125 -8.171875 C 2.554688 -8.304688 2.941406 -8.375 3.359375 -8.375 C 3.753906 -8.375 4.125 -8.304688 4.46875 -8.171875 C 4.8125 -8.046875 5.113281 -7.820312 5.375 -7.5 C 5.632812 -7.175781 5.835938 -6.738281 5.984375 -6.1875 C 6.128906 -5.644531 6.203125 -4.957031 6.203125 -4.125 Z M 5.140625 -4.125 C 5.140625 -4.78125 5.097656 -5.328125 5.015625 -5.765625 C 4.941406 -6.203125 4.828125 -6.550781 4.671875 -6.8125 C 4.515625 -7.070312 4.328125 -7.253906 4.109375 -7.359375 C 3.890625 -7.472656 3.640625 -7.53125 3.359375 -7.53125 C 3.054688 -7.53125 2.789062 -7.472656 2.5625 -7.359375 C 2.34375 -7.253906 2.15625 -7.070312 2 -6.8125 C 1.84375 -6.550781 1.722656 -6.203125 1.640625 -5.765625 C 1.566406 -5.328125 1.53125 -4.78125 1.53125 -4.125 C 1.53125 -3.5 1.570312 -2.96875 1.65625 -2.53125 C 1.738281 -2.09375 1.851562 -1.742188 2 -1.484375 C 2.15625 -1.222656 2.34375 -1.035156 2.5625 -0.921875 C 2.789062 -0.804688 3.046875 -0.75 3.328125 -0.75 C 3.609375 -0.75 3.859375 -0.804688 4.078125 -0.921875 C 4.304688 -1.035156 4.492188 -1.222656 4.640625 -1.484375 C 4.796875 -1.742188 4.914062 -2.09375 5 -2.53125 C 5.09375 -2.96875 5.140625 -3.5 5.140625 -4.125 Z M 5.140625 -4.125 \"/>\n",
       "</g>\n",
       "<g id=\"glyph-0-24\">\n",
       "<path d=\"M 0.921875 0 L 0.921875 -0.890625 L 3.015625 -0.890625 L 3.015625 -7.25 L 1.15625 -5.921875 L 1.15625 -6.921875 L 3.109375 -8.25 L 4.078125 -8.25 L 4.078125 -0.890625 L 6.09375 -0.890625 L 6.09375 0 Z M 0.921875 0 \"/>\n",
       "</g>\n",
       "<g id=\"glyph-0-25\">\n",
       "<path d=\"M 6.078125 -7.40625 C 5.660156 -6.769531 5.273438 -6.160156 4.921875 -5.578125 C 4.578125 -4.992188 4.28125 -4.40625 4.03125 -3.8125 C 3.78125 -3.21875 3.582031 -2.609375 3.4375 -1.984375 C 3.300781 -1.367188 3.234375 -0.707031 3.234375 0 L 2.140625 0 C 2.140625 -0.65625 2.21875 -1.300781 2.375 -1.9375 C 2.53125 -2.570312 2.738281 -3.195312 3 -3.8125 C 3.269531 -4.425781 3.578125 -5.023438 3.921875 -5.609375 C 4.273438 -6.203125 4.648438 -6.785156 5.046875 -7.359375 L 0.609375 -7.359375 L 0.609375 -8.25 L 6.078125 -8.25 Z M 6.078125 -7.40625 \"/>\n",
       "</g>\n",
       "<g id=\"glyph-0-26\">\n",
       "<path d=\"M 6.15625 -2.296875 C 6.15625 -1.953125 6.097656 -1.628906 5.984375 -1.328125 C 5.867188 -1.035156 5.695312 -0.78125 5.46875 -0.5625 C 5.25 -0.351562 4.957031 -0.1875 4.59375 -0.0625 C 4.238281 0.0625 3.820312 0.125 3.34375 0.125 C 2.851562 0.125 2.429688 0.0625 2.078125 -0.0625 C 1.722656 -0.1875 1.429688 -0.351562 1.203125 -0.5625 C 0.972656 -0.78125 0.800781 -1.035156 0.6875 -1.328125 C 0.570312 -1.617188 0.515625 -1.941406 0.515625 -2.296875 C 0.515625 -2.597656 0.5625 -2.863281 0.65625 -3.09375 C 0.75 -3.332031 0.875 -3.535156 1.03125 -3.703125 C 1.1875 -3.867188 1.363281 -4.003906 1.5625 -4.109375 C 1.757812 -4.210938 1.960938 -4.28125 2.171875 -4.3125 L 2.171875 -4.34375 C 1.941406 -4.394531 1.734375 -4.476562 1.546875 -4.59375 C 1.367188 -4.71875 1.21875 -4.863281 1.09375 -5.03125 C 0.96875 -5.207031 0.875 -5.398438 0.8125 -5.609375 C 0.75 -5.816406 0.71875 -6.035156 0.71875 -6.265625 C 0.71875 -6.554688 0.769531 -6.828125 0.875 -7.078125 C 0.988281 -7.335938 1.15625 -7.5625 1.375 -7.75 C 1.59375 -7.945312 1.863281 -8.097656 2.1875 -8.203125 C 2.507812 -8.316406 2.882812 -8.375 3.3125 -8.375 C 3.757812 -8.375 4.148438 -8.316406 4.484375 -8.203125 C 4.816406 -8.097656 5.085938 -7.945312 5.296875 -7.75 C 5.515625 -7.550781 5.675781 -7.320312 5.78125 -7.0625 C 5.894531 -6.8125 5.953125 -6.539062 5.953125 -6.25 C 5.953125 -6.019531 5.914062 -5.800781 5.84375 -5.59375 C 5.78125 -5.394531 5.6875 -5.207031 5.5625 -5.03125 C 5.445312 -4.863281 5.296875 -4.71875 5.109375 -4.59375 C 4.929688 -4.476562 4.722656 -4.398438 4.484375 -4.359375 L 4.484375 -4.328125 C 4.722656 -4.285156 4.941406 -4.210938 5.140625 -4.109375 C 5.347656 -4.015625 5.523438 -3.878906 5.671875 -3.703125 C 5.816406 -3.535156 5.929688 -3.332031 6.015625 -3.09375 C 6.109375 -2.863281 6.15625 -2.597656 6.15625 -2.296875 Z M 4.859375 -6.1875 C 4.859375 -6.394531 4.828125 -6.582031 4.765625 -6.75 C 4.710938 -6.925781 4.625 -7.078125 4.5 -7.203125 C 4.382812 -7.328125 4.226562 -7.421875 4.03125 -7.484375 C 3.84375 -7.554688 3.601562 -7.59375 3.3125 -7.59375 C 3.039062 -7.59375 2.804688 -7.554688 2.609375 -7.484375 C 2.421875 -7.421875 2.265625 -7.328125 2.140625 -7.203125 C 2.015625 -7.078125 1.925781 -6.925781 1.875 -6.75 C 1.820312 -6.582031 1.796875 -6.394531 1.796875 -6.1875 C 1.796875 -6.03125 1.816406 -5.863281 1.859375 -5.6875 C 1.898438 -5.519531 1.976562 -5.363281 2.09375 -5.21875 C 2.207031 -5.082031 2.363281 -4.96875 2.5625 -4.875 C 2.757812 -4.78125 3.015625 -4.734375 3.328125 -4.734375 C 3.660156 -4.734375 3.925781 -4.78125 4.125 -4.875 C 4.332031 -4.96875 4.488281 -5.082031 4.59375 -5.21875 C 4.695312 -5.363281 4.765625 -5.519531 4.796875 -5.6875 C 4.835938 -5.863281 4.859375 -6.03125 4.859375 -6.1875 Z M 5.0625 -2.40625 C 5.0625 -2.601562 5.03125 -2.796875 4.96875 -2.984375 C 4.914062 -3.171875 4.820312 -3.332031 4.6875 -3.46875 C 4.5625 -3.613281 4.382812 -3.726562 4.15625 -3.8125 C 3.9375 -3.90625 3.65625 -3.953125 3.3125 -3.953125 C 3.007812 -3.953125 2.75 -3.90625 2.53125 -3.8125 C 2.3125 -3.726562 2.132812 -3.613281 2 -3.46875 C 1.863281 -3.320312 1.765625 -3.15625 1.703125 -2.96875 C 1.640625 -2.78125 1.609375 -2.582031 1.609375 -2.375 C 1.609375 -2.125 1.640625 -1.894531 1.703125 -1.6875 C 1.765625 -1.476562 1.863281 -1.296875 2 -1.140625 C 2.132812 -0.992188 2.3125 -0.878906 2.53125 -0.796875 C 2.757812 -0.710938 3.035156 -0.671875 3.359375 -0.671875 C 3.671875 -0.671875 3.9375 -0.710938 4.15625 -0.796875 C 4.375 -0.878906 4.550781 -0.992188 4.6875 -1.140625 C 4.820312 -1.296875 4.914062 -1.476562 4.96875 -1.6875 C 5.03125 -1.90625 5.0625 -2.144531 5.0625 -2.40625 Z M 5.0625 -2.40625 \"/>\n",
       "</g>\n",
       "</g>\n",
       "<clipPath id=\"clip-0\">\n",
       "<path clip-rule=\"nonzero\" d=\"M 227 59.039062 L 330 59.039062 L 330 71 L 227 71 Z M 227 59.039062 \"/>\n",
       "</clipPath>\n",
       "<clipPath id=\"clip-1\">\n",
       "<path clip-rule=\"nonzero\" d=\"M 59.039062 344 L 156 344 L 156 356 L 59.039062 356 Z M 59.039062 344 \"/>\n",
       "</clipPath>\n",
       "<clipPath id=\"clip-2\">\n",
       "<path clip-rule=\"nonzero\" d=\"M 59.039062 370 L 90 370 L 90 380 L 59.039062 380 Z M 59.039062 370 \"/>\n",
       "</clipPath>\n",
       "<clipPath id=\"clip-3\">\n",
       "<path clip-rule=\"nonzero\" d=\"M 443 387 L 473.757812 387 L 473.757812 397 L 443 397 Z M 443 387 \"/>\n",
       "</clipPath>\n",
       "</defs>\n",
       "<rect x=\"-50.4\" y=\"-50.4\" width=\"604.8\" height=\"604.8\" fill=\"rgb(100%, 100%, 100%)\" fill-opacity=\"1\"/>\n",
       "<g fill=\"rgb(0%, 0%, 0%)\" fill-opacity=\"1\">\n",
       "<use xlink:href=\"#glyph-0-0\" x=\"276.898438\" y=\"75.664062\"/>\n",
       "</g>\n",
       "<path fill=\"none\" stroke-width=\"0.75\" stroke-linecap=\"round\" stroke-linejoin=\"round\" stroke=\"rgb(0%, 0%, 0%)\" stroke-opacity=\"1\" stroke-miterlimit=\"10\" d=\"M 154.398438 333.042969 L 154.398438 72.800781 L 402.398438 72.800781 L 402.398438 333.042969 \"/>\n",
       "<path fill=\"none\" stroke-width=\"0.75\" stroke-linecap=\"round\" stroke-linejoin=\"round\" stroke=\"rgb(0%, 0%, 0%)\" stroke-opacity=\"1\" stroke-miterlimit=\"10\" d=\"M 106.398438 357.925781 L 106.398438 333.042969 L 202.398438 333.042969 L 202.398438 357.925781 \"/>\n",
       "<path fill=\"none\" stroke-width=\"0.75\" stroke-linecap=\"round\" stroke-linejoin=\"round\" stroke=\"rgb(0%, 0%, 0%)\" stroke-opacity=\"1\" stroke-miterlimit=\"10\" d=\"M 74.398438 367.695312 L 74.398438 357.925781 L 138.398438 357.925781 L 138.398438 367.695312 \"/>\n",
       "<path fill=\"none\" stroke-width=\"0.75\" stroke-linecap=\"round\" stroke-linejoin=\"round\" stroke=\"rgb(0%, 0%, 0%)\" stroke-opacity=\"1\" stroke-miterlimit=\"10\" d=\"M 346.398438 384.714844 L 346.398438 333.042969 L 458.398438 333.042969 L 458.398438 384.714844 \"/>\n",
       "<path fill=\"none\" stroke-width=\"0.75\" stroke-linecap=\"round\" stroke-linejoin=\"round\" stroke=\"rgb(0%, 0%, 0%)\" stroke-opacity=\"1\" stroke-miterlimit=\"10\" d=\"M 298.398438 409.597656 L 298.398438 384.714844 L 394.398438 384.714844 L 394.398438 409.597656 \"/>\n",
       "<path fill=\"none\" stroke-width=\"0.75\" stroke-linecap=\"round\" stroke-linejoin=\"round\" stroke=\"rgb(0%, 0%, 0%)\" stroke-opacity=\"1\" stroke-miterlimit=\"10\" d=\"M 266.398438 416.800781 L 266.398438 409.597656 L 330.398438 409.597656 L 330.398438 416.800781 \"/>\n",
       "<g clip-path=\"url(#clip-0)\">\n",
       "<g fill=\"rgb(0%, 0%, 0%)\" fill-opacity=\"1\">\n",
       "<use xlink:href=\"#glyph-0-1\" x=\"226.898438\" y=\"67.964844\"/>\n",
       "<use xlink:href=\"#glyph-0-2\" x=\"234.898438\" y=\"67.964844\"/>\n",
       "<use xlink:href=\"#glyph-0-3\" x=\"241.898438\" y=\"67.964844\"/>\n",
       "<use xlink:href=\"#glyph-0-4\" x=\"244.898438\" y=\"67.964844\"/>\n",
       "<use xlink:href=\"#glyph-0-5\" x=\"251.898438\" y=\"67.964844\"/>\n",
       "<use xlink:href=\"#glyph-0-6\" x=\"254.898438\" y=\"67.964844\"/>\n",
       "<use xlink:href=\"#glyph-0-7\" x=\"257.898438\" y=\"67.964844\"/>\n",
       "<use xlink:href=\"#glyph-0-2\" x=\"264.898438\" y=\"67.964844\"/>\n",
       "<use xlink:href=\"#glyph-0-8\" x=\"271.898438\" y=\"67.964844\"/>\n",
       "<use xlink:href=\"#glyph-0-9\" x=\"278.898438\" y=\"67.964844\"/>\n",
       "<use xlink:href=\"#glyph-0-3\" x=\"285.898438\" y=\"67.964844\"/>\n",
       "<use xlink:href=\"#glyph-0-10\" x=\"288.898438\" y=\"67.964844\"/>\n",
       "<use xlink:href=\"#glyph-0-11\" x=\"295.898438\" y=\"67.964844\"/>\n",
       "<use xlink:href=\"#glyph-0-12\" x=\"302.898438\" y=\"67.964844\"/>\n",
       "<use xlink:href=\"#glyph-0-13\" x=\"305.898438\" y=\"67.964844\"/>\n",
       "<use xlink:href=\"#glyph-0-6\" x=\"312.898438\" y=\"67.964844\"/>\n",
       "<use xlink:href=\"#glyph-0-14\" x=\"315.898438\" y=\"67.964844\"/>\n",
       "<use xlink:href=\"#glyph-0-15\" x=\"322.898438\" y=\"67.964844\"/>\n",
       "</g>\n",
       "</g>\n",
       "<g fill=\"rgb(0%, 0%, 0%)\" fill-opacity=\"1\">\n",
       "<use xlink:href=\"#glyph-0-1\" x=\"106.398438\" y=\"328.207031\"/>\n",
       "<use xlink:href=\"#glyph-0-2\" x=\"114.398438\" y=\"328.207031\"/>\n",
       "<use xlink:href=\"#glyph-0-3\" x=\"121.398438\" y=\"328.207031\"/>\n",
       "<use xlink:href=\"#glyph-0-4\" x=\"124.398438\" y=\"328.207031\"/>\n",
       "<use xlink:href=\"#glyph-0-5\" x=\"131.398438\" y=\"328.207031\"/>\n",
       "<use xlink:href=\"#glyph-0-6\" x=\"134.398438\" y=\"328.207031\"/>\n",
       "<use xlink:href=\"#glyph-0-7\" x=\"137.398438\" y=\"328.207031\"/>\n",
       "<use xlink:href=\"#glyph-0-2\" x=\"144.398438\" y=\"328.207031\"/>\n",
       "<use xlink:href=\"#glyph-0-8\" x=\"151.398438\" y=\"328.207031\"/>\n",
       "<use xlink:href=\"#glyph-0-9\" x=\"158.398438\" y=\"328.207031\"/>\n",
       "<use xlink:href=\"#glyph-0-3\" x=\"165.398438\" y=\"328.207031\"/>\n",
       "<use xlink:href=\"#glyph-0-10\" x=\"168.398438\" y=\"328.207031\"/>\n",
       "<use xlink:href=\"#glyph-0-11\" x=\"175.398438\" y=\"328.207031\"/>\n",
       "<use xlink:href=\"#glyph-0-12\" x=\"182.398438\" y=\"328.207031\"/>\n",
       "<use xlink:href=\"#glyph-0-16\" x=\"185.398438\" y=\"328.207031\"/>\n",
       "<use xlink:href=\"#glyph-0-6\" x=\"192.398438\" y=\"328.207031\"/>\n",
       "<use xlink:href=\"#glyph-0-13\" x=\"195.398438\" y=\"328.207031\"/>\n",
       "</g>\n",
       "<g clip-path=\"url(#clip-1)\">\n",
       "<g fill=\"rgb(0%, 0%, 0%)\" fill-opacity=\"1\">\n",
       "<use xlink:href=\"#glyph-0-17\" x=\"56.398438\" y=\"353.089844\"/>\n",
       "<use xlink:href=\"#glyph-0-2\" x=\"64.398438\" y=\"353.089844\"/>\n",
       "<use xlink:href=\"#glyph-0-18\" x=\"71.398438\" y=\"353.089844\"/>\n",
       "<use xlink:href=\"#glyph-0-4\" x=\"78.398438\" y=\"353.089844\"/>\n",
       "<use xlink:href=\"#glyph-0-5\" x=\"85.398438\" y=\"353.089844\"/>\n",
       "<use xlink:href=\"#glyph-0-6\" x=\"88.398438\" y=\"353.089844\"/>\n",
       "<use xlink:href=\"#glyph-0-19\" x=\"91.398438\" y=\"353.089844\"/>\n",
       "<use xlink:href=\"#glyph-0-20\" x=\"102.398438\" y=\"353.089844\"/>\n",
       "<use xlink:href=\"#glyph-0-21\" x=\"105.398438\" y=\"353.089844\"/>\n",
       "<use xlink:href=\"#glyph-0-3\" x=\"112.398438\" y=\"353.089844\"/>\n",
       "<use xlink:href=\"#glyph-0-10\" x=\"115.398438\" y=\"353.089844\"/>\n",
       "<use xlink:href=\"#glyph-0-11\" x=\"122.398438\" y=\"353.089844\"/>\n",
       "<use xlink:href=\"#glyph-0-12\" x=\"129.398438\" y=\"353.089844\"/>\n",
       "<use xlink:href=\"#glyph-0-16\" x=\"132.398438\" y=\"353.089844\"/>\n",
       "<use xlink:href=\"#glyph-0-6\" x=\"139.398438\" y=\"353.089844\"/>\n",
       "<use xlink:href=\"#glyph-0-14\" x=\"142.398438\" y=\"353.089844\"/>\n",
       "<use xlink:href=\"#glyph-0-15\" x=\"149.398438\" y=\"353.089844\"/>\n",
       "</g>\n",
       "</g>\n",
       "<g fill=\"rgb(0%, 0%, 0%)\" fill-opacity=\"1\">\n",
       "<use xlink:href=\"#glyph-0-1\" x=\"350.898438\" y=\"328.207031\"/>\n",
       "<use xlink:href=\"#glyph-0-2\" x=\"358.898438\" y=\"328.207031\"/>\n",
       "<use xlink:href=\"#glyph-0-3\" x=\"365.898438\" y=\"328.207031\"/>\n",
       "<use xlink:href=\"#glyph-0-4\" x=\"368.898438\" y=\"328.207031\"/>\n",
       "<use xlink:href=\"#glyph-0-5\" x=\"375.898438\" y=\"328.207031\"/>\n",
       "<use xlink:href=\"#glyph-0-6\" x=\"378.898438\" y=\"328.207031\"/>\n",
       "<use xlink:href=\"#glyph-0-7\" x=\"381.898438\" y=\"328.207031\"/>\n",
       "<use xlink:href=\"#glyph-0-2\" x=\"388.898438\" y=\"328.207031\"/>\n",
       "<use xlink:href=\"#glyph-0-8\" x=\"395.898438\" y=\"328.207031\"/>\n",
       "<use xlink:href=\"#glyph-0-9\" x=\"402.898438\" y=\"328.207031\"/>\n",
       "<use xlink:href=\"#glyph-0-3\" x=\"409.898438\" y=\"328.207031\"/>\n",
       "<use xlink:href=\"#glyph-0-10\" x=\"412.898438\" y=\"328.207031\"/>\n",
       "<use xlink:href=\"#glyph-0-11\" x=\"419.898438\" y=\"328.207031\"/>\n",
       "<use xlink:href=\"#glyph-0-12\" x=\"426.898438\" y=\"328.207031\"/>\n",
       "<use xlink:href=\"#glyph-0-22\" x=\"429.898438\" y=\"328.207031\"/>\n",
       "<use xlink:href=\"#glyph-0-6\" x=\"436.898438\" y=\"328.207031\"/>\n",
       "<use xlink:href=\"#glyph-0-23\" x=\"439.898438\" y=\"328.207031\"/>\n",
       "<use xlink:href=\"#glyph-0-15\" x=\"446.898438\" y=\"328.207031\"/>\n",
       "</g>\n",
       "<g fill=\"rgb(0%, 0%, 0%)\" fill-opacity=\"1\">\n",
       "<use xlink:href=\"#glyph-0-1\" x=\"294.898438\" y=\"379.878906\"/>\n",
       "<use xlink:href=\"#glyph-0-2\" x=\"302.898438\" y=\"379.878906\"/>\n",
       "<use xlink:href=\"#glyph-0-3\" x=\"309.898438\" y=\"379.878906\"/>\n",
       "<use xlink:href=\"#glyph-0-4\" x=\"312.898438\" y=\"379.878906\"/>\n",
       "<use xlink:href=\"#glyph-0-5\" x=\"319.898438\" y=\"379.878906\"/>\n",
       "<use xlink:href=\"#glyph-0-6\" x=\"322.898438\" y=\"379.878906\"/>\n",
       "<use xlink:href=\"#glyph-0-7\" x=\"325.898438\" y=\"379.878906\"/>\n",
       "<use xlink:href=\"#glyph-0-2\" x=\"332.898438\" y=\"379.878906\"/>\n",
       "<use xlink:href=\"#glyph-0-8\" x=\"339.898438\" y=\"379.878906\"/>\n",
       "<use xlink:href=\"#glyph-0-9\" x=\"346.898438\" y=\"379.878906\"/>\n",
       "<use xlink:href=\"#glyph-0-3\" x=\"353.898438\" y=\"379.878906\"/>\n",
       "<use xlink:href=\"#glyph-0-10\" x=\"356.898438\" y=\"379.878906\"/>\n",
       "<use xlink:href=\"#glyph-0-11\" x=\"363.898438\" y=\"379.878906\"/>\n",
       "<use xlink:href=\"#glyph-0-12\" x=\"370.898438\" y=\"379.878906\"/>\n",
       "<use xlink:href=\"#glyph-0-15\" x=\"373.898438\" y=\"379.878906\"/>\n",
       "<use xlink:href=\"#glyph-0-6\" x=\"380.898438\" y=\"379.878906\"/>\n",
       "<use xlink:href=\"#glyph-0-24\" x=\"383.898438\" y=\"379.878906\"/>\n",
       "<use xlink:href=\"#glyph-0-15\" x=\"390.898438\" y=\"379.878906\"/>\n",
       "</g>\n",
       "<g fill=\"rgb(0%, 0%, 0%)\" fill-opacity=\"1\">\n",
       "<use xlink:href=\"#glyph-0-17\" x=\"248.398438\" y=\"404.761719\"/>\n",
       "<use xlink:href=\"#glyph-0-2\" x=\"256.398438\" y=\"404.761719\"/>\n",
       "<use xlink:href=\"#glyph-0-18\" x=\"263.398438\" y=\"404.761719\"/>\n",
       "<use xlink:href=\"#glyph-0-4\" x=\"270.398438\" y=\"404.761719\"/>\n",
       "<use xlink:href=\"#glyph-0-5\" x=\"277.398438\" y=\"404.761719\"/>\n",
       "<use xlink:href=\"#glyph-0-6\" x=\"280.398438\" y=\"404.761719\"/>\n",
       "<use xlink:href=\"#glyph-0-19\" x=\"283.398438\" y=\"404.761719\"/>\n",
       "<use xlink:href=\"#glyph-0-20\" x=\"294.398438\" y=\"404.761719\"/>\n",
       "<use xlink:href=\"#glyph-0-21\" x=\"297.398438\" y=\"404.761719\"/>\n",
       "<use xlink:href=\"#glyph-0-3\" x=\"304.398438\" y=\"404.761719\"/>\n",
       "<use xlink:href=\"#glyph-0-10\" x=\"307.398438\" y=\"404.761719\"/>\n",
       "<use xlink:href=\"#glyph-0-11\" x=\"314.398438\" y=\"404.761719\"/>\n",
       "<use xlink:href=\"#glyph-0-12\" x=\"321.398438\" y=\"404.761719\"/>\n",
       "<use xlink:href=\"#glyph-0-16\" x=\"324.398438\" y=\"404.761719\"/>\n",
       "<use xlink:href=\"#glyph-0-6\" x=\"331.398438\" y=\"404.761719\"/>\n",
       "<use xlink:href=\"#glyph-0-23\" x=\"334.398438\" y=\"404.761719\"/>\n",
       "<use xlink:href=\"#glyph-0-15\" x=\"341.398438\" y=\"404.761719\"/>\n",
       "</g>\n",
       "<g clip-path=\"url(#clip-2)\">\n",
       "<g fill=\"rgb(0%, 0%, 0%)\" fill-opacity=\"1\">\n",
       "<use xlink:href=\"#glyph-0-13\" x=\"58.898438\" y=\"379.253906\"/>\n",
       "<use xlink:href=\"#glyph-0-6\" x=\"65.898438\" y=\"379.253906\"/>\n",
       "<use xlink:href=\"#glyph-0-25\" x=\"68.898438\" y=\"379.253906\"/>\n",
       "<use xlink:href=\"#glyph-0-16\" x=\"75.898438\" y=\"379.253906\"/>\n",
       "<use xlink:href=\"#glyph-0-15\" x=\"82.898438\" y=\"379.253906\"/>\n",
       "</g>\n",
       "</g>\n",
       "<g fill=\"rgb(0%, 0%, 0%)\" fill-opacity=\"1\">\n",
       "<use xlink:href=\"#glyph-0-15\" x=\"126.398438\" y=\"379.253906\"/>\n",
       "<use xlink:href=\"#glyph-0-6\" x=\"133.398438\" y=\"379.253906\"/>\n",
       "<use xlink:href=\"#glyph-0-24\" x=\"136.398438\" y=\"379.253906\"/>\n",
       "<use xlink:href=\"#glyph-0-25\" x=\"143.398438\" y=\"379.253906\"/>\n",
       "</g>\n",
       "<g fill=\"rgb(0%, 0%, 0%)\" fill-opacity=\"1\">\n",
       "<use xlink:href=\"#glyph-0-15\" x=\"190.398438\" y=\"369.484375\"/>\n",
       "<use xlink:href=\"#glyph-0-6\" x=\"197.398438\" y=\"369.484375\"/>\n",
       "<use xlink:href=\"#glyph-0-22\" x=\"200.398438\" y=\"369.484375\"/>\n",
       "<use xlink:href=\"#glyph-0-13\" x=\"207.398438\" y=\"369.484375\"/>\n",
       "</g>\n",
       "<g fill=\"rgb(0%, 0%, 0%)\" fill-opacity=\"1\">\n",
       "<use xlink:href=\"#glyph-0-22\" x=\"250.898438\" y=\"428.359375\"/>\n",
       "<use xlink:href=\"#glyph-0-6\" x=\"257.898438\" y=\"428.359375\"/>\n",
       "<use xlink:href=\"#glyph-0-23\" x=\"260.898438\" y=\"428.359375\"/>\n",
       "<use xlink:href=\"#glyph-0-15\" x=\"267.898438\" y=\"428.359375\"/>\n",
       "<use xlink:href=\"#glyph-0-15\" x=\"274.898438\" y=\"428.359375\"/>\n",
       "</g>\n",
       "<g fill=\"rgb(0%, 0%, 0%)\" fill-opacity=\"1\">\n",
       "<use xlink:href=\"#glyph-0-22\" x=\"318.398438\" y=\"428.359375\"/>\n",
       "<use xlink:href=\"#glyph-0-6\" x=\"325.398438\" y=\"428.359375\"/>\n",
       "<use xlink:href=\"#glyph-0-15\" x=\"328.398438\" y=\"428.359375\"/>\n",
       "<use xlink:href=\"#glyph-0-16\" x=\"335.398438\" y=\"428.359375\"/>\n",
       "</g>\n",
       "<g fill=\"rgb(0%, 0%, 0%)\" fill-opacity=\"1\">\n",
       "<use xlink:href=\"#glyph-0-22\" x=\"378.898438\" y=\"421.15625\"/>\n",
       "<use xlink:href=\"#glyph-0-6\" x=\"385.898438\" y=\"421.15625\"/>\n",
       "<use xlink:href=\"#glyph-0-22\" x=\"388.898438\" y=\"421.15625\"/>\n",
       "<use xlink:href=\"#glyph-0-23\" x=\"395.898438\" y=\"421.15625\"/>\n",
       "<use xlink:href=\"#glyph-0-13\" x=\"402.898438\" y=\"421.15625\"/>\n",
       "</g>\n",
       "<g clip-path=\"url(#clip-3)\">\n",
       "<g fill=\"rgb(0%, 0%, 0%)\" fill-opacity=\"1\">\n",
       "<use xlink:href=\"#glyph-0-25\" x=\"442.898438\" y=\"396.273438\"/>\n",
       "<use xlink:href=\"#glyph-0-6\" x=\"449.898438\" y=\"396.273438\"/>\n",
       "<use xlink:href=\"#glyph-0-15\" x=\"452.898438\" y=\"396.273438\"/>\n",
       "<use xlink:href=\"#glyph-0-25\" x=\"459.898438\" y=\"396.273438\"/>\n",
       "<use xlink:href=\"#glyph-0-26\" x=\"466.898438\" y=\"396.273438\"/>\n",
       "</g>\n",
       "</g>\n",
       "</svg>\n"
      ],
      "text/plain": [
       "plot without title"
      ]
     },
     "metadata": {
      "application/pdf": {
       "height": 420,
       "width": 420
      },
      "image/jpeg": {
       "height": 420,
       "width": 420
      },
      "image/png": {
       "height": 420,
       "width": 420
      },
      "image/svg+xml": {
       "height": 420,
       "isolated": true,
       "width": 420
      }
     },
     "output_type": "display_data"
    }
   ],
   "source": [
    "plot(modelo)\n",
    "text(modelo)\n"
   ]
  },
  {
   "cell_type": "code",
   "execution_count": 15,
   "metadata": {
    "vscode": {
     "languageId": "r"
    }
   },
   "outputs": [
    {
     "data": {
      "text/html": [
       "<style>\n",
       ".dl-inline {width: auto; margin:0; padding: 0}\n",
       ".dl-inline>dt, .dl-inline>dd {float: none; width: auto; display: inline-block}\n",
       ".dl-inline>dt::after {content: \":\\0020\"; padding-right: .5ex}\n",
       ".dl-inline>dt:not(:first-of-type) {padding-left: .5ex}\n",
       "</style><dl class=dl-inline><dt>1</dt><dd>5.16969696969697</dd><dt>2</dt><dd>4.735</dd><dt>3</dt><dd>4.735</dd><dt>4</dt><dd>4.735</dd><dt>5</dt><dd>5.16969696969697</dd><dt>6</dt><dd>5.16969696969697</dd></dl>\n"
      ],
      "text/latex": [
       "\\begin{description*}\n",
       "\\item[1] 5.16969696969697\n",
       "\\item[2] 4.735\n",
       "\\item[3] 4.735\n",
       "\\item[4] 4.735\n",
       "\\item[5] 5.16969696969697\n",
       "\\item[6] 5.16969696969697\n",
       "\\end{description*}\n"
      ],
      "text/markdown": [
       "1\n",
       ":   5.169696969696972\n",
       ":   4.7353\n",
       ":   4.7354\n",
       ":   4.7355\n",
       ":   5.169696969696976\n",
       ":   5.16969696969697\n",
       "\n"
      ],
      "text/plain": [
       "       1        2        3        4        5        6 \n",
       "5.169697 4.735000 4.735000 4.735000 5.169697 5.169697 "
      ]
     },
     "metadata": {},
     "output_type": "display_data"
    }
   ],
   "source": [
    "predicao <- predict(modelo, iris)\n",
    "head(predicao)\n"
   ]
  },
  {
   "cell_type": "code",
   "execution_count": 17,
   "metadata": {
    "vscode": {
     "languageId": "r"
    }
   },
   "outputs": [
    {
     "data": {
      "text/html": [
       "<table class=\"dataframe\">\n",
       "<caption>A matrix: 6 × 3 of type dbl</caption>\n",
       "<thead>\n",
       "\t<tr><th></th><th scope=col>predicao</th><th scope=col>real</th><th scope=col>dif</th></tr>\n",
       "</thead>\n",
       "<tbody>\n",
       "\t<tr><th scope=row>1</th><td>5.169697</td><td>5.1</td><td> 0.06969697</td></tr>\n",
       "\t<tr><th scope=row>2</th><td>4.735000</td><td>4.9</td><td>-0.16500000</td></tr>\n",
       "\t<tr><th scope=row>3</th><td>4.735000</td><td>4.7</td><td> 0.03500000</td></tr>\n",
       "\t<tr><th scope=row>4</th><td>4.735000</td><td>4.6</td><td> 0.13500000</td></tr>\n",
       "\t<tr><th scope=row>5</th><td>5.169697</td><td>5.0</td><td> 0.16969697</td></tr>\n",
       "\t<tr><th scope=row>6</th><td>5.169697</td><td>5.4</td><td>-0.23030303</td></tr>\n",
       "</tbody>\n",
       "</table>\n"
      ],
      "text/latex": [
       "A matrix: 6 × 3 of type dbl\n",
       "\\begin{tabular}{r|lll}\n",
       "  & predicao & real & dif\\\\\n",
       "\\hline\n",
       "\t1 & 5.169697 & 5.1 &  0.06969697\\\\\n",
       "\t2 & 4.735000 & 4.9 & -0.16500000\\\\\n",
       "\t3 & 4.735000 & 4.7 &  0.03500000\\\\\n",
       "\t4 & 4.735000 & 4.6 &  0.13500000\\\\\n",
       "\t5 & 5.169697 & 5.0 &  0.16969697\\\\\n",
       "\t6 & 5.169697 & 5.4 & -0.23030303\\\\\n",
       "\\end{tabular}\n"
      ],
      "text/markdown": [
       "\n",
       "A matrix: 6 × 3 of type dbl\n",
       "\n",
       "| <!--/--> | predicao | real | dif |\n",
       "|---|---|---|---|\n",
       "| 1 | 5.169697 | 5.1 |  0.06969697 |\n",
       "| 2 | 4.735000 | 4.9 | -0.16500000 |\n",
       "| 3 | 4.735000 | 4.7 |  0.03500000 |\n",
       "| 4 | 4.735000 | 4.6 |  0.13500000 |\n",
       "| 5 | 5.169697 | 5.0 |  0.16969697 |\n",
       "| 6 | 5.169697 | 5.4 | -0.23030303 |\n",
       "\n"
      ],
      "text/plain": [
       "  predicao real dif        \n",
       "1 5.169697 5.1   0.06969697\n",
       "2 4.735000 4.9  -0.16500000\n",
       "3 4.735000 4.7   0.03500000\n",
       "4 4.735000 4.6   0.13500000\n",
       "5 5.169697 5.0   0.16969697\n",
       "6 5.169697 5.4  -0.23030303"
      ]
     },
     "metadata": {},
     "output_type": "display_data"
    }
   ],
   "source": [
    "comparacao <- cbind(predicao = predicao, real = iris$Sepal.Length, dif = predicao - iris$Sepal.Length)\n",
    "head(comparacao)\n"
   ]
  },
  {
   "cell_type": "code",
   "execution_count": 18,
   "metadata": {
    "vscode": {
     "languageId": "r"
    }
   },
   "outputs": [
    {
     "data": {
      "text/html": [
       "<table class=\"dataframe\">\n",
       "<caption>A matrix: 1 × 5 of type dbl</caption>\n",
       "<thead>\n",
       "\t<tr><th></th><th scope=col>ME</th><th scope=col>RMSE</th><th scope=col>MAE</th><th scope=col>MPE</th><th scope=col>MAPE</th></tr>\n",
       "</thead>\n",
       "<tbody>\n",
       "\t<tr><th scope=row>Test set</th><td>6.335601e-16</td><td>0.3062806</td><td>0.2425701</td><td>-0.2838496</td><td>4.219833</td></tr>\n",
       "</tbody>\n",
       "</table>\n"
      ],
      "text/latex": [
       "A matrix: 1 × 5 of type dbl\n",
       "\\begin{tabular}{r|lllll}\n",
       "  & ME & RMSE & MAE & MPE & MAPE\\\\\n",
       "\\hline\n",
       "\tTest set & 6.335601e-16 & 0.3062806 & 0.2425701 & -0.2838496 & 4.219833\\\\\n",
       "\\end{tabular}\n"
      ],
      "text/markdown": [
       "\n",
       "A matrix: 1 × 5 of type dbl\n",
       "\n",
       "| <!--/--> | ME | RMSE | MAE | MPE | MAPE |\n",
       "|---|---|---|---|---|---|\n",
       "| Test set | 6.335601e-16 | 0.3062806 | 0.2425701 | -0.2838496 | 4.219833 |\n",
       "\n"
      ],
      "text/plain": [
       "         ME           RMSE      MAE       MPE        MAPE    \n",
       "Test set 6.335601e-16 0.3062806 0.2425701 -0.2838496 4.219833"
      ]
     },
     "metadata": {},
     "output_type": "display_data"
    }
   ],
   "source": [
    "accuracy(predicao, iris$Sepal.Length)"
   ]
  }
 ],
 "metadata": {
  "kernelspec": {
   "display_name": "R",
   "language": "R",
   "name": "ir"
  },
  "language_info": {
   "codemirror_mode": "r",
   "file_extension": ".r",
   "mimetype": "text/x-r-source",
   "name": "R",
   "pygments_lexer": "r",
   "version": "4.3.1"
  }
 },
 "nbformat": 4,
 "nbformat_minor": 2
}
