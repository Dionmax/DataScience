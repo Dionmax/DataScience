{
 "cells": [
  {
   "cell_type": "markdown",
   "metadata": {},
   "source": [
    "dpois = Point probability\n",
    "\n",
    "ppois = Cumulative probability"
   ]
  },
  {
   "cell_type": "code",
   "execution_count": 4,
   "metadata": {
    "vscode": {
     "languageId": "r"
    }
   },
   "outputs": [
    {
     "data": {
      "text/html": [
       "0.180447044315484"
      ],
      "text/latex": [
       "0.180447044315484"
      ],
      "text/markdown": [
       "0.180447044315484"
      ],
      "text/plain": [
       "[1] 0.180447"
      ]
     },
     "metadata": {},
     "output_type": "display_data"
    }
   ],
   "source": [
    "dpois(3, lambda = 2)\n"
   ]
  },
  {
   "cell_type": "code",
   "execution_count": 13,
   "metadata": {
    "vscode": {
     "languageId": "r"
    }
   },
   "outputs": [
    {
     "data": {
      "text/html": [
       "0.857123460498547"
      ],
      "text/latex": [
       "0.857123460498547"
      ],
      "text/markdown": [
       "0.857123460498547"
      ],
      "text/plain": [
       "[1] 0.8571235"
      ]
     },
     "metadata": {},
     "output_type": "display_data"
    }
   ],
   "source": [
    "ppois(3, lambda = 2)\n"
   ]
  },
  {
   "cell_type": "code",
   "execution_count": 6,
   "metadata": {
    "vscode": {
     "languageId": "r"
    }
   },
   "outputs": [
    {
     "data": {
      "text/html": [
       "0.676676416183063"
      ],
      "text/latex": [
       "0.676676416183063"
      ],
      "text/markdown": [
       "0.676676416183063"
      ],
      "text/plain": [
       "[1] 0.6766764"
      ]
     },
     "metadata": {},
     "output_type": "display_data"
    },
    {
     "data": {
      "text/html": [
       "0.676676416183064"
      ],
      "text/latex": [
       "0.676676416183064"
      ],
      "text/markdown": [
       "0.676676416183064"
      ],
      "text/plain": [
       "[1] 0.6766764"
      ]
     },
     "metadata": {},
     "output_type": "display_data"
    }
   ],
   "source": [
    "ppois(2, lambda = 2)\n",
    "\n",
    "dpois(0, lambda = 2) + dpois(1, lambda = 2) + dpois(2, lambda = 2)\n"
   ]
  },
  {
   "cell_type": "code",
   "execution_count": 14,
   "metadata": {
    "vscode": {
     "languageId": "r"
    }
   },
   "outputs": [
    {
     "data": {
      "text/html": [
       "0.142876539501453"
      ],
      "text/latex": [
       "0.142876539501453"
      ],
      "text/markdown": [
       "0.142876539501453"
      ],
      "text/plain": [
       "[1] 0.1428765"
      ]
     },
     "metadata": {},
     "output_type": "display_data"
    },
    {
     "data": {
      "text/html": [
       "0.142876539501453"
      ],
      "text/latex": [
       "0.142876539501453"
      ],
      "text/markdown": [
       "0.142876539501453"
      ],
      "text/plain": [
       "[1] 0.1428765"
      ]
     },
     "metadata": {},
     "output_type": "display_data"
    }
   ],
   "source": [
    "ppois(3, lambda = 2, lower.tail = FALSE)\n",
    "\n",
    "1 - ppois(3, lambda = 2)"
   ]
  }
 ],
 "metadata": {
  "kernelspec": {
   "display_name": "R",
   "language": "R",
   "name": "ir"
  },
  "language_info": {
   "codemirror_mode": "r",
   "file_extension": ".r",
   "mimetype": "text/x-r-source",
   "name": "R",
   "pygments_lexer": "r",
   "version": "4.3.1"
  }
 },
 "nbformat": 4,
 "nbformat_minor": 2
}
