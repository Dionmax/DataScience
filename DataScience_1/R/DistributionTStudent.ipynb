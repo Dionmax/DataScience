{
 "cells": [
  {
   "cell_type": "markdown",
   "metadata": {},
   "source": [
    "#### Salario de cientista é 75 por hora, amostra 9, S=10, qual a probabilidade de ser 80 por hora?"
   ]
  },
  {
   "cell_type": "code",
   "execution_count": 1,
   "metadata": {
    "vscode": {
     "languageId": "r"
    }
   },
   "outputs": [
    {
     "data": {
      "text/html": [
       "0.913998354024044"
      ],
      "text/latex": [
       "0.913998354024044"
      ],
      "text/markdown": [
       "0.913998354024044"
      ],
      "text/plain": [
       "[1] 0.9139984"
      ]
     },
     "metadata": {},
     "output_type": "display_data"
    }
   ],
   "source": [
    "# t=1.5 graus de liberdade 8\n",
    "\n",
    "pt(1.5, 8)"
   ]
  },
  {
   "cell_type": "code",
   "execution_count": 2,
   "metadata": {
    "vscode": {
     "languageId": "r"
    }
   },
   "outputs": [
    {
     "data": {
      "text/html": [
       "0.0860016459759557"
      ],
      "text/latex": [
       "0.0860016459759557"
      ],
      "text/markdown": [
       "0.0860016459759557"
      ],
      "text/plain": [
       "[1] 0.08600165"
      ]
     },
     "metadata": {},
     "output_type": "display_data"
    },
    {
     "data": {
      "text/html": [
       "0.0860016459759556"
      ],
      "text/latex": [
       "0.0860016459759556"
      ],
      "text/markdown": [
       "0.0860016459759556"
      ],
      "text/plain": [
       "[1] 0.08600165"
      ]
     },
     "metadata": {},
     "output_type": "display_data"
    }
   ],
   "source": [
    "# Probabilidade de t ser maior que 80?\n",
    "\n",
    "pt(1.5, 8, lower.tail = FALSE)\n",
    "\n",
    "1 - pt(1.5, 8)"
   ]
  },
  {
   "cell_type": "code",
   "execution_count": 3,
   "metadata": {
    "vscode": {
     "languageId": "r"
    }
   },
   "outputs": [
    {
     "data": {
      "text/html": [
       "1"
      ],
      "text/latex": [
       "1"
      ],
      "text/markdown": [
       "1"
      ],
      "text/plain": [
       "[1] 1"
      ]
     },
     "metadata": {},
     "output_type": "display_data"
    }
   ],
   "source": [
    "# Somando as duas caudas\n",
    "\n",
    "pt(1.5, 8) + pt(1.5, 8, lower.tail = FALSE)"
   ]
  }
 ],
 "metadata": {
  "kernelspec": {
   "display_name": "R",
   "language": "R",
   "name": "ir"
  },
  "language_info": {
   "codemirror_mode": "r",
   "file_extension": ".r",
   "mimetype": "text/x-r-source",
   "name": "R",
   "pygments_lexer": "r",
   "version": "4.3.1"
  }
 },
 "nbformat": 4,
 "nbformat_minor": 2
}
