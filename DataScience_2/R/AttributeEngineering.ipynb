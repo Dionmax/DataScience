{
 "cells": [
  {
   "cell_type": "code",
   "execution_count": 155,
   "metadata": {
    "vscode": {
     "languageId": "r"
    }
   },
   "outputs": [],
   "source": [
    "# install.packages(\"lubridate\")\n",
    "# install.packages(\"mltools\")\n",
    "# install.packages(\"data.table\")\n",
    "\n",
    "library(lubridate)\n",
    "library(mltools)\n",
    "library(data.table)\n"
   ]
  },
  {
   "cell_type": "code",
   "execution_count": 156,
   "metadata": {
    "vscode": {
     "languageId": "r"
    }
   },
   "outputs": [
    {
     "data": {
      "text/html": [
       "<table class=\"dataframe\">\n",
       "<caption>A data.frame: 6 × 8</caption>\n",
       "<thead>\n",
       "\t<tr><th></th><th scope=col>SALDO_ATUAL</th><th scope=col>RESIDENCIADESDE</th><th scope=col>IDADE</th><th scope=col>OUTROSPLANOSPGTO</th><th scope=col>DATA</th><th scope=col>ESTADOCIVIL</th><th scope=col>PROPOSITO</th><th scope=col>CLASSE</th></tr>\n",
       "\t<tr><th></th><th scope=col>&lt;dbl&gt;</th><th scope=col>&lt;int&gt;</th><th scope=col>&lt;int&gt;</th><th scope=col>&lt;fct&gt;</th><th scope=col>&lt;fct&gt;</th><th scope=col>&lt;fct&gt;</th><th scope=col>&lt;fct&gt;</th><th scope=col>&lt;fct&gt;</th></tr>\n",
       "</thead>\n",
       "<tbody>\n",
       "\t<tr><th scope=row>1</th><td>1169</td><td>4</td><td>67</td><td>nenhum</td><td>01/01/2019</td><td>masculino solteiro</td><td>radio/tv           </td><td>bom </td></tr>\n",
       "\t<tr><th scope=row>2</th><td>5951</td><td>2</td><td>22</td><td>nenhum</td><td>01/01/2020</td><td>fem div/cas       </td><td>radio/tv           </td><td>ruim</td></tr>\n",
       "\t<tr><th scope=row>3</th><td>2096</td><td>3</td><td>49</td><td>nenhum</td><td>02/01/2020</td><td>masculino solteiro</td><td>educação           </td><td>bom </td></tr>\n",
       "\t<tr><th scope=row>4</th><td>7882</td><td>4</td><td>45</td><td>nenhum</td><td>02/01/2019</td><td>masculino solteiro</td><td>mobilia/equipamento</td><td>bom </td></tr>\n",
       "\t<tr><th scope=row>5</th><td>4870</td><td>4</td><td>53</td><td>nenhum</td><td>03/01/2018</td><td>masculino solteiro</td><td>carro novo         </td><td>ruim</td></tr>\n",
       "\t<tr><th scope=row>6</th><td>9055</td><td>4</td><td>35</td><td>nenhum</td><td>04/01/2020</td><td>masculino solteiro</td><td>educação           </td><td>bom </td></tr>\n",
       "</tbody>\n",
       "</table>\n"
      ],
      "text/latex": [
       "A data.frame: 6 × 8\n",
       "\\begin{tabular}{r|llllllll}\n",
       "  & SALDO\\_ATUAL & RESIDENCIADESDE & IDADE & OUTROSPLANOSPGTO & DATA & ESTADOCIVIL & PROPOSITO & CLASSE\\\\\n",
       "  & <dbl> & <int> & <int> & <fct> & <fct> & <fct> & <fct> & <fct>\\\\\n",
       "\\hline\n",
       "\t1 & 1169 & 4 & 67 & nenhum & 01/01/2019 & masculino solteiro & radio/tv            & bom \\\\\n",
       "\t2 & 5951 & 2 & 22 & nenhum & 01/01/2020 & fem div/cas        & radio/tv            & ruim\\\\\n",
       "\t3 & 2096 & 3 & 49 & nenhum & 02/01/2020 & masculino solteiro & educação            & bom \\\\\n",
       "\t4 & 7882 & 4 & 45 & nenhum & 02/01/2019 & masculino solteiro & mobilia/equipamento & bom \\\\\n",
       "\t5 & 4870 & 4 & 53 & nenhum & 03/01/2018 & masculino solteiro & carro novo          & ruim\\\\\n",
       "\t6 & 9055 & 4 & 35 & nenhum & 04/01/2020 & masculino solteiro & educação            & bom \\\\\n",
       "\\end{tabular}\n"
      ],
      "text/markdown": [
       "\n",
       "A data.frame: 6 × 8\n",
       "\n",
       "| <!--/--> | SALDO_ATUAL &lt;dbl&gt; | RESIDENCIADESDE &lt;int&gt; | IDADE &lt;int&gt; | OUTROSPLANOSPGTO &lt;fct&gt; | DATA &lt;fct&gt; | ESTADOCIVIL &lt;fct&gt; | PROPOSITO &lt;fct&gt; | CLASSE &lt;fct&gt; |\n",
       "|---|---|---|---|---|---|---|---|---|\n",
       "| 1 | 1169 | 4 | 67 | nenhum | 01/01/2019 | masculino solteiro | radio/tv            | bom  |\n",
       "| 2 | 5951 | 2 | 22 | nenhum | 01/01/2020 | fem div/cas        | radio/tv            | ruim |\n",
       "| 3 | 2096 | 3 | 49 | nenhum | 02/01/2020 | masculino solteiro | educação            | bom  |\n",
       "| 4 | 7882 | 4 | 45 | nenhum | 02/01/2019 | masculino solteiro | mobilia/equipamento | bom  |\n",
       "| 5 | 4870 | 4 | 53 | nenhum | 03/01/2018 | masculino solteiro | carro novo          | ruim |\n",
       "| 6 | 9055 | 4 | 35 | nenhum | 04/01/2020 | masculino solteiro | educação            | bom  |\n",
       "\n"
      ],
      "text/plain": [
       "  SALDO_ATUAL RESIDENCIADESDE IDADE OUTROSPLANOSPGTO DATA      \n",
       "1 1169        4               67    nenhum           01/01/2019\n",
       "2 5951        2               22    nenhum           01/01/2020\n",
       "3 2096        3               49    nenhum           02/01/2020\n",
       "4 7882        4               45    nenhum           02/01/2019\n",
       "5 4870        4               53    nenhum           03/01/2018\n",
       "6 9055        4               35    nenhum           04/01/2020\n",
       "  ESTADOCIVIL        PROPOSITO           CLASSE\n",
       "1 masculino solteiro radio/tv            bom   \n",
       "2 fem div/cas        radio/tv            ruim  \n",
       "3 masculino solteiro educação            bom   \n",
       "4 masculino solteiro mobilia/equipamento bom   \n",
       "5 masculino solteiro carro novo          ruim  \n",
       "6 masculino solteiro educação            bom   "
      ]
     },
     "metadata": {},
     "output_type": "display_data"
    }
   ],
   "source": [
    "dados <- read.csv(\"../data/credito4.csv\", sep = \";\", na.strings = \"\", stringsAsFactors = TRUE, encoding = \"UTF-8\")\n",
    "\n",
    "head(dados)\n"
   ]
  },
  {
   "cell_type": "code",
   "execution_count": 157,
   "metadata": {
    "vscode": {
     "languageId": "r"
    }
   },
   "outputs": [
    {
     "data": {
      "text/plain": [
       "  SALDO_ATUAL   RESIDENCIADESDE     IDADE       OUTROSPLANOSPGTO         DATA  \n",
       " Min.   :1204   Min.   :1       Min.   :20.00   banco : 2        21/12/2019:2  \n",
       " 1st Qu.:1278   1st Qu.:2       1st Qu.:27.50   nenhum:12        04/03/2019:1  \n",
       " Median :1938   Median :4       Median :35.00   stores: 1        08/01/2019:1  \n",
       " Mean   :2262   Mean   :3       Mean   :36.33                    13/01/2020:1  \n",
       " 3rd Qu.:2667   3rd Qu.:4       3rd Qu.:42.00                    13/04/2020:1  \n",
       " Max.   :4771   Max.   :4       Max.   :63.00                    17/01/2018:1  \n",
       " NA's   :7                                                       (Other)   :8  \n",
       "                 ESTADOCIVIL               PROPOSITO  CLASSE  \n",
       " fem div/cas           :3    radio/tv           :6   bom :10  \n",
       " masculino casado/viuvo:0    carro novo         :4   ruim: 5  \n",
       " masculino div/sep     :0    mobilia/equipamento:2            \n",
       " masculino solteiro    :4    carro usado        :1            \n",
       " NA's                  :8    Eletrodomésticos   :1            \n",
       "                             negócios           :1            \n",
       "                             (Other)            :0            "
      ]
     },
     "metadata": {},
     "output_type": "display_data"
    }
   ],
   "source": [
    "# Verificando a quantidade de valores NA\n",
    "summary(dados[!complete.cases(dados), ])\n"
   ]
  },
  {
   "cell_type": "markdown",
   "metadata": {},
   "source": [
    "### NA"
   ]
  },
  {
   "cell_type": "code",
   "execution_count": 158,
   "metadata": {
    "vscode": {
     "languageId": "r"
    }
   },
   "outputs": [
    {
     "data": {
      "text/plain": [
       "     Min.   1st Qu.    Median      Mean   3rd Qu.      Max.      NA's \n",
       "2.500e+02 1.371e+03 2.323e+03 2.426e+07 3.976e+03 2.154e+10         7 "
      ]
     },
     "metadata": {},
     "output_type": "display_data"
    }
   ],
   "source": [
    "summary(dados$SALDO_ATUAL)\n"
   ]
  },
  {
   "cell_type": "code",
   "execution_count": 159,
   "metadata": {
    "vscode": {
     "languageId": "r"
    }
   },
   "outputs": [
    {
     "data": {
      "text/html": [
       "2323"
      ],
      "text/latex": [
       "2323"
      ],
      "text/markdown": [
       "2323"
      ],
      "text/plain": [
       "[1] 2323"
      ]
     },
     "metadata": {},
     "output_type": "display_data"
    }
   ],
   "source": [
    "median(dados$SALDO_ATUAL, na.rm = TRUE)\n"
   ]
  },
  {
   "cell_type": "code",
   "execution_count": 160,
   "metadata": {
    "vscode": {
     "languageId": "r"
    }
   },
   "outputs": [],
   "source": [
    "# Substituindo os valores NA pela mediana\n",
    "dados$SALDO_ATUAL[is.na(dados$SALDO_ATUAL)] <- median(dados$SALDO_ATUAL, na.rm = TRUE)\n"
   ]
  },
  {
   "cell_type": "code",
   "execution_count": 161,
   "metadata": {
    "vscode": {
     "languageId": "r"
    }
   },
   "outputs": [
    {
     "data": {
      "text/html": [
       "<table class=\"dataframe\">\n",
       "<caption>A data.frame: 0 × 8</caption>\n",
       "<thead>\n",
       "\t<tr><th scope=col>SALDO_ATUAL</th><th scope=col>RESIDENCIADESDE</th><th scope=col>IDADE</th><th scope=col>OUTROSPLANOSPGTO</th><th scope=col>DATA</th><th scope=col>ESTADOCIVIL</th><th scope=col>PROPOSITO</th><th scope=col>CLASSE</th></tr>\n",
       "\t<tr><th scope=col>&lt;dbl&gt;</th><th scope=col>&lt;int&gt;</th><th scope=col>&lt;int&gt;</th><th scope=col>&lt;fct&gt;</th><th scope=col>&lt;fct&gt;</th><th scope=col>&lt;fct&gt;</th><th scope=col>&lt;fct&gt;</th><th scope=col>&lt;fct&gt;</th></tr>\n",
       "</thead>\n",
       "<tbody>\n",
       "</tbody>\n",
       "</table>\n"
      ],
      "text/latex": [
       "A data.frame: 0 × 8\n",
       "\\begin{tabular}{llllllll}\n",
       " SALDO\\_ATUAL & RESIDENCIADESDE & IDADE & OUTROSPLANOSPGTO & DATA & ESTADOCIVIL & PROPOSITO & CLASSE\\\\\n",
       " <dbl> & <int> & <int> & <fct> & <fct> & <fct> & <fct> & <fct>\\\\\n",
       "\\hline\n",
       "\\end{tabular}\n"
      ],
      "text/markdown": [
       "\n",
       "A data.frame: 0 × 8\n",
       "\n",
       "| SALDO_ATUAL &lt;dbl&gt; | RESIDENCIADESDE &lt;int&gt; | IDADE &lt;int&gt; | OUTROSPLANOSPGTO &lt;fct&gt; | DATA &lt;fct&gt; | ESTADOCIVIL &lt;fct&gt; | PROPOSITO &lt;fct&gt; | CLASSE &lt;fct&gt; |\n",
       "|---|---|---|---|---|---|---|---|\n",
       "\n"
      ],
      "text/plain": [
       "     SALDO_ATUAL RESIDENCIADESDE IDADE OUTROSPLANOSPGTO DATA ESTADOCIVIL\n",
       "     PROPOSITO CLASSE"
      ]
     },
     "metadata": {},
     "output_type": "display_data"
    }
   ],
   "source": [
    "dados[!complete.cases(dados$SALDO_ATUAL), ]\n"
   ]
  },
  {
   "cell_type": "code",
   "execution_count": 162,
   "metadata": {
    "vscode": {
     "languageId": "r"
    }
   },
   "outputs": [
    {
     "data": {
      "text/html": [
       "<style>\n",
       ".list-inline {list-style: none; margin:0; padding: 0}\n",
       ".list-inline>li {display: inline-block}\n",
       ".list-inline>li:not(:last-child)::after {content: \"\\00b7\"; padding: 0 .5ex}\n",
       "</style>\n",
       "<ol class=list-inline><li>masculino solteiro</li><li>fem div/cas</li><li>masculino div/sep</li><li>masculino casado/viuvo</li><li>&lt;NA&gt;</li></ol>\n",
       "\n",
       "<details>\n",
       "\t<summary style=display:list-item;cursor:pointer>\n",
       "\t\t<strong>Levels</strong>:\n",
       "\t</summary>\n",
       "\t<style>\n",
       "\t.list-inline {list-style: none; margin:0; padding: 0}\n",
       "\t.list-inline>li {display: inline-block}\n",
       "\t.list-inline>li:not(:last-child)::after {content: \"\\00b7\"; padding: 0 .5ex}\n",
       "\t</style>\n",
       "\t<ol class=list-inline><li>'fem div/cas'</li><li>'masculino casado/viuvo'</li><li>'masculino div/sep'</li><li>'masculino solteiro'</li></ol>\n",
       "</details>"
      ],
      "text/latex": [
       "\\begin{enumerate*}\n",
       "\\item masculino solteiro\n",
       "\\item fem div/cas\n",
       "\\item masculino div/sep\n",
       "\\item masculino casado/viuvo\n",
       "\\item <NA>\n",
       "\\end{enumerate*}\n",
       "\n",
       "\\emph{Levels}: \\begin{enumerate*}\n",
       "\\item 'fem div/cas'\n",
       "\\item 'masculino casado/viuvo'\n",
       "\\item 'masculino div/sep'\n",
       "\\item 'masculino solteiro'\n",
       "\\end{enumerate*}\n"
      ],
      "text/markdown": [
       "1. masculino solteiro\n",
       "2. fem div/cas\n",
       "3. masculino div/sep\n",
       "4. masculino casado/viuvo\n",
       "5. &lt;NA&gt;\n",
       "\n",
       "\n",
       "\n",
       "**Levels**: 1. 'fem div/cas'\n",
       "2. 'masculino casado/viuvo'\n",
       "3. 'masculino div/sep'\n",
       "4. 'masculino solteiro'\n",
       "\n",
       "\n"
      ],
      "text/plain": [
       "[1] masculino solteiro     fem div/cas            masculino div/sep     \n",
       "[4] masculino casado/viuvo <NA>                  \n",
       "4 Levels: fem div/cas masculino casado/viuvo ... masculino solteiro"
      ]
     },
     "metadata": {},
     "output_type": "display_data"
    }
   ],
   "source": [
    "unique(dados$ESTADOCIVIL)\n"
   ]
  },
  {
   "cell_type": "code",
   "execution_count": 163,
   "metadata": {
    "vscode": {
     "languageId": "r"
    }
   },
   "outputs": [
    {
     "data": {
      "text/html": [
       "<style>\n",
       ".dl-inline {width: auto; margin:0; padding: 0}\n",
       ".dl-inline>dt, .dl-inline>dd {float: none; width: auto; display: inline-block}\n",
       ".dl-inline>dt::after {content: \":\\0020\"; padding-right: .5ex}\n",
       ".dl-inline>dt:not(:first-of-type) {padding-left: .5ex}\n",
       "</style><dl class=dl-inline><dt>fem div/cas</dt><dd>308</dd><dt>masculino casado/viuvo</dt><dd>92</dd><dt>masculino div/sep</dt><dd>50</dd><dt>masculino solteiro</dt><dd>542</dd><dt>NA's</dt><dd>8</dd></dl>\n"
      ],
      "text/latex": [
       "\\begin{description*}\n",
       "\\item[fem div/cas] 308\n",
       "\\item[masculino casado/viuvo] 92\n",
       "\\item[masculino div/sep] 50\n",
       "\\item[masculino solteiro] 542\n",
       "\\item[NA's] 8\n",
       "\\end{description*}\n"
      ],
      "text/markdown": [
       "fem div/cas\n",
       ":   308masculino casado/viuvo\n",
       ":   92masculino div/sep\n",
       ":   50masculino solteiro\n",
       ":   542NA's\n",
       ":   8\n",
       "\n"
      ],
      "text/plain": [
       "           fem div/cas masculino casado/viuvo      masculino div/sep \n",
       "                   308                     92                     50 \n",
       "    masculino solteiro                   NA's \n",
       "                   542                      8 "
      ]
     },
     "metadata": {},
     "output_type": "display_data"
    }
   ],
   "source": [
    "summary(dados$ESTADOCIVIL)\n"
   ]
  },
  {
   "cell_type": "code",
   "execution_count": 164,
   "metadata": {
    "vscode": {
     "languageId": "r"
    }
   },
   "outputs": [],
   "source": [
    "# Substituindo os valores NA por \"masculino solteiro\"\n",
    "dados[is.na(dados$ESTADOCIVIL), ]$ESTADOCIVIL <- \"masculino solteiro\"\n"
   ]
  },
  {
   "cell_type": "code",
   "execution_count": 165,
   "metadata": {
    "vscode": {
     "languageId": "r"
    }
   },
   "outputs": [
    {
     "data": {
      "text/html": [
       "<table class=\"dataframe\">\n",
       "<caption>A data.frame: 0 × 8</caption>\n",
       "<thead>\n",
       "\t<tr><th scope=col>SALDO_ATUAL</th><th scope=col>RESIDENCIADESDE</th><th scope=col>IDADE</th><th scope=col>OUTROSPLANOSPGTO</th><th scope=col>DATA</th><th scope=col>ESTADOCIVIL</th><th scope=col>PROPOSITO</th><th scope=col>CLASSE</th></tr>\n",
       "\t<tr><th scope=col>&lt;dbl&gt;</th><th scope=col>&lt;int&gt;</th><th scope=col>&lt;int&gt;</th><th scope=col>&lt;fct&gt;</th><th scope=col>&lt;fct&gt;</th><th scope=col>&lt;fct&gt;</th><th scope=col>&lt;fct&gt;</th><th scope=col>&lt;fct&gt;</th></tr>\n",
       "</thead>\n",
       "<tbody>\n",
       "</tbody>\n",
       "</table>\n"
      ],
      "text/latex": [
       "A data.frame: 0 × 8\n",
       "\\begin{tabular}{llllllll}\n",
       " SALDO\\_ATUAL & RESIDENCIADESDE & IDADE & OUTROSPLANOSPGTO & DATA & ESTADOCIVIL & PROPOSITO & CLASSE\\\\\n",
       " <dbl> & <int> & <int> & <fct> & <fct> & <fct> & <fct> & <fct>\\\\\n",
       "\\hline\n",
       "\\end{tabular}\n"
      ],
      "text/markdown": [
       "\n",
       "A data.frame: 0 × 8\n",
       "\n",
       "| SALDO_ATUAL &lt;dbl&gt; | RESIDENCIADESDE &lt;int&gt; | IDADE &lt;int&gt; | OUTROSPLANOSPGTO &lt;fct&gt; | DATA &lt;fct&gt; | ESTADOCIVIL &lt;fct&gt; | PROPOSITO &lt;fct&gt; | CLASSE &lt;fct&gt; |\n",
       "|---|---|---|---|---|---|---|---|\n",
       "\n"
      ],
      "text/plain": [
       "     SALDO_ATUAL RESIDENCIADESDE IDADE OUTROSPLANOSPGTO DATA ESTADOCIVIL\n",
       "     PROPOSITO CLASSE"
      ]
     },
     "metadata": {},
     "output_type": "display_data"
    }
   ],
   "source": [
    "dados[is.na(dados$ESTADOCIVIL), ]\n"
   ]
  },
  {
   "cell_type": "markdown",
   "metadata": {},
   "source": [
    "### Outliers"
   ]
  },
  {
   "cell_type": "code",
   "execution_count": 166,
   "metadata": {
    "vscode": {
     "languageId": "r"
    }
   },
   "outputs": [
    {
     "data": {
      "text/html": [
       "685936688.982007"
      ],
      "text/latex": [
       "685936688.982007"
      ],
      "text/markdown": [
       "685936688.982007"
      ],
      "text/plain": [
       "[1] 685936689"
      ]
     },
     "metadata": {},
     "output_type": "display_data"
    }
   ],
   "source": [
    "desv <- sd(dados$SALDO_ATUAL, na.rm = TRUE)\n",
    "desv\n"
   ]
  },
  {
   "cell_type": "code",
   "execution_count": 167,
   "metadata": {
    "vscode": {
     "languageId": "r"
    }
   },
   "outputs": [
    {
     "data": {
      "text/html": [
       "<style>\n",
       ".list-inline {list-style: none; margin:0; padding: 0}\n",
       ".list-inline>li {display: inline-block}\n",
       ".list-inline>li:not(:last-child)::after {content: \"\\00b7\"; padding: 0 .5ex}\n",
       "</style>\n",
       "<ol class=list-inline><li>2541111000</li><li>21544411255</li></ol>\n"
      ],
      "text/latex": [
       "\\begin{enumerate*}\n",
       "\\item 2541111000\n",
       "\\item 21544411255\n",
       "\\end{enumerate*}\n"
      ],
      "text/markdown": [
       "1. 2541111000\n",
       "2. 21544411255\n",
       "\n",
       "\n"
      ],
      "text/plain": [
       "[1]  2541111000 21544411255"
      ]
     },
     "metadata": {},
     "output_type": "display_data"
    }
   ],
   "source": [
    "# Exibindo os valores que estão acima de 2 desvios padrão\n",
    "dados[dados$SALDO_ATUAL >= 2 * desv, ]$SALDO_ATUAL\n"
   ]
  },
  {
   "cell_type": "code",
   "execution_count": 168,
   "metadata": {
    "vscode": {
     "languageId": "r"
    }
   },
   "outputs": [],
   "source": [
    "# Substituindo os valores que estão acima de 2 desvios padrão pela mediana\n",
    "dados[dados$SALDO_ATUAL > 2 * desv, ]$SALDO_ATUAL <- median(dados$SALDO_ATUAL, na.rm = TRUE)\n"
   ]
  },
  {
   "cell_type": "code",
   "execution_count": 169,
   "metadata": {
    "vscode": {
     "languageId": "r"
    }
   },
   "outputs": [
    {
     "data": {
      "text/html": [],
      "text/latex": [],
      "text/markdown": [],
      "text/plain": [
       "numeric(0)"
      ]
     },
     "metadata": {},
     "output_type": "display_data"
    }
   ],
   "source": [
    "dados[dados$SALDO_ATUAL > 2 * desv, ]$SALDO_ATUAL\n"
   ]
  },
  {
   "cell_type": "markdown",
   "metadata": {},
   "source": [
    "### Data Binding"
   ]
  },
  {
   "cell_type": "code",
   "execution_count": 170,
   "metadata": {
    "vscode": {
     "languageId": "r"
    }
   },
   "outputs": [
    {
     "data": {
      "text/html": [
       "<style>\n",
       ".dl-inline {width: auto; margin:0; padding: 0}\n",
       ".dl-inline>dt, .dl-inline>dd {float: none; width: auto; display: inline-block}\n",
       ".dl-inline>dt::after {content: \":\\0020\"; padding-right: .5ex}\n",
       ".dl-inline>dt:not(:first-of-type) {padding-left: .5ex}\n",
       "</style><dl class=dl-inline><dt>carro novo</dt><dd>234</dd><dt>carro usado</dt><dd>103</dd><dt>educação</dt><dd>50</dd><dt>Eletrodomésticos</dt><dd>12</dd><dt>mobilia/equipamento</dt><dd>181</dd><dt>negócios</dt><dd>97</dd><dt>obras</dt><dd>22</dd><dt>outros</dt><dd>12</dd><dt>qualificação</dt><dd>9</dd><dt>radio/tv</dt><dd>280</dd></dl>\n"
      ],
      "text/latex": [
       "\\begin{description*}\n",
       "\\item[carro novo] 234\n",
       "\\item[carro usado] 103\n",
       "\\item[educação] 50\n",
       "\\item[Eletrodomésticos] 12\n",
       "\\item[mobilia/equipamento] 181\n",
       "\\item[negócios] 97\n",
       "\\item[obras] 22\n",
       "\\item[outros] 12\n",
       "\\item[qualificação] 9\n",
       "\\item[radio/tv] 280\n",
       "\\end{description*}\n"
      ],
      "text/markdown": [
       "carro novo\n",
       ":   234carro usado\n",
       ":   103educação\n",
       ":   50Eletrodomésticos\n",
       ":   12mobilia/equipamento\n",
       ":   181negócios\n",
       ":   97obras\n",
       ":   22outros\n",
       ":   12qualificação\n",
       ":   9radio/tv\n",
       ":   280\n",
       "\n"
      ],
      "text/plain": [
       "         carro novo         carro usado            educação    Eletrodomésticos \n",
       "                234                 103                  50                  12 \n",
       "mobilia/equipamento            negócios               obras              outros \n",
       "                181                  97                  22                  12 \n",
       "       qualificação            radio/tv \n",
       "                  9                 280 "
      ]
     },
     "metadata": {},
     "output_type": "display_data"
    }
   ],
   "source": [
    "summary(dados$PROPOSITO)\n"
   ]
  },
  {
   "cell_type": "code",
   "execution_count": 171,
   "metadata": {
    "vscode": {
     "languageId": "r"
    }
   },
   "outputs": [],
   "source": [
    "dados[dados$PROPOSITO == \"Eletrodomésticos\", ]$PROPOSITO <- \"outros\"\n",
    "dados[dados$PROPOSITO == \"mobilia/equipamento\", ]$PROPOSITO <- \"outros\"\n",
    "dados[dados$PROPOSITO == \"educação\", ]$PROPOSITO <- \"outros\"\n"
   ]
  },
  {
   "cell_type": "code",
   "execution_count": 172,
   "metadata": {
    "vscode": {
     "languageId": "r"
    }
   },
   "outputs": [],
   "source": [
    "# Convertendo a variável PROPOSITO para fator\n",
    "dados$PROPOSITO <- factor(dados$PROPOSITO)\n"
   ]
  },
  {
   "cell_type": "code",
   "execution_count": 173,
   "metadata": {
    "vscode": {
     "languageId": "r"
    }
   },
   "outputs": [
    {
     "data": {
      "text/html": [
       "<style>\n",
       ".dl-inline {width: auto; margin:0; padding: 0}\n",
       ".dl-inline>dt, .dl-inline>dd {float: none; width: auto; display: inline-block}\n",
       ".dl-inline>dt::after {content: \":\\0020\"; padding-right: .5ex}\n",
       ".dl-inline>dt:not(:first-of-type) {padding-left: .5ex}\n",
       "</style><dl class=dl-inline><dt>carro novo</dt><dd>234</dd><dt>carro usado</dt><dd>103</dd><dt>negócios</dt><dd>97</dd><dt>obras</dt><dd>22</dd><dt>outros</dt><dd>255</dd><dt>qualificação</dt><dd>9</dd><dt>radio/tv</dt><dd>280</dd></dl>\n"
      ],
      "text/latex": [
       "\\begin{description*}\n",
       "\\item[carro novo] 234\n",
       "\\item[carro usado] 103\n",
       "\\item[negócios] 97\n",
       "\\item[obras] 22\n",
       "\\item[outros] 255\n",
       "\\item[qualificação] 9\n",
       "\\item[radio/tv] 280\n",
       "\\end{description*}\n"
      ],
      "text/markdown": [
       "carro novo\n",
       ":   234carro usado\n",
       ":   103negócios\n",
       ":   97obras\n",
       ":   22outros\n",
       ":   255qualificação\n",
       ":   9radio/tv\n",
       ":   280\n",
       "\n"
      ],
      "text/plain": [
       "  carro novo  carro usado     negócios        obras       outros qualificação \n",
       "         234          103           97           22          255            9 \n",
       "    radio/tv \n",
       "         280 "
      ]
     },
     "metadata": {},
     "output_type": "display_data"
    }
   ],
   "source": [
    "summary(dados$PROPOSITO)\n"
   ]
  },
  {
   "cell_type": "markdown",
   "metadata": {},
   "source": [
    "### Generation of attributes with Date"
   ]
  },
  {
   "cell_type": "code",
   "execution_count": 174,
   "metadata": {
    "vscode": {
     "languageId": "r"
    }
   },
   "outputs": [
    {
     "data": {
      "text/html": [
       "'factor'"
      ],
      "text/latex": [
       "'factor'"
      ],
      "text/markdown": [
       "'factor'"
      ],
      "text/plain": [
       "[1] \"factor\""
      ]
     },
     "metadata": {},
     "output_type": "display_data"
    }
   ],
   "source": [
    "class(dados$DATA)\n"
   ]
  },
  {
   "cell_type": "code",
   "execution_count": 175,
   "metadata": {
    "vscode": {
     "languageId": "r"
    }
   },
   "outputs": [
    {
     "data": {
      "text/html": [
       "<style>\n",
       ".list-inline {list-style: none; margin:0; padding: 0}\n",
       ".list-inline>li {display: inline-block}\n",
       ".list-inline>li:not(:last-child)::after {content: \"\\00b7\"; padding: 0 .5ex}\n",
       "</style>\n",
       "<ol class=list-inline><li>01/01/2019</li><li>01/01/2020</li><li>02/01/2020</li><li>02/01/2019</li><li>03/01/2018</li><li>04/01/2020</li></ol>\n",
       "\n",
       "<details>\n",
       "\t<summary style=display:list-item;cursor:pointer>\n",
       "\t\t<strong>Levels</strong>:\n",
       "\t</summary>\n",
       "\t<style>\n",
       "\t.list-inline {list-style: none; margin:0; padding: 0}\n",
       "\t.list-inline>li {display: inline-block}\n",
       "\t.list-inline>li:not(:last-child)::after {content: \"\\00b7\"; padding: 0 .5ex}\n",
       "\t</style>\n",
       "\t<ol class=list-inline><li>'01/01/2019'</li><li>'01/01/2020'</li><li>'01/02/2019'</li><li>'01/04/2018'</li><li>'01/04/2019'</li><li>'01/05/2019'</li><li>'01/05/2020'</li><li>'01/10/2020'</li><li>'01/11/2018'</li><li>'01/11/2019'</li><li>'01/11/2020'</li><li>'01/12/2020'</li><li>'02/01/2019'</li><li>'02/01/2020'</li><li>'02/02/2019'</li><li>'02/03/2019'</li><li>'02/04/2020'</li><li>'02/06/2018'</li><li>'02/08/2020'</li><li>'02/09/2020'</li><li>'02/10/2019'</li><li>'02/10/2020'</li><li>'02/11/2018'</li><li>'02/11/2019'</li><li>'02/12/2019'</li><li>'02/12/2020'</li><li>'03/01/2018'</li><li>'03/02/2019'</li><li>'03/05/2020'</li><li>'03/07/2018'</li><li>'03/11/2018'</li><li>'03/12/2020'</li><li>'04/01/2020'</li><li>'04/03/2019'</li><li>'04/04/2020'</li><li>'04/05/2020'</li><li>'04/06/2020'</li><li>'04/07/2019'</li><li>'04/09/2019'</li><li>'04/11/2018'</li><li>'04/12/2019'</li><li>'04/12/2020'</li><li>'05/02/2020'</li><li>'05/04/2020'</li><li>'05/05/2018'</li><li>'05/05/2020'</li><li>'05/07/2018'</li><li>'05/07/2020'</li><li>'05/08/2018'</li><li>'05/09/2019'</li><li>'05/11/2019'</li><li>'05/12/2018'</li><li>'05/12/2019'</li><li>'06/01/2019'</li><li>'06/01/2020'</li><li>'06/05/2018'</li><li>'06/05/2019'</li><li>'06/06/2020'</li><li>'06/07/2018'</li><li>'06/07/2019'</li><li>'06/08/2018'</li><li>'06/08/2019'</li><li>'06/09/2019'</li><li>'06/10/2019'</li><li>'06/12/2019'</li><li>'07/03/2020'</li><li>'07/09/2020'</li><li>'07/10/2020'</li><li>'07/11/2018'</li><li>'07/11/2020'</li><li>'08/01/2019'</li><li>'08/02/2018'</li><li>'08/03/2018'</li><li>'08/05/2018'</li><li>'08/06/2018'</li><li>'08/09/2018'</li><li>'09/01/2018'</li><li>'09/02/2019'</li><li>'09/02/2020'</li><li>'09/03/2019'</li><li>'09/05/2018'</li><li>'09/06/2019'</li><li>'09/07/2018'</li><li>'09/08/2019'</li><li>'09/08/2020'</li><li>'09/09/2019'</li><li>'09/10/2019'</li><li>'09/11/2018'</li><li>'09/12/2020'</li><li>'10/01/2019'</li><li>'10/02/2018'</li><li>'10/02/2019'</li><li>'10/03/2018'</li><li>'10/04/2019'</li><li>'10/05/2020'</li><li>'10/07/2018'</li><li>'10/08/2019'</li><li>'10/08/2020'</li><li>'10/09/2019'</li><li>'10/10/2020'</li><li>'10/11/2018'</li><li>'10/12/2018'</li><li>'10/12/2019'</li><li>'11/02/2018'</li><li>'11/03/2020'</li><li>'11/04/2020'</li><li>'11/07/2018'</li><li>'11/07/2020'</li><li>'11/08/2018'</li><li>'11/09/2018'</li><li>'11/11/2019'</li><li>'11/12/2020'</li><li>'12/01/2018'</li><li>'12/01/2020'</li><li>'12/02/2020'</li><li>'12/03/2019'</li><li>'12/04/2018'</li><li>'12/06/2019'</li><li>'12/07/2018'</li><li>'12/08/2019'</li><li>'12/08/2020'</li><li>'12/09/2020'</li><li>'12/10/2020'</li><li>'12/11/2019'</li><li>'12/12/2019'</li><li>'12/12/2020'</li><li>'13/01/2019'</li><li>'13/01/2020'</li><li>'13/02/2020'</li><li>'13/03/2019'</li><li>'13/04/2019'</li><li>'13/04/2020'</li><li>'13/05/2020'</li><li>'13/07/2019'</li><li>'13/09/2018'</li><li>'13/10/2018'</li><li>'13/11/2019'</li><li>'13/12/2019'</li><li>'13/12/2020'</li><li>'14/01/2019'</li><li>'14/02/2018'</li><li>'14/02/2020'</li><li>'14/03/2018'</li><li>'14/04/2018'</li><li>'14/04/2019'</li><li>'14/05/2018'</li><li>'14/12/2019'</li><li>'15/01/2018'</li><li>'15/02/2019'</li><li>'15/03/2019'</li><li>'15/03/2020'</li><li>'15/05/2018'</li><li>'15/06/2018'</li><li>'15/06/2019'</li><li>'15/06/2020'</li><li>'15/07/2019'</li><li>'15/08/2019'</li><li>'15/09/2019'</li><li>'15/10/2019'</li><li>'15/10/2020'</li><li>'15/11/2019'</li><li>'15/12/2020'</li><li>'16/04/2019'</li><li>'16/06/2018'</li><li>'16/06/2019'</li><li>'16/07/2019'</li><li>'16/08/2019'</li><li>'16/08/2020'</li><li>'16/09/2020'</li><li>'16/10/2018'</li><li>'16/10/2019'</li><li>'16/11/2018'</li><li>'16/12/2019'</li><li>'17/01/2018'</li><li>'17/01/2019'</li><li>'17/01/2020'</li><li>'17/03/2018'</li><li>'17/03/2020'</li><li>'17/04/2019'</li><li>'17/04/2020'</li><li>'17/05/2019'</li><li>'17/05/2020'</li><li>'17/06/2018'</li><li>'17/06/2020'</li><li>'17/07/2018'</li><li>'17/09/2018'</li><li>'17/10/2019'</li><li>'17/11/2018'</li><li>'17/11/2020'</li><li>'17/12/2019'</li><li>'18/01/2019'</li><li>'18/03/2018'</li><li>'18/03/2019'</li><li>'18/04/2018'</li><li>'18/04/2019'</li><li>'18/05/2018'</li><li>'18/07/2018'</li><li>'18/07/2020'</li><li>'18/08/2018'</li><li>'18/09/2018'</li><li>'18/09/2020'</li><li>'18/10/2018'</li><li>'18/10/2019'</li><li>'18/12/2020'</li><li>'19/01/2019'</li><li>'19/02/2018'</li><li>'19/03/2019'</li><li>'19/04/2019'</li><li>'19/05/2018'</li><li>'19/06/2020'</li><li>'19/07/2018'</li><li>'19/09/2019'</li><li>'19/11/2018'</li><li>'19/11/2019'</li><li>'19/12/2020'</li><li>'20/02/2018'</li><li>'20/04/2019'</li><li>'20/06/2018'</li><li>'20/07/2020'</li><li>'20/08/2018'</li><li>'20/08/2019'</li><li>'20/10/2019'</li><li>'20/12/2018'</li><li>'20/12/2020'</li><li>'21/01/2018'</li><li>'21/02/2019'</li><li>'21/02/2020'</li><li>'21/04/2018'</li><li>'21/04/2020'</li><li>'21/06/2019'</li><li>'21/07/2018'</li><li>'21/08/2019'</li><li>'21/11/2020'</li><li>'21/12/2019'</li><li>'22/01/2018'</li><li>'22/01/2020'</li><li>'22/02/2020'</li><li>'22/04/2020'</li><li>'22/05/2020'</li><li>'22/08/2019'</li><li>'22/08/2020'</li><li>'22/09/2020'</li><li>'22/10/2019'</li><li>'22/11/2018'</li><li>'22/11/2020'</li><li>'22/12/2018'</li><li>'23/01/2018'</li><li>'23/01/2019'</li><li>'23/03/2018'</li><li>'23/03/2019'</li><li>'23/03/2020'</li><li>'23/04/2018'</li><li>'23/05/2018'</li><li>'23/07/2018'</li><li>'23/08/2020'</li><li>'23/10/2018'</li><li>'23/11/2018'</li><li>'23/11/2019'</li><li>'23/12/2018'</li><li>'23/12/2019'</li><li>'24/01/2019'</li><li>'24/01/2020'</li><li>'24/02/2019'</li><li>'24/02/2020'</li><li>'24/05/2020'</li><li>'24/06/2019'</li><li>'24/09/2020'</li><li>'24/11/2018'</li><li>'24/11/2020'</li><li>'24/12/2019'</li><li>'25/02/2020'</li><li>'25/04/2019'</li><li>'25/06/2018'</li><li>'25/07/2018'</li><li>'25/08/2020'</li><li>'25/09/2018'</li><li>'25/09/2020'</li><li>'25/10/2019'</li><li>'25/11/2018'</li><li>'25/11/2019'</li><li>'25/11/2020'</li><li>'25/12/2019'</li><li>'26/01/2020'</li><li>'26/04/2019'</li><li>'26/04/2020'</li><li>'26/05/2020'</li><li>'26/06/2018'</li><li>'26/08/2018'</li><li>'26/08/2019'</li><li>'26/09/2018'</li><li>'26/09/2019'</li><li>'26/10/2018'</li><li>'26/10/2020'</li><li>'27/01/2018'</li><li>'27/01/2019'</li><li>'27/01/2020'</li><li>'27/02/2019'</li><li>'27/05/2020'</li><li>'27/06/2018'</li><li>'27/07/2018'</li><li>'27/08/2020'</li><li>'27/09/2020'</li><li>'27/10/2019'</li><li>'27/10/2020'</li><li>'28/02/2019'</li><li>'28/03/2020'</li><li>'28/05/2019'</li><li>'28/06/2019'</li><li>'28/07/2018'</li><li>'28/07/2020'</li><li>'28/09/2018'</li><li>'28/09/2020'</li><li>'28/10/2018'</li><li>'28/10/2019'</li><li>'28/11/2019'</li><li>'28/12/2019'</li><li>'29/01/2019'</li><li>'29/03/2018'</li><li>'29/04/2019'</li><li>'29/04/2020'</li><li>'29/06/2018'</li><li>'29/09/2018'</li><li>'29/09/2020'</li><li>'29/11/2018'</li><li>'30/01/2018'</li><li>'30/03/2018'</li><li>'30/03/2019'</li><li>'30/05/2018'</li><li>'30/05/2019'</li><li>'30/05/2020'</li><li>'30/06/2018'</li><li>'30/07/2018'</li><li>'30/11/2018'</li><li>'30/11/2019'</li><li>'31/08/2020'</li><li>'31/10/2018'</li><li>'31/10/2020'</li></ol>\n",
       "</details>"
      ],
      "text/latex": [
       "\\begin{enumerate*}\n",
       "\\item 01/01/2019\n",
       "\\item 01/01/2020\n",
       "\\item 02/01/2020\n",
       "\\item 02/01/2019\n",
       "\\item 03/01/2018\n",
       "\\item 04/01/2020\n",
       "\\end{enumerate*}\n",
       "\n",
       "\\emph{Levels}: \\begin{enumerate*}\n",
       "\\item '01/01/2019'\n",
       "\\item '01/01/2020'\n",
       "\\item '01/02/2019'\n",
       "\\item '01/04/2018'\n",
       "\\item '01/04/2019'\n",
       "\\item '01/05/2019'\n",
       "\\item '01/05/2020'\n",
       "\\item '01/10/2020'\n",
       "\\item '01/11/2018'\n",
       "\\item '01/11/2019'\n",
       "\\item '01/11/2020'\n",
       "\\item '01/12/2020'\n",
       "\\item '02/01/2019'\n",
       "\\item '02/01/2020'\n",
       "\\item '02/02/2019'\n",
       "\\item '02/03/2019'\n",
       "\\item '02/04/2020'\n",
       "\\item '02/06/2018'\n",
       "\\item '02/08/2020'\n",
       "\\item '02/09/2020'\n",
       "\\item '02/10/2019'\n",
       "\\item '02/10/2020'\n",
       "\\item '02/11/2018'\n",
       "\\item '02/11/2019'\n",
       "\\item '02/12/2019'\n",
       "\\item '02/12/2020'\n",
       "\\item '03/01/2018'\n",
       "\\item '03/02/2019'\n",
       "\\item '03/05/2020'\n",
       "\\item '03/07/2018'\n",
       "\\item '03/11/2018'\n",
       "\\item '03/12/2020'\n",
       "\\item '04/01/2020'\n",
       "\\item '04/03/2019'\n",
       "\\item '04/04/2020'\n",
       "\\item '04/05/2020'\n",
       "\\item '04/06/2020'\n",
       "\\item '04/07/2019'\n",
       "\\item '04/09/2019'\n",
       "\\item '04/11/2018'\n",
       "\\item '04/12/2019'\n",
       "\\item '04/12/2020'\n",
       "\\item '05/02/2020'\n",
       "\\item '05/04/2020'\n",
       "\\item '05/05/2018'\n",
       "\\item '05/05/2020'\n",
       "\\item '05/07/2018'\n",
       "\\item '05/07/2020'\n",
       "\\item '05/08/2018'\n",
       "\\item '05/09/2019'\n",
       "\\item '05/11/2019'\n",
       "\\item '05/12/2018'\n",
       "\\item '05/12/2019'\n",
       "\\item '06/01/2019'\n",
       "\\item '06/01/2020'\n",
       "\\item '06/05/2018'\n",
       "\\item '06/05/2019'\n",
       "\\item '06/06/2020'\n",
       "\\item '06/07/2018'\n",
       "\\item '06/07/2019'\n",
       "\\item '06/08/2018'\n",
       "\\item '06/08/2019'\n",
       "\\item '06/09/2019'\n",
       "\\item '06/10/2019'\n",
       "\\item '06/12/2019'\n",
       "\\item '07/03/2020'\n",
       "\\item '07/09/2020'\n",
       "\\item '07/10/2020'\n",
       "\\item '07/11/2018'\n",
       "\\item '07/11/2020'\n",
       "\\item '08/01/2019'\n",
       "\\item '08/02/2018'\n",
       "\\item '08/03/2018'\n",
       "\\item '08/05/2018'\n",
       "\\item '08/06/2018'\n",
       "\\item '08/09/2018'\n",
       "\\item '09/01/2018'\n",
       "\\item '09/02/2019'\n",
       "\\item '09/02/2020'\n",
       "\\item '09/03/2019'\n",
       "\\item '09/05/2018'\n",
       "\\item '09/06/2019'\n",
       "\\item '09/07/2018'\n",
       "\\item '09/08/2019'\n",
       "\\item '09/08/2020'\n",
       "\\item '09/09/2019'\n",
       "\\item '09/10/2019'\n",
       "\\item '09/11/2018'\n",
       "\\item '09/12/2020'\n",
       "\\item '10/01/2019'\n",
       "\\item '10/02/2018'\n",
       "\\item '10/02/2019'\n",
       "\\item '10/03/2018'\n",
       "\\item '10/04/2019'\n",
       "\\item '10/05/2020'\n",
       "\\item '10/07/2018'\n",
       "\\item '10/08/2019'\n",
       "\\item '10/08/2020'\n",
       "\\item '10/09/2019'\n",
       "\\item '10/10/2020'\n",
       "\\item '10/11/2018'\n",
       "\\item '10/12/2018'\n",
       "\\item '10/12/2019'\n",
       "\\item '11/02/2018'\n",
       "\\item '11/03/2020'\n",
       "\\item '11/04/2020'\n",
       "\\item '11/07/2018'\n",
       "\\item '11/07/2020'\n",
       "\\item '11/08/2018'\n",
       "\\item '11/09/2018'\n",
       "\\item '11/11/2019'\n",
       "\\item '11/12/2020'\n",
       "\\item '12/01/2018'\n",
       "\\item '12/01/2020'\n",
       "\\item '12/02/2020'\n",
       "\\item '12/03/2019'\n",
       "\\item '12/04/2018'\n",
       "\\item '12/06/2019'\n",
       "\\item '12/07/2018'\n",
       "\\item '12/08/2019'\n",
       "\\item '12/08/2020'\n",
       "\\item '12/09/2020'\n",
       "\\item '12/10/2020'\n",
       "\\item '12/11/2019'\n",
       "\\item '12/12/2019'\n",
       "\\item '12/12/2020'\n",
       "\\item '13/01/2019'\n",
       "\\item '13/01/2020'\n",
       "\\item '13/02/2020'\n",
       "\\item '13/03/2019'\n",
       "\\item '13/04/2019'\n",
       "\\item '13/04/2020'\n",
       "\\item '13/05/2020'\n",
       "\\item '13/07/2019'\n",
       "\\item '13/09/2018'\n",
       "\\item '13/10/2018'\n",
       "\\item '13/11/2019'\n",
       "\\item '13/12/2019'\n",
       "\\item '13/12/2020'\n",
       "\\item '14/01/2019'\n",
       "\\item '14/02/2018'\n",
       "\\item '14/02/2020'\n",
       "\\item '14/03/2018'\n",
       "\\item '14/04/2018'\n",
       "\\item '14/04/2019'\n",
       "\\item '14/05/2018'\n",
       "\\item '14/12/2019'\n",
       "\\item '15/01/2018'\n",
       "\\item '15/02/2019'\n",
       "\\item '15/03/2019'\n",
       "\\item '15/03/2020'\n",
       "\\item '15/05/2018'\n",
       "\\item '15/06/2018'\n",
       "\\item '15/06/2019'\n",
       "\\item '15/06/2020'\n",
       "\\item '15/07/2019'\n",
       "\\item '15/08/2019'\n",
       "\\item '15/09/2019'\n",
       "\\item '15/10/2019'\n",
       "\\item '15/10/2020'\n",
       "\\item '15/11/2019'\n",
       "\\item '15/12/2020'\n",
       "\\item '16/04/2019'\n",
       "\\item '16/06/2018'\n",
       "\\item '16/06/2019'\n",
       "\\item '16/07/2019'\n",
       "\\item '16/08/2019'\n",
       "\\item '16/08/2020'\n",
       "\\item '16/09/2020'\n",
       "\\item '16/10/2018'\n",
       "\\item '16/10/2019'\n",
       "\\item '16/11/2018'\n",
       "\\item '16/12/2019'\n",
       "\\item '17/01/2018'\n",
       "\\item '17/01/2019'\n",
       "\\item '17/01/2020'\n",
       "\\item '17/03/2018'\n",
       "\\item '17/03/2020'\n",
       "\\item '17/04/2019'\n",
       "\\item '17/04/2020'\n",
       "\\item '17/05/2019'\n",
       "\\item '17/05/2020'\n",
       "\\item '17/06/2018'\n",
       "\\item '17/06/2020'\n",
       "\\item '17/07/2018'\n",
       "\\item '17/09/2018'\n",
       "\\item '17/10/2019'\n",
       "\\item '17/11/2018'\n",
       "\\item '17/11/2020'\n",
       "\\item '17/12/2019'\n",
       "\\item '18/01/2019'\n",
       "\\item '18/03/2018'\n",
       "\\item '18/03/2019'\n",
       "\\item '18/04/2018'\n",
       "\\item '18/04/2019'\n",
       "\\item '18/05/2018'\n",
       "\\item '18/07/2018'\n",
       "\\item '18/07/2020'\n",
       "\\item '18/08/2018'\n",
       "\\item '18/09/2018'\n",
       "\\item '18/09/2020'\n",
       "\\item '18/10/2018'\n",
       "\\item '18/10/2019'\n",
       "\\item '18/12/2020'\n",
       "\\item '19/01/2019'\n",
       "\\item '19/02/2018'\n",
       "\\item '19/03/2019'\n",
       "\\item '19/04/2019'\n",
       "\\item '19/05/2018'\n",
       "\\item '19/06/2020'\n",
       "\\item '19/07/2018'\n",
       "\\item '19/09/2019'\n",
       "\\item '19/11/2018'\n",
       "\\item '19/11/2019'\n",
       "\\item '19/12/2020'\n",
       "\\item '20/02/2018'\n",
       "\\item '20/04/2019'\n",
       "\\item '20/06/2018'\n",
       "\\item '20/07/2020'\n",
       "\\item '20/08/2018'\n",
       "\\item '20/08/2019'\n",
       "\\item '20/10/2019'\n",
       "\\item '20/12/2018'\n",
       "\\item '20/12/2020'\n",
       "\\item '21/01/2018'\n",
       "\\item '21/02/2019'\n",
       "\\item '21/02/2020'\n",
       "\\item '21/04/2018'\n",
       "\\item '21/04/2020'\n",
       "\\item '21/06/2019'\n",
       "\\item '21/07/2018'\n",
       "\\item '21/08/2019'\n",
       "\\item '21/11/2020'\n",
       "\\item '21/12/2019'\n",
       "\\item '22/01/2018'\n",
       "\\item '22/01/2020'\n",
       "\\item '22/02/2020'\n",
       "\\item '22/04/2020'\n",
       "\\item '22/05/2020'\n",
       "\\item '22/08/2019'\n",
       "\\item '22/08/2020'\n",
       "\\item '22/09/2020'\n",
       "\\item '22/10/2019'\n",
       "\\item '22/11/2018'\n",
       "\\item '22/11/2020'\n",
       "\\item '22/12/2018'\n",
       "\\item '23/01/2018'\n",
       "\\item '23/01/2019'\n",
       "\\item '23/03/2018'\n",
       "\\item '23/03/2019'\n",
       "\\item '23/03/2020'\n",
       "\\item '23/04/2018'\n",
       "\\item '23/05/2018'\n",
       "\\item '23/07/2018'\n",
       "\\item '23/08/2020'\n",
       "\\item '23/10/2018'\n",
       "\\item '23/11/2018'\n",
       "\\item '23/11/2019'\n",
       "\\item '23/12/2018'\n",
       "\\item '23/12/2019'\n",
       "\\item '24/01/2019'\n",
       "\\item '24/01/2020'\n",
       "\\item '24/02/2019'\n",
       "\\item '24/02/2020'\n",
       "\\item '24/05/2020'\n",
       "\\item '24/06/2019'\n",
       "\\item '24/09/2020'\n",
       "\\item '24/11/2018'\n",
       "\\item '24/11/2020'\n",
       "\\item '24/12/2019'\n",
       "\\item '25/02/2020'\n",
       "\\item '25/04/2019'\n",
       "\\item '25/06/2018'\n",
       "\\item '25/07/2018'\n",
       "\\item '25/08/2020'\n",
       "\\item '25/09/2018'\n",
       "\\item '25/09/2020'\n",
       "\\item '25/10/2019'\n",
       "\\item '25/11/2018'\n",
       "\\item '25/11/2019'\n",
       "\\item '25/11/2020'\n",
       "\\item '25/12/2019'\n",
       "\\item '26/01/2020'\n",
       "\\item '26/04/2019'\n",
       "\\item '26/04/2020'\n",
       "\\item '26/05/2020'\n",
       "\\item '26/06/2018'\n",
       "\\item '26/08/2018'\n",
       "\\item '26/08/2019'\n",
       "\\item '26/09/2018'\n",
       "\\item '26/09/2019'\n",
       "\\item '26/10/2018'\n",
       "\\item '26/10/2020'\n",
       "\\item '27/01/2018'\n",
       "\\item '27/01/2019'\n",
       "\\item '27/01/2020'\n",
       "\\item '27/02/2019'\n",
       "\\item '27/05/2020'\n",
       "\\item '27/06/2018'\n",
       "\\item '27/07/2018'\n",
       "\\item '27/08/2020'\n",
       "\\item '27/09/2020'\n",
       "\\item '27/10/2019'\n",
       "\\item '27/10/2020'\n",
       "\\item '28/02/2019'\n",
       "\\item '28/03/2020'\n",
       "\\item '28/05/2019'\n",
       "\\item '28/06/2019'\n",
       "\\item '28/07/2018'\n",
       "\\item '28/07/2020'\n",
       "\\item '28/09/2018'\n",
       "\\item '28/09/2020'\n",
       "\\item '28/10/2018'\n",
       "\\item '28/10/2019'\n",
       "\\item '28/11/2019'\n",
       "\\item '28/12/2019'\n",
       "\\item '29/01/2019'\n",
       "\\item '29/03/2018'\n",
       "\\item '29/04/2019'\n",
       "\\item '29/04/2020'\n",
       "\\item '29/06/2018'\n",
       "\\item '29/09/2018'\n",
       "\\item '29/09/2020'\n",
       "\\item '29/11/2018'\n",
       "\\item '30/01/2018'\n",
       "\\item '30/03/2018'\n",
       "\\item '30/03/2019'\n",
       "\\item '30/05/2018'\n",
       "\\item '30/05/2019'\n",
       "\\item '30/05/2020'\n",
       "\\item '30/06/2018'\n",
       "\\item '30/07/2018'\n",
       "\\item '30/11/2018'\n",
       "\\item '30/11/2019'\n",
       "\\item '31/08/2020'\n",
       "\\item '31/10/2018'\n",
       "\\item '31/10/2020'\n",
       "\\end{enumerate*}\n"
      ],
      "text/markdown": [
       "1. 01/01/2019\n",
       "2. 01/01/2020\n",
       "3. 02/01/2020\n",
       "4. 02/01/2019\n",
       "5. 03/01/2018\n",
       "6. 04/01/2020\n",
       "\n",
       "\n",
       "\n",
       "**Levels**: 1. '01/01/2019'\n",
       "2. '01/01/2020'\n",
       "3. '01/02/2019'\n",
       "4. '01/04/2018'\n",
       "5. '01/04/2019'\n",
       "6. '01/05/2019'\n",
       "7. '01/05/2020'\n",
       "8. '01/10/2020'\n",
       "9. '01/11/2018'\n",
       "10. '01/11/2019'\n",
       "11. '01/11/2020'\n",
       "12. '01/12/2020'\n",
       "13. '02/01/2019'\n",
       "14. '02/01/2020'\n",
       "15. '02/02/2019'\n",
       "16. '02/03/2019'\n",
       "17. '02/04/2020'\n",
       "18. '02/06/2018'\n",
       "19. '02/08/2020'\n",
       "20. '02/09/2020'\n",
       "21. '02/10/2019'\n",
       "22. '02/10/2020'\n",
       "23. '02/11/2018'\n",
       "24. '02/11/2019'\n",
       "25. '02/12/2019'\n",
       "26. '02/12/2020'\n",
       "27. '03/01/2018'\n",
       "28. '03/02/2019'\n",
       "29. '03/05/2020'\n",
       "30. '03/07/2018'\n",
       "31. '03/11/2018'\n",
       "32. '03/12/2020'\n",
       "33. '04/01/2020'\n",
       "34. '04/03/2019'\n",
       "35. '04/04/2020'\n",
       "36. '04/05/2020'\n",
       "37. '04/06/2020'\n",
       "38. '04/07/2019'\n",
       "39. '04/09/2019'\n",
       "40. '04/11/2018'\n",
       "41. '04/12/2019'\n",
       "42. '04/12/2020'\n",
       "43. '05/02/2020'\n",
       "44. '05/04/2020'\n",
       "45. '05/05/2018'\n",
       "46. '05/05/2020'\n",
       "47. '05/07/2018'\n",
       "48. '05/07/2020'\n",
       "49. '05/08/2018'\n",
       "50. '05/09/2019'\n",
       "51. '05/11/2019'\n",
       "52. '05/12/2018'\n",
       "53. '05/12/2019'\n",
       "54. '06/01/2019'\n",
       "55. '06/01/2020'\n",
       "56. '06/05/2018'\n",
       "57. '06/05/2019'\n",
       "58. '06/06/2020'\n",
       "59. '06/07/2018'\n",
       "60. '06/07/2019'\n",
       "61. '06/08/2018'\n",
       "62. '06/08/2019'\n",
       "63. '06/09/2019'\n",
       "64. '06/10/2019'\n",
       "65. '06/12/2019'\n",
       "66. '07/03/2020'\n",
       "67. '07/09/2020'\n",
       "68. '07/10/2020'\n",
       "69. '07/11/2018'\n",
       "70. '07/11/2020'\n",
       "71. '08/01/2019'\n",
       "72. '08/02/2018'\n",
       "73. '08/03/2018'\n",
       "74. '08/05/2018'\n",
       "75. '08/06/2018'\n",
       "76. '08/09/2018'\n",
       "77. '09/01/2018'\n",
       "78. '09/02/2019'\n",
       "79. '09/02/2020'\n",
       "80. '09/03/2019'\n",
       "81. '09/05/2018'\n",
       "82. '09/06/2019'\n",
       "83. '09/07/2018'\n",
       "84. '09/08/2019'\n",
       "85. '09/08/2020'\n",
       "86. '09/09/2019'\n",
       "87. '09/10/2019'\n",
       "88. '09/11/2018'\n",
       "89. '09/12/2020'\n",
       "90. '10/01/2019'\n",
       "91. '10/02/2018'\n",
       "92. '10/02/2019'\n",
       "93. '10/03/2018'\n",
       "94. '10/04/2019'\n",
       "95. '10/05/2020'\n",
       "96. '10/07/2018'\n",
       "97. '10/08/2019'\n",
       "98. '10/08/2020'\n",
       "99. '10/09/2019'\n",
       "100. '10/10/2020'\n",
       "101. '10/11/2018'\n",
       "102. '10/12/2018'\n",
       "103. '10/12/2019'\n",
       "104. '11/02/2018'\n",
       "105. '11/03/2020'\n",
       "106. '11/04/2020'\n",
       "107. '11/07/2018'\n",
       "108. '11/07/2020'\n",
       "109. '11/08/2018'\n",
       "110. '11/09/2018'\n",
       "111. '11/11/2019'\n",
       "112. '11/12/2020'\n",
       "113. '12/01/2018'\n",
       "114. '12/01/2020'\n",
       "115. '12/02/2020'\n",
       "116. '12/03/2019'\n",
       "117. '12/04/2018'\n",
       "118. '12/06/2019'\n",
       "119. '12/07/2018'\n",
       "120. '12/08/2019'\n",
       "121. '12/08/2020'\n",
       "122. '12/09/2020'\n",
       "123. '12/10/2020'\n",
       "124. '12/11/2019'\n",
       "125. '12/12/2019'\n",
       "126. '12/12/2020'\n",
       "127. '13/01/2019'\n",
       "128. '13/01/2020'\n",
       "129. '13/02/2020'\n",
       "130. '13/03/2019'\n",
       "131. '13/04/2019'\n",
       "132. '13/04/2020'\n",
       "133. '13/05/2020'\n",
       "134. '13/07/2019'\n",
       "135. '13/09/2018'\n",
       "136. '13/10/2018'\n",
       "137. '13/11/2019'\n",
       "138. '13/12/2019'\n",
       "139. '13/12/2020'\n",
       "140. '14/01/2019'\n",
       "141. '14/02/2018'\n",
       "142. '14/02/2020'\n",
       "143. '14/03/2018'\n",
       "144. '14/04/2018'\n",
       "145. '14/04/2019'\n",
       "146. '14/05/2018'\n",
       "147. '14/12/2019'\n",
       "148. '15/01/2018'\n",
       "149. '15/02/2019'\n",
       "150. '15/03/2019'\n",
       "151. '15/03/2020'\n",
       "152. '15/05/2018'\n",
       "153. '15/06/2018'\n",
       "154. '15/06/2019'\n",
       "155. '15/06/2020'\n",
       "156. '15/07/2019'\n",
       "157. '15/08/2019'\n",
       "158. '15/09/2019'\n",
       "159. '15/10/2019'\n",
       "160. '15/10/2020'\n",
       "161. '15/11/2019'\n",
       "162. '15/12/2020'\n",
       "163. '16/04/2019'\n",
       "164. '16/06/2018'\n",
       "165. '16/06/2019'\n",
       "166. '16/07/2019'\n",
       "167. '16/08/2019'\n",
       "168. '16/08/2020'\n",
       "169. '16/09/2020'\n",
       "170. '16/10/2018'\n",
       "171. '16/10/2019'\n",
       "172. '16/11/2018'\n",
       "173. '16/12/2019'\n",
       "174. '17/01/2018'\n",
       "175. '17/01/2019'\n",
       "176. '17/01/2020'\n",
       "177. '17/03/2018'\n",
       "178. '17/03/2020'\n",
       "179. '17/04/2019'\n",
       "180. '17/04/2020'\n",
       "181. '17/05/2019'\n",
       "182. '17/05/2020'\n",
       "183. '17/06/2018'\n",
       "184. '17/06/2020'\n",
       "185. '17/07/2018'\n",
       "186. '17/09/2018'\n",
       "187. '17/10/2019'\n",
       "188. '17/11/2018'\n",
       "189. '17/11/2020'\n",
       "190. '17/12/2019'\n",
       "191. '18/01/2019'\n",
       "192. '18/03/2018'\n",
       "193. '18/03/2019'\n",
       "194. '18/04/2018'\n",
       "195. '18/04/2019'\n",
       "196. '18/05/2018'\n",
       "197. '18/07/2018'\n",
       "198. '18/07/2020'\n",
       "199. '18/08/2018'\n",
       "200. '18/09/2018'\n",
       "201. '18/09/2020'\n",
       "202. '18/10/2018'\n",
       "203. '18/10/2019'\n",
       "204. '18/12/2020'\n",
       "205. '19/01/2019'\n",
       "206. '19/02/2018'\n",
       "207. '19/03/2019'\n",
       "208. '19/04/2019'\n",
       "209. '19/05/2018'\n",
       "210. '19/06/2020'\n",
       "211. '19/07/2018'\n",
       "212. '19/09/2019'\n",
       "213. '19/11/2018'\n",
       "214. '19/11/2019'\n",
       "215. '19/12/2020'\n",
       "216. '20/02/2018'\n",
       "217. '20/04/2019'\n",
       "218. '20/06/2018'\n",
       "219. '20/07/2020'\n",
       "220. '20/08/2018'\n",
       "221. '20/08/2019'\n",
       "222. '20/10/2019'\n",
       "223. '20/12/2018'\n",
       "224. '20/12/2020'\n",
       "225. '21/01/2018'\n",
       "226. '21/02/2019'\n",
       "227. '21/02/2020'\n",
       "228. '21/04/2018'\n",
       "229. '21/04/2020'\n",
       "230. '21/06/2019'\n",
       "231. '21/07/2018'\n",
       "232. '21/08/2019'\n",
       "233. '21/11/2020'\n",
       "234. '21/12/2019'\n",
       "235. '22/01/2018'\n",
       "236. '22/01/2020'\n",
       "237. '22/02/2020'\n",
       "238. '22/04/2020'\n",
       "239. '22/05/2020'\n",
       "240. '22/08/2019'\n",
       "241. '22/08/2020'\n",
       "242. '22/09/2020'\n",
       "243. '22/10/2019'\n",
       "244. '22/11/2018'\n",
       "245. '22/11/2020'\n",
       "246. '22/12/2018'\n",
       "247. '23/01/2018'\n",
       "248. '23/01/2019'\n",
       "249. '23/03/2018'\n",
       "250. '23/03/2019'\n",
       "251. '23/03/2020'\n",
       "252. '23/04/2018'\n",
       "253. '23/05/2018'\n",
       "254. '23/07/2018'\n",
       "255. '23/08/2020'\n",
       "256. '23/10/2018'\n",
       "257. '23/11/2018'\n",
       "258. '23/11/2019'\n",
       "259. '23/12/2018'\n",
       "260. '23/12/2019'\n",
       "261. '24/01/2019'\n",
       "262. '24/01/2020'\n",
       "263. '24/02/2019'\n",
       "264. '24/02/2020'\n",
       "265. '24/05/2020'\n",
       "266. '24/06/2019'\n",
       "267. '24/09/2020'\n",
       "268. '24/11/2018'\n",
       "269. '24/11/2020'\n",
       "270. '24/12/2019'\n",
       "271. '25/02/2020'\n",
       "272. '25/04/2019'\n",
       "273. '25/06/2018'\n",
       "274. '25/07/2018'\n",
       "275. '25/08/2020'\n",
       "276. '25/09/2018'\n",
       "277. '25/09/2020'\n",
       "278. '25/10/2019'\n",
       "279. '25/11/2018'\n",
       "280. '25/11/2019'\n",
       "281. '25/11/2020'\n",
       "282. '25/12/2019'\n",
       "283. '26/01/2020'\n",
       "284. '26/04/2019'\n",
       "285. '26/04/2020'\n",
       "286. '26/05/2020'\n",
       "287. '26/06/2018'\n",
       "288. '26/08/2018'\n",
       "289. '26/08/2019'\n",
       "290. '26/09/2018'\n",
       "291. '26/09/2019'\n",
       "292. '26/10/2018'\n",
       "293. '26/10/2020'\n",
       "294. '27/01/2018'\n",
       "295. '27/01/2019'\n",
       "296. '27/01/2020'\n",
       "297. '27/02/2019'\n",
       "298. '27/05/2020'\n",
       "299. '27/06/2018'\n",
       "300. '27/07/2018'\n",
       "301. '27/08/2020'\n",
       "302. '27/09/2020'\n",
       "303. '27/10/2019'\n",
       "304. '27/10/2020'\n",
       "305. '28/02/2019'\n",
       "306. '28/03/2020'\n",
       "307. '28/05/2019'\n",
       "308. '28/06/2019'\n",
       "309. '28/07/2018'\n",
       "310. '28/07/2020'\n",
       "311. '28/09/2018'\n",
       "312. '28/09/2020'\n",
       "313. '28/10/2018'\n",
       "314. '28/10/2019'\n",
       "315. '28/11/2019'\n",
       "316. '28/12/2019'\n",
       "317. '29/01/2019'\n",
       "318. '29/03/2018'\n",
       "319. '29/04/2019'\n",
       "320. '29/04/2020'\n",
       "321. '29/06/2018'\n",
       "322. '29/09/2018'\n",
       "323. '29/09/2020'\n",
       "324. '29/11/2018'\n",
       "325. '30/01/2018'\n",
       "326. '30/03/2018'\n",
       "327. '30/03/2019'\n",
       "328. '30/05/2018'\n",
       "329. '30/05/2019'\n",
       "330. '30/05/2020'\n",
       "331. '30/06/2018'\n",
       "332. '30/07/2018'\n",
       "333. '30/11/2018'\n",
       "334. '30/11/2019'\n",
       "335. '31/08/2020'\n",
       "336. '31/10/2018'\n",
       "337. '31/10/2020'\n",
       "\n",
       "\n"
      ],
      "text/plain": [
       "[1] 01/01/2019 01/01/2020 02/01/2020 02/01/2019 03/01/2018 04/01/2020\n",
       "337 Levels: 01/01/2019 01/01/2020 01/02/2019 01/04/2018 ... 31/10/2020"
      ]
     },
     "metadata": {},
     "output_type": "display_data"
    }
   ],
   "source": [
    "head(dados$DATA)\n"
   ]
  },
  {
   "cell_type": "code",
   "execution_count": 176,
   "metadata": {
    "vscode": {
     "languageId": "r"
    }
   },
   "outputs": [
    {
     "data": {
      "text/html": [
       "<style>\n",
       ".list-inline {list-style: none; margin:0; padding: 0}\n",
       ".list-inline>li {display: inline-block}\n",
       ".list-inline>li:not(:last-child)::after {content: \"\\00b7\"; padding: 0 .5ex}\n",
       "</style>\n",
       "<ol class=list-inline><li><time datetime=\"2019-01-01\">2019-01-01</time></li><li><time datetime=\"2020-01-01\">2020-01-01</time></li><li><time datetime=\"2020-01-02\">2020-01-02</time></li><li><time datetime=\"2019-01-02\">2019-01-02</time></li><li><time datetime=\"2018-01-03\">2018-01-03</time></li><li><time datetime=\"2020-01-04\">2020-01-04</time></li></ol>\n"
      ],
      "text/latex": [
       "\\begin{enumerate*}\n",
       "\\item 2019-01-01\n",
       "\\item 2020-01-01\n",
       "\\item 2020-01-02\n",
       "\\item 2019-01-02\n",
       "\\item 2018-01-03\n",
       "\\item 2020-01-04\n",
       "\\end{enumerate*}\n"
      ],
      "text/markdown": [
       "1. 2019-01-01\n",
       "2. 2020-01-01\n",
       "3. 2020-01-02\n",
       "4. 2019-01-02\n",
       "5. 2018-01-03\n",
       "6. 2020-01-04\n",
       "\n",
       "\n"
      ],
      "text/plain": [
       "[1] \"2019-01-01\" \"2020-01-01\" \"2020-01-02\" \"2019-01-02\" \"2018-01-03\"\n",
       "[6] \"2020-01-04\""
      ]
     },
     "metadata": {},
     "output_type": "display_data"
    }
   ],
   "source": [
    "dados$DATA <- as.Date(dmy(dados$DATA))\n",
    "\n",
    "head(dados$DATA)\n"
   ]
  },
  {
   "cell_type": "code",
   "execution_count": 177,
   "metadata": {
    "vscode": {
     "languageId": "r"
    }
   },
   "outputs": [
    {
     "data": {
      "text/html": [
       "'Date'"
      ],
      "text/latex": [
       "'Date'"
      ],
      "text/markdown": [
       "'Date'"
      ],
      "text/plain": [
       "[1] \"Date\""
      ]
     },
     "metadata": {},
     "output_type": "display_data"
    }
   ],
   "source": [
    "class(dados$DATA)\n"
   ]
  },
  {
   "cell_type": "code",
   "execution_count": 178,
   "metadata": {
    "vscode": {
     "languageId": "r"
    }
   },
   "outputs": [],
   "source": [
    "dados$ANO <- year(dados$DATA)\n"
   ]
  },
  {
   "cell_type": "code",
   "execution_count": 179,
   "metadata": {
    "vscode": {
     "languageId": "r"
    }
   },
   "outputs": [],
   "source": [
    "dados$MES <- month(dados$DATA)\n"
   ]
  },
  {
   "cell_type": "code",
   "execution_count": 180,
   "metadata": {
    "vscode": {
     "languageId": "r"
    }
   },
   "outputs": [
    {
     "data": {
      "text/html": [
       "<style>\n",
       ".list-inline {list-style: none; margin:0; padding: 0}\n",
       ".list-inline>li {display: inline-block}\n",
       ".list-inline>li:not(:last-child)::after {content: \"\\00b7\"; padding: 0 .5ex}\n",
       "</style>\n",
       "<ol class=list-inline><li>'Tuesday'</li><li>'Wednesday'</li><li>'Thursday'</li><li>'Wednesday'</li><li>'Wednesday'</li><li>'Saturday'</li></ol>\n"
      ],
      "text/latex": [
       "\\begin{enumerate*}\n",
       "\\item 'Tuesday'\n",
       "\\item 'Wednesday'\n",
       "\\item 'Thursday'\n",
       "\\item 'Wednesday'\n",
       "\\item 'Wednesday'\n",
       "\\item 'Saturday'\n",
       "\\end{enumerate*}\n"
      ],
      "text/markdown": [
       "1. 'Tuesday'\n",
       "2. 'Wednesday'\n",
       "3. 'Thursday'\n",
       "4. 'Wednesday'\n",
       "5. 'Wednesday'\n",
       "6. 'Saturday'\n",
       "\n",
       "\n"
      ],
      "text/plain": [
       "[1] \"Tuesday\"   \"Wednesday\" \"Thursday\"  \"Wednesday\" \"Wednesday\" \"Saturday\" "
      ]
     },
     "metadata": {},
     "output_type": "display_data"
    }
   ],
   "source": [
    "dados$DIASEMANA <- weekdays(dados$DATA)\n",
    "\n",
    "head(dados$DIASEMANA)\n"
   ]
  },
  {
   "cell_type": "code",
   "execution_count": 181,
   "metadata": {
    "vscode": {
     "languageId": "r"
    }
   },
   "outputs": [
    {
     "data": {
      "text/html": [
       "<table class=\"dataframe\">\n",
       "<caption>A data.frame: 6 × 11</caption>\n",
       "<thead>\n",
       "\t<tr><th></th><th scope=col>SALDO_ATUAL</th><th scope=col>RESIDENCIADESDE</th><th scope=col>IDADE</th><th scope=col>OUTROSPLANOSPGTO</th><th scope=col>DATA</th><th scope=col>ESTADOCIVIL</th><th scope=col>PROPOSITO</th><th scope=col>CLASSE</th><th scope=col>ANO</th><th scope=col>MES</th><th scope=col>DIASEMANA</th></tr>\n",
       "\t<tr><th></th><th scope=col>&lt;dbl&gt;</th><th scope=col>&lt;int&gt;</th><th scope=col>&lt;int&gt;</th><th scope=col>&lt;fct&gt;</th><th scope=col>&lt;date&gt;</th><th scope=col>&lt;fct&gt;</th><th scope=col>&lt;fct&gt;</th><th scope=col>&lt;fct&gt;</th><th scope=col>&lt;int&gt;</th><th scope=col>&lt;int&gt;</th><th scope=col>&lt;chr&gt;</th></tr>\n",
       "</thead>\n",
       "<tbody>\n",
       "\t<tr><th scope=row>1</th><td>1169</td><td>4</td><td>67</td><td>nenhum</td><td>2019-01-01</td><td>masculino solteiro</td><td>radio/tv  </td><td>bom </td><td>2019</td><td>1</td><td>Tuesday  </td></tr>\n",
       "\t<tr><th scope=row>2</th><td>5951</td><td>2</td><td>22</td><td>nenhum</td><td>2020-01-01</td><td>fem div/cas       </td><td>radio/tv  </td><td>ruim</td><td>2020</td><td>1</td><td>Wednesday</td></tr>\n",
       "\t<tr><th scope=row>3</th><td>2096</td><td>3</td><td>49</td><td>nenhum</td><td>2020-01-02</td><td>masculino solteiro</td><td>outros    </td><td>bom </td><td>2020</td><td>1</td><td>Thursday </td></tr>\n",
       "\t<tr><th scope=row>4</th><td>7882</td><td>4</td><td>45</td><td>nenhum</td><td>2019-01-02</td><td>masculino solteiro</td><td>outros    </td><td>bom </td><td>2019</td><td>1</td><td>Wednesday</td></tr>\n",
       "\t<tr><th scope=row>5</th><td>4870</td><td>4</td><td>53</td><td>nenhum</td><td>2018-01-03</td><td>masculino solteiro</td><td>carro novo</td><td>ruim</td><td>2018</td><td>1</td><td>Wednesday</td></tr>\n",
       "\t<tr><th scope=row>6</th><td>9055</td><td>4</td><td>35</td><td>nenhum</td><td>2020-01-04</td><td>masculino solteiro</td><td>outros    </td><td>bom </td><td>2020</td><td>1</td><td>Saturday </td></tr>\n",
       "</tbody>\n",
       "</table>\n"
      ],
      "text/latex": [
       "A data.frame: 6 × 11\n",
       "\\begin{tabular}{r|lllllllllll}\n",
       "  & SALDO\\_ATUAL & RESIDENCIADESDE & IDADE & OUTROSPLANOSPGTO & DATA & ESTADOCIVIL & PROPOSITO & CLASSE & ANO & MES & DIASEMANA\\\\\n",
       "  & <dbl> & <int> & <int> & <fct> & <date> & <fct> & <fct> & <fct> & <int> & <int> & <chr>\\\\\n",
       "\\hline\n",
       "\t1 & 1169 & 4 & 67 & nenhum & 2019-01-01 & masculino solteiro & radio/tv   & bom  & 2019 & 1 & Tuesday  \\\\\n",
       "\t2 & 5951 & 2 & 22 & nenhum & 2020-01-01 & fem div/cas        & radio/tv   & ruim & 2020 & 1 & Wednesday\\\\\n",
       "\t3 & 2096 & 3 & 49 & nenhum & 2020-01-02 & masculino solteiro & outros     & bom  & 2020 & 1 & Thursday \\\\\n",
       "\t4 & 7882 & 4 & 45 & nenhum & 2019-01-02 & masculino solteiro & outros     & bom  & 2019 & 1 & Wednesday\\\\\n",
       "\t5 & 4870 & 4 & 53 & nenhum & 2018-01-03 & masculino solteiro & carro novo & ruim & 2018 & 1 & Wednesday\\\\\n",
       "\t6 & 9055 & 4 & 35 & nenhum & 2020-01-04 & masculino solteiro & outros     & bom  & 2020 & 1 & Saturday \\\\\n",
       "\\end{tabular}\n"
      ],
      "text/markdown": [
       "\n",
       "A data.frame: 6 × 11\n",
       "\n",
       "| <!--/--> | SALDO_ATUAL &lt;dbl&gt; | RESIDENCIADESDE &lt;int&gt; | IDADE &lt;int&gt; | OUTROSPLANOSPGTO &lt;fct&gt; | DATA &lt;date&gt; | ESTADOCIVIL &lt;fct&gt; | PROPOSITO &lt;fct&gt; | CLASSE &lt;fct&gt; | ANO &lt;int&gt; | MES &lt;int&gt; | DIASEMANA &lt;chr&gt; |\n",
       "|---|---|---|---|---|---|---|---|---|---|---|---|\n",
       "| 1 | 1169 | 4 | 67 | nenhum | 2019-01-01 | masculino solteiro | radio/tv   | bom  | 2019 | 1 | Tuesday   |\n",
       "| 2 | 5951 | 2 | 22 | nenhum | 2020-01-01 | fem div/cas        | radio/tv   | ruim | 2020 | 1 | Wednesday |\n",
       "| 3 | 2096 | 3 | 49 | nenhum | 2020-01-02 | masculino solteiro | outros     | bom  | 2020 | 1 | Thursday  |\n",
       "| 4 | 7882 | 4 | 45 | nenhum | 2019-01-02 | masculino solteiro | outros     | bom  | 2019 | 1 | Wednesday |\n",
       "| 5 | 4870 | 4 | 53 | nenhum | 2018-01-03 | masculino solteiro | carro novo | ruim | 2018 | 1 | Wednesday |\n",
       "| 6 | 9055 | 4 | 35 | nenhum | 2020-01-04 | masculino solteiro | outros     | bom  | 2020 | 1 | Saturday  |\n",
       "\n"
      ],
      "text/plain": [
       "  SALDO_ATUAL RESIDENCIADESDE IDADE OUTROSPLANOSPGTO DATA      \n",
       "1 1169        4               67    nenhum           2019-01-01\n",
       "2 5951        2               22    nenhum           2020-01-01\n",
       "3 2096        3               49    nenhum           2020-01-02\n",
       "4 7882        4               45    nenhum           2019-01-02\n",
       "5 4870        4               53    nenhum           2018-01-03\n",
       "6 9055        4               35    nenhum           2020-01-04\n",
       "  ESTADOCIVIL        PROPOSITO  CLASSE ANO  MES DIASEMANA\n",
       "1 masculino solteiro radio/tv   bom    2019 1   Tuesday  \n",
       "2 fem div/cas        radio/tv   ruim   2020 1   Wednesday\n",
       "3 masculino solteiro outros     bom    2020 1   Thursday \n",
       "4 masculino solteiro outros     bom    2019 1   Wednesday\n",
       "5 masculino solteiro carro novo ruim   2018 1   Wednesday\n",
       "6 masculino solteiro outros     bom    2020 1   Saturday "
      ]
     },
     "metadata": {},
     "output_type": "display_data"
    }
   ],
   "source": [
    "head(dados)\n"
   ]
  },
  {
   "cell_type": "markdown",
   "metadata": {},
   "source": [
    "### Label Encoder"
   ]
  },
  {
   "cell_type": "code",
   "execution_count": 182,
   "metadata": {
    "vscode": {
     "languageId": "r"
    }
   },
   "outputs": [
    {
     "data": {
      "text/html": [
       "<style>\n",
       ".list-inline {list-style: none; margin:0; padding: 0}\n",
       ".list-inline>li {display: inline-block}\n",
       ".list-inline>li:not(:last-child)::after {content: \"\\00b7\"; padding: 0 .5ex}\n",
       "</style>\n",
       "<ol class=list-inline><li>masculino solteiro</li><li>fem div/cas</li><li>masculino div/sep</li><li>masculino casado/viuvo</li></ol>\n",
       "\n",
       "<details>\n",
       "\t<summary style=display:list-item;cursor:pointer>\n",
       "\t\t<strong>Levels</strong>:\n",
       "\t</summary>\n",
       "\t<style>\n",
       "\t.list-inline {list-style: none; margin:0; padding: 0}\n",
       "\t.list-inline>li {display: inline-block}\n",
       "\t.list-inline>li:not(:last-child)::after {content: \"\\00b7\"; padding: 0 .5ex}\n",
       "\t</style>\n",
       "\t<ol class=list-inline><li>'fem div/cas'</li><li>'masculino casado/viuvo'</li><li>'masculino div/sep'</li><li>'masculino solteiro'</li></ol>\n",
       "</details>"
      ],
      "text/latex": [
       "\\begin{enumerate*}\n",
       "\\item masculino solteiro\n",
       "\\item fem div/cas\n",
       "\\item masculino div/sep\n",
       "\\item masculino casado/viuvo\n",
       "\\end{enumerate*}\n",
       "\n",
       "\\emph{Levels}: \\begin{enumerate*}\n",
       "\\item 'fem div/cas'\n",
       "\\item 'masculino casado/viuvo'\n",
       "\\item 'masculino div/sep'\n",
       "\\item 'masculino solteiro'\n",
       "\\end{enumerate*}\n"
      ],
      "text/markdown": [
       "1. masculino solteiro\n",
       "2. fem div/cas\n",
       "3. masculino div/sep\n",
       "4. masculino casado/viuvo\n",
       "\n",
       "\n",
       "\n",
       "**Levels**: 1. 'fem div/cas'\n",
       "2. 'masculino casado/viuvo'\n",
       "3. 'masculino div/sep'\n",
       "4. 'masculino solteiro'\n",
       "\n",
       "\n"
      ],
      "text/plain": [
       "[1] masculino solteiro     fem div/cas            masculino div/sep     \n",
       "[4] masculino casado/viuvo\n",
       "4 Levels: fem div/cas masculino casado/viuvo ... masculino solteiro"
      ]
     },
     "metadata": {},
     "output_type": "display_data"
    }
   ],
   "source": [
    "unique(dados$ESTADOCIVIL)\n"
   ]
  },
  {
   "cell_type": "code",
   "execution_count": 183,
   "metadata": {
    "vscode": {
     "languageId": "r"
    }
   },
   "outputs": [
    {
     "data": {
      "text/html": [
       "<style>\n",
       ".list-inline {list-style: none; margin:0; padding: 0}\n",
       ".list-inline>li {display: inline-block}\n",
       ".list-inline>li:not(:last-child)::after {content: \"\\00b7\"; padding: 0 .5ex}\n",
       "</style>\n",
       "<ol class=list-inline><li>4</li><li>1</li><li>4</li><li>4</li><li>4</li><li>4</li></ol>\n"
      ],
      "text/latex": [
       "\\begin{enumerate*}\n",
       "\\item 4\n",
       "\\item 1\n",
       "\\item 4\n",
       "\\item 4\n",
       "\\item 4\n",
       "\\item 4\n",
       "\\end{enumerate*}\n"
      ],
      "text/markdown": [
       "1. 4\n",
       "2. 1\n",
       "3. 4\n",
       "4. 4\n",
       "5. 4\n",
       "6. 4\n",
       "\n",
       "\n"
      ],
      "text/plain": [
       "[1] 4 1 4 4 4 4"
      ]
     },
     "metadata": {},
     "output_type": "display_data"
    }
   ],
   "source": [
    "# Convertendo a variável ESTADOCIVIL para numérica\n",
    "dados$ESTADOCIVIL <- as.numeric(dados$ESTADOCIVIL)\n",
    "\n",
    "head(dados$ESTADOCIVIL)\n"
   ]
  },
  {
   "cell_type": "code",
   "execution_count": 184,
   "metadata": {
    "vscode": {
     "languageId": "r"
    }
   },
   "outputs": [
    {
     "data": {
      "text/html": [
       "<style>\n",
       ".list-inline {list-style: none; margin:0; padding: 0}\n",
       ".list-inline>li {display: inline-block}\n",
       ".list-inline>li:not(:last-child)::after {content: \"\\00b7\"; padding: 0 .5ex}\n",
       "</style>\n",
       "<ol class=list-inline><li>radio/tv</li><li>outros</li><li>carro novo</li><li>carro usado</li><li>negócios</li><li>obras</li><li>qualificação</li></ol>\n",
       "\n",
       "<details>\n",
       "\t<summary style=display:list-item;cursor:pointer>\n",
       "\t\t<strong>Levels</strong>:\n",
       "\t</summary>\n",
       "\t<style>\n",
       "\t.list-inline {list-style: none; margin:0; padding: 0}\n",
       "\t.list-inline>li {display: inline-block}\n",
       "\t.list-inline>li:not(:last-child)::after {content: \"\\00b7\"; padding: 0 .5ex}\n",
       "\t</style>\n",
       "\t<ol class=list-inline><li>'carro novo'</li><li>'carro usado'</li><li>'negócios'</li><li>'obras'</li><li>'outros'</li><li>'qualificação'</li><li>'radio/tv'</li></ol>\n",
       "</details>"
      ],
      "text/latex": [
       "\\begin{enumerate*}\n",
       "\\item radio/tv\n",
       "\\item outros\n",
       "\\item carro novo\n",
       "\\item carro usado\n",
       "\\item negócios\n",
       "\\item obras\n",
       "\\item qualificação\n",
       "\\end{enumerate*}\n",
       "\n",
       "\\emph{Levels}: \\begin{enumerate*}\n",
       "\\item 'carro novo'\n",
       "\\item 'carro usado'\n",
       "\\item 'negócios'\n",
       "\\item 'obras'\n",
       "\\item 'outros'\n",
       "\\item 'qualificação'\n",
       "\\item 'radio/tv'\n",
       "\\end{enumerate*}\n"
      ],
      "text/markdown": [
       "1. radio/tv\n",
       "2. outros\n",
       "3. carro novo\n",
       "4. carro usado\n",
       "5. negócios\n",
       "6. obras\n",
       "7. qualificação\n",
       "\n",
       "\n",
       "\n",
       "**Levels**: 1. 'carro novo'\n",
       "2. 'carro usado'\n",
       "3. 'negócios'\n",
       "4. 'obras'\n",
       "5. 'outros'\n",
       "6. 'qualificação'\n",
       "7. 'radio/tv'\n",
       "\n",
       "\n"
      ],
      "text/plain": [
       "[1] radio/tv     outros       carro novo   carro usado  negócios    \n",
       "[6] obras        qualificação\n",
       "7 Levels: carro novo carro usado negócios obras outros ... radio/tv"
      ]
     },
     "metadata": {},
     "output_type": "display_data"
    }
   ],
   "source": [
    "unique(dados$PROPOSITO)\n"
   ]
  },
  {
   "cell_type": "code",
   "execution_count": 185,
   "metadata": {
    "vscode": {
     "languageId": "r"
    }
   },
   "outputs": [],
   "source": [
    "dados$PROPOSITO <- as.numeric(dados$PROPOSITO)\n"
   ]
  },
  {
   "cell_type": "code",
   "execution_count": 186,
   "metadata": {
    "vscode": {
     "languageId": "r"
    }
   },
   "outputs": [],
   "source": [
    "dados$DIASEMANA <- as.factor(dados$DIASEMANA)\n",
    "dados$DIASEMANA <- as.numeric(dados$DIASEMANA)\n"
   ]
  },
  {
   "cell_type": "code",
   "execution_count": 187,
   "metadata": {
    "vscode": {
     "languageId": "r"
    }
   },
   "outputs": [
    {
     "data": {
      "text/html": [
       "<table class=\"dataframe\">\n",
       "<caption>A data.frame: 6 × 11</caption>\n",
       "<thead>\n",
       "\t<tr><th></th><th scope=col>SALDO_ATUAL</th><th scope=col>RESIDENCIADESDE</th><th scope=col>IDADE</th><th scope=col>OUTROSPLANOSPGTO</th><th scope=col>DATA</th><th scope=col>ESTADOCIVIL</th><th scope=col>PROPOSITO</th><th scope=col>CLASSE</th><th scope=col>ANO</th><th scope=col>MES</th><th scope=col>DIASEMANA</th></tr>\n",
       "\t<tr><th></th><th scope=col>&lt;dbl&gt;</th><th scope=col>&lt;int&gt;</th><th scope=col>&lt;int&gt;</th><th scope=col>&lt;fct&gt;</th><th scope=col>&lt;date&gt;</th><th scope=col>&lt;dbl&gt;</th><th scope=col>&lt;dbl&gt;</th><th scope=col>&lt;fct&gt;</th><th scope=col>&lt;int&gt;</th><th scope=col>&lt;int&gt;</th><th scope=col>&lt;dbl&gt;</th></tr>\n",
       "</thead>\n",
       "<tbody>\n",
       "\t<tr><th scope=row>1</th><td>1169</td><td>4</td><td>67</td><td>nenhum</td><td>2019-01-01</td><td>4</td><td>7</td><td>bom </td><td>2019</td><td>1</td><td>6</td></tr>\n",
       "\t<tr><th scope=row>2</th><td>5951</td><td>2</td><td>22</td><td>nenhum</td><td>2020-01-01</td><td>1</td><td>7</td><td>ruim</td><td>2020</td><td>1</td><td>7</td></tr>\n",
       "\t<tr><th scope=row>3</th><td>2096</td><td>3</td><td>49</td><td>nenhum</td><td>2020-01-02</td><td>4</td><td>5</td><td>bom </td><td>2020</td><td>1</td><td>5</td></tr>\n",
       "\t<tr><th scope=row>4</th><td>7882</td><td>4</td><td>45</td><td>nenhum</td><td>2019-01-02</td><td>4</td><td>5</td><td>bom </td><td>2019</td><td>1</td><td>7</td></tr>\n",
       "\t<tr><th scope=row>5</th><td>4870</td><td>4</td><td>53</td><td>nenhum</td><td>2018-01-03</td><td>4</td><td>1</td><td>ruim</td><td>2018</td><td>1</td><td>7</td></tr>\n",
       "\t<tr><th scope=row>6</th><td>9055</td><td>4</td><td>35</td><td>nenhum</td><td>2020-01-04</td><td>4</td><td>5</td><td>bom </td><td>2020</td><td>1</td><td>3</td></tr>\n",
       "</tbody>\n",
       "</table>\n"
      ],
      "text/latex": [
       "A data.frame: 6 × 11\n",
       "\\begin{tabular}{r|lllllllllll}\n",
       "  & SALDO\\_ATUAL & RESIDENCIADESDE & IDADE & OUTROSPLANOSPGTO & DATA & ESTADOCIVIL & PROPOSITO & CLASSE & ANO & MES & DIASEMANA\\\\\n",
       "  & <dbl> & <int> & <int> & <fct> & <date> & <dbl> & <dbl> & <fct> & <int> & <int> & <dbl>\\\\\n",
       "\\hline\n",
       "\t1 & 1169 & 4 & 67 & nenhum & 2019-01-01 & 4 & 7 & bom  & 2019 & 1 & 6\\\\\n",
       "\t2 & 5951 & 2 & 22 & nenhum & 2020-01-01 & 1 & 7 & ruim & 2020 & 1 & 7\\\\\n",
       "\t3 & 2096 & 3 & 49 & nenhum & 2020-01-02 & 4 & 5 & bom  & 2020 & 1 & 5\\\\\n",
       "\t4 & 7882 & 4 & 45 & nenhum & 2019-01-02 & 4 & 5 & bom  & 2019 & 1 & 7\\\\\n",
       "\t5 & 4870 & 4 & 53 & nenhum & 2018-01-03 & 4 & 1 & ruim & 2018 & 1 & 7\\\\\n",
       "\t6 & 9055 & 4 & 35 & nenhum & 2020-01-04 & 4 & 5 & bom  & 2020 & 1 & 3\\\\\n",
       "\\end{tabular}\n"
      ],
      "text/markdown": [
       "\n",
       "A data.frame: 6 × 11\n",
       "\n",
       "| <!--/--> | SALDO_ATUAL &lt;dbl&gt; | RESIDENCIADESDE &lt;int&gt; | IDADE &lt;int&gt; | OUTROSPLANOSPGTO &lt;fct&gt; | DATA &lt;date&gt; | ESTADOCIVIL &lt;dbl&gt; | PROPOSITO &lt;dbl&gt; | CLASSE &lt;fct&gt; | ANO &lt;int&gt; | MES &lt;int&gt; | DIASEMANA &lt;dbl&gt; |\n",
       "|---|---|---|---|---|---|---|---|---|---|---|---|\n",
       "| 1 | 1169 | 4 | 67 | nenhum | 2019-01-01 | 4 | 7 | bom  | 2019 | 1 | 6 |\n",
       "| 2 | 5951 | 2 | 22 | nenhum | 2020-01-01 | 1 | 7 | ruim | 2020 | 1 | 7 |\n",
       "| 3 | 2096 | 3 | 49 | nenhum | 2020-01-02 | 4 | 5 | bom  | 2020 | 1 | 5 |\n",
       "| 4 | 7882 | 4 | 45 | nenhum | 2019-01-02 | 4 | 5 | bom  | 2019 | 1 | 7 |\n",
       "| 5 | 4870 | 4 | 53 | nenhum | 2018-01-03 | 4 | 1 | ruim | 2018 | 1 | 7 |\n",
       "| 6 | 9055 | 4 | 35 | nenhum | 2020-01-04 | 4 | 5 | bom  | 2020 | 1 | 3 |\n",
       "\n"
      ],
      "text/plain": [
       "  SALDO_ATUAL RESIDENCIADESDE IDADE OUTROSPLANOSPGTO DATA       ESTADOCIVIL\n",
       "1 1169        4               67    nenhum           2019-01-01 4          \n",
       "2 5951        2               22    nenhum           2020-01-01 1          \n",
       "3 2096        3               49    nenhum           2020-01-02 4          \n",
       "4 7882        4               45    nenhum           2019-01-02 4          \n",
       "5 4870        4               53    nenhum           2018-01-03 4          \n",
       "6 9055        4               35    nenhum           2020-01-04 4          \n",
       "  PROPOSITO CLASSE ANO  MES DIASEMANA\n",
       "1 7         bom    2019 1   6        \n",
       "2 7         ruim   2020 1   7        \n",
       "3 5         bom    2020 1   5        \n",
       "4 5         bom    2019 1   7        \n",
       "5 1         ruim   2018 1   7        \n",
       "6 5         bom    2020 1   3        "
      ]
     },
     "metadata": {},
     "output_type": "display_data"
    }
   ],
   "source": [
    "head(dados)\n"
   ]
  },
  {
   "cell_type": "markdown",
   "metadata": {},
   "source": [
    "### One-hot Encoding"
   ]
  },
  {
   "cell_type": "code",
   "execution_count": 188,
   "metadata": {
    "vscode": {
     "languageId": "r"
    }
   },
   "outputs": [
    {
     "data": {
      "text/html": [
       "<table class=\"dataframe\">\n",
       "<caption>A data.table: 6 × 3</caption>\n",
       "<thead>\n",
       "\t<tr><th scope=col>V1_banco</th><th scope=col>V1_nenhum</th><th scope=col>V1_stores</th></tr>\n",
       "\t<tr><th scope=col>&lt;int&gt;</th><th scope=col>&lt;int&gt;</th><th scope=col>&lt;int&gt;</th></tr>\n",
       "</thead>\n",
       "<tbody>\n",
       "\t<tr><td>0</td><td>1</td><td>0</td></tr>\n",
       "\t<tr><td>0</td><td>1</td><td>0</td></tr>\n",
       "\t<tr><td>0</td><td>1</td><td>0</td></tr>\n",
       "\t<tr><td>0</td><td>1</td><td>0</td></tr>\n",
       "\t<tr><td>0</td><td>1</td><td>0</td></tr>\n",
       "\t<tr><td>0</td><td>1</td><td>0</td></tr>\n",
       "</tbody>\n",
       "</table>\n"
      ],
      "text/latex": [
       "A data.table: 6 × 3\n",
       "\\begin{tabular}{lll}\n",
       " V1\\_banco & V1\\_nenhum & V1\\_stores\\\\\n",
       " <int> & <int> & <int>\\\\\n",
       "\\hline\n",
       "\t 0 & 1 & 0\\\\\n",
       "\t 0 & 1 & 0\\\\\n",
       "\t 0 & 1 & 0\\\\\n",
       "\t 0 & 1 & 0\\\\\n",
       "\t 0 & 1 & 0\\\\\n",
       "\t 0 & 1 & 0\\\\\n",
       "\\end{tabular}\n"
      ],
      "text/markdown": [
       "\n",
       "A data.table: 6 × 3\n",
       "\n",
       "| V1_banco &lt;int&gt; | V1_nenhum &lt;int&gt; | V1_stores &lt;int&gt; |\n",
       "|---|---|---|\n",
       "| 0 | 1 | 0 |\n",
       "| 0 | 1 | 0 |\n",
       "| 0 | 1 | 0 |\n",
       "| 0 | 1 | 0 |\n",
       "| 0 | 1 | 0 |\n",
       "| 0 | 1 | 0 |\n",
       "\n"
      ],
      "text/plain": [
       "  V1_banco V1_nenhum V1_stores\n",
       "1 0        1         0        \n",
       "2 0        1         0        \n",
       "3 0        1         0        \n",
       "4 0        1         0        \n",
       "5 0        1         0        \n",
       "6 0        1         0        "
      ]
     },
     "metadata": {},
     "output_type": "display_data"
    }
   ],
   "source": [
    "# Convertendo a variável OUTROSPLANOSPGTO para one-hot encoding\n",
    "dados_temp <- one_hot(as.data.table(dados$OUTROSPLANOSPGTO))\n",
    "\n",
    "head(dados_temp)\n"
   ]
  },
  {
   "cell_type": "code",
   "execution_count": 189,
   "metadata": {
    "vscode": {
     "languageId": "r"
    }
   },
   "outputs": [
    {
     "data": {
      "text/html": [
       "<table class=\"dataframe\">\n",
       "<caption>A data.frame: 6 × 14</caption>\n",
       "<thead>\n",
       "\t<tr><th></th><th scope=col>SALDO_ATUAL</th><th scope=col>RESIDENCIADESDE</th><th scope=col>IDADE</th><th scope=col>OUTROSPLANOSPGTO</th><th scope=col>DATA</th><th scope=col>ESTADOCIVIL</th><th scope=col>PROPOSITO</th><th scope=col>CLASSE</th><th scope=col>ANO</th><th scope=col>MES</th><th scope=col>DIASEMANA</th><th scope=col>V1_banco</th><th scope=col>V1_nenhum</th><th scope=col>V1_stores</th></tr>\n",
       "\t<tr><th></th><th scope=col>&lt;dbl&gt;</th><th scope=col>&lt;int&gt;</th><th scope=col>&lt;int&gt;</th><th scope=col>&lt;fct&gt;</th><th scope=col>&lt;date&gt;</th><th scope=col>&lt;dbl&gt;</th><th scope=col>&lt;dbl&gt;</th><th scope=col>&lt;fct&gt;</th><th scope=col>&lt;int&gt;</th><th scope=col>&lt;int&gt;</th><th scope=col>&lt;dbl&gt;</th><th scope=col>&lt;int&gt;</th><th scope=col>&lt;int&gt;</th><th scope=col>&lt;int&gt;</th></tr>\n",
       "</thead>\n",
       "<tbody>\n",
       "\t<tr><th scope=row>1</th><td>1169</td><td>4</td><td>67</td><td>nenhum</td><td>2019-01-01</td><td>4</td><td>7</td><td>bom </td><td>2019</td><td>1</td><td>6</td><td>0</td><td>1</td><td>0</td></tr>\n",
       "\t<tr><th scope=row>2</th><td>5951</td><td>2</td><td>22</td><td>nenhum</td><td>2020-01-01</td><td>1</td><td>7</td><td>ruim</td><td>2020</td><td>1</td><td>7</td><td>0</td><td>1</td><td>0</td></tr>\n",
       "\t<tr><th scope=row>3</th><td>2096</td><td>3</td><td>49</td><td>nenhum</td><td>2020-01-02</td><td>4</td><td>5</td><td>bom </td><td>2020</td><td>1</td><td>5</td><td>0</td><td>1</td><td>0</td></tr>\n",
       "\t<tr><th scope=row>4</th><td>7882</td><td>4</td><td>45</td><td>nenhum</td><td>2019-01-02</td><td>4</td><td>5</td><td>bom </td><td>2019</td><td>1</td><td>7</td><td>0</td><td>1</td><td>0</td></tr>\n",
       "\t<tr><th scope=row>5</th><td>4870</td><td>4</td><td>53</td><td>nenhum</td><td>2018-01-03</td><td>4</td><td>1</td><td>ruim</td><td>2018</td><td>1</td><td>7</td><td>0</td><td>1</td><td>0</td></tr>\n",
       "\t<tr><th scope=row>6</th><td>9055</td><td>4</td><td>35</td><td>nenhum</td><td>2020-01-04</td><td>4</td><td>5</td><td>bom </td><td>2020</td><td>1</td><td>3</td><td>0</td><td>1</td><td>0</td></tr>\n",
       "</tbody>\n",
       "</table>\n"
      ],
      "text/latex": [
       "A data.frame: 6 × 14\n",
       "\\begin{tabular}{r|llllllllllllll}\n",
       "  & SALDO\\_ATUAL & RESIDENCIADESDE & IDADE & OUTROSPLANOSPGTO & DATA & ESTADOCIVIL & PROPOSITO & CLASSE & ANO & MES & DIASEMANA & V1\\_banco & V1\\_nenhum & V1\\_stores\\\\\n",
       "  & <dbl> & <int> & <int> & <fct> & <date> & <dbl> & <dbl> & <fct> & <int> & <int> & <dbl> & <int> & <int> & <int>\\\\\n",
       "\\hline\n",
       "\t1 & 1169 & 4 & 67 & nenhum & 2019-01-01 & 4 & 7 & bom  & 2019 & 1 & 6 & 0 & 1 & 0\\\\\n",
       "\t2 & 5951 & 2 & 22 & nenhum & 2020-01-01 & 1 & 7 & ruim & 2020 & 1 & 7 & 0 & 1 & 0\\\\\n",
       "\t3 & 2096 & 3 & 49 & nenhum & 2020-01-02 & 4 & 5 & bom  & 2020 & 1 & 5 & 0 & 1 & 0\\\\\n",
       "\t4 & 7882 & 4 & 45 & nenhum & 2019-01-02 & 4 & 5 & bom  & 2019 & 1 & 7 & 0 & 1 & 0\\\\\n",
       "\t5 & 4870 & 4 & 53 & nenhum & 2018-01-03 & 4 & 1 & ruim & 2018 & 1 & 7 & 0 & 1 & 0\\\\\n",
       "\t6 & 9055 & 4 & 35 & nenhum & 2020-01-04 & 4 & 5 & bom  & 2020 & 1 & 3 & 0 & 1 & 0\\\\\n",
       "\\end{tabular}\n"
      ],
      "text/markdown": [
       "\n",
       "A data.frame: 6 × 14\n",
       "\n",
       "| <!--/--> | SALDO_ATUAL &lt;dbl&gt; | RESIDENCIADESDE &lt;int&gt; | IDADE &lt;int&gt; | OUTROSPLANOSPGTO &lt;fct&gt; | DATA &lt;date&gt; | ESTADOCIVIL &lt;dbl&gt; | PROPOSITO &lt;dbl&gt; | CLASSE &lt;fct&gt; | ANO &lt;int&gt; | MES &lt;int&gt; | DIASEMANA &lt;dbl&gt; | V1_banco &lt;int&gt; | V1_nenhum &lt;int&gt; | V1_stores &lt;int&gt; |\n",
       "|---|---|---|---|---|---|---|---|---|---|---|---|---|---|---|\n",
       "| 1 | 1169 | 4 | 67 | nenhum | 2019-01-01 | 4 | 7 | bom  | 2019 | 1 | 6 | 0 | 1 | 0 |\n",
       "| 2 | 5951 | 2 | 22 | nenhum | 2020-01-01 | 1 | 7 | ruim | 2020 | 1 | 7 | 0 | 1 | 0 |\n",
       "| 3 | 2096 | 3 | 49 | nenhum | 2020-01-02 | 4 | 5 | bom  | 2020 | 1 | 5 | 0 | 1 | 0 |\n",
       "| 4 | 7882 | 4 | 45 | nenhum | 2019-01-02 | 4 | 5 | bom  | 2019 | 1 | 7 | 0 | 1 | 0 |\n",
       "| 5 | 4870 | 4 | 53 | nenhum | 2018-01-03 | 4 | 1 | ruim | 2018 | 1 | 7 | 0 | 1 | 0 |\n",
       "| 6 | 9055 | 4 | 35 | nenhum | 2020-01-04 | 4 | 5 | bom  | 2020 | 1 | 3 | 0 | 1 | 0 |\n",
       "\n"
      ],
      "text/plain": [
       "  SALDO_ATUAL RESIDENCIADESDE IDADE OUTROSPLANOSPGTO DATA       ESTADOCIVIL\n",
       "1 1169        4               67    nenhum           2019-01-01 4          \n",
       "2 5951        2               22    nenhum           2020-01-01 1          \n",
       "3 2096        3               49    nenhum           2020-01-02 4          \n",
       "4 7882        4               45    nenhum           2019-01-02 4          \n",
       "5 4870        4               53    nenhum           2018-01-03 4          \n",
       "6 9055        4               35    nenhum           2020-01-04 4          \n",
       "  PROPOSITO CLASSE ANO  MES DIASEMANA V1_banco V1_nenhum V1_stores\n",
       "1 7         bom    2019 1   6         0        1         0        \n",
       "2 7         ruim   2020 1   7         0        1         0        \n",
       "3 5         bom    2020 1   5         0        1         0        \n",
       "4 5         bom    2019 1   7         0        1         0        \n",
       "5 1         ruim   2018 1   7         0        1         0        \n",
       "6 5         bom    2020 1   3         0        1         0        "
      ]
     },
     "metadata": {},
     "output_type": "display_data"
    }
   ],
   "source": [
    "# Adicionando as variáveis dummies ao conjunto de dados\n",
    "dados <- cbind(dados, dados_temp)\n",
    "\n",
    "head(dados)"
   ]
  },
  {
   "cell_type": "markdown",
   "metadata": {},
   "source": [
    "### Normalizing data"
   ]
  },
  {
   "cell_type": "code",
   "execution_count": 190,
   "metadata": {
    "vscode": {
     "languageId": "r"
    }
   },
   "outputs": [
    {
     "data": {
      "text/html": [
       "<table class=\"dataframe\">\n",
       "<caption>A data.frame: 6 × 3</caption>\n",
       "<thead>\n",
       "\t<tr><th></th><th scope=col>SALDO_ATUAL_P</th><th scope=col>RESISDENCIADESDE_P</th><th scope=col>IDADE_P</th></tr>\n",
       "\t<tr><th></th><th scope=col>&lt;dbl&gt;</th><th scope=col>&lt;dbl&gt;</th><th scope=col>&lt;dbl&gt;</th></tr>\n",
       "</thead>\n",
       "<tbody>\n",
       "\t<tr><th scope=row>1</th><td>-0.7451436</td><td> 1.0464631</td><td> 1.63845605</td></tr>\n",
       "\t<tr><th scope=row>2</th><td> 0.9572614</td><td>-0.7655942</td><td>-0.73987118</td></tr>\n",
       "\t<tr><th scope=row>3</th><td>-0.4151291</td><td> 0.1404344</td><td> 0.68712516</td></tr>\n",
       "\t<tr><th scope=row>4</th><td> 1.6447026</td><td> 1.0464631</td><td> 0.47571830</td></tr>\n",
       "\t<tr><th scope=row>5</th><td> 0.5724225</td><td> 1.0464631</td><td> 0.89853203</td></tr>\n",
       "\t<tr><th scope=row>6</th><td> 2.0622938</td><td> 1.0464631</td><td>-0.05279886</td></tr>\n",
       "</tbody>\n",
       "</table>\n"
      ],
      "text/latex": [
       "A data.frame: 6 × 3\n",
       "\\begin{tabular}{r|lll}\n",
       "  & SALDO\\_ATUAL\\_P & RESISDENCIADESDE\\_P & IDADE\\_P\\\\\n",
       "  & <dbl> & <dbl> & <dbl>\\\\\n",
       "\\hline\n",
       "\t1 & -0.7451436 &  1.0464631 &  1.63845605\\\\\n",
       "\t2 &  0.9572614 & -0.7655942 & -0.73987118\\\\\n",
       "\t3 & -0.4151291 &  0.1404344 &  0.68712516\\\\\n",
       "\t4 &  1.6447026 &  1.0464631 &  0.47571830\\\\\n",
       "\t5 &  0.5724225 &  1.0464631 &  0.89853203\\\\\n",
       "\t6 &  2.0622938 &  1.0464631 & -0.05279886\\\\\n",
       "\\end{tabular}\n"
      ],
      "text/markdown": [
       "\n",
       "A data.frame: 6 × 3\n",
       "\n",
       "| <!--/--> | SALDO_ATUAL_P &lt;dbl&gt; | RESISDENCIADESDE_P &lt;dbl&gt; | IDADE_P &lt;dbl&gt; |\n",
       "|---|---|---|---|\n",
       "| 1 | -0.7451436 |  1.0464631 |  1.63845605 |\n",
       "| 2 |  0.9572614 | -0.7655942 | -0.73987118 |\n",
       "| 3 | -0.4151291 |  0.1404344 |  0.68712516 |\n",
       "| 4 |  1.6447026 |  1.0464631 |  0.47571830 |\n",
       "| 5 |  0.5724225 |  1.0464631 |  0.89853203 |\n",
       "| 6 |  2.0622938 |  1.0464631 | -0.05279886 |\n",
       "\n"
      ],
      "text/plain": [
       "  SALDO_ATUAL_P RESISDENCIADESDE_P IDADE_P    \n",
       "1 -0.7451436     1.0464631          1.63845605\n",
       "2  0.9572614    -0.7655942         -0.73987118\n",
       "3 -0.4151291     0.1404344          0.68712516\n",
       "4  1.6447026     1.0464631          0.47571830\n",
       "5  0.5724225     1.0464631          0.89853203\n",
       "6  2.0622938     1.0464631         -0.05279886"
      ]
     },
     "metadata": {},
     "output_type": "display_data"
    }
   ],
   "source": [
    "p <- as.data.frame(scale(dados[1:3]))\n",
    "colnames(p) <- c(\"SALDO_ATUAL_P\", \"RESISDENCIADESDE_P\", \"IDADE_P\")\n",
    "head(p)\n"
   ]
  },
  {
   "cell_type": "code",
   "execution_count": 191,
   "metadata": {
    "vscode": {
     "languageId": "r"
    }
   },
   "outputs": [
    {
     "data": {
      "text/html": [
       "<table class=\"dataframe\">\n",
       "<caption>A data.frame: 6 × 14</caption>\n",
       "<thead>\n",
       "\t<tr><th></th><th scope=col>SALDO_ATUAL_P</th><th scope=col>RESISDENCIADESDE_P</th><th scope=col>IDADE_P</th><th scope=col>OUTROSPLANOSPGTO</th><th scope=col>DATA</th><th scope=col>ESTADOCIVIL</th><th scope=col>PROPOSITO</th><th scope=col>CLASSE</th><th scope=col>ANO</th><th scope=col>MES</th><th scope=col>DIASEMANA</th><th scope=col>V1_banco</th><th scope=col>V1_nenhum</th><th scope=col>V1_stores</th></tr>\n",
       "\t<tr><th></th><th scope=col>&lt;dbl&gt;</th><th scope=col>&lt;dbl&gt;</th><th scope=col>&lt;dbl&gt;</th><th scope=col>&lt;fct&gt;</th><th scope=col>&lt;date&gt;</th><th scope=col>&lt;dbl&gt;</th><th scope=col>&lt;dbl&gt;</th><th scope=col>&lt;fct&gt;</th><th scope=col>&lt;int&gt;</th><th scope=col>&lt;int&gt;</th><th scope=col>&lt;dbl&gt;</th><th scope=col>&lt;int&gt;</th><th scope=col>&lt;int&gt;</th><th scope=col>&lt;int&gt;</th></tr>\n",
       "</thead>\n",
       "<tbody>\n",
       "\t<tr><th scope=row>1</th><td>-0.7451436</td><td> 1.0464631</td><td> 1.63845605</td><td>nenhum</td><td>2019-01-01</td><td>4</td><td>7</td><td>bom </td><td>2019</td><td>1</td><td>6</td><td>0</td><td>1</td><td>0</td></tr>\n",
       "\t<tr><th scope=row>2</th><td> 0.9572614</td><td>-0.7655942</td><td>-0.73987118</td><td>nenhum</td><td>2020-01-01</td><td>1</td><td>7</td><td>ruim</td><td>2020</td><td>1</td><td>7</td><td>0</td><td>1</td><td>0</td></tr>\n",
       "\t<tr><th scope=row>3</th><td>-0.4151291</td><td> 0.1404344</td><td> 0.68712516</td><td>nenhum</td><td>2020-01-02</td><td>4</td><td>5</td><td>bom </td><td>2020</td><td>1</td><td>5</td><td>0</td><td>1</td><td>0</td></tr>\n",
       "\t<tr><th scope=row>4</th><td> 1.6447026</td><td> 1.0464631</td><td> 0.47571830</td><td>nenhum</td><td>2019-01-02</td><td>4</td><td>5</td><td>bom </td><td>2019</td><td>1</td><td>7</td><td>0</td><td>1</td><td>0</td></tr>\n",
       "\t<tr><th scope=row>5</th><td> 0.5724225</td><td> 1.0464631</td><td> 0.89853203</td><td>nenhum</td><td>2018-01-03</td><td>4</td><td>1</td><td>ruim</td><td>2018</td><td>1</td><td>7</td><td>0</td><td>1</td><td>0</td></tr>\n",
       "\t<tr><th scope=row>6</th><td> 2.0622938</td><td> 1.0464631</td><td>-0.05279886</td><td>nenhum</td><td>2020-01-04</td><td>4</td><td>5</td><td>bom </td><td>2020</td><td>1</td><td>3</td><td>0</td><td>1</td><td>0</td></tr>\n",
       "</tbody>\n",
       "</table>\n"
      ],
      "text/latex": [
       "A data.frame: 6 × 14\n",
       "\\begin{tabular}{r|llllllllllllll}\n",
       "  & SALDO\\_ATUAL\\_P & RESISDENCIADESDE\\_P & IDADE\\_P & OUTROSPLANOSPGTO & DATA & ESTADOCIVIL & PROPOSITO & CLASSE & ANO & MES & DIASEMANA & V1\\_banco & V1\\_nenhum & V1\\_stores\\\\\n",
       "  & <dbl> & <dbl> & <dbl> & <fct> & <date> & <dbl> & <dbl> & <fct> & <int> & <int> & <dbl> & <int> & <int> & <int>\\\\\n",
       "\\hline\n",
       "\t1 & -0.7451436 &  1.0464631 &  1.63845605 & nenhum & 2019-01-01 & 4 & 7 & bom  & 2019 & 1 & 6 & 0 & 1 & 0\\\\\n",
       "\t2 &  0.9572614 & -0.7655942 & -0.73987118 & nenhum & 2020-01-01 & 1 & 7 & ruim & 2020 & 1 & 7 & 0 & 1 & 0\\\\\n",
       "\t3 & -0.4151291 &  0.1404344 &  0.68712516 & nenhum & 2020-01-02 & 4 & 5 & bom  & 2020 & 1 & 5 & 0 & 1 & 0\\\\\n",
       "\t4 &  1.6447026 &  1.0464631 &  0.47571830 & nenhum & 2019-01-02 & 4 & 5 & bom  & 2019 & 1 & 7 & 0 & 1 & 0\\\\\n",
       "\t5 &  0.5724225 &  1.0464631 &  0.89853203 & nenhum & 2018-01-03 & 4 & 1 & ruim & 2018 & 1 & 7 & 0 & 1 & 0\\\\\n",
       "\t6 &  2.0622938 &  1.0464631 & -0.05279886 & nenhum & 2020-01-04 & 4 & 5 & bom  & 2020 & 1 & 3 & 0 & 1 & 0\\\\\n",
       "\\end{tabular}\n"
      ],
      "text/markdown": [
       "\n",
       "A data.frame: 6 × 14\n",
       "\n",
       "| <!--/--> | SALDO_ATUAL_P &lt;dbl&gt; | RESISDENCIADESDE_P &lt;dbl&gt; | IDADE_P &lt;dbl&gt; | OUTROSPLANOSPGTO &lt;fct&gt; | DATA &lt;date&gt; | ESTADOCIVIL &lt;dbl&gt; | PROPOSITO &lt;dbl&gt; | CLASSE &lt;fct&gt; | ANO &lt;int&gt; | MES &lt;int&gt; | DIASEMANA &lt;dbl&gt; | V1_banco &lt;int&gt; | V1_nenhum &lt;int&gt; | V1_stores &lt;int&gt; |\n",
       "|---|---|---|---|---|---|---|---|---|---|---|---|---|---|---|\n",
       "| 1 | -0.7451436 |  1.0464631 |  1.63845605 | nenhum | 2019-01-01 | 4 | 7 | bom  | 2019 | 1 | 6 | 0 | 1 | 0 |\n",
       "| 2 |  0.9572614 | -0.7655942 | -0.73987118 | nenhum | 2020-01-01 | 1 | 7 | ruim | 2020 | 1 | 7 | 0 | 1 | 0 |\n",
       "| 3 | -0.4151291 |  0.1404344 |  0.68712516 | nenhum | 2020-01-02 | 4 | 5 | bom  | 2020 | 1 | 5 | 0 | 1 | 0 |\n",
       "| 4 |  1.6447026 |  1.0464631 |  0.47571830 | nenhum | 2019-01-02 | 4 | 5 | bom  | 2019 | 1 | 7 | 0 | 1 | 0 |\n",
       "| 5 |  0.5724225 |  1.0464631 |  0.89853203 | nenhum | 2018-01-03 | 4 | 1 | ruim | 2018 | 1 | 7 | 0 | 1 | 0 |\n",
       "| 6 |  2.0622938 |  1.0464631 | -0.05279886 | nenhum | 2020-01-04 | 4 | 5 | bom  | 2020 | 1 | 3 | 0 | 1 | 0 |\n",
       "\n"
      ],
      "text/plain": [
       "  SALDO_ATUAL_P RESISDENCIADESDE_P IDADE_P     OUTROSPLANOSPGTO DATA      \n",
       "1 -0.7451436     1.0464631          1.63845605 nenhum           2019-01-01\n",
       "2  0.9572614    -0.7655942         -0.73987118 nenhum           2020-01-01\n",
       "3 -0.4151291     0.1404344          0.68712516 nenhum           2020-01-02\n",
       "4  1.6447026     1.0464631          0.47571830 nenhum           2019-01-02\n",
       "5  0.5724225     1.0464631          0.89853203 nenhum           2018-01-03\n",
       "6  2.0622938     1.0464631         -0.05279886 nenhum           2020-01-04\n",
       "  ESTADOCIVIL PROPOSITO CLASSE ANO  MES DIASEMANA V1_banco V1_nenhum V1_stores\n",
       "1 4           7         bom    2019 1   6         0        1         0        \n",
       "2 1           7         ruim   2020 1   7         0        1         0        \n",
       "3 4           5         bom    2020 1   5         0        1         0        \n",
       "4 4           5         bom    2019 1   7         0        1         0        \n",
       "5 4           1         ruim   2018 1   7         0        1         0        \n",
       "6 4           5         bom    2020 1   3         0        1         0        "
      ]
     },
     "metadata": {},
     "output_type": "display_data"
    }
   ],
   "source": [
    "# Removendo as variáveis originais\n",
    "dados <- cbind(p, dados[4:ncol(dados)])\n",
    "\n",
    "head(dados)"
   ]
  },
  {
   "cell_type": "code",
   "execution_count": 192,
   "metadata": {
    "vscode": {
     "languageId": "r"
    }
   },
   "outputs": [
    {
     "data": {
      "text/html": [
       "<table class=\"dataframe\">\n",
       "<caption>A data.frame: 6 × 11</caption>\n",
       "<thead>\n",
       "\t<tr><th></th><th scope=col>SALDO_ATUAL_P</th><th scope=col>RESISDENCIADESDE_P</th><th scope=col>IDADE_P</th><th scope=col>ESTADOCIVIL</th><th scope=col>PROPOSITO</th><th scope=col>CLASSE</th><th scope=col>ANO</th><th scope=col>MES</th><th scope=col>DIASEMANA</th><th scope=col>V1_nenhum</th><th scope=col>V1_stores</th></tr>\n",
       "\t<tr><th></th><th scope=col>&lt;dbl&gt;</th><th scope=col>&lt;dbl&gt;</th><th scope=col>&lt;dbl&gt;</th><th scope=col>&lt;dbl&gt;</th><th scope=col>&lt;dbl&gt;</th><th scope=col>&lt;fct&gt;</th><th scope=col>&lt;int&gt;</th><th scope=col>&lt;int&gt;</th><th scope=col>&lt;dbl&gt;</th><th scope=col>&lt;int&gt;</th><th scope=col>&lt;int&gt;</th></tr>\n",
       "</thead>\n",
       "<tbody>\n",
       "\t<tr><th scope=row>1</th><td>-0.7451436</td><td> 1.0464631</td><td> 1.63845605</td><td>4</td><td>7</td><td>bom </td><td>2019</td><td>1</td><td>6</td><td>1</td><td>0</td></tr>\n",
       "\t<tr><th scope=row>2</th><td> 0.9572614</td><td>-0.7655942</td><td>-0.73987118</td><td>1</td><td>7</td><td>ruim</td><td>2020</td><td>1</td><td>7</td><td>1</td><td>0</td></tr>\n",
       "\t<tr><th scope=row>3</th><td>-0.4151291</td><td> 0.1404344</td><td> 0.68712516</td><td>4</td><td>5</td><td>bom </td><td>2020</td><td>1</td><td>5</td><td>1</td><td>0</td></tr>\n",
       "\t<tr><th scope=row>4</th><td> 1.6447026</td><td> 1.0464631</td><td> 0.47571830</td><td>4</td><td>5</td><td>bom </td><td>2019</td><td>1</td><td>7</td><td>1</td><td>0</td></tr>\n",
       "\t<tr><th scope=row>5</th><td> 0.5724225</td><td> 1.0464631</td><td> 0.89853203</td><td>4</td><td>1</td><td>ruim</td><td>2018</td><td>1</td><td>7</td><td>1</td><td>0</td></tr>\n",
       "\t<tr><th scope=row>6</th><td> 2.0622938</td><td> 1.0464631</td><td>-0.05279886</td><td>4</td><td>5</td><td>bom </td><td>2020</td><td>1</td><td>3</td><td>1</td><td>0</td></tr>\n",
       "</tbody>\n",
       "</table>\n"
      ],
      "text/latex": [
       "A data.frame: 6 × 11\n",
       "\\begin{tabular}{r|lllllllllll}\n",
       "  & SALDO\\_ATUAL\\_P & RESISDENCIADESDE\\_P & IDADE\\_P & ESTADOCIVIL & PROPOSITO & CLASSE & ANO & MES & DIASEMANA & V1\\_nenhum & V1\\_stores\\\\\n",
       "  & <dbl> & <dbl> & <dbl> & <dbl> & <dbl> & <fct> & <int> & <int> & <dbl> & <int> & <int>\\\\\n",
       "\\hline\n",
       "\t1 & -0.7451436 &  1.0464631 &  1.63845605 & 4 & 7 & bom  & 2019 & 1 & 6 & 1 & 0\\\\\n",
       "\t2 &  0.9572614 & -0.7655942 & -0.73987118 & 1 & 7 & ruim & 2020 & 1 & 7 & 1 & 0\\\\\n",
       "\t3 & -0.4151291 &  0.1404344 &  0.68712516 & 4 & 5 & bom  & 2020 & 1 & 5 & 1 & 0\\\\\n",
       "\t4 &  1.6447026 &  1.0464631 &  0.47571830 & 4 & 5 & bom  & 2019 & 1 & 7 & 1 & 0\\\\\n",
       "\t5 &  0.5724225 &  1.0464631 &  0.89853203 & 4 & 1 & ruim & 2018 & 1 & 7 & 1 & 0\\\\\n",
       "\t6 &  2.0622938 &  1.0464631 & -0.05279886 & 4 & 5 & bom  & 2020 & 1 & 3 & 1 & 0\\\\\n",
       "\\end{tabular}\n"
      ],
      "text/markdown": [
       "\n",
       "A data.frame: 6 × 11\n",
       "\n",
       "| <!--/--> | SALDO_ATUAL_P &lt;dbl&gt; | RESISDENCIADESDE_P &lt;dbl&gt; | IDADE_P &lt;dbl&gt; | ESTADOCIVIL &lt;dbl&gt; | PROPOSITO &lt;dbl&gt; | CLASSE &lt;fct&gt; | ANO &lt;int&gt; | MES &lt;int&gt; | DIASEMANA &lt;dbl&gt; | V1_nenhum &lt;int&gt; | V1_stores &lt;int&gt; |\n",
       "|---|---|---|---|---|---|---|---|---|---|---|---|\n",
       "| 1 | -0.7451436 |  1.0464631 |  1.63845605 | 4 | 7 | bom  | 2019 | 1 | 6 | 1 | 0 |\n",
       "| 2 |  0.9572614 | -0.7655942 | -0.73987118 | 1 | 7 | ruim | 2020 | 1 | 7 | 1 | 0 |\n",
       "| 3 | -0.4151291 |  0.1404344 |  0.68712516 | 4 | 5 | bom  | 2020 | 1 | 5 | 1 | 0 |\n",
       "| 4 |  1.6447026 |  1.0464631 |  0.47571830 | 4 | 5 | bom  | 2019 | 1 | 7 | 1 | 0 |\n",
       "| 5 |  0.5724225 |  1.0464631 |  0.89853203 | 4 | 1 | ruim | 2018 | 1 | 7 | 1 | 0 |\n",
       "| 6 |  2.0622938 |  1.0464631 | -0.05279886 | 4 | 5 | bom  | 2020 | 1 | 3 | 1 | 0 |\n",
       "\n"
      ],
      "text/plain": [
       "  SALDO_ATUAL_P RESISDENCIADESDE_P IDADE_P     ESTADOCIVIL PROPOSITO CLASSE\n",
       "1 -0.7451436     1.0464631          1.63845605 4           7         bom   \n",
       "2  0.9572614    -0.7655942         -0.73987118 1           7         ruim  \n",
       "3 -0.4151291     0.1404344          0.68712516 4           5         bom   \n",
       "4  1.6447026     1.0464631          0.47571830 4           5         bom   \n",
       "5  0.5724225     1.0464631          0.89853203 4           1         ruim  \n",
       "6  2.0622938     1.0464631         -0.05279886 4           5         bom   \n",
       "  ANO  MES DIASEMANA V1_nenhum V1_stores\n",
       "1 2019 1   6         1         0        \n",
       "2 2020 1   7         1         0        \n",
       "3 2020 1   5         1         0        \n",
       "4 2019 1   7         1         0        \n",
       "5 2018 1   7         1         0        \n",
       "6 2020 1   3         1         0        "
      ]
     },
     "metadata": {},
     "output_type": "display_data"
    }
   ],
   "source": [
    "# Removendo as variáveis originais\n",
    "\n",
    "# SALDO_ATUAL, RESIDENCIADESDE, IDADE - Padronização\n",
    "# OUTROSPLANOSPGTO - One-hot encoding\n",
    "# DATA - Ano, Mês, Dia da semana\n",
    "# V1_banco - Dummy variable trap\n",
    "\n",
    "df2 <- dados[!names(dados) %in% c(\"OUTROSPLANOSPGTO\", \"DATA\", \"V1_banco\")]\n",
    "\n",
    "head(df2)\n"
   ]
  }
 ],
 "metadata": {
  "kernelspec": {
   "display_name": "R",
   "language": "R",
   "name": "ir"
  },
  "language_info": {
   "codemirror_mode": "r",
   "file_extension": ".r",
   "mimetype": "text/x-r-source",
   "name": "R",
   "pygments_lexer": "r",
   "version": "4.3.1"
  }
 },
 "nbformat": 4,
 "nbformat_minor": 2
}
