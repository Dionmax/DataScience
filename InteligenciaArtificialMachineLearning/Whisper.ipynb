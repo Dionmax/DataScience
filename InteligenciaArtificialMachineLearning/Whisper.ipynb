{
 "cells": [
  {
   "cell_type": "code",
   "execution_count": 1,
   "metadata": {},
   "outputs": [],
   "source": [
    "import whisper\n",
    "import os"
   ]
  },
  {
   "cell_type": "code",
   "execution_count": null,
   "metadata": {},
   "outputs": [],
   "source": [
    "# Ensure ffmpeg is installed\n",
    "# !apt-get install -y ffmpeg\n",
    "\n",
    "modelo = whisper.load_model(\"base\")\n",
    "\n",
    "resultado = modelo.transcribe(\"data/teste.mp3\")\n",
    "\n",
    "text = resultado[\"text\"]\n",
    "language = resultado[\"language\"]\n",
    "\n",
    "print(f'Transcription: {text} \\nLanguage: {language}')"
   ]
  }
 ],
 "metadata": {
  "kernelspec": {
   "display_name": "base",
   "language": "python",
   "name": "python3"
  },
  "language_info": {
   "codemirror_mode": {
    "name": "ipython",
    "version": 3
   },
   "file_extension": ".py",
   "mimetype": "text/x-python",
   "name": "python",
   "nbconvert_exporter": "python",
   "pygments_lexer": "ipython3",
   "version": "3.12.2"
  }
 },
 "nbformat": 4,
 "nbformat_minor": 2
}
