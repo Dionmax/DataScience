{
 "cells": [
  {
   "cell_type": "markdown",
   "metadata": {},
   "source": [
    "Hello"
   ]
  },
  {
   "cell_type": "code",
   "execution_count": 2,
   "metadata": {
    "vscode": {
     "languageId": "r"
    }
   },
   "outputs": [
    {
     "name": "stdout",
     "output_type": "stream",
     "text": [
      "[1] \"Hello, World!\"\n"
     ]
    }
   ],
   "source": [
    "print(\"Hello, World!\")\n"
   ]
  },
  {
   "cell_type": "code",
   "execution_count": 6,
   "metadata": {
    "vscode": {
     "languageId": "r"
    }
   },
   "outputs": [
    {
     "data": {
      "text/html": [
       "<style>\n",
       ".list-inline {list-style: none; margin:0; padding: 0}\n",
       ".list-inline>li {display: inline-block}\n",
       ".list-inline>li:not(:last-child)::after {content: \"\\00b7\"; padding: 0 .5ex}\n",
       "</style>\n",
       "<ol class=list-inline><li>60.323</li><li>61.122</li><li>60.171</li><li>61.187</li><li>63.221</li><li>63.639</li><li>64.989</li><li>63.761</li><li>66.019</li><li>67.857</li><li>68.169</li><li>66.513</li><li>68.655</li><li>69.564</li><li>69.331</li><li>70.551</li></ol>\n"
      ],
      "text/latex": [
       "\\begin{enumerate*}\n",
       "\\item 60.323\n",
       "\\item 61.122\n",
       "\\item 60.171\n",
       "\\item 61.187\n",
       "\\item 63.221\n",
       "\\item 63.639\n",
       "\\item 64.989\n",
       "\\item 63.761\n",
       "\\item 66.019\n",
       "\\item 67.857\n",
       "\\item 68.169\n",
       "\\item 66.513\n",
       "\\item 68.655\n",
       "\\item 69.564\n",
       "\\item 69.331\n",
       "\\item 70.551\n",
       "\\end{enumerate*}\n"
      ],
      "text/markdown": [
       "1. 60.323\n",
       "2. 61.122\n",
       "3. 60.171\n",
       "4. 61.187\n",
       "5. 63.221\n",
       "6. 63.639\n",
       "7. 64.989\n",
       "8. 63.761\n",
       "9. 66.019\n",
       "10. 67.857\n",
       "11. 68.169\n",
       "12. 66.513\n",
       "13. 68.655\n",
       "14. 69.564\n",
       "15. 69.331\n",
       "16. 70.551\n",
       "\n",
       "\n"
      ],
      "text/plain": [
       " [1] 60.323 61.122 60.171 61.187 63.221 63.639 64.989 63.761 66.019 67.857\n",
       "[11] 68.169 66.513 68.655 69.564 69.331 70.551"
      ]
     },
     "metadata": {},
     "output_type": "display_data"
    }
   ],
   "source": [
    "longley$Employed\n"
   ]
  },
  {
   "cell_type": "code",
   "execution_count": 7,
   "metadata": {
    "vscode": {
     "languageId": "r"
    }
   },
   "outputs": [
    {
     "data": {
      "text/html": [
       "<table class=\"dataframe\">\n",
       "<caption>A data.frame: 16 × 1</caption>\n",
       "<thead>\n",
       "\t<tr><th></th><th scope=col>Employed</th></tr>\n",
       "\t<tr><th></th><th scope=col>&lt;dbl&gt;</th></tr>\n",
       "</thead>\n",
       "<tbody>\n",
       "\t<tr><th scope=row>1947</th><td>60.323</td></tr>\n",
       "\t<tr><th scope=row>1948</th><td>61.122</td></tr>\n",
       "\t<tr><th scope=row>1949</th><td>60.171</td></tr>\n",
       "\t<tr><th scope=row>1950</th><td>61.187</td></tr>\n",
       "\t<tr><th scope=row>1951</th><td>63.221</td></tr>\n",
       "\t<tr><th scope=row>1952</th><td>63.639</td></tr>\n",
       "\t<tr><th scope=row>1953</th><td>64.989</td></tr>\n",
       "\t<tr><th scope=row>1954</th><td>63.761</td></tr>\n",
       "\t<tr><th scope=row>1955</th><td>66.019</td></tr>\n",
       "\t<tr><th scope=row>1956</th><td>67.857</td></tr>\n",
       "\t<tr><th scope=row>1957</th><td>68.169</td></tr>\n",
       "\t<tr><th scope=row>1958</th><td>66.513</td></tr>\n",
       "\t<tr><th scope=row>1959</th><td>68.655</td></tr>\n",
       "\t<tr><th scope=row>1960</th><td>69.564</td></tr>\n",
       "\t<tr><th scope=row>1961</th><td>69.331</td></tr>\n",
       "\t<tr><th scope=row>1962</th><td>70.551</td></tr>\n",
       "</tbody>\n",
       "</table>\n"
      ],
      "text/latex": [
       "A data.frame: 16 × 1\n",
       "\\begin{tabular}{r|l}\n",
       "  & Employed\\\\\n",
       "  & <dbl>\\\\\n",
       "\\hline\n",
       "\t1947 & 60.323\\\\\n",
       "\t1948 & 61.122\\\\\n",
       "\t1949 & 60.171\\\\\n",
       "\t1950 & 61.187\\\\\n",
       "\t1951 & 63.221\\\\\n",
       "\t1952 & 63.639\\\\\n",
       "\t1953 & 64.989\\\\\n",
       "\t1954 & 63.761\\\\\n",
       "\t1955 & 66.019\\\\\n",
       "\t1956 & 67.857\\\\\n",
       "\t1957 & 68.169\\\\\n",
       "\t1958 & 66.513\\\\\n",
       "\t1959 & 68.655\\\\\n",
       "\t1960 & 69.564\\\\\n",
       "\t1961 & 69.331\\\\\n",
       "\t1962 & 70.551\\\\\n",
       "\\end{tabular}\n"
      ],
      "text/markdown": [
       "\n",
       "A data.frame: 16 × 1\n",
       "\n",
       "| <!--/--> | Employed &lt;dbl&gt; |\n",
       "|---|---|\n",
       "| 1947 | 60.323 |\n",
       "| 1948 | 61.122 |\n",
       "| 1949 | 60.171 |\n",
       "| 1950 | 61.187 |\n",
       "| 1951 | 63.221 |\n",
       "| 1952 | 63.639 |\n",
       "| 1953 | 64.989 |\n",
       "| 1954 | 63.761 |\n",
       "| 1955 | 66.019 |\n",
       "| 1956 | 67.857 |\n",
       "| 1957 | 68.169 |\n",
       "| 1958 | 66.513 |\n",
       "| 1959 | 68.655 |\n",
       "| 1960 | 69.564 |\n",
       "| 1961 | 69.331 |\n",
       "| 1962 | 70.551 |\n",
       "\n"
      ],
      "text/plain": [
       "     Employed\n",
       "1947 60.323  \n",
       "1948 61.122  \n",
       "1949 60.171  \n",
       "1950 61.187  \n",
       "1951 63.221  \n",
       "1952 63.639  \n",
       "1953 64.989  \n",
       "1954 63.761  \n",
       "1955 66.019  \n",
       "1956 67.857  \n",
       "1957 68.169  \n",
       "1958 66.513  \n",
       "1959 68.655  \n",
       "1960 69.564  \n",
       "1961 69.331  \n",
       "1962 70.551  "
      ]
     },
     "metadata": {},
     "output_type": "display_data"
    }
   ],
   "source": [
    "longley[\"Employed\"]\n"
   ]
  }
 ],
 "metadata": {
  "kernelspec": {
   "display_name": "R",
   "language": "R",
   "name": "ir"
  },
  "language_info": {
   "codemirror_mode": "r",
   "file_extension": ".r",
   "mimetype": "text/x-r-source",
   "name": "R",
   "pygments_lexer": "r",
   "version": "4.3.1"
  }
 },
 "nbformat": 4,
 "nbformat_minor": 2
}
