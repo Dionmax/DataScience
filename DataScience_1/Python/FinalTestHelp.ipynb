{
 "cells": [
  {
   "cell_type": "code",
   "execution_count": 47,
   "metadata": {},
   "outputs": [],
   "source": [
    "import pandas as pd\n",
    "import numpy as np\n",
    "from random import sample , seed\n",
    "from scipy.stats import binom, norm, poisson"
   ]
  },
  {
   "cell_type": "code",
   "execution_count": 2,
   "metadata": {},
   "outputs": [
    {
     "name": "stdout",
     "output_type": "stream",
     "text": [
      "103.85465270698703\n",
      "1039.75\n"
     ]
    }
   ],
   "source": [
    "arr1 = np.array([1041, 881, 1007, 895, 761, 1036, 1114, 980, 970, 1062]) \n",
    "\n",
    "print(np.std(arr1, ddof=1))\n",
    "\n",
    "print(np.quantile(arr1, 0.75))"
   ]
  },
  {
   "cell_type": "code",
   "execution_count": 29,
   "metadata": {},
   "outputs": [
    {
     "data": {
      "text/plain": [
       "[665, 529]"
      ]
     },
     "execution_count": 29,
     "metadata": {},
     "output_type": "execute_result"
    }
   ],
   "source": [
    "seed(2345)\n",
    "\n",
    "\n",
    "sample(range(1000), 2)"
   ]
  },
  {
   "cell_type": "code",
   "execution_count": 32,
   "metadata": {},
   "outputs": [
    {
     "name": "stdout",
     "output_type": "stream",
     "text": [
      "1023.2731644725\n"
     ]
    }
   ],
   "source": [
    "intcerp = (2263.818 - (32.18395 * 38.54545))\n",
    "\n",
    "print(intcerp)"
   ]
  },
  {
   "cell_type": "code",
   "execution_count": 37,
   "metadata": {},
   "outputs": [
    {
     "data": {
      "text/plain": [
       "4300.0"
      ]
     },
     "execution_count": 37,
     "metadata": {},
     "output_type": "execute_result"
    }
   ],
   "source": [
    "np.mean([4000, 5000, 3000, 5000, 4500])"
   ]
  },
  {
   "cell_type": "code",
   "execution_count": 39,
   "metadata": {},
   "outputs": [
    {
     "name": "stdout",
     "output_type": "stream",
     "text": [
      "0.3750000000000001\n"
     ]
    }
   ],
   "source": [
    "prob = binom.pmf(1, 3, 0.5)\n",
    "print(prob)"
   ]
  },
  {
   "cell_type": "code",
   "execution_count": 41,
   "metadata": {},
   "outputs": [
    {
     "data": {
      "text/plain": [
       "0.8413447460685429"
      ]
     },
     "execution_count": 41,
     "metadata": {},
     "output_type": "execute_result"
    }
   ],
   "source": [
    "norm.cdf(3, 2, 1)"
   ]
  },
  {
   "cell_type": "code",
   "execution_count": 43,
   "metadata": {},
   "outputs": [
    {
     "data": {
      "text/plain": [
       "0.857123460498547"
      ]
     },
     "execution_count": 43,
     "metadata": {},
     "output_type": "execute_result"
    }
   ],
   "source": [
    "# Probability of 3 or fewer events in 2 units of time\n",
    "poisson.cdf(3, 2)"
   ]
  },
  {
   "cell_type": "code",
   "execution_count": 44,
   "metadata": {},
   "outputs": [
    {
     "data": {
      "text/plain": [
       "0.14287653950145296"
      ]
     },
     "execution_count": 44,
     "metadata": {},
     "output_type": "execute_result"
    }
   ],
   "source": [
    "# Probability of 3 or more events in 2 units of time\n",
    "poisson.sf(3, 2)"
   ]
  },
  {
   "cell_type": "code",
   "execution_count": 45,
   "metadata": {},
   "outputs": [
    {
     "data": {
      "text/plain": [
       "array([[1.        , 0.30746382],\n",
       "       [0.30746382, 1.        ]])"
      ]
     },
     "execution_count": 45,
     "metadata": {},
     "output_type": "execute_result"
    }
   ],
   "source": [
    "x =  np.array([18,20,21,28,33,38,43,48,53,58,63])\n",
    "y = np.array([871,1132,5435,1200,1356,1488,1600,2130,2454,3066,4090])\n",
    "\n",
    "np.corrcoef(x, y)"
   ]
  },
  {
   "cell_type": "code",
   "execution_count": 48,
   "metadata": {},
   "outputs": [
    {
     "name": "stdout",
     "output_type": "stream",
     "text": [
      "   ID                         Produtos\n",
      "0   1          SABONETE, SABÃO, ESCOVA\n",
      "1   2  SABONETE, SABÃO, PASTA DE DENTE\n",
      "2   3                  SABONETE, SABÃO\n",
      "3   4           PASTA DE DENTE, ESCOVA\n",
      "4   5         PASTA DE DENTE, SABONETE\n"
     ]
    }
   ],
   "source": [
    "# Definindo os dados\n",
    "dados = {\n",
    "    'ID': [1, 2, 3, 4, 5],\n",
    "    'Produtos': [\n",
    "        'SABONETE, SABÃO, ESCOVA',\n",
    "        'SABONETE, SABÃO, PASTA DE DENTE',\n",
    "        'SABONETE, SABÃO',\n",
    "        'PASTA DE DENTE, ESCOVA',\n",
    "        'PASTA DE DENTE, SABONETE'\n",
    "    ]\n",
    "}\n",
    "\n",
    "# Criando o DataFrame\n",
    "df = pd.DataFrame(dados)\n",
    "\n",
    "# Exibindo o DataFrame\n",
    "print(df)\n"
   ]
  }
 ],
 "metadata": {
  "kernelspec": {
   "display_name": "base",
   "language": "python",
   "name": "python3"
  },
  "language_info": {
   "codemirror_mode": {
    "name": "ipython",
    "version": 3
   },
   "file_extension": ".py",
   "mimetype": "text/x-python",
   "name": "python",
   "nbconvert_exporter": "python",
   "pygments_lexer": "ipython3",
   "version": "3.12.4"
  }
 },
 "nbformat": 4,
 "nbformat_minor": 2
}
