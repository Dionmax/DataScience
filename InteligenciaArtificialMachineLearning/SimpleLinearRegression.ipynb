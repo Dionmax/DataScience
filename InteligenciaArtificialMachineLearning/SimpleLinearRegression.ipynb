{
 "cells": [
  {
   "cell_type": "code",
   "execution_count": 1,
   "metadata": {},
   "outputs": [],
   "source": [
    "from numpy import *"
   ]
  },
  {
   "cell_type": "code",
   "execution_count": 2,
   "metadata": {},
   "outputs": [],
   "source": [
    "class LinearRegression:\n",
    "    def __init__(self, x, y):\n",
    "        self.x = x\n",
    "        self.y = y\n",
    "        self.__correlation_coefficient = self.__correlation()\n",
    "        self.__inclination = self.__incline()\n",
    "        self.__interceptation = self.__intercept()\n",
    "\n",
    "    def __correlation(self):\n",
    "        return corrcoef(self.x, self.y)[0, 1]\n",
    "        # covariacao = cov(self.x, self.y, bias=True)[0, 1]\n",
    "        # variancia_x = var(self.x)\n",
    "        # variancia_y = var(self.y)\n",
    "        # return covariacao / sqrt(variancia_x * variancia_y)\n",
    "\n",
    "    def __incline(self):\n",
    "        std_x = std(self.x)\n",
    "        std_y = std(self.y)\n",
    "        return self.__correlation_coefficient * std_y / std_x\n",
    "\n",
    "    def __intercept(self):\n",
    "        mean_x = mean(self.x)\n",
    "        mean_y = mean(self.y)\n",
    "        return mean_y - mean_x * self.__inclination\n",
    "\n",
    "    def predict(self, value):\n",
    "        return self.__interceptation + self.__inclination * value"
   ]
  },
  {
   "cell_type": "code",
   "execution_count": 3,
   "metadata": {},
   "outputs": [
    {
     "name": "stdout",
     "output_type": "stream",
     "text": [
      "12.0\n"
     ]
    }
   ],
   "source": [
    "x = array([1, 2, 3, 4, 5])\n",
    "y = array([2, 4, 6, 8, 10])\n",
    "\n",
    "lr = LinearRegression(x, y)\n",
    "\n",
    "print(lr.predict(6))"
   ]
  }
 ],
 "metadata": {
  "kernelspec": {
   "display_name": "base",
   "language": "python",
   "name": "python3"
  },
  "language_info": {
   "codemirror_mode": {
    "name": "ipython",
    "version": 3
   },
   "file_extension": ".py",
   "mimetype": "text/x-python",
   "name": "python",
   "nbconvert_exporter": "python",
   "pygments_lexer": "ipython3",
   "version": "3.12.4"
  }
 },
 "nbformat": 4,
 "nbformat_minor": 2
}
