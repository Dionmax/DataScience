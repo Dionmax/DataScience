{
 "cells": [
  {
   "cell_type": "code",
   "execution_count": 5,
   "metadata": {
    "vscode": {
     "languageId": "r"
    }
   },
   "outputs": [
    {
     "data": {
      "text/html": [
       "<table class=\"dataframe\">\n",
       "<caption>A matrix: 2 × 2 of type dbl</caption>\n",
       "<thead>\n",
       "\t<tr><th></th><th scope=col>Watch</th><th scope=col>DontWatch</th></tr>\n",
       "</thead>\n",
       "<tbody>\n",
       "\t<tr><th scope=row>Male</th><td>19</td><td> 6</td></tr>\n",
       "\t<tr><th scope=row>Female</th><td>43</td><td>32</td></tr>\n",
       "</tbody>\n",
       "</table>\n"
      ],
      "text/latex": [
       "A matrix: 2 × 2 of type dbl\n",
       "\\begin{tabular}{r|ll}\n",
       "  & Watch & DontWatch\\\\\n",
       "\\hline\n",
       "\tMale & 19 &  6\\\\\n",
       "\tFemale & 43 & 32\\\\\n",
       "\\end{tabular}\n"
      ],
      "text/markdown": [
       "\n",
       "A matrix: 2 × 2 of type dbl\n",
       "\n",
       "| <!--/--> | Watch | DontWatch |\n",
       "|---|---|---|\n",
       "| Male | 19 |  6 |\n",
       "| Female | 43 | 32 |\n",
       "\n"
      ],
      "text/plain": [
       "       Watch DontWatch\n",
       "Male   19     6       \n",
       "Female 43    32       "
      ]
     },
     "metadata": {},
     "output_type": "display_data"
    }
   ],
   "source": [
    "novel <- matrix(c(19, 6, 43, 32), nrow = 2, byrow = TRUE)\n",
    "rownames(novel) <- c(\"Male\", \"Female\")\n",
    "colnames(novel) <- c(\"Watch\", \"DontWatch\")\n",
    "novel\n"
   ]
  },
  {
   "cell_type": "code",
   "execution_count": 6,
   "metadata": {
    "vscode": {
     "languageId": "r"
    }
   },
   "outputs": [
    {
     "data": {
      "text/plain": [
       "\n",
       "\tPearson's Chi-squared test with Yates' continuity correction\n",
       "\n",
       "data:  novel\n",
       "X-squared = 2.0374, df = 1, p-value = 0.1535\n"
      ]
     },
     "metadata": {},
     "output_type": "display_data"
    }
   ],
   "source": [
    "chisq.test(novel)\n"
   ]
  },
  {
   "cell_type": "code",
   "execution_count": 7,
   "metadata": {
    "vscode": {
     "languageId": "r"
    }
   },
   "outputs": [
    {
     "data": {
      "text/html": [
       "<table class=\"dataframe\">\n",
       "<caption>A matrix: 2 × 2 of type dbl</caption>\n",
       "<thead>\n",
       "\t<tr><th></th><th scope=col>Watch</th><th scope=col>DontWatch</th></tr>\n",
       "</thead>\n",
       "<tbody>\n",
       "\t<tr><th scope=row>Male</th><td>22</td><td> 3</td></tr>\n",
       "\t<tr><th scope=row>Female</th><td>43</td><td>32</td></tr>\n",
       "</tbody>\n",
       "</table>\n"
      ],
      "text/latex": [
       "A matrix: 2 × 2 of type dbl\n",
       "\\begin{tabular}{r|ll}\n",
       "  & Watch & DontWatch\\\\\n",
       "\\hline\n",
       "\tMale & 22 &  3\\\\\n",
       "\tFemale & 43 & 32\\\\\n",
       "\\end{tabular}\n"
      ],
      "text/markdown": [
       "\n",
       "A matrix: 2 × 2 of type dbl\n",
       "\n",
       "| <!--/--> | Watch | DontWatch |\n",
       "|---|---|---|\n",
       "| Male | 22 |  3 |\n",
       "| Female | 43 | 32 |\n",
       "\n"
      ],
      "text/plain": [
       "       Watch DontWatch\n",
       "Male   22     3       \n",
       "Female 43    32       "
      ]
     },
     "metadata": {},
     "output_type": "display_data"
    }
   ],
   "source": [
    "novel <- matrix(c(22, 3, 43, 32), nrow = 2, byrow = TRUE)\n",
    "rownames(novel) <- c(\"Male\", \"Female\")\n",
    "colnames(novel) <- c(\"Watch\", \"DontWatch\")\n",
    "novel\n"
   ]
  },
  {
   "cell_type": "code",
   "execution_count": 8,
   "metadata": {
    "vscode": {
     "languageId": "r"
    }
   },
   "outputs": [
    {
     "data": {
      "text/plain": [
       "\n",
       "\tPearson's Chi-squared test with Yates' continuity correction\n",
       "\n",
       "data:  novel\n",
       "X-squared = 6.4615, df = 1, p-value = 0.01102\n"
      ]
     },
     "metadata": {},
     "output_type": "display_data"
    }
   ],
   "source": [
    "chisq.test(novel)\n"
   ]
  }
 ],
 "metadata": {
  "kernelspec": {
   "display_name": "R",
   "language": "R",
   "name": "ir"
  },
  "language_info": {
   "codemirror_mode": "r",
   "file_extension": ".r",
   "mimetype": "text/x-r-source",
   "name": "R",
   "pygments_lexer": "r",
   "version": "4.3.1"
  }
 },
 "nbformat": 4,
 "nbformat_minor": 2
}
