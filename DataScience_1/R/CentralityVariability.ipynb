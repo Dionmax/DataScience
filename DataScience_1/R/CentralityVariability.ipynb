{
 "cells": [
  {
   "cell_type": "code",
   "execution_count": 18,
   "metadata": {
    "vscode": {
     "languageId": "r"
    }
   },
   "outputs": [],
   "source": [
    "players <- c(40000, 18000, 12000, 250000, 30000, 140000, 300000, 40000, 800000)\n"
   ]
  },
  {
   "cell_type": "code",
   "execution_count": 19,
   "metadata": {
    "vscode": {
     "languageId": "r"
    }
   },
   "outputs": [
    {
     "data": {
      "text/html": [
       "181111.111111111"
      ],
      "text/latex": [
       "181111.111111111"
      ],
      "text/markdown": [
       "181111.111111111"
      ],
      "text/plain": [
       "[1] 181111.1"
      ]
     },
     "metadata": {},
     "output_type": "display_data"
    }
   ],
   "source": [
    "mean(players)"
   ]
  },
  {
   "cell_type": "code",
   "execution_count": 20,
   "metadata": {
    "vscode": {
     "languageId": "r"
    }
   },
   "outputs": [
    {
     "data": {
      "text/html": [
       "40000"
      ],
      "text/latex": [
       "40000"
      ],
      "text/markdown": [
       "40000"
      ],
      "text/plain": [
       "[1] 40000"
      ]
     },
     "metadata": {},
     "output_type": "display_data"
    }
   ],
   "source": [
    "median(players)"
   ]
  },
  {
   "cell_type": "code",
   "execution_count": 21,
   "metadata": {
    "vscode": {
     "languageId": "r"
    }
   },
   "outputs": [
    {
     "data": {
      "text/html": [
       "<style>\n",
       ".dl-inline {width: auto; margin:0; padding: 0}\n",
       ".dl-inline>dt, .dl-inline>dd {float: none; width: auto; display: inline-block}\n",
       ".dl-inline>dt::after {content: \":\\0020\"; padding-right: .5ex}\n",
       ".dl-inline>dt:not(:first-of-type) {padding-left: .5ex}\n",
       "</style><dl class=dl-inline><dt>0%</dt><dd>12000</dd><dt>25%</dt><dd>30000</dd><dt>50%</dt><dd>40000</dd><dt>75%</dt><dd>250000</dd><dt>100%</dt><dd>8e+05</dd></dl>\n"
      ],
      "text/latex": [
       "\\begin{description*}\n",
       "\\item[0\\textbackslash{}\\%] 12000\n",
       "\\item[25\\textbackslash{}\\%] 30000\n",
       "\\item[50\\textbackslash{}\\%] 40000\n",
       "\\item[75\\textbackslash{}\\%] 250000\n",
       "\\item[100\\textbackslash{}\\%] 8e+05\n",
       "\\end{description*}\n"
      ],
      "text/markdown": [
       "0%\n",
       ":   1200025%\n",
       ":   3000050%\n",
       ":   4000075%\n",
       ":   250000100%\n",
       ":   8e+05\n",
       "\n"
      ],
      "text/plain": [
       "    0%    25%    50%    75%   100% \n",
       " 12000  30000  40000 250000 800000 "
      ]
     },
     "metadata": {},
     "output_type": "display_data"
    }
   ],
   "source": [
    "quantile(players)"
   ]
  },
  {
   "cell_type": "code",
   "execution_count": 22,
   "metadata": {
    "vscode": {
     "languageId": "r"
    }
   },
   "outputs": [
    {
     "data": {
      "text/html": [
       "255307.87514511"
      ],
      "text/latex": [
       "255307.87514511"
      ],
      "text/markdown": [
       "255307.87514511"
      ],
      "text/plain": [
       "[1] 255307.9"
      ]
     },
     "metadata": {},
     "output_type": "display_data"
    }
   ],
   "source": [
    "sd(players)"
   ]
  },
  {
   "cell_type": "code",
   "execution_count": 23,
   "metadata": {
    "vscode": {
     "languageId": "r"
    }
   },
   "outputs": [
    {
     "data": {
      "text/plain": [
       "   Min. 1st Qu.  Median    Mean 3rd Qu.    Max. \n",
       "  12000   30000   40000  181111  250000  800000 "
      ]
     },
     "metadata": {},
     "output_type": "display_data"
    }
   ],
   "source": [
    "summary(players)"
   ]
  }
 ],
 "metadata": {
  "kernelspec": {
   "display_name": "R",
   "language": "R",
   "name": "ir"
  },
  "language_info": {
   "codemirror_mode": "r",
   "file_extension": ".r",
   "mimetype": "text/x-r-source",
   "name": "R",
   "pygments_lexer": "r",
   "version": "4.3.1"
  }
 },
 "nbformat": 4,
 "nbformat_minor": 2
}
