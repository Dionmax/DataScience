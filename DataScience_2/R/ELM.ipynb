{
 "cells": [
  {
   "cell_type": "code",
   "execution_count": 28,
   "metadata": {
    "vscode": {
     "languageId": "r"
    }
   },
   "outputs": [],
   "source": [
    "# install.packages(\"elmNNRcpp\")\n",
    "# install.packages(\"mltools\")\n",
    "# install.packages(\"caret\", dependencies = TRUE)\n",
    "\n",
    "library(elmNNRcpp)\n",
    "library(mltools)\n",
    "library(data.table)\n",
    "library(caret)\n"
   ]
  },
  {
   "cell_type": "code",
   "execution_count": 29,
   "metadata": {
    "vscode": {
     "languageId": "r"
    }
   },
   "outputs": [],
   "source": [
    "set.seed(1234)\n"
   ]
  },
  {
   "cell_type": "code",
   "execution_count": 30,
   "metadata": {
    "vscode": {
     "languageId": "r"
    }
   },
   "outputs": [
    {
     "data": {
      "text/html": [
       "<table class=\"dataframe\">\n",
       "<caption>A data.frame: 6 × 5</caption>\n",
       "<thead>\n",
       "\t<tr><th></th><th scope=col>Sepal.Length</th><th scope=col>Sepal.Width</th><th scope=col>Petal.Length</th><th scope=col>Petal.Width</th><th scope=col>Species</th></tr>\n",
       "\t<tr><th></th><th scope=col>&lt;dbl&gt;</th><th scope=col>&lt;dbl&gt;</th><th scope=col>&lt;dbl&gt;</th><th scope=col>&lt;dbl&gt;</th><th scope=col>&lt;fct&gt;</th></tr>\n",
       "</thead>\n",
       "<tbody>\n",
       "\t<tr><th scope=row>1</th><td>-0.8976739</td><td> 1.01560199</td><td>-1.335752</td><td>-1.311052</td><td>setosa</td></tr>\n",
       "\t<tr><th scope=row>2</th><td>-1.1392005</td><td>-0.13153881</td><td>-1.335752</td><td>-1.311052</td><td>setosa</td></tr>\n",
       "\t<tr><th scope=row>3</th><td>-1.3807271</td><td> 0.32731751</td><td>-1.392399</td><td>-1.311052</td><td>setosa</td></tr>\n",
       "\t<tr><th scope=row>4</th><td>-1.5014904</td><td> 0.09788935</td><td>-1.279104</td><td>-1.311052</td><td>setosa</td></tr>\n",
       "\t<tr><th scope=row>5</th><td>-1.0184372</td><td> 1.24503015</td><td>-1.335752</td><td>-1.311052</td><td>setosa</td></tr>\n",
       "\t<tr><th scope=row>6</th><td>-0.5353840</td><td> 1.93331463</td><td>-1.165809</td><td>-1.048667</td><td>setosa</td></tr>\n",
       "</tbody>\n",
       "</table>\n"
      ],
      "text/latex": [
       "A data.frame: 6 × 5\n",
       "\\begin{tabular}{r|lllll}\n",
       "  & Sepal.Length & Sepal.Width & Petal.Length & Petal.Width & Species\\\\\n",
       "  & <dbl> & <dbl> & <dbl> & <dbl> & <fct>\\\\\n",
       "\\hline\n",
       "\t1 & -0.8976739 &  1.01560199 & -1.335752 & -1.311052 & setosa\\\\\n",
       "\t2 & -1.1392005 & -0.13153881 & -1.335752 & -1.311052 & setosa\\\\\n",
       "\t3 & -1.3807271 &  0.32731751 & -1.392399 & -1.311052 & setosa\\\\\n",
       "\t4 & -1.5014904 &  0.09788935 & -1.279104 & -1.311052 & setosa\\\\\n",
       "\t5 & -1.0184372 &  1.24503015 & -1.335752 & -1.311052 & setosa\\\\\n",
       "\t6 & -0.5353840 &  1.93331463 & -1.165809 & -1.048667 & setosa\\\\\n",
       "\\end{tabular}\n"
      ],
      "text/markdown": [
       "\n",
       "A data.frame: 6 × 5\n",
       "\n",
       "| <!--/--> | Sepal.Length &lt;dbl&gt; | Sepal.Width &lt;dbl&gt; | Petal.Length &lt;dbl&gt; | Petal.Width &lt;dbl&gt; | Species &lt;fct&gt; |\n",
       "|---|---|---|---|---|---|\n",
       "| 1 | -0.8976739 |  1.01560199 | -1.335752 | -1.311052 | setosa |\n",
       "| 2 | -1.1392005 | -0.13153881 | -1.335752 | -1.311052 | setosa |\n",
       "| 3 | -1.3807271 |  0.32731751 | -1.392399 | -1.311052 | setosa |\n",
       "| 4 | -1.5014904 |  0.09788935 | -1.279104 | -1.311052 | setosa |\n",
       "| 5 | -1.0184372 |  1.24503015 | -1.335752 | -1.311052 | setosa |\n",
       "| 6 | -0.5353840 |  1.93331463 | -1.165809 | -1.048667 | setosa |\n",
       "\n"
      ],
      "text/plain": [
       "  Sepal.Length Sepal.Width Petal.Length Petal.Width Species\n",
       "1 -0.8976739    1.01560199 -1.335752    -1.311052   setosa \n",
       "2 -1.1392005   -0.13153881 -1.335752    -1.311052   setosa \n",
       "3 -1.3807271    0.32731751 -1.392399    -1.311052   setosa \n",
       "4 -1.5014904    0.09788935 -1.279104    -1.311052   setosa \n",
       "5 -1.0184372    1.24503015 -1.335752    -1.311052   setosa \n",
       "6 -0.5353840    1.93331463 -1.165809    -1.048667   setosa "
      ]
     },
     "metadata": {},
     "output_type": "display_data"
    }
   ],
   "source": [
    "iris2 <- scale(iris[, 1:4])\n",
    "iris2 <- as.data.frame(iris2)\n",
    "\n",
    "iris2$Species <- as.factor(iris$Species)\n",
    "\n",
    "head(iris2)\n"
   ]
  },
  {
   "cell_type": "code",
   "execution_count": 31,
   "metadata": {
    "vscode": {
     "languageId": "r"
    }
   },
   "outputs": [
    {
     "data": {
      "text/html": [
       "<style>\n",
       ".list-inline {list-style: none; margin:0; padding: 0}\n",
       ".list-inline>li {display: inline-block}\n",
       ".list-inline>li:not(:last-child)::after {content: \"\\00b7\"; padding: 0 .5ex}\n",
       "</style>\n",
       "<ol class=list-inline><li>106</li><li>5</li></ol>\n"
      ],
      "text/latex": [
       "\\begin{enumerate*}\n",
       "\\item 106\n",
       "\\item 5\n",
       "\\end{enumerate*}\n"
      ],
      "text/markdown": [
       "1. 106\n",
       "2. 5\n",
       "\n",
       "\n"
      ],
      "text/plain": [
       "[1] 106   5"
      ]
     },
     "metadata": {},
     "output_type": "display_data"
    }
   ],
   "source": [
    "particao <- createDataPartition(seq_len(dim(iris2)[1]), p = 0.7)\n",
    "iris2_train <- iris2[particao$Resample1, ]\n",
    "iris2_test <- iris2[-particao$Resample1, ]\n",
    "\n",
    "dim(iris2_train)\n"
   ]
  },
  {
   "cell_type": "code",
   "execution_count": 32,
   "metadata": {
    "vscode": {
     "languageId": "r"
    }
   },
   "outputs": [],
   "source": [
    "x <- iris2_train[, 1:4]\n",
    "y <- iris2_train[, 5]\n"
   ]
  },
  {
   "cell_type": "code",
   "execution_count": 33,
   "metadata": {
    "vscode": {
     "languageId": "r"
    }
   },
   "outputs": [],
   "source": [
    "# Scaling the data\n",
    "x <- scale(x)\n",
    "\n",
    "# One hot encoding the target variable\n",
    "y <- one_hot(one_hot(as.data.table(y)))\n"
   ]
  },
  {
   "cell_type": "code",
   "execution_count": 34,
   "metadata": {
    "vscode": {
     "languageId": "r"
    }
   },
   "outputs": [],
   "source": [
    "# Converting to matrix, as required by the elmNNRcpp package\n",
    "\n",
    "x <- as.matrix(x)\n",
    "\n",
    "y <- as.matrix(y)\n"
   ]
  },
  {
   "cell_type": "code",
   "execution_count": 35,
   "metadata": {
    "vscode": {
     "languageId": "r"
    }
   },
   "outputs": [
    {
     "name": "stdout",
     "output_type": "stream",
     "text": [
      "Input weights will be initialized ...\n",
      "Dot product of input weights and data starts ...\n",
      "Bias will be added to the dot product ...\n",
      "'sig' activation function will be utilized ...\n",
      "The computation of the Moore-Pseudo-inverse starts ...\n",
      "The computation is finished!\n",
      "\n",
      "Time to complete : 0.19491 secs \n"
     ]
    }
   ],
   "source": [
    "# modelo <- elm_train(x, y, nhid = 1000, actfun = \"relu\", init_weights = \"uniform_negative\", bias = TRUE, verbose = TRUE) # 0.849\n",
    "\n",
    "modelo <- elm_train(x, y, nhid = 100, actfun = \"sig\", init_weights = \"normal_gaussian\", bias = TRUE, verbose = TRUE) # 0.909"
   ]
  },
  {
   "cell_type": "code",
   "execution_count": 36,
   "metadata": {
    "vscode": {
     "languageId": "r"
    }
   },
   "outputs": [],
   "source": [
    "iris2_test_species <- as.factor(iris2_test$Species)\n",
    "\n",
    "iris2_test <- scale(iris2_test[, 1:4])\n",
    "\n",
    "iris2_test <- as.matrix(iris2_test)\n"
   ]
  },
  {
   "cell_type": "code",
   "execution_count": 37,
   "metadata": {
    "vscode": {
     "languageId": "r"
    }
   },
   "outputs": [],
   "source": [
    "result  <- elm_predict(modelo, iris2_test,normalize = TRUE)"
   ]
  },
  {
   "cell_type": "code",
   "execution_count": 38,
   "metadata": {
    "vscode": {
     "languageId": "r"
    }
   },
   "outputs": [
    {
     "data": {
      "text/html": [
       "<table class=\"dataframe\">\n",
       "<caption>A data.frame: 6 × 3</caption>\n",
       "<thead>\n",
       "\t<tr><th></th><th scope=col>V1</th><th scope=col>V2</th><th scope=col>V3</th></tr>\n",
       "\t<tr><th></th><th scope=col>&lt;dbl&gt;</th><th scope=col>&lt;dbl&gt;</th><th scope=col>&lt;dbl&gt;</th></tr>\n",
       "</thead>\n",
       "<tbody>\n",
       "\t<tr><th scope=row>1</th><td>0.9297841</td><td>0.03713373</td><td>0.033082209</td></tr>\n",
       "\t<tr><th scope=row>2</th><td>0.9737013</td><td>0.01945053</td><td>0.006848205</td></tr>\n",
       "\t<tr><th scope=row>3</th><td>0.8692898</td><td>0.06455008</td><td>0.066160143</td></tr>\n",
       "\t<tr><th scope=row>4</th><td>0.8793131</td><td>0.05332745</td><td>0.067359439</td></tr>\n",
       "\t<tr><th scope=row>5</th><td>0.9843306</td><td>0.01031930</td><td>0.005350114</td></tr>\n",
       "\t<tr><th scope=row>6</th><td>0.8712783</td><td>0.06709510</td><td>0.061626576</td></tr>\n",
       "</tbody>\n",
       "</table>\n"
      ],
      "text/latex": [
       "A data.frame: 6 × 3\n",
       "\\begin{tabular}{r|lll}\n",
       "  & V1 & V2 & V3\\\\\n",
       "  & <dbl> & <dbl> & <dbl>\\\\\n",
       "\\hline\n",
       "\t1 & 0.9297841 & 0.03713373 & 0.033082209\\\\\n",
       "\t2 & 0.9737013 & 0.01945053 & 0.006848205\\\\\n",
       "\t3 & 0.8692898 & 0.06455008 & 0.066160143\\\\\n",
       "\t4 & 0.8793131 & 0.05332745 & 0.067359439\\\\\n",
       "\t5 & 0.9843306 & 0.01031930 & 0.005350114\\\\\n",
       "\t6 & 0.8712783 & 0.06709510 & 0.061626576\\\\\n",
       "\\end{tabular}\n"
      ],
      "text/markdown": [
       "\n",
       "A data.frame: 6 × 3\n",
       "\n",
       "| <!--/--> | V1 &lt;dbl&gt; | V2 &lt;dbl&gt; | V3 &lt;dbl&gt; |\n",
       "|---|---|---|---|\n",
       "| 1 | 0.9297841 | 0.03713373 | 0.033082209 |\n",
       "| 2 | 0.9737013 | 0.01945053 | 0.006848205 |\n",
       "| 3 | 0.8692898 | 0.06455008 | 0.066160143 |\n",
       "| 4 | 0.8793131 | 0.05332745 | 0.067359439 |\n",
       "| 5 | 0.9843306 | 0.01031930 | 0.005350114 |\n",
       "| 6 | 0.8712783 | 0.06709510 | 0.061626576 |\n",
       "\n"
      ],
      "text/plain": [
       "  V1        V2         V3         \n",
       "1 0.9297841 0.03713373 0.033082209\n",
       "2 0.9737013 0.01945053 0.006848205\n",
       "3 0.8692898 0.06455008 0.066160143\n",
       "4 0.8793131 0.05332745 0.067359439\n",
       "5 0.9843306 0.01031930 0.005350114\n",
       "6 0.8712783 0.06709510 0.061626576"
      ]
     },
     "metadata": {},
     "output_type": "display_data"
    }
   ],
   "source": [
    "result <- as.data.frame(result)\n",
    "\n",
    "head(result)"
   ]
  },
  {
   "cell_type": "code",
   "execution_count": 39,
   "metadata": {
    "vscode": {
     "languageId": "r"
    }
   },
   "outputs": [
    {
     "data": {
      "text/html": [
       "<table class=\"dataframe\">\n",
       "<caption>A data.frame: 6 × 4</caption>\n",
       "<thead>\n",
       "\t<tr><th></th><th scope=col>setosa</th><th scope=col>versicolor</th><th scope=col>virginica</th><th scope=col>class</th></tr>\n",
       "\t<tr><th></th><th scope=col>&lt;dbl&gt;</th><th scope=col>&lt;dbl&gt;</th><th scope=col>&lt;dbl&gt;</th><th scope=col>&lt;chr&gt;</th></tr>\n",
       "</thead>\n",
       "<tbody>\n",
       "\t<tr><th scope=row>1</th><td>0.9297841</td><td>0.03713373</td><td>0.033082209</td><td>setosa</td></tr>\n",
       "\t<tr><th scope=row>2</th><td>0.9737013</td><td>0.01945053</td><td>0.006848205</td><td>setosa</td></tr>\n",
       "\t<tr><th scope=row>3</th><td>0.8692898</td><td>0.06455008</td><td>0.066160143</td><td>setosa</td></tr>\n",
       "\t<tr><th scope=row>4</th><td>0.8793131</td><td>0.05332745</td><td>0.067359439</td><td>setosa</td></tr>\n",
       "\t<tr><th scope=row>5</th><td>0.9843306</td><td>0.01031930</td><td>0.005350114</td><td>setosa</td></tr>\n",
       "\t<tr><th scope=row>6</th><td>0.8712783</td><td>0.06709510</td><td>0.061626576</td><td>setosa</td></tr>\n",
       "</tbody>\n",
       "</table>\n"
      ],
      "text/latex": [
       "A data.frame: 6 × 4\n",
       "\\begin{tabular}{r|llll}\n",
       "  & setosa & versicolor & virginica & class\\\\\n",
       "  & <dbl> & <dbl> & <dbl> & <chr>\\\\\n",
       "\\hline\n",
       "\t1 & 0.9297841 & 0.03713373 & 0.033082209 & setosa\\\\\n",
       "\t2 & 0.9737013 & 0.01945053 & 0.006848205 & setosa\\\\\n",
       "\t3 & 0.8692898 & 0.06455008 & 0.066160143 & setosa\\\\\n",
       "\t4 & 0.8793131 & 0.05332745 & 0.067359439 & setosa\\\\\n",
       "\t5 & 0.9843306 & 0.01031930 & 0.005350114 & setosa\\\\\n",
       "\t6 & 0.8712783 & 0.06709510 & 0.061626576 & setosa\\\\\n",
       "\\end{tabular}\n"
      ],
      "text/markdown": [
       "\n",
       "A data.frame: 6 × 4\n",
       "\n",
       "| <!--/--> | setosa &lt;dbl&gt; | versicolor &lt;dbl&gt; | virginica &lt;dbl&gt; | class &lt;chr&gt; |\n",
       "|---|---|---|---|---|\n",
       "| 1 | 0.9297841 | 0.03713373 | 0.033082209 | setosa |\n",
       "| 2 | 0.9737013 | 0.01945053 | 0.006848205 | setosa |\n",
       "| 3 | 0.8692898 | 0.06455008 | 0.066160143 | setosa |\n",
       "| 4 | 0.8793131 | 0.05332745 | 0.067359439 | setosa |\n",
       "| 5 | 0.9843306 | 0.01031930 | 0.005350114 | setosa |\n",
       "| 6 | 0.8712783 | 0.06709510 | 0.061626576 | setosa |\n",
       "\n"
      ],
      "text/plain": [
       "  setosa    versicolor virginica   class \n",
       "1 0.9297841 0.03713373 0.033082209 setosa\n",
       "2 0.9737013 0.01945053 0.006848205 setosa\n",
       "3 0.8692898 0.06455008 0.066160143 setosa\n",
       "4 0.8793131 0.05332745 0.067359439 setosa\n",
       "5 0.9843306 0.01031930 0.005350114 setosa\n",
       "6 0.8712783 0.06709510 0.061626576 setosa"
      ]
     },
     "metadata": {},
     "output_type": "display_data"
    }
   ],
   "source": [
    "names(result) <- c(\"setosa\", \"versicolor\", \"virginica\")\n",
    "\n",
    "result$class <- colnames(result)[max.col(result, \"first\")]\n",
    "\n",
    "head(result)"
   ]
  },
  {
   "cell_type": "code",
   "execution_count": 40,
   "metadata": {
    "vscode": {
     "languageId": "r"
    }
   },
   "outputs": [
    {
     "data": {
      "text/plain": [
       "            iris2_test_species\n",
       "             setosa versicolor virginica\n",
       "  setosa         16          0         0\n",
       "  versicolor      0          9         2\n",
       "  virginica       1          1        15"
      ]
     },
     "metadata": {},
     "output_type": "display_data"
    }
   ],
   "source": [
    "confusao <- table(result$class, iris2_test_species)\n",
    "\n",
    "confusao"
   ]
  },
  {
   "cell_type": "code",
   "execution_count": 41,
   "metadata": {
    "vscode": {
     "languageId": "r"
    }
   },
   "outputs": [
    {
     "data": {
      "text/html": [
       "0.909090909090909"
      ],
      "text/latex": [
       "0.909090909090909"
      ],
      "text/markdown": [
       "0.909090909090909"
      ],
      "text/plain": [
       "[1] 0.9090909"
      ]
     },
     "metadata": {},
     "output_type": "display_data"
    }
   ],
   "source": [
    "taxa_acerto <- sum(diag(confusao))/sum(confusao)\n",
    "\n",
    "taxa_acerto"
   ]
  }
 ],
 "metadata": {
  "kernelspec": {
   "display_name": "R",
   "language": "R",
   "name": "ir"
  },
  "language_info": {
   "codemirror_mode": "r",
   "file_extension": ".r",
   "mimetype": "text/x-r-source",
   "name": "R",
   "pygments_lexer": "r",
   "version": "4.3.1"
  }
 },
 "nbformat": 4,
 "nbformat_minor": 2
}
