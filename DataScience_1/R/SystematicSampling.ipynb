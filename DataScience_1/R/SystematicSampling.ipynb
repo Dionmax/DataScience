{
 "cells": [
  {
   "cell_type": "code",
   "execution_count": 7,
   "metadata": {
    "vscode": {
     "languageId": "r"
    }
   },
   "outputs": [],
   "source": [
    "# install.packages(\"TeachingSampling\")\n",
    "library(TeachingSampling)\n"
   ]
  },
  {
   "cell_type": "code",
   "execution_count": 11,
   "metadata": {
    "vscode": {
     "languageId": "r"
    }
   },
   "outputs": [
    {
     "data": {
      "text/html": [
       "<table class=\"dataframe\">\n",
       "<caption>A matrix: 15 × 1 of type dbl</caption>\n",
       "<tbody>\n",
       "\t<tr><td>  9</td></tr>\n",
       "\t<tr><td> 19</td></tr>\n",
       "\t<tr><td> 29</td></tr>\n",
       "\t<tr><td> 39</td></tr>\n",
       "\t<tr><td> 49</td></tr>\n",
       "\t<tr><td> 59</td></tr>\n",
       "\t<tr><td> 69</td></tr>\n",
       "\t<tr><td> 79</td></tr>\n",
       "\t<tr><td> 89</td></tr>\n",
       "\t<tr><td> 99</td></tr>\n",
       "\t<tr><td>109</td></tr>\n",
       "\t<tr><td>119</td></tr>\n",
       "\t<tr><td>129</td></tr>\n",
       "\t<tr><td>139</td></tr>\n",
       "\t<tr><td>149</td></tr>\n",
       "</tbody>\n",
       "</table>\n"
      ],
      "text/latex": [
       "A matrix: 15 × 1 of type dbl\n",
       "\\begin{tabular}{l}\n",
       "\t   9\\\\\n",
       "\t  19\\\\\n",
       "\t  29\\\\\n",
       "\t  39\\\\\n",
       "\t  49\\\\\n",
       "\t  59\\\\\n",
       "\t  69\\\\\n",
       "\t  79\\\\\n",
       "\t  89\\\\\n",
       "\t  99\\\\\n",
       "\t 109\\\\\n",
       "\t 119\\\\\n",
       "\t 129\\\\\n",
       "\t 139\\\\\n",
       "\t 149\\\\\n",
       "\\end{tabular}\n"
      ],
      "text/markdown": [
       "\n",
       "A matrix: 15 × 1 of type dbl\n",
       "\n",
       "|   9 |\n",
       "|  19 |\n",
       "|  29 |\n",
       "|  39 |\n",
       "|  49 |\n",
       "|  59 |\n",
       "|  69 |\n",
       "|  79 |\n",
       "|  89 |\n",
       "|  99 |\n",
       "| 109 |\n",
       "| 119 |\n",
       "| 129 |\n",
       "| 139 |\n",
       "| 149 |\n",
       "\n"
      ],
      "text/plain": [
       "      [,1]\n",
       " [1,]   9 \n",
       " [2,]  19 \n",
       " [3,]  29 \n",
       " [4,]  39 \n",
       " [5,]  49 \n",
       " [6,]  59 \n",
       " [7,]  69 \n",
       " [8,]  79 \n",
       " [9,]  89 \n",
       "[10,]  99 \n",
       "[11,] 109 \n",
       "[12,] 119 \n",
       "[13,] 129 \n",
       "[14,] 139 \n",
       "[15,] 149 "
      ]
     },
     "metadata": {},
     "output_type": "display_data"
    }
   ],
   "source": [
    "amostra <- S.SY(150, 10)\n",
    "amostra\n"
   ]
  },
  {
   "cell_type": "code",
   "execution_count": 12,
   "metadata": {
    "vscode": {
     "languageId": "r"
    }
   },
   "outputs": [
    {
     "data": {
      "text/html": [
       "<style>\n",
       ".list-inline {list-style: none; margin:0; padding: 0}\n",
       ".list-inline>li {display: inline-block}\n",
       ".list-inline>li:not(:last-child)::after {content: \"\\00b7\"; padding: 0 .5ex}\n",
       "</style>\n",
       "<ol class=list-inline><li>15</li><li>1</li></ol>\n"
      ],
      "text/latex": [
       "\\begin{enumerate*}\n",
       "\\item 15\n",
       "\\item 1\n",
       "\\end{enumerate*}\n"
      ],
      "text/markdown": [
       "1. 15\n",
       "2. 1\n",
       "\n",
       "\n"
      ],
      "text/plain": [
       "[1] 15  1"
      ]
     },
     "metadata": {},
     "output_type": "display_data"
    }
   ],
   "source": [
    "dim(amostra)\n"
   ]
  },
  {
   "cell_type": "code",
   "execution_count": 13,
   "metadata": {
    "vscode": {
     "languageId": "r"
    }
   },
   "outputs": [
    {
     "data": {
      "text/html": [
       "<table class=\"dataframe\">\n",
       "<caption>A data.frame: 6 × 5</caption>\n",
       "<thead>\n",
       "\t<tr><th></th><th scope=col>Sepal.Length</th><th scope=col>Sepal.Width</th><th scope=col>Petal.Length</th><th scope=col>Petal.Width</th><th scope=col>Species</th></tr>\n",
       "\t<tr><th></th><th scope=col>&lt;dbl&gt;</th><th scope=col>&lt;dbl&gt;</th><th scope=col>&lt;dbl&gt;</th><th scope=col>&lt;dbl&gt;</th><th scope=col>&lt;fct&gt;</th></tr>\n",
       "</thead>\n",
       "<tbody>\n",
       "\t<tr><th scope=row>9</th><td>4.4</td><td>2.9</td><td>1.4</td><td>0.2</td><td>setosa    </td></tr>\n",
       "\t<tr><th scope=row>19</th><td>5.7</td><td>3.8</td><td>1.7</td><td>0.3</td><td>setosa    </td></tr>\n",
       "\t<tr><th scope=row>29</th><td>5.2</td><td>3.4</td><td>1.4</td><td>0.2</td><td>setosa    </td></tr>\n",
       "\t<tr><th scope=row>39</th><td>4.4</td><td>3.0</td><td>1.3</td><td>0.2</td><td>setosa    </td></tr>\n",
       "\t<tr><th scope=row>49</th><td>5.3</td><td>3.7</td><td>1.5</td><td>0.2</td><td>setosa    </td></tr>\n",
       "\t<tr><th scope=row>59</th><td>6.6</td><td>2.9</td><td>4.6</td><td>1.3</td><td>versicolor</td></tr>\n",
       "</tbody>\n",
       "</table>\n"
      ],
      "text/latex": [
       "A data.frame: 6 × 5\n",
       "\\begin{tabular}{r|lllll}\n",
       "  & Sepal.Length & Sepal.Width & Petal.Length & Petal.Width & Species\\\\\n",
       "  & <dbl> & <dbl> & <dbl> & <dbl> & <fct>\\\\\n",
       "\\hline\n",
       "\t9 & 4.4 & 2.9 & 1.4 & 0.2 & setosa    \\\\\n",
       "\t19 & 5.7 & 3.8 & 1.7 & 0.3 & setosa    \\\\\n",
       "\t29 & 5.2 & 3.4 & 1.4 & 0.2 & setosa    \\\\\n",
       "\t39 & 4.4 & 3.0 & 1.3 & 0.2 & setosa    \\\\\n",
       "\t49 & 5.3 & 3.7 & 1.5 & 0.2 & setosa    \\\\\n",
       "\t59 & 6.6 & 2.9 & 4.6 & 1.3 & versicolor\\\\\n",
       "\\end{tabular}\n"
      ],
      "text/markdown": [
       "\n",
       "A data.frame: 6 × 5\n",
       "\n",
       "| <!--/--> | Sepal.Length &lt;dbl&gt; | Sepal.Width &lt;dbl&gt; | Petal.Length &lt;dbl&gt; | Petal.Width &lt;dbl&gt; | Species &lt;fct&gt; |\n",
       "|---|---|---|---|---|---|\n",
       "| 9 | 4.4 | 2.9 | 1.4 | 0.2 | setosa     |\n",
       "| 19 | 5.7 | 3.8 | 1.7 | 0.3 | setosa     |\n",
       "| 29 | 5.2 | 3.4 | 1.4 | 0.2 | setosa     |\n",
       "| 39 | 4.4 | 3.0 | 1.3 | 0.2 | setosa     |\n",
       "| 49 | 5.3 | 3.7 | 1.5 | 0.2 | setosa     |\n",
       "| 59 | 6.6 | 2.9 | 4.6 | 1.3 | versicolor |\n",
       "\n"
      ],
      "text/plain": [
       "   Sepal.Length Sepal.Width Petal.Length Petal.Width Species   \n",
       "9  4.4          2.9         1.4          0.2         setosa    \n",
       "19 5.7          3.8         1.7          0.3         setosa    \n",
       "29 5.2          3.4         1.4          0.2         setosa    \n",
       "39 4.4          3.0         1.3          0.2         setosa    \n",
       "49 5.3          3.7         1.5          0.2         setosa    \n",
       "59 6.6          2.9         4.6          1.3         versicolor"
      ]
     },
     "metadata": {},
     "output_type": "display_data"
    }
   ],
   "source": [
    "amostra_iris <- iris[amostra, ]\n",
    "\n",
    "head(amostra_iris)\n"
   ]
  },
  {
   "cell_type": "code",
   "execution_count": 14,
   "metadata": {
    "vscode": {
     "languageId": "r"
    }
   },
   "outputs": [
    {
     "data": {
      "text/html": [
       "<style>\n",
       ".list-inline {list-style: none; margin:0; padding: 0}\n",
       ".list-inline>li {display: inline-block}\n",
       ".list-inline>li:not(:last-child)::after {content: \"\\00b7\"; padding: 0 .5ex}\n",
       "</style>\n",
       "<ol class=list-inline><li>15</li><li>5</li></ol>\n"
      ],
      "text/latex": [
       "\\begin{enumerate*}\n",
       "\\item 15\n",
       "\\item 5\n",
       "\\end{enumerate*}\n"
      ],
      "text/markdown": [
       "1. 15\n",
       "2. 5\n",
       "\n",
       "\n"
      ],
      "text/plain": [
       "[1] 15  5"
      ]
     },
     "metadata": {},
     "output_type": "display_data"
    }
   ],
   "source": [
    "dim(amostra_iris)"
   ]
  }
 ],
 "metadata": {
  "kernelspec": {
   "display_name": "R",
   "language": "R",
   "name": "ir"
  },
  "language_info": {
   "codemirror_mode": "r",
   "file_extension": ".r",
   "mimetype": "text/x-r-source",
   "name": "R",
   "pygments_lexer": "r",
   "version": "4.3.1"
  }
 },
 "nbformat": 4,
 "nbformat_minor": 2
}
