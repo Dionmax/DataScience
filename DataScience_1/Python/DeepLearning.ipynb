{
 "cells": [
  {
   "cell_type": "code",
   "execution_count": 14,
   "metadata": {},
   "outputs": [],
   "source": [
    "import matplotlib.pyplot as plt\n",
    "import numpy as np\n",
    "from keras.models import Sequential\n",
    "from keras.layers import Dense, Dropout\n",
    "from keras.utils import np_utils\n",
    "from sklearn.metrics import confusion_matrix\n",
    "from keras.datasets import mnist"
   ]
  },
  {
   "cell_type": "code",
   "execution_count": 15,
   "metadata": {},
   "outputs": [],
   "source": [
    "(X_treino, y_treino), (X_teste, y_teste) = mnist.load_data()"
   ]
  },
  {
   "cell_type": "code",
   "execution_count": 16,
   "metadata": {},
   "outputs": [
    {
     "data": {
      "text/plain": [
       "Text(0.5, 1.0, 'Classe 0')"
      ]
     },
     "execution_count": 16,
     "metadata": {},
     "output_type": "execute_result"
    },
    {
     "data": {
      "image/png": "[encoded data removed]",
      "text/plain": [
       "<Figure size 640x480 with 1 Axes>"
      ]
     },
     "metadata": {},
     "output_type": "display_data"
    }
   ],
   "source": [
    "plt.imshow(X_treino[21], cmap=\"gray\")\n",
    "plt.title(\"Classe \" + str(y_treino[21]))"
   ]
  },
  {
   "cell_type": "code",
   "execution_count": 17,
   "metadata": {},
   "outputs": [],
   "source": [
    "X_treino = X_treino.reshape((len(X_treino), np.prod(X_treino.shape[1:])))\n",
    "X_teste = X_teste.reshape((len(X_teste), np.prod(X_teste.shape[1:])))"
   ]
  },
  {
   "cell_type": "code",
   "execution_count": 18,
   "metadata": {},
   "outputs": [],
   "source": [
    "X_treino = X_treino.astype(\"float32\")\n",
    "X_teste = X_teste.astype(\"float32\")"
   ]
  },
  {
   "cell_type": "code",
   "execution_count": 19,
   "metadata": {},
   "outputs": [],
   "source": [
    "X_treino /= 255\n",
    "X_teste /= 255"
   ]
  },
  {
   "cell_type": "code",
   "execution_count": 20,
   "metadata": {},
   "outputs": [
    {
     "data": {
      "text/plain": [
       "array([0., 0., 0., 0., 0., 0., 0., 1., 0., 0.], dtype=float32)"
      ]
     },
     "execution_count": 20,
     "metadata": {},
     "output_type": "execute_result"
    }
   ],
   "source": [
    "y_treino = np_utils.to_categorical(y_treino, 10)\n",
    "y_teste = np_utils.to_categorical(y_teste, 10)\n",
    "y_teste[0]"
   ]
  },
  {
   "cell_type": "code",
   "execution_count": 21,
   "metadata": {},
   "outputs": [
    {
     "name": "stderr",
     "output_type": "stream",
     "text": [
      "2024-06-24 13:42:25.000013: I tensorflow/core/common_runtime/process_util.cc:146] Creating new thread pool with default inter op setting: 2. Tune using inter_op_parallelism_threads for best performance.\n"
     ]
    }
   ],
   "source": [
    "modelo = Sequential()\n",
    "\n",
    "modelo.add(Dense(units=64, activation=\"relu\", input_dim=784))\n",
    "modelo.add(Dropout(0.2))\n",
    "\n",
    "modelo.add(Dense(units=64, activation=\"relu\"))\n",
    "modelo.add(Dropout(0.2))\n",
    "\n",
    "modelo.add(Dense(units=64, activation=\"relu\"))\n",
    "modelo.add(Dropout(0.2))\n",
    "\n",
    "modelo.add(Dense(units=10, activation=\"softmax\"))"
   ]
  },
  {
   "cell_type": "code",
   "execution_count": 22,
   "metadata": {},
   "outputs": [
    {
     "name": "stdout",
     "output_type": "stream",
     "text": [
      "Model: \"sequential\"\n",
      "_________________________________________________________________\n",
      " Layer (type)                Output Shape              Param #   \n",
      "=================================================================\n",
      " dense (Dense)               (None, 64)                50240     \n",
      "                                                                 \n",
      " dropout (Dropout)           (None, 64)                0         \n",
      "                                                                 \n",
      " dense_1 (Dense)             (None, 64)                4160      \n",
      "                                                                 \n",
      " dropout_1 (Dropout)         (None, 64)                0         \n",
      "                                                                 \n",
      " dense_2 (Dense)             (None, 64)                4160      \n",
      "                                                                 \n",
      " dropout_2 (Dropout)         (None, 64)                0         \n",
      "                                                                 \n",
      " dense_3 (Dense)             (None, 10)                650       \n",
      "                                                                 \n",
      "=================================================================\n",
      "Total params: 59,210\n",
      "Trainable params: 59,210\n",
      "Non-trainable params: 0\n",
      "_________________________________________________________________\n"
     ]
    }
   ],
   "source": [
    "modelo.summary()"
   ]
  },
  {
   "cell_type": "code",
   "execution_count": 23,
   "metadata": {},
   "outputs": [
    {
     "name": "stdout",
     "output_type": "stream",
     "text": [
      "Epoch 1/20\n",
      "1875/1875 [==============================] - 26s 13ms/step - loss: 0.4442 - accuracy: 0.8643 - val_loss: 0.1662 - val_accuracy: 0.9489\n",
      "Epoch 2/20\n",
      "1875/1875 [==============================] - 24s 13ms/step - loss: 0.2253 - accuracy: 0.9354 - val_loss: 0.1340 - val_accuracy: 0.9594\n",
      "Epoch 3/20\n",
      "1875/1875 [==============================] - 24s 13ms/step - loss: 0.1841 - accuracy: 0.9464 - val_loss: 0.1101 - val_accuracy: 0.9650\n",
      "Epoch 4/20\n",
      "1875/1875 [==============================] - 24s 13ms/step - loss: 0.1641 - accuracy: 0.9531 - val_loss: 0.1113 - val_accuracy: 0.9674\n",
      "Epoch 5/20\n",
      "1875/1875 [==============================] - 27s 14ms/step - loss: 0.1498 - accuracy: 0.9570 - val_loss: 0.1099 - val_accuracy: 0.9679\n",
      "Epoch 6/20\n",
      "1875/1875 [==============================] - 25s 13ms/step - loss: 0.1362 - accuracy: 0.9597 - val_loss: 0.0950 - val_accuracy: 0.9729\n",
      "Epoch 7/20\n",
      "1875/1875 [==============================] - 23s 12ms/step - loss: 0.1284 - accuracy: 0.9627 - val_loss: 0.0915 - val_accuracy: 0.9728\n",
      "Epoch 8/20\n",
      "1875/1875 [==============================] - 37s 20ms/step - loss: 0.1205 - accuracy: 0.9643 - val_loss: 0.1035 - val_accuracy: 0.9719\n",
      "Epoch 9/20\n",
      "1875/1875 [==============================] - 29s 15ms/step - loss: 0.1178 - accuracy: 0.9658 - val_loss: 0.0882 - val_accuracy: 0.9740\n",
      "Epoch 10/20\n",
      "1875/1875 [==============================] - 43s 23ms/step - loss: 0.1098 - accuracy: 0.9677 - val_loss: 0.0917 - val_accuracy: 0.9720\n",
      "Epoch 11/20\n",
      "1875/1875 [==============================] - 46s 24ms/step - loss: 0.1051 - accuracy: 0.9680 - val_loss: 0.0917 - val_accuracy: 0.9731\n",
      "Epoch 12/20\n",
      "1875/1875 [==============================] - 28s 15ms/step - loss: 0.1022 - accuracy: 0.9694 - val_loss: 0.0885 - val_accuracy: 0.9744\n",
      "Epoch 13/20\n",
      "1875/1875 [==============================] - 23s 12ms/step - loss: 0.1001 - accuracy: 0.9699 - val_loss: 0.0927 - val_accuracy: 0.9747\n",
      "Epoch 14/20\n",
      "1875/1875 [==============================] - 25s 13ms/step - loss: 0.0962 - accuracy: 0.9712 - val_loss: 0.0843 - val_accuracy: 0.9772\n",
      "Epoch 15/20\n",
      "1875/1875 [==============================] - 23s 12ms/step - loss: 0.0966 - accuracy: 0.9710 - val_loss: 0.0869 - val_accuracy: 0.9769\n",
      "Epoch 16/20\n",
      "1875/1875 [==============================] - 23s 12ms/step - loss: 0.0939 - accuracy: 0.9725 - val_loss: 0.0897 - val_accuracy: 0.9764\n",
      "Epoch 17/20\n",
      "1875/1875 [==============================] - 19s 10ms/step - loss: 0.0904 - accuracy: 0.9716 - val_loss: 0.0824 - val_accuracy: 0.9780\n",
      "Epoch 18/20\n",
      "1875/1875 [==============================] - 33s 17ms/step - loss: 0.0883 - accuracy: 0.9739 - val_loss: 0.0849 - val_accuracy: 0.9767\n",
      "Epoch 19/20\n",
      "1875/1875 [==============================] - 27s 14ms/step - loss: 0.0854 - accuracy: 0.9739 - val_loss: 0.0929 - val_accuracy: 0.9754\n",
      "Epoch 20/20\n",
      "1875/1875 [==============================] - 24s 13ms/step - loss: 0.0854 - accuracy: 0.9745 - val_loss: 0.0829 - val_accuracy: 0.9761\n"
     ]
    }
   ],
   "source": [
    "modelo.compile(optimizer=\"adam\", loss=\"categorical_crossentropy\", metrics=[\"accuracy\"])\n",
    "\n",
    "historico = modelo.fit(\n",
    "    X_treino, y_treino, epochs=20, validation_data=(X_teste, y_teste)\n",
    ")"
   ]
  },
  {
   "cell_type": "code",
   "execution_count": 31,
   "metadata": {},
   "outputs": [
    {
     "data": {
      "text/plain": [
       "[<matplotlib.lines.Line2D at 0x7f67edd9ebd0>]"
      ]
     },
     "execution_count": 31,
     "metadata": {},
     "output_type": "execute_result"
    },
    {
     "data": {
      "image/png": "[encoded data removed]",
      "text/plain": [
       "<Figure size 640x480 with 1 Axes>"
      ]
     },
     "metadata": {},
     "output_type": "display_data"
    }
   ],
   "source": [
    "historico.history.keys()\n",
    "\n",
    "plt.plot(historico.history[\"val_loss\"])\n",
    "plt.plot(historico.history[\"val_accuracy\"])"
   ]
  },
  {
   "cell_type": "code",
   "execution_count": 32,
   "metadata": {},
   "outputs": [
    {
     "data": {
      "text/plain": [
       "[<matplotlib.lines.Line2D at 0x7f682215cf50>]"
      ]
     },
     "execution_count": 32,
     "metadata": {},
     "output_type": "execute_result"
    },
    {
     "data": {
      "image/png": "[encoded data removed]",
      "text/plain": [
       "<Figure size 640x480 with 1 Axes>"
      ]
     },
     "metadata": {},
     "output_type": "display_data"
    }
   ],
   "source": [
    "plt.plot(historico.history[\"val_loss\"])"
   ]
  },
  {
   "cell_type": "code",
   "execution_count": 30,
   "metadata": {},
   "outputs": [
    {
     "data": {
      "text/plain": [
       "[<matplotlib.lines.Line2D at 0x7f67edd12390>]"
      ]
     },
     "execution_count": 30,
     "metadata": {},
     "output_type": "execute_result"
    },
    {
     "data": {
      "image/png": "[encoded data removed]",
      "text/plain": [
       "<Figure size 640x480 with 1 Axes>"
      ]
     },
     "metadata": {},
     "output_type": "display_data"
    }
   ],
   "source": [
    "plt.plot(historico.history[\"val_accuracy\"])"
   ]
  },
  {
   "cell_type": "code",
   "execution_count": 33,
   "metadata": {},
   "outputs": [
    {
     "name": "stdout",
     "output_type": "stream",
     "text": [
      "313/313 [==============================] - 2s 6ms/step\n"
     ]
    },
    {
     "data": {
      "text/plain": [
       "array([[3.3846920e-12, 2.6485185e-07, 1.0163050e-06, ..., 9.9997735e-01,\n",
       "        2.7067518e-10, 2.0887152e-05],\n",
       "       [2.6755865e-14, 8.4468174e-06, 9.9999142e-01, ..., 9.9268949e-10,\n",
       "        3.1487850e-09, 2.9536006e-17],\n",
       "       [5.8844590e-13, 9.9999952e-01, 1.4797253e-08, ..., 5.3186021e-08,\n",
       "        2.6740869e-07, 4.0712958e-10],\n",
       "       ...,\n",
       "       [3.0305129e-12, 1.6413028e-09, 6.1182334e-08, ..., 2.1073147e-08,\n",
       "        2.8713827e-09, 3.5953797e-06],\n",
       "       [7.1924272e-18, 2.3256084e-17, 2.8576026e-17, ..., 5.3975391e-16,\n",
       "        3.7127754e-10, 2.7226016e-13],\n",
       "       [6.1068533e-12, 1.4578432e-13, 1.4509414e-13, ..., 1.1301756e-20,\n",
       "        1.4045602e-10, 2.4082399e-20]], dtype=float32)"
      ]
     },
     "execution_count": 33,
     "metadata": {},
     "output_type": "execute_result"
    }
   ],
   "source": [
    "previsao = modelo.predict(X_teste)\n",
    "previsao"
   ]
  },
  {
   "cell_type": "code",
   "execution_count": 34,
   "metadata": {},
   "outputs": [
    {
     "data": {
      "text/plain": [
       "array([[ 969,    1,    1,    0,    0,    2,    1,    2,    4,    0],\n",
       "       [   0, 1123,    1,    2,    0,    1,    3,    0,    5,    0],\n",
       "       [   1,    0, 1015,    3,    1,    1,    1,    7,    3,    0],\n",
       "       [   0,    0,    4,  980,    0,   16,    0,    5,    1,    4],\n",
       "       [   1,    0,    5,    0,  960,    0,    3,    1,    0,   12],\n",
       "       [   3,    0,    0,    5,    1,  876,    4,    0,    2,    1],\n",
       "       [   5,    3,    0,    0,    3,    4,  940,    0,    3,    0],\n",
       "       [   2,    5,    8,    3,    1,    0,    0,  995,    3,   11],\n",
       "       [   4,    1,    2,    4,    9,    9,    2,    6,  927,   10],\n",
       "       [   2,    3,    0,    9,   13,    3,    0,    3,    0,  976]])"
      ]
     },
     "execution_count": 34,
     "metadata": {},
     "output_type": "execute_result"
    }
   ],
   "source": [
    "y_teste = [np.argmax(t) for t in y_teste]\n",
    "y_previsao_matriz = [np.argmax(t) for t in previsao]\n",
    "\n",
    "confusao = confusion_matrix(y_teste, y_previsao_matriz)\n",
    "confusao"
   ]
  },
  {
   "cell_type": "code",
   "execution_count": 35,
   "metadata": {},
   "outputs": [
    {
     "data": {
      "text/plain": [
       "array([0., 0., 0., 0., 1., 0., 0., 0., 0., 0.], dtype=float32)"
      ]
     },
     "execution_count": 35,
     "metadata": {},
     "output_type": "execute_result"
    }
   ],
   "source": [
    "y_treino[20]"
   ]
  },
  {
   "cell_type": "code",
   "execution_count": 36,
   "metadata": {},
   "outputs": [
    {
     "name": "stdout",
     "output_type": "stream",
     "text": [
      "1/1 [==============================] - 0s 17ms/step\n"
     ]
    },
    {
     "data": {
      "text/plain": [
       "[4]"
      ]
     },
     "execution_count": 36,
     "metadata": {},
     "output_type": "execute_result"
    }
   ],
   "source": [
    "novo = X_treino[20]\n",
    "\n",
    "novo = np.expand_dims(novo, axis=0)\n",
    "\n",
    "pred = modelo.predict(novo)\n",
    "\n",
    "pred = [np.argmax(t) for t in pred]\n",
    "pred"
   ]
  }
 ],
 "metadata": {
  "kernelspec": {
   "display_name": "base",
   "language": "python",
   "name": "python3"
  },
  "language_info": {
   "codemirror_mode": {
    "name": "ipython",
    "version": 3
   },
   "file_extension": ".py",
   "mimetype": "text/x-python",
   "name": "python",
   "nbconvert_exporter": "python",
   "pygments_lexer": "ipython3",
   "version": "3.11.5"
  }
 },
 "nbformat": 4,
 "nbformat_minor": 2
}
