{
 "cells": [
  {
   "cell_type": "code",
   "execution_count": 106,
   "metadata": {},
   "outputs": [],
   "source": [
    "from sklearn import datasets\n",
    "import numpy as np\n",
    "from sklearn.metrics import confusion_matrix\n",
    "from pyclustering.cluster.kmedoids import kmedoids\n",
    "from pyclustering.cluster import cluster_visualizer"
   ]
  },
  {
   "cell_type": "code",
   "execution_count": 107,
   "metadata": {},
   "outputs": [],
   "source": [
    "iris = datasets.load_iris()"
   ]
  },
  {
   "cell_type": "code",
   "execution_count": 108,
   "metadata": {},
   "outputs": [
    {
     "data": {
      "text/plain": [
       "[3, 12, 20]"
      ]
     },
     "execution_count": 108,
     "metadata": {},
     "output_type": "execute_result"
    }
   ],
   "source": [
    "# 3, 12, 20 são os índices dos exemplos que serão os medoids\n",
    "cluster = kmedoids(iris.data[:, 0:2], [3, 12, 20])\n",
    "\n",
    "cluster.get_medoids()"
   ]
  },
  {
   "cell_type": "code",
   "execution_count": 109,
   "metadata": {},
   "outputs": [
    {
     "data": {
      "text/plain": [
       "([50, 51, 52, 54, 56, 58, 65, 74, 75, 76],\n",
       " [53, 55, 57, 59, 60, 61, 62, 63, 64, 66],\n",
       " [0, 1, 2, 3, 4, 5, 6, 7, 8, 9])"
      ]
     },
     "execution_count": 109,
     "metadata": {},
     "output_type": "execute_result"
    }
   ],
   "source": [
    "cluster.process()\n",
    "\n",
    "previsoes = cluster.get_clusters()\n",
    "medoids = cluster.get_medoids()\n",
    "\n",
    "previsoes[0][: 10], previsoes[1][: 10], previsoes[2][: 10]"
   ]
  },
  {
   "cell_type": "code",
   "execution_count": 110,
   "metadata": {},
   "outputs": [
    {
     "data": {
      "text/plain": [
       "3"
      ]
     },
     "execution_count": 110,
     "metadata": {},
     "output_type": "execute_result"
    }
   ],
   "source": [
    "v = cluster_visualizer()\n",
    "\n",
    "v.append_clusters(previsoes, iris.data[:, 0:2])\n",
    "v.append_cluster(medoids, data=iris.data[:, 0:2], marker='*', markersize=15)\n",
    "# v.show()"
   ]
  },
  {
   "cell_type": "code",
   "execution_count": 111,
   "metadata": {},
   "outputs": [],
   "source": [
    "lista_previsoes = []\n",
    "lista_real = []\n",
    "\n",
    "for i in range(len(previsoes)):\n",
    "    for j in range(len(previsoes[i])):\n",
    "        lista_previsoes.append(i)\n",
    "        lista_real.append(iris.target[previsoes[i][j]])"
   ]
  },
  {
   "cell_type": "code",
   "execution_count": 112,
   "metadata": {},
   "outputs": [
    {
     "data": {
      "text/plain": [
       "array([[ 0,  0, 50],\n",
       "       [12, 38,  0],\n",
       "       [35, 14,  1]])"
      ]
     },
     "execution_count": 112,
     "metadata": {},
     "output_type": "execute_result"
    }
   ],
   "source": [
    "lista_previsoes = np.asarray(lista_previsoes)\n",
    "lista_real = np.asarray(lista_real)\n",
    "\n",
    "resultados = confusion_matrix(lista_real, lista_previsoes)\n",
    "resultados"
   ]
  }
 ],
 "metadata": {
  "kernelspec": {
   "display_name": "base",
   "language": "python",
   "name": "python3"
  },
  "language_info": {
   "codemirror_mode": {
    "name": "ipython",
    "version": 3
   },
   "file_extension": ".py",
   "mimetype": "text/x-python",
   "name": "python",
   "nbconvert_exporter": "python",
   "pygments_lexer": "ipython3",
   "version": "3.11.7"
  }
 },
 "nbformat": 4,
 "nbformat_minor": 2
}
