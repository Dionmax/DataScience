{
 "cells": [
  {
   "cell_type": "code",
   "execution_count": 3,
   "metadata": {
    "vscode": {
     "languageId": "r"
    }
   },
   "outputs": [
    {
     "name": "stderr",
     "output_type": "stream",
     "text": [
      "Warning message:\n",
      "“package ‘RPostgreSQL’ was built under R version 4.3.3”\n",
      "Loading required package: DBI\n",
      "\n"
     ]
    }
   ],
   "source": [
    "library(\"RPostgreSQL\")\n"
   ]
  },
  {
   "cell_type": "code",
   "execution_count": 32,
   "metadata": {
    "vscode": {
     "languageId": "r"
    }
   },
   "outputs": [],
   "source": [
    "conexao <- dbConnect(PostgreSQL(), user=\"postgres\", password=\"postgres\", dbname=\"mydb\", host=\"192.168.0.135\", port=\"5432\")\n"
   ]
  },
  {
   "cell_type": "code",
   "execution_count": 36,
   "metadata": {
    "vscode": {
     "languageId": "r"
    }
   },
   "outputs": [
    {
     "data": {
      "text/html": [
       "<table class=\"dataframe\">\n",
       "<caption>A data.frame: 10 × 5</caption>\n",
       "<thead>\n",
       "\t<tr><th></th><th scope=col>idcliente</th><th scope=col>cliente</th><th scope=col>estado</th><th scope=col>sexo</th><th scope=col>status</th></tr>\n",
       "\t<tr><th></th><th scope=col>&lt;int&gt;</th><th scope=col>&lt;chr&gt;</th><th scope=col>&lt;chr&gt;</th><th scope=col>&lt;chr&gt;</th><th scope=col>&lt;chr&gt;</th></tr>\n",
       "</thead>\n",
       "<tbody>\n",
       "\t<tr><th scope=row>1</th><td> 1</td><td>Adelina Buenaventura</td><td>RJ</td><td>M</td><td>Silver  </td></tr>\n",
       "\t<tr><th scope=row>2</th><td> 2</td><td>Adelino Gago        </td><td>RJ</td><td>M</td><td>Silver  </td></tr>\n",
       "\t<tr><th scope=row>3</th><td> 3</td><td>Adélio Lisboa       </td><td>SE</td><td>M</td><td>Silver  </td></tr>\n",
       "\t<tr><th scope=row>4</th><td> 4</td><td>Adérito Bahía       </td><td>MA</td><td>M</td><td>Silver  </td></tr>\n",
       "\t<tr><th scope=row>5</th><td> 5</td><td>Adolfo Patrício     </td><td>PE</td><td>M</td><td>Silver  </td></tr>\n",
       "\t<tr><th scope=row>6</th><td> 6</td><td>Adriana Guedelha    </td><td>RO</td><td>F</td><td>Platinum</td></tr>\n",
       "\t<tr><th scope=row>7</th><td> 7</td><td>Aida Dorneles       </td><td>RN</td><td>F</td><td>Silver  </td></tr>\n",
       "\t<tr><th scope=row>8</th><td> 8</td><td>Alarico Quinterno   </td><td>AC</td><td>M</td><td>Silver  </td></tr>\n",
       "\t<tr><th scope=row>9</th><td> 9</td><td>Alberto Cezimbra    </td><td>AM</td><td>M</td><td>Silver  </td></tr>\n",
       "\t<tr><th scope=row>10</th><td>10</td><td>Alberto Monsanto    </td><td>RN</td><td>M</td><td>Gold    </td></tr>\n",
       "</tbody>\n",
       "</table>\n"
      ],
      "text/latex": [
       "A data.frame: 10 × 5\n",
       "\\begin{tabular}{r|lllll}\n",
       "  & idcliente & cliente & estado & sexo & status\\\\\n",
       "  & <int> & <chr> & <chr> & <chr> & <chr>\\\\\n",
       "\\hline\n",
       "\t1 &  1 & Adelina Buenaventura & RJ & M & Silver  \\\\\n",
       "\t2 &  2 & Adelino Gago         & RJ & M & Silver  \\\\\n",
       "\t3 &  3 & Adélio Lisboa        & SE & M & Silver  \\\\\n",
       "\t4 &  4 & Adérito Bahía        & MA & M & Silver  \\\\\n",
       "\t5 &  5 & Adolfo Patrício      & PE & M & Silver  \\\\\n",
       "\t6 &  6 & Adriana Guedelha     & RO & F & Platinum\\\\\n",
       "\t7 &  7 & Aida Dorneles        & RN & F & Silver  \\\\\n",
       "\t8 &  8 & Alarico Quinterno    & AC & M & Silver  \\\\\n",
       "\t9 &  9 & Alberto Cezimbra     & AM & M & Silver  \\\\\n",
       "\t10 & 10 & Alberto Monsanto     & RN & M & Gold    \\\\\n",
       "\\end{tabular}\n"
      ],
      "text/markdown": [
       "\n",
       "A data.frame: 10 × 5\n",
       "\n",
       "| <!--/--> | idcliente &lt;int&gt; | cliente &lt;chr&gt; | estado &lt;chr&gt; | sexo &lt;chr&gt; | status &lt;chr&gt; |\n",
       "|---|---|---|---|---|---|\n",
       "| 1 |  1 | Adelina Buenaventura | RJ | M | Silver   |\n",
       "| 2 |  2 | Adelino Gago         | RJ | M | Silver   |\n",
       "| 3 |  3 | Adélio Lisboa        | SE | M | Silver   |\n",
       "| 4 |  4 | Adérito Bahía        | MA | M | Silver   |\n",
       "| 5 |  5 | Adolfo Patrício      | PE | M | Silver   |\n",
       "| 6 |  6 | Adriana Guedelha     | RO | F | Platinum |\n",
       "| 7 |  7 | Aida Dorneles        | RN | F | Silver   |\n",
       "| 8 |  8 | Alarico Quinterno    | AC | M | Silver   |\n",
       "| 9 |  9 | Alberto Cezimbra     | AM | M | Silver   |\n",
       "| 10 | 10 | Alberto Monsanto     | RN | M | Gold     |\n",
       "\n"
      ],
      "text/plain": [
       "   idcliente cliente              estado sexo status  \n",
       "1   1        Adelina Buenaventura RJ     M    Silver  \n",
       "2   2        Adelino Gago         RJ     M    Silver  \n",
       "3   3        Adélio Lisboa        SE     M    Silver  \n",
       "4   4        Adérito Bahía        MA     M    Silver  \n",
       "5   5        Adolfo Patrício      PE     M    Silver  \n",
       "6   6        Adriana Guedelha     RO     F    Platinum\n",
       "7   7        Aida Dorneles        RN     F    Silver  \n",
       "8   8        Alarico Quinterno    AC     M    Silver  \n",
       "9   9        Alberto Cezimbra     AM     M    Silver  \n",
       "10 10        Alberto Monsanto     RN     M    Gold    "
      ]
     },
     "metadata": {},
     "output_type": "display_data"
    }
   ],
   "source": [
    "sql <- \"SELECT * FROM clientes;\"\n",
    "\n",
    "clientes <- dbGetQuery(conexao, sql)\n",
    "\n",
    "head(clientes, 10)"
   ]
  },
  {
   "cell_type": "code",
   "execution_count": 38,
   "metadata": {
    "vscode": {
     "languageId": "r"
    }
   },
   "outputs": [
    {
     "data": {
      "text/html": [
       "<table class=\"dataframe\">\n",
       "<caption>A data.frame: 10 × 4</caption>\n",
       "<thead>\n",
       "\t<tr><th></th><th scope=col>quantidade</th><th scope=col>valortotal</th><th scope=col>produto</th><th scope=col>total</th></tr>\n",
       "\t<tr><th></th><th scope=col>&lt;int&gt;</th><th scope=col>&lt;dbl&gt;</th><th scope=col>&lt;chr&gt;</th><th scope=col>&lt;dbl&gt;</th></tr>\n",
       "</thead>\n",
       "<tbody>\n",
       "\t<tr><th scope=row>1</th><td>1</td><td>7820.85</td><td>Bicicleta Altools Stroll Aro 26 Freio À Disco 21 Marchas                       </td><td> 8053.60</td></tr>\n",
       "\t<tr><th scope=row>2</th><td>1</td><td>  97.75</td><td>Bermuda Predactor 3Xu Pro                                                      </td><td> 8053.60</td></tr>\n",
       "\t<tr><th scope=row>3</th><td>1</td><td> 135.00</td><td>Camiseta Predactor 3Xu Multiplied                                              </td><td> 8053.60</td></tr>\n",
       "\t<tr><th scope=row>4</th><td>1</td><td> 150.40</td><td>Luva De Ciclismo - Gometws Sports                                              </td><td>  150.40</td></tr>\n",
       "\t<tr><th scope=row>5</th><td>2</td><td>5932.00</td><td>Bicicleta Gometws Endorphine 7.3 - Shimano Alumínio Aro 29 - 24 Marchas        </td><td> 6087.00</td></tr>\n",
       "\t<tr><th scope=row>6</th><td>1</td><td> 155.00</td><td>Capacete Gometws Endorphine 2.0                                                </td><td> 6087.00</td></tr>\n",
       "\t<tr><th scope=row>7</th><td>1</td><td>7820.85</td><td>Bicicleta Altools Stroll Aro 26 Freio À Disco 21 Marchas                       </td><td>13828.60</td></tr>\n",
       "\t<tr><th scope=row>8</th><td>2</td><td>5910.00</td><td>Bicicleta Gometws Endorphine 6.1 Shimano Alumínio- Aro 26 - 21 Marchas         </td><td>13828.60</td></tr>\n",
       "\t<tr><th scope=row>9</th><td>1</td><td>  97.75</td><td>Bermuda Predactor 3Xu Pro                                                      </td><td>13828.60</td></tr>\n",
       "\t<tr><th scope=row>10</th><td>1</td><td>8852.00</td><td>Bicicleta Aro 29 Mountain Bike Endorphine 6.3 - 24 Marchas - Shimano - Alumínio</td><td>26096.66</td></tr>\n",
       "</tbody>\n",
       "</table>\n"
      ],
      "text/latex": [
       "A data.frame: 10 × 4\n",
       "\\begin{tabular}{r|llll}\n",
       "  & quantidade & valortotal & produto & total\\\\\n",
       "  & <int> & <dbl> & <chr> & <dbl>\\\\\n",
       "\\hline\n",
       "\t1 & 1 & 7820.85 & Bicicleta Altools Stroll Aro 26 Freio À Disco 21 Marchas                        &  8053.60\\\\\n",
       "\t2 & 1 &   97.75 & Bermuda Predactor 3Xu Pro                                                       &  8053.60\\\\\n",
       "\t3 & 1 &  135.00 & Camiseta Predactor 3Xu Multiplied                                               &  8053.60\\\\\n",
       "\t4 & 1 &  150.40 & Luva De Ciclismo - Gometws Sports                                               &   150.40\\\\\n",
       "\t5 & 2 & 5932.00 & Bicicleta Gometws Endorphine 7.3 - Shimano Alumínio Aro 29 - 24 Marchas         &  6087.00\\\\\n",
       "\t6 & 1 &  155.00 & Capacete Gometws Endorphine 2.0                                                 &  6087.00\\\\\n",
       "\t7 & 1 & 7820.85 & Bicicleta Altools Stroll Aro 26 Freio À Disco 21 Marchas                        & 13828.60\\\\\n",
       "\t8 & 2 & 5910.00 & Bicicleta Gometws Endorphine 6.1 Shimano Alumínio- Aro 26 - 21 Marchas          & 13828.60\\\\\n",
       "\t9 & 1 &   97.75 & Bermuda Predactor 3Xu Pro                                                       & 13828.60\\\\\n",
       "\t10 & 1 & 8852.00 & Bicicleta Aro 29 Mountain Bike Endorphine 6.3 - 24 Marchas - Shimano - Alumínio & 26096.66\\\\\n",
       "\\end{tabular}\n"
      ],
      "text/markdown": [
       "\n",
       "A data.frame: 10 × 4\n",
       "\n",
       "| <!--/--> | quantidade &lt;int&gt; | valortotal &lt;dbl&gt; | produto &lt;chr&gt; | total &lt;dbl&gt; |\n",
       "|---|---|---|---|---|\n",
       "| 1 | 1 | 7820.85 | Bicicleta Altools Stroll Aro 26 Freio À Disco 21 Marchas                        |  8053.60 |\n",
       "| 2 | 1 |   97.75 | Bermuda Predactor 3Xu Pro                                                       |  8053.60 |\n",
       "| 3 | 1 |  135.00 | Camiseta Predactor 3Xu Multiplied                                               |  8053.60 |\n",
       "| 4 | 1 |  150.40 | Luva De Ciclismo - Gometws Sports                                               |   150.40 |\n",
       "| 5 | 2 | 5932.00 | Bicicleta Gometws Endorphine 7.3 - Shimano Alumínio Aro 29 - 24 Marchas         |  6087.00 |\n",
       "| 6 | 1 |  155.00 | Capacete Gometws Endorphine 2.0                                                 |  6087.00 |\n",
       "| 7 | 1 | 7820.85 | Bicicleta Altools Stroll Aro 26 Freio À Disco 21 Marchas                        | 13828.60 |\n",
       "| 8 | 2 | 5910.00 | Bicicleta Gometws Endorphine 6.1 Shimano Alumínio- Aro 26 - 21 Marchas          | 13828.60 |\n",
       "| 9 | 1 |   97.75 | Bermuda Predactor 3Xu Pro                                                       | 13828.60 |\n",
       "| 10 | 1 | 8852.00 | Bicicleta Aro 29 Mountain Bike Endorphine 6.3 - 24 Marchas - Shimano - Alumínio | 26096.66 |\n",
       "\n"
      ],
      "text/plain": [
       "   quantidade valortotal\n",
       "1  1          7820.85   \n",
       "2  1            97.75   \n",
       "3  1           135.00   \n",
       "4  1           150.40   \n",
       "5  2          5932.00   \n",
       "6  1           155.00   \n",
       "7  1          7820.85   \n",
       "8  2          5910.00   \n",
       "9  1            97.75   \n",
       "10 1          8852.00   \n",
       "   produto                                                                        \n",
       "1  Bicicleta Altools Stroll Aro 26 Freio À Disco 21 Marchas                       \n",
       "2  Bermuda Predactor 3Xu Pro                                                      \n",
       "3  Camiseta Predactor 3Xu Multiplied                                              \n",
       "4  Luva De Ciclismo - Gometws Sports                                              \n",
       "5  Bicicleta Gometws Endorphine 7.3 - Shimano Alumínio Aro 29 - 24 Marchas        \n",
       "6  Capacete Gometws Endorphine 2.0                                                \n",
       "7  Bicicleta Altools Stroll Aro 26 Freio À Disco 21 Marchas                       \n",
       "8  Bicicleta Gometws Endorphine 6.1 Shimano Alumínio- Aro 26 - 21 Marchas         \n",
       "9  Bermuda Predactor 3Xu Pro                                                      \n",
       "10 Bicicleta Aro 29 Mountain Bike Endorphine 6.3 - 24 Marchas - Shimano - Alumínio\n",
       "   total   \n",
       "1   8053.60\n",
       "2   8053.60\n",
       "3   8053.60\n",
       "4    150.40\n",
       "5   6087.00\n",
       "6   6087.00\n",
       "7  13828.60\n",
       "8  13828.60\n",
       "9  13828.60\n",
       "10 26096.66"
      ]
     },
     "metadata": {},
     "output_type": "display_data"
    }
   ],
   "source": [
    "sql <- \"select quantidade, valortotal, produto, total from itensvenda inner join vendas on itensvenda.idvenda = vendas.idvenda inner join produtos on itensvenda.idproduto = produtos.idproduto;\"\n",
    "\n",
    "vendas <- dbGetQuery(conexao, sql)\n",
    "\n",
    "head(vendas, 10)"
   ]
  },
  {
   "cell_type": "code",
   "execution_count": 39,
   "metadata": {
    "vscode": {
     "languageId": "r"
    }
   },
   "outputs": [
    {
     "data": {
      "text/html": [
       "'data.frame'"
      ],
      "text/latex": [
       "'data.frame'"
      ],
      "text/markdown": [
       "'data.frame'"
      ],
      "text/plain": [
       "[1] \"data.frame\""
      ]
     },
     "metadata": {},
     "output_type": "display_data"
    }
   ],
   "source": [
    "class(vendas)"
   ]
  },
  {
   "cell_type": "code",
   "execution_count": 40,
   "metadata": {
    "vscode": {
     "languageId": "r"
    }
   },
   "outputs": [
    {
     "data": {
      "text/html": [
       "<style>\n",
       ".list-inline {list-style: none; margin:0; padding: 0}\n",
       ".list-inline>li {display: inline-block}\n",
       ".list-inline>li:not(:last-child)::after {content: \"\\00b7\"; padding: 0 .5ex}\n",
       "</style>\n",
       "<ol class=list-inline><li>940</li><li>4</li></ol>\n"
      ],
      "text/latex": [
       "\\begin{enumerate*}\n",
       "\\item 940\n",
       "\\item 4\n",
       "\\end{enumerate*}\n"
      ],
      "text/markdown": [
       "1. 940\n",
       "2. 4\n",
       "\n",
       "\n"
      ],
      "text/plain": [
       "[1] 940   4"
      ]
     },
     "metadata": {},
     "output_type": "display_data"
    }
   ],
   "source": [
    "dim(vendas)"
   ]
  },
  {
   "cell_type": "code",
   "execution_count": 41,
   "metadata": {
    "vscode": {
     "languageId": "r"
    }
   },
   "outputs": [
    {
     "data": {
      "text/html": [
       "TRUE"
      ],
      "text/latex": [
       "TRUE"
      ],
      "text/markdown": [
       "TRUE"
      ],
      "text/plain": [
       "[1] TRUE"
      ]
     },
     "metadata": {},
     "output_type": "display_data"
    }
   ],
   "source": [
    "dbDisconnect(conexao)"
   ]
  }
 ],
 "metadata": {
  "kernelspec": {
   "display_name": "R",
   "language": "R",
   "name": "ir"
  },
  "language_info": {
   "codemirror_mode": "r",
   "file_extension": ".r",
   "mimetype": "text/x-r-source",
   "name": "R",
   "pygments_lexer": "r",
   "version": "4.3.1"
  }
 },
 "nbformat": 4,
 "nbformat_minor": 2
}
