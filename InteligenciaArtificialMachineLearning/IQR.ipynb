{
 "cells": [
  {
   "cell_type": "code",
   "execution_count": 2,
   "metadata": {},
   "outputs": [],
   "source": [
    "import numpy as np"
   ]
  },
  {
   "cell_type": "code",
   "execution_count": 8,
   "metadata": {},
   "outputs": [],
   "source": [
    "dataset = np.array([1, 2, 3, 4, 5, 6, 7, 8, 9, 100, -100])"
   ]
  },
  {
   "cell_type": "code",
   "execution_count": 9,
   "metadata": {},
   "outputs": [],
   "source": [
    "quartil1 = np.percentile(dataset, 25)\n",
    "quartil3 = np.percentile(dataset, 75)\n",
    "\n",
    "# Interquartile range\n",
    "iqr = quartil3 - quartil1\n",
    "\n",
    "lowerBound = quartil1 - (1.5 * iqr)\n",
    "upperBound = quartil3 + (1.5 * iqr)"
   ]
  },
  {
   "cell_type": "code",
   "execution_count": 10,
   "metadata": {},
   "outputs": [
    {
     "name": "stdout",
     "output_type": "stream",
     "text": [
      "[100, -100]\n"
     ]
    }
   ],
   "source": [
    "outliers = []\n",
    "\n",
    "for value in dataset:\n",
    "    if value < lowerBound or value > upperBound:\n",
    "        outliers.append(value)\n",
    "\n",
    "print(outliers)"
   ]
  }
 ],
 "metadata": {
  "kernelspec": {
   "display_name": "base",
   "language": "python",
   "name": "python3"
  },
  "language_info": {
   "codemirror_mode": {
    "name": "ipython",
    "version": 3
   },
   "file_extension": ".py",
   "mimetype": "text/x-python",
   "name": "python",
   "nbconvert_exporter": "python",
   "pygments_lexer": "ipython3",
   "version": "3.12.2"
  }
 },
 "nbformat": 4,
 "nbformat_minor": 2
}
