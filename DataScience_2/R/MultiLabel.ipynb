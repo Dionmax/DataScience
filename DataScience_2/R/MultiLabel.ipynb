{
 "cells": [
  {
   "cell_type": "code",
   "execution_count": 3,
   "metadata": {
    "vscode": {
     "languageId": "r"
    }
   },
   "outputs": [],
   "source": [
    "# install.packages(\"mlr\")\n",
    "library(mlr)\n",
    "\n",
    "library(caret)\n",
    "\n",
    "library(ggplot2)\n",
    "library(lattice)\n"
   ]
  },
  {
   "cell_type": "code",
   "execution_count": 5,
   "metadata": {
    "vscode": {
     "languageId": "r"
    }
   },
   "outputs": [
    {
     "data": {
      "text/html": [
       "<table class=\"dataframe\">\n",
       "<caption>A data.frame: 6 × 77</caption>\n",
       "<thead>\n",
       "\t<tr><th></th><th scope=col>amazed.suprised</th><th scope=col>happy.pleased</th><th scope=col>relaxing.clam</th><th scope=col>quiet.still</th><th scope=col>sad.lonely</th><th scope=col>angry.aggresive</th><th scope=col>Mean_Acc1298_Mean_Mem40_Centroid</th><th scope=col>Mean_Acc1298_Mean_Mem40_Rolloff</th><th scope=col>Mean_Acc1298_Mean_Mem40_Flux</th><th scope=col>Mean_Acc1298_Mean_Mem40_MFCC_0</th><th scope=col>⋯</th><th scope=col>Std_Acc1298_Std_Mem40_MFCC_10</th><th scope=col>Std_Acc1298_Std_Mem40_MFCC_11</th><th scope=col>Std_Acc1298_Std_Mem40_MFCC_12</th><th scope=col>BH_LowPeakAmp</th><th scope=col>BH_LowPeakBPM</th><th scope=col>BH_HighPeakAmp</th><th scope=col>BH_HighPeakBPM</th><th scope=col>BHSUM1</th><th scope=col>BHSUM2</th><th scope=col>BHSUM3</th></tr>\n",
       "\t<tr><th></th><th scope=col>&lt;int&gt;</th><th scope=col>&lt;int&gt;</th><th scope=col>&lt;int&gt;</th><th scope=col>&lt;int&gt;</th><th scope=col>&lt;int&gt;</th><th scope=col>&lt;int&gt;</th><th scope=col>&lt;dbl&gt;</th><th scope=col>&lt;dbl&gt;</th><th scope=col>&lt;dbl&gt;</th><th scope=col>&lt;dbl&gt;</th><th scope=col>⋯</th><th scope=col>&lt;dbl&gt;</th><th scope=col>&lt;dbl&gt;</th><th scope=col>&lt;dbl&gt;</th><th scope=col>&lt;dbl&gt;</th><th scope=col>&lt;dbl&gt;</th><th scope=col>&lt;dbl&gt;</th><th scope=col>&lt;dbl&gt;</th><th scope=col>&lt;dbl&gt;</th><th scope=col>&lt;dbl&gt;</th><th scope=col>&lt;dbl&gt;</th></tr>\n",
       "</thead>\n",
       "<tbody>\n",
       "\t<tr><th scope=row>1</th><td>0</td><td>1</td><td>1</td><td>0</td><td>0</td><td>0</td><td>0.132498</td><td>0.077848</td><td>0.229227</td><td>0.602629</td><td>⋯</td><td>0.197026</td><td>0.196244</td><td>0.164323</td><td>0.030017</td><td>0.253968</td><td>0.008473</td><td>0.240602</td><td>0.136735</td><td>0.058442</td><td>0.107594</td></tr>\n",
       "\t<tr><th scope=row>2</th><td>1</td><td>0</td><td>0</td><td>0</td><td>0</td><td>1</td><td>0.384281</td><td>0.355249</td><td>0.167190</td><td>0.853089</td><td>⋯</td><td>0.093526</td><td>0.085649</td><td>0.025101</td><td>0.182955</td><td>0.285714</td><td>0.156764</td><td>0.270677</td><td>0.191377</td><td>0.153728</td><td>0.197951</td></tr>\n",
       "\t<tr><th scope=row>3</th><td>0</td><td>1</td><td>0</td><td>0</td><td>0</td><td>1</td><td>0.541782</td><td>0.356491</td><td>0.152246</td><td>0.791142</td><td>⋯</td><td>0.198082</td><td>0.108067</td><td>0.140574</td><td>0.099303</td><td>0.142857</td><td>0.000000</td><td>0.593985</td><td>0.105114</td><td>0.025555</td><td>0.122965</td></tr>\n",
       "\t<tr><th scope=row>4</th><td>0</td><td>0</td><td>1</td><td>0</td><td>0</td><td>0</td><td>0.174288</td><td>0.243935</td><td>0.254326</td><td>0.438987</td><td>⋯</td><td>0.235793</td><td>0.220195</td><td>0.235834</td><td>0.024988</td><td>0.222222</td><td>0.117169</td><td>0.210526</td><td>0.057288</td><td>0.134575</td><td>0.091509</td></tr>\n",
       "\t<tr><th scope=row>5</th><td>0</td><td>0</td><td>0</td><td>1</td><td>0</td><td>0</td><td>0.347436</td><td>0.155448</td><td>0.100047</td><td>0.126026</td><td>⋯</td><td>0.715683</td><td>0.573359</td><td>0.412368</td><td>0.016398</td><td>0.761905</td><td>0.081703</td><td>0.721805</td><td>0.108737</td><td>0.172882</td><td>0.189934</td></tr>\n",
       "\t<tr><th scope=row>6</th><td>0</td><td>1</td><td>1</td><td>0</td><td>0</td><td>0</td><td>0.228026</td><td>0.109648</td><td>0.291862</td><td>0.684646</td><td>⋯</td><td>0.141451</td><td>0.177711</td><td>0.104971</td><td>0.135100</td><td>0.190476</td><td>0.030557</td><td>0.180451</td><td>0.224878</td><td>0.136787</td><td>0.179813</td></tr>\n",
       "</tbody>\n",
       "</table>\n"
      ],
      "text/latex": [
       "A data.frame: 6 × 77\n",
       "\\begin{tabular}{r|lllllllllllllllllllll}\n",
       "  & amazed.suprised & happy.pleased & relaxing.clam & quiet.still & sad.lonely & angry.aggresive & Mean\\_Acc1298\\_Mean\\_Mem40\\_Centroid & Mean\\_Acc1298\\_Mean\\_Mem40\\_Rolloff & Mean\\_Acc1298\\_Mean\\_Mem40\\_Flux & Mean\\_Acc1298\\_Mean\\_Mem40\\_MFCC\\_0 & ⋯ & Std\\_Acc1298\\_Std\\_Mem40\\_MFCC\\_10 & Std\\_Acc1298\\_Std\\_Mem40\\_MFCC\\_11 & Std\\_Acc1298\\_Std\\_Mem40\\_MFCC\\_12 & BH\\_LowPeakAmp & BH\\_LowPeakBPM & BH\\_HighPeakAmp & BH\\_HighPeakBPM & BHSUM1 & BHSUM2 & BHSUM3\\\\\n",
       "  & <int> & <int> & <int> & <int> & <int> & <int> & <dbl> & <dbl> & <dbl> & <dbl> & ⋯ & <dbl> & <dbl> & <dbl> & <dbl> & <dbl> & <dbl> & <dbl> & <dbl> & <dbl> & <dbl>\\\\\n",
       "\\hline\n",
       "\t1 & 0 & 1 & 1 & 0 & 0 & 0 & 0.132498 & 0.077848 & 0.229227 & 0.602629 & ⋯ & 0.197026 & 0.196244 & 0.164323 & 0.030017 & 0.253968 & 0.008473 & 0.240602 & 0.136735 & 0.058442 & 0.107594\\\\\n",
       "\t2 & 1 & 0 & 0 & 0 & 0 & 1 & 0.384281 & 0.355249 & 0.167190 & 0.853089 & ⋯ & 0.093526 & 0.085649 & 0.025101 & 0.182955 & 0.285714 & 0.156764 & 0.270677 & 0.191377 & 0.153728 & 0.197951\\\\\n",
       "\t3 & 0 & 1 & 0 & 0 & 0 & 1 & 0.541782 & 0.356491 & 0.152246 & 0.791142 & ⋯ & 0.198082 & 0.108067 & 0.140574 & 0.099303 & 0.142857 & 0.000000 & 0.593985 & 0.105114 & 0.025555 & 0.122965\\\\\n",
       "\t4 & 0 & 0 & 1 & 0 & 0 & 0 & 0.174288 & 0.243935 & 0.254326 & 0.438987 & ⋯ & 0.235793 & 0.220195 & 0.235834 & 0.024988 & 0.222222 & 0.117169 & 0.210526 & 0.057288 & 0.134575 & 0.091509\\\\\n",
       "\t5 & 0 & 0 & 0 & 1 & 0 & 0 & 0.347436 & 0.155448 & 0.100047 & 0.126026 & ⋯ & 0.715683 & 0.573359 & 0.412368 & 0.016398 & 0.761905 & 0.081703 & 0.721805 & 0.108737 & 0.172882 & 0.189934\\\\\n",
       "\t6 & 0 & 1 & 1 & 0 & 0 & 0 & 0.228026 & 0.109648 & 0.291862 & 0.684646 & ⋯ & 0.141451 & 0.177711 & 0.104971 & 0.135100 & 0.190476 & 0.030557 & 0.180451 & 0.224878 & 0.136787 & 0.179813\\\\\n",
       "\\end{tabular}\n"
      ],
      "text/markdown": [
       "\n",
       "A data.frame: 6 × 77\n",
       "\n",
       "| <!--/--> | amazed.suprised &lt;int&gt; | happy.pleased &lt;int&gt; | relaxing.clam &lt;int&gt; | quiet.still &lt;int&gt; | sad.lonely &lt;int&gt; | angry.aggresive &lt;int&gt; | Mean_Acc1298_Mean_Mem40_Centroid &lt;dbl&gt; | Mean_Acc1298_Mean_Mem40_Rolloff &lt;dbl&gt; | Mean_Acc1298_Mean_Mem40_Flux &lt;dbl&gt; | Mean_Acc1298_Mean_Mem40_MFCC_0 &lt;dbl&gt; | ⋯ ⋯ | Std_Acc1298_Std_Mem40_MFCC_10 &lt;dbl&gt; | Std_Acc1298_Std_Mem40_MFCC_11 &lt;dbl&gt; | Std_Acc1298_Std_Mem40_MFCC_12 &lt;dbl&gt; | BH_LowPeakAmp &lt;dbl&gt; | BH_LowPeakBPM &lt;dbl&gt; | BH_HighPeakAmp &lt;dbl&gt; | BH_HighPeakBPM &lt;dbl&gt; | BHSUM1 &lt;dbl&gt; | BHSUM2 &lt;dbl&gt; | BHSUM3 &lt;dbl&gt; |\n",
       "|---|---|---|---|---|---|---|---|---|---|---|---|---|---|---|---|---|---|---|---|---|---|\n",
       "| 1 | 0 | 1 | 1 | 0 | 0 | 0 | 0.132498 | 0.077848 | 0.229227 | 0.602629 | ⋯ | 0.197026 | 0.196244 | 0.164323 | 0.030017 | 0.253968 | 0.008473 | 0.240602 | 0.136735 | 0.058442 | 0.107594 |\n",
       "| 2 | 1 | 0 | 0 | 0 | 0 | 1 | 0.384281 | 0.355249 | 0.167190 | 0.853089 | ⋯ | 0.093526 | 0.085649 | 0.025101 | 0.182955 | 0.285714 | 0.156764 | 0.270677 | 0.191377 | 0.153728 | 0.197951 |\n",
       "| 3 | 0 | 1 | 0 | 0 | 0 | 1 | 0.541782 | 0.356491 | 0.152246 | 0.791142 | ⋯ | 0.198082 | 0.108067 | 0.140574 | 0.099303 | 0.142857 | 0.000000 | 0.593985 | 0.105114 | 0.025555 | 0.122965 |\n",
       "| 4 | 0 | 0 | 1 | 0 | 0 | 0 | 0.174288 | 0.243935 | 0.254326 | 0.438987 | ⋯ | 0.235793 | 0.220195 | 0.235834 | 0.024988 | 0.222222 | 0.117169 | 0.210526 | 0.057288 | 0.134575 | 0.091509 |\n",
       "| 5 | 0 | 0 | 0 | 1 | 0 | 0 | 0.347436 | 0.155448 | 0.100047 | 0.126026 | ⋯ | 0.715683 | 0.573359 | 0.412368 | 0.016398 | 0.761905 | 0.081703 | 0.721805 | 0.108737 | 0.172882 | 0.189934 |\n",
       "| 6 | 0 | 1 | 1 | 0 | 0 | 0 | 0.228026 | 0.109648 | 0.291862 | 0.684646 | ⋯ | 0.141451 | 0.177711 | 0.104971 | 0.135100 | 0.190476 | 0.030557 | 0.180451 | 0.224878 | 0.136787 | 0.179813 |\n",
       "\n"
      ],
      "text/plain": [
       "  amazed.suprised happy.pleased relaxing.clam quiet.still sad.lonely\n",
       "1 0               1             1             0           0         \n",
       "2 1               0             0             0           0         \n",
       "3 0               1             0             0           0         \n",
       "4 0               0             1             0           0         \n",
       "5 0               0             0             1           0         \n",
       "6 0               1             1             0           0         \n",
       "  angry.aggresive Mean_Acc1298_Mean_Mem40_Centroid\n",
       "1 0               0.132498                        \n",
       "2 1               0.384281                        \n",
       "3 1               0.541782                        \n",
       "4 0               0.174288                        \n",
       "5 0               0.347436                        \n",
       "6 0               0.228026                        \n",
       "  Mean_Acc1298_Mean_Mem40_Rolloff Mean_Acc1298_Mean_Mem40_Flux\n",
       "1 0.077848                        0.229227                    \n",
       "2 0.355249                        0.167190                    \n",
       "3 0.356491                        0.152246                    \n",
       "4 0.243935                        0.254326                    \n",
       "5 0.155448                        0.100047                    \n",
       "6 0.109648                        0.291862                    \n",
       "  Mean_Acc1298_Mean_Mem40_MFCC_0 ⋯ Std_Acc1298_Std_Mem40_MFCC_10\n",
       "1 0.602629                       ⋯ 0.197026                     \n",
       "2 0.853089                       ⋯ 0.093526                     \n",
       "3 0.791142                       ⋯ 0.198082                     \n",
       "4 0.438987                       ⋯ 0.235793                     \n",
       "5 0.126026                       ⋯ 0.715683                     \n",
       "6 0.684646                       ⋯ 0.141451                     \n",
       "  Std_Acc1298_Std_Mem40_MFCC_11 Std_Acc1298_Std_Mem40_MFCC_12 BH_LowPeakAmp\n",
       "1 0.196244                      0.164323                      0.030017     \n",
       "2 0.085649                      0.025101                      0.182955     \n",
       "3 0.108067                      0.140574                      0.099303     \n",
       "4 0.220195                      0.235834                      0.024988     \n",
       "5 0.573359                      0.412368                      0.016398     \n",
       "6 0.177711                      0.104971                      0.135100     \n",
       "  BH_LowPeakBPM BH_HighPeakAmp BH_HighPeakBPM BHSUM1   BHSUM2   BHSUM3  \n",
       "1 0.253968      0.008473       0.240602       0.136735 0.058442 0.107594\n",
       "2 0.285714      0.156764       0.270677       0.191377 0.153728 0.197951\n",
       "3 0.142857      0.000000       0.593985       0.105114 0.025555 0.122965\n",
       "4 0.222222      0.117169       0.210526       0.057288 0.134575 0.091509\n",
       "5 0.761905      0.081703       0.721805       0.108737 0.172882 0.189934\n",
       "6 0.190476      0.030557       0.180451       0.224878 0.136787 0.179813"
      ]
     },
     "metadata": {},
     "output_type": "display_data"
    }
   ],
   "source": [
    "music <- read.csv(\"../data/Musica.csv\")\n",
    "\n",
    "head(music)\n"
   ]
  },
  {
   "cell_type": "code",
   "execution_count": 7,
   "metadata": {
    "vscode": {
     "languageId": "r"
    }
   },
   "outputs": [
    {
     "data": {
      "text/html": [
       "<table class=\"dataframe\">\n",
       "<caption>A data.frame: 6 × 77</caption>\n",
       "<thead>\n",
       "\t<tr><th></th><th scope=col>amazed.suprised</th><th scope=col>happy.pleased</th><th scope=col>relaxing.clam</th><th scope=col>quiet.still</th><th scope=col>sad.lonely</th><th scope=col>angry.aggresive</th><th scope=col>Mean_Acc1298_Mean_Mem40_Centroid</th><th scope=col>Mean_Acc1298_Mean_Mem40_Rolloff</th><th scope=col>Mean_Acc1298_Mean_Mem40_Flux</th><th scope=col>Mean_Acc1298_Mean_Mem40_MFCC_0</th><th scope=col>⋯</th><th scope=col>Std_Acc1298_Std_Mem40_MFCC_10</th><th scope=col>Std_Acc1298_Std_Mem40_MFCC_11</th><th scope=col>Std_Acc1298_Std_Mem40_MFCC_12</th><th scope=col>BH_LowPeakAmp</th><th scope=col>BH_LowPeakBPM</th><th scope=col>BH_HighPeakAmp</th><th scope=col>BH_HighPeakBPM</th><th scope=col>BHSUM1</th><th scope=col>BHSUM2</th><th scope=col>BHSUM3</th></tr>\n",
       "\t<tr><th></th><th scope=col>&lt;lgl&gt;</th><th scope=col>&lt;lgl&gt;</th><th scope=col>&lt;lgl&gt;</th><th scope=col>&lt;lgl&gt;</th><th scope=col>&lt;lgl&gt;</th><th scope=col>&lt;lgl&gt;</th><th scope=col>&lt;dbl&gt;</th><th scope=col>&lt;dbl&gt;</th><th scope=col>&lt;dbl&gt;</th><th scope=col>&lt;dbl&gt;</th><th scope=col>⋯</th><th scope=col>&lt;dbl&gt;</th><th scope=col>&lt;dbl&gt;</th><th scope=col>&lt;dbl&gt;</th><th scope=col>&lt;dbl&gt;</th><th scope=col>&lt;dbl&gt;</th><th scope=col>&lt;dbl&gt;</th><th scope=col>&lt;dbl&gt;</th><th scope=col>&lt;dbl&gt;</th><th scope=col>&lt;dbl&gt;</th><th scope=col>&lt;dbl&gt;</th></tr>\n",
       "</thead>\n",
       "<tbody>\n",
       "\t<tr><th scope=row>1</th><td>FALSE</td><td> TRUE</td><td> TRUE</td><td>FALSE</td><td>FALSE</td><td>FALSE</td><td>0.132498</td><td>0.077848</td><td>0.229227</td><td>0.602629</td><td>⋯</td><td>0.197026</td><td>0.196244</td><td>0.164323</td><td>0.030017</td><td>0.253968</td><td>0.008473</td><td>0.240602</td><td>0.136735</td><td>0.058442</td><td>0.107594</td></tr>\n",
       "\t<tr><th scope=row>2</th><td> TRUE</td><td>FALSE</td><td>FALSE</td><td>FALSE</td><td>FALSE</td><td> TRUE</td><td>0.384281</td><td>0.355249</td><td>0.167190</td><td>0.853089</td><td>⋯</td><td>0.093526</td><td>0.085649</td><td>0.025101</td><td>0.182955</td><td>0.285714</td><td>0.156764</td><td>0.270677</td><td>0.191377</td><td>0.153728</td><td>0.197951</td></tr>\n",
       "\t<tr><th scope=row>3</th><td>FALSE</td><td> TRUE</td><td>FALSE</td><td>FALSE</td><td>FALSE</td><td> TRUE</td><td>0.541782</td><td>0.356491</td><td>0.152246</td><td>0.791142</td><td>⋯</td><td>0.198082</td><td>0.108067</td><td>0.140574</td><td>0.099303</td><td>0.142857</td><td>0.000000</td><td>0.593985</td><td>0.105114</td><td>0.025555</td><td>0.122965</td></tr>\n",
       "\t<tr><th scope=row>4</th><td>FALSE</td><td>FALSE</td><td> TRUE</td><td>FALSE</td><td>FALSE</td><td>FALSE</td><td>0.174288</td><td>0.243935</td><td>0.254326</td><td>0.438987</td><td>⋯</td><td>0.235793</td><td>0.220195</td><td>0.235834</td><td>0.024988</td><td>0.222222</td><td>0.117169</td><td>0.210526</td><td>0.057288</td><td>0.134575</td><td>0.091509</td></tr>\n",
       "\t<tr><th scope=row>5</th><td>FALSE</td><td>FALSE</td><td>FALSE</td><td> TRUE</td><td>FALSE</td><td>FALSE</td><td>0.347436</td><td>0.155448</td><td>0.100047</td><td>0.126026</td><td>⋯</td><td>0.715683</td><td>0.573359</td><td>0.412368</td><td>0.016398</td><td>0.761905</td><td>0.081703</td><td>0.721805</td><td>0.108737</td><td>0.172882</td><td>0.189934</td></tr>\n",
       "\t<tr><th scope=row>6</th><td>FALSE</td><td> TRUE</td><td> TRUE</td><td>FALSE</td><td>FALSE</td><td>FALSE</td><td>0.228026</td><td>0.109648</td><td>0.291862</td><td>0.684646</td><td>⋯</td><td>0.141451</td><td>0.177711</td><td>0.104971</td><td>0.135100</td><td>0.190476</td><td>0.030557</td><td>0.180451</td><td>0.224878</td><td>0.136787</td><td>0.179813</td></tr>\n",
       "</tbody>\n",
       "</table>\n"
      ],
      "text/latex": [
       "A data.frame: 6 × 77\n",
       "\\begin{tabular}{r|lllllllllllllllllllll}\n",
       "  & amazed.suprised & happy.pleased & relaxing.clam & quiet.still & sad.lonely & angry.aggresive & Mean\\_Acc1298\\_Mean\\_Mem40\\_Centroid & Mean\\_Acc1298\\_Mean\\_Mem40\\_Rolloff & Mean\\_Acc1298\\_Mean\\_Mem40\\_Flux & Mean\\_Acc1298\\_Mean\\_Mem40\\_MFCC\\_0 & ⋯ & Std\\_Acc1298\\_Std\\_Mem40\\_MFCC\\_10 & Std\\_Acc1298\\_Std\\_Mem40\\_MFCC\\_11 & Std\\_Acc1298\\_Std\\_Mem40\\_MFCC\\_12 & BH\\_LowPeakAmp & BH\\_LowPeakBPM & BH\\_HighPeakAmp & BH\\_HighPeakBPM & BHSUM1 & BHSUM2 & BHSUM3\\\\\n",
       "  & <lgl> & <lgl> & <lgl> & <lgl> & <lgl> & <lgl> & <dbl> & <dbl> & <dbl> & <dbl> & ⋯ & <dbl> & <dbl> & <dbl> & <dbl> & <dbl> & <dbl> & <dbl> & <dbl> & <dbl> & <dbl>\\\\\n",
       "\\hline\n",
       "\t1 & FALSE &  TRUE &  TRUE & FALSE & FALSE & FALSE & 0.132498 & 0.077848 & 0.229227 & 0.602629 & ⋯ & 0.197026 & 0.196244 & 0.164323 & 0.030017 & 0.253968 & 0.008473 & 0.240602 & 0.136735 & 0.058442 & 0.107594\\\\\n",
       "\t2 &  TRUE & FALSE & FALSE & FALSE & FALSE &  TRUE & 0.384281 & 0.355249 & 0.167190 & 0.853089 & ⋯ & 0.093526 & 0.085649 & 0.025101 & 0.182955 & 0.285714 & 0.156764 & 0.270677 & 0.191377 & 0.153728 & 0.197951\\\\\n",
       "\t3 & FALSE &  TRUE & FALSE & FALSE & FALSE &  TRUE & 0.541782 & 0.356491 & 0.152246 & 0.791142 & ⋯ & 0.198082 & 0.108067 & 0.140574 & 0.099303 & 0.142857 & 0.000000 & 0.593985 & 0.105114 & 0.025555 & 0.122965\\\\\n",
       "\t4 & FALSE & FALSE &  TRUE & FALSE & FALSE & FALSE & 0.174288 & 0.243935 & 0.254326 & 0.438987 & ⋯ & 0.235793 & 0.220195 & 0.235834 & 0.024988 & 0.222222 & 0.117169 & 0.210526 & 0.057288 & 0.134575 & 0.091509\\\\\n",
       "\t5 & FALSE & FALSE & FALSE &  TRUE & FALSE & FALSE & 0.347436 & 0.155448 & 0.100047 & 0.126026 & ⋯ & 0.715683 & 0.573359 & 0.412368 & 0.016398 & 0.761905 & 0.081703 & 0.721805 & 0.108737 & 0.172882 & 0.189934\\\\\n",
       "\t6 & FALSE &  TRUE &  TRUE & FALSE & FALSE & FALSE & 0.228026 & 0.109648 & 0.291862 & 0.684646 & ⋯ & 0.141451 & 0.177711 & 0.104971 & 0.135100 & 0.190476 & 0.030557 & 0.180451 & 0.224878 & 0.136787 & 0.179813\\\\\n",
       "\\end{tabular}\n"
      ],
      "text/markdown": [
       "\n",
       "A data.frame: 6 × 77\n",
       "\n",
       "| <!--/--> | amazed.suprised &lt;lgl&gt; | happy.pleased &lt;lgl&gt; | relaxing.clam &lt;lgl&gt; | quiet.still &lt;lgl&gt; | sad.lonely &lt;lgl&gt; | angry.aggresive &lt;lgl&gt; | Mean_Acc1298_Mean_Mem40_Centroid &lt;dbl&gt; | Mean_Acc1298_Mean_Mem40_Rolloff &lt;dbl&gt; | Mean_Acc1298_Mean_Mem40_Flux &lt;dbl&gt; | Mean_Acc1298_Mean_Mem40_MFCC_0 &lt;dbl&gt; | ⋯ ⋯ | Std_Acc1298_Std_Mem40_MFCC_10 &lt;dbl&gt; | Std_Acc1298_Std_Mem40_MFCC_11 &lt;dbl&gt; | Std_Acc1298_Std_Mem40_MFCC_12 &lt;dbl&gt; | BH_LowPeakAmp &lt;dbl&gt; | BH_LowPeakBPM &lt;dbl&gt; | BH_HighPeakAmp &lt;dbl&gt; | BH_HighPeakBPM &lt;dbl&gt; | BHSUM1 &lt;dbl&gt; | BHSUM2 &lt;dbl&gt; | BHSUM3 &lt;dbl&gt; |\n",
       "|---|---|---|---|---|---|---|---|---|---|---|---|---|---|---|---|---|---|---|---|---|---|\n",
       "| 1 | FALSE |  TRUE |  TRUE | FALSE | FALSE | FALSE | 0.132498 | 0.077848 | 0.229227 | 0.602629 | ⋯ | 0.197026 | 0.196244 | 0.164323 | 0.030017 | 0.253968 | 0.008473 | 0.240602 | 0.136735 | 0.058442 | 0.107594 |\n",
       "| 2 |  TRUE | FALSE | FALSE | FALSE | FALSE |  TRUE | 0.384281 | 0.355249 | 0.167190 | 0.853089 | ⋯ | 0.093526 | 0.085649 | 0.025101 | 0.182955 | 0.285714 | 0.156764 | 0.270677 | 0.191377 | 0.153728 | 0.197951 |\n",
       "| 3 | FALSE |  TRUE | FALSE | FALSE | FALSE |  TRUE | 0.541782 | 0.356491 | 0.152246 | 0.791142 | ⋯ | 0.198082 | 0.108067 | 0.140574 | 0.099303 | 0.142857 | 0.000000 | 0.593985 | 0.105114 | 0.025555 | 0.122965 |\n",
       "| 4 | FALSE | FALSE |  TRUE | FALSE | FALSE | FALSE | 0.174288 | 0.243935 | 0.254326 | 0.438987 | ⋯ | 0.235793 | 0.220195 | 0.235834 | 0.024988 | 0.222222 | 0.117169 | 0.210526 | 0.057288 | 0.134575 | 0.091509 |\n",
       "| 5 | FALSE | FALSE | FALSE |  TRUE | FALSE | FALSE | 0.347436 | 0.155448 | 0.100047 | 0.126026 | ⋯ | 0.715683 | 0.573359 | 0.412368 | 0.016398 | 0.761905 | 0.081703 | 0.721805 | 0.108737 | 0.172882 | 0.189934 |\n",
       "| 6 | FALSE |  TRUE |  TRUE | FALSE | FALSE | FALSE | 0.228026 | 0.109648 | 0.291862 | 0.684646 | ⋯ | 0.141451 | 0.177711 | 0.104971 | 0.135100 | 0.190476 | 0.030557 | 0.180451 | 0.224878 | 0.136787 | 0.179813 |\n",
       "\n"
      ],
      "text/plain": [
       "  amazed.suprised happy.pleased relaxing.clam quiet.still sad.lonely\n",
       "1 FALSE            TRUE          TRUE         FALSE       FALSE     \n",
       "2  TRUE           FALSE         FALSE         FALSE       FALSE     \n",
       "3 FALSE            TRUE         FALSE         FALSE       FALSE     \n",
       "4 FALSE           FALSE          TRUE         FALSE       FALSE     \n",
       "5 FALSE           FALSE         FALSE          TRUE       FALSE     \n",
       "6 FALSE            TRUE          TRUE         FALSE       FALSE     \n",
       "  angry.aggresive Mean_Acc1298_Mean_Mem40_Centroid\n",
       "1 FALSE           0.132498                        \n",
       "2  TRUE           0.384281                        \n",
       "3  TRUE           0.541782                        \n",
       "4 FALSE           0.174288                        \n",
       "5 FALSE           0.347436                        \n",
       "6 FALSE           0.228026                        \n",
       "  Mean_Acc1298_Mean_Mem40_Rolloff Mean_Acc1298_Mean_Mem40_Flux\n",
       "1 0.077848                        0.229227                    \n",
       "2 0.355249                        0.167190                    \n",
       "3 0.356491                        0.152246                    \n",
       "4 0.243935                        0.254326                    \n",
       "5 0.155448                        0.100047                    \n",
       "6 0.109648                        0.291862                    \n",
       "  Mean_Acc1298_Mean_Mem40_MFCC_0 ⋯ Std_Acc1298_Std_Mem40_MFCC_10\n",
       "1 0.602629                       ⋯ 0.197026                     \n",
       "2 0.853089                       ⋯ 0.093526                     \n",
       "3 0.791142                       ⋯ 0.198082                     \n",
       "4 0.438987                       ⋯ 0.235793                     \n",
       "5 0.126026                       ⋯ 0.715683                     \n",
       "6 0.684646                       ⋯ 0.141451                     \n",
       "  Std_Acc1298_Std_Mem40_MFCC_11 Std_Acc1298_Std_Mem40_MFCC_12 BH_LowPeakAmp\n",
       "1 0.196244                      0.164323                      0.030017     \n",
       "2 0.085649                      0.025101                      0.182955     \n",
       "3 0.108067                      0.140574                      0.099303     \n",
       "4 0.220195                      0.235834                      0.024988     \n",
       "5 0.573359                      0.412368                      0.016398     \n",
       "6 0.177711                      0.104971                      0.135100     \n",
       "  BH_LowPeakBPM BH_HighPeakAmp BH_HighPeakBPM BHSUM1   BHSUM2   BHSUM3  \n",
       "1 0.253968      0.008473       0.240602       0.136735 0.058442 0.107594\n",
       "2 0.285714      0.156764       0.270677       0.191377 0.153728 0.197951\n",
       "3 0.142857      0.000000       0.593985       0.105114 0.025555 0.122965\n",
       "4 0.222222      0.117169       0.210526       0.057288 0.134575 0.091509\n",
       "5 0.761905      0.081703       0.721805       0.108737 0.172882 0.189934\n",
       "6 0.190476      0.030557       0.180451       0.224878 0.136787 0.179813"
      ]
     },
     "metadata": {},
     "output_type": "display_data"
    }
   ],
   "source": [
    "# Convert the columns to logical\n",
    "music[, 1:6] <- sapply(music[, 1:6], as.logical)\n",
    "\n",
    "head(music)\n"
   ]
  },
  {
   "cell_type": "code",
   "execution_count": 8,
   "metadata": {
    "vscode": {
     "languageId": "r"
    }
   },
   "outputs": [
    {
     "data": {
      "text/html": [
       "<style>\n",
       ".list-inline {list-style: none; margin:0; padding: 0}\n",
       ".list-inline>li {display: inline-block}\n",
       ".list-inline>li:not(:last-child)::after {content: \"\\00b7\"; padding: 0 .5ex}\n",
       "</style>\n",
       "<ol class=list-inline><li>'amazed.suprised'</li><li>'happy.pleased'</li><li>'relaxing.clam'</li><li>'quiet.still'</li><li>'sad.lonely'</li><li>'angry.aggresive'</li></ol>\n"
      ],
      "text/latex": [
       "\\begin{enumerate*}\n",
       "\\item 'amazed.suprised'\n",
       "\\item 'happy.pleased'\n",
       "\\item 'relaxing.clam'\n",
       "\\item 'quiet.still'\n",
       "\\item 'sad.lonely'\n",
       "\\item 'angry.aggresive'\n",
       "\\end{enumerate*}\n"
      ],
      "text/markdown": [
       "1. 'amazed.suprised'\n",
       "2. 'happy.pleased'\n",
       "3. 'relaxing.clam'\n",
       "4. 'quiet.still'\n",
       "5. 'sad.lonely'\n",
       "6. 'angry.aggresive'\n",
       "\n",
       "\n"
      ],
      "text/plain": [
       "[1] \"amazed.suprised\" \"happy.pleased\"   \"relaxing.clam\"   \"quiet.still\"    \n",
       "[5] \"sad.lonely\"      \"angry.aggresive\""
      ]
     },
     "metadata": {},
     "output_type": "display_data"
    }
   ],
   "source": [
    "music_labels <- colnames(music)[1:6]\n",
    "\n",
    "music_labels\n"
   ]
  },
  {
   "cell_type": "code",
   "execution_count": 9,
   "metadata": {
    "vscode": {
     "languageId": "r"
    }
   },
   "outputs": [],
   "source": [
    "task <- makeMultilabelTask(data = music, target = music_labels)\n",
    "\n",
    "learner <- makeLearner(\"classif.rpart\")\n"
   ]
  },
  {
   "cell_type": "code",
   "execution_count": 10,
   "metadata": {
    "vscode": {
     "languageId": "r"
    }
   },
   "outputs": [],
   "source": [
    "class_type <- makeMultilabelBinaryRelevanceWrapper(learner)\n"
   ]
  },
  {
   "cell_type": "code",
   "execution_count": 11,
   "metadata": {
    "vscode": {
     "languageId": "r"
    }
   },
   "outputs": [],
   "source": [
    "partition <- createDataPartition(1:592, p = 0.7)\n"
   ]
  },
  {
   "cell_type": "code",
   "execution_count": 12,
   "metadata": {
    "vscode": {
     "languageId": "r"
    }
   },
   "outputs": [],
   "source": [
    "# Unload the package caret to avoid conflicts with mlr\n",
    "detach(\"package:caret\", unload = TRUE)\n"
   ]
  },
  {
   "cell_type": "code",
   "execution_count": 13,
   "metadata": {
    "vscode": {
     "languageId": "r"
    }
   },
   "outputs": [
    {
     "data": {
      "text/plain": [
       "Model for learner.id=multilabel.binaryRelevance.classif.rpart; learner.class=MultilabelBinaryRelevanceWrapper\n",
       "Trained on: task.id = music; obs = 416; features = 71\n",
       "Hyperparameters: xval=0"
      ]
     },
     "metadata": {},
     "output_type": "display_data"
    }
   ],
   "source": [
    "model_1 <- train(class_type, task, subset = partition$Resample1)\n",
    "\n",
    "model_1\n"
   ]
  },
  {
   "cell_type": "code",
   "execution_count": 15,
   "metadata": {
    "vscode": {
     "languageId": "r"
    }
   },
   "outputs": [
    {
     "data": {
      "text/plain": [
       "Prediction: 176 observations\n",
       "predict.type: response\n",
       "threshold: \n",
       "time: 0.03\n",
       "   id truth.amazed.suprised truth.happy.pleased truth.relaxing.clam\n",
       "2   2                  TRUE               FALSE               FALSE\n",
       "4   4                 FALSE               FALSE                TRUE\n",
       "11 11                 FALSE                TRUE                TRUE\n",
       "13 13                  TRUE               FALSE               FALSE\n",
       "15 15                 FALSE               FALSE               FALSE\n",
       "22 22                 FALSE                TRUE               FALSE\n",
       "   truth.quiet.still truth.sad.lonely truth.angry.aggresive\n",
       "2              FALSE            FALSE                  TRUE\n",
       "4              FALSE            FALSE                 FALSE\n",
       "11             FALSE            FALSE                 FALSE\n",
       "13             FALSE            FALSE                 FALSE\n",
       "15             FALSE             TRUE                 FALSE\n",
       "22             FALSE            FALSE                 FALSE\n",
       "   response.amazed.suprised response.happy.pleased response.relaxing.clam\n",
       "2                      TRUE                  FALSE                  FALSE\n",
       "4                     FALSE                  FALSE                   TRUE\n",
       "11                    FALSE                  FALSE                   TRUE\n",
       "13                     TRUE                  FALSE                  FALSE\n",
       "15                    FALSE                  FALSE                  FALSE\n",
       "22                    FALSE                  FALSE                  FALSE\n",
       "   response.quiet.still response.sad.lonely response.angry.aggresive\n",
       "2                 FALSE               FALSE                    FALSE\n",
       "4                 FALSE               FALSE                    FALSE\n",
       "11                FALSE               FALSE                    FALSE\n",
       "13                FALSE               FALSE                     TRUE\n",
       "15                 TRUE               FALSE                    FALSE\n",
       "22                FALSE               FALSE                     TRUE\n",
       "... (#rows: 176, #cols: 13)"
      ]
     },
     "metadata": {},
     "output_type": "display_data"
    }
   ],
   "source": [
    "prediction <- predict(model_1, task, subset = subset(seq(1:592), !seq(1:592) %in% partition$Resample1))\n",
    "\n",
    "prediction\n"
   ]
  },
  {
   "cell_type": "code",
   "execution_count": 16,
   "metadata": {
    "vscode": {
     "languageId": "r"
    }
   },
   "outputs": [
    {
     "data": {
      "text/html": [
       "<strong>multilabel.hamloss:</strong> 0.233901515151515"
      ],
      "text/latex": [
       "\\textbf{multilabel.hamloss:} 0.233901515151515"
      ],
      "text/markdown": [
       "**multilabel.hamloss:** 0.233901515151515"
      ],
      "text/plain": [
       "multilabel.hamloss \n",
       "         0.2339015 "
      ]
     },
     "metadata": {},
     "output_type": "display_data"
    }
   ],
   "source": [
    "performance(prediction, measures = list(multilabel.hamloss))\n"
   ]
  },
  {
   "cell_type": "code",
   "execution_count": 17,
   "metadata": {
    "vscode": {
     "languageId": "r"
    }
   },
   "outputs": [],
   "source": [
    "class_type <- makeMultilabelClassifierChainsWrapper(learner)\n"
   ]
  },
  {
   "cell_type": "code",
   "execution_count": 18,
   "metadata": {
    "vscode": {
     "languageId": "r"
    }
   },
   "outputs": [],
   "source": [
    "model_2 <- train(class_type, task, subset = partition$Resample1)\n"
   ]
  },
  {
   "cell_type": "code",
   "execution_count": 20,
   "metadata": {
    "vscode": {
     "languageId": "r"
    }
   },
   "outputs": [
    {
     "data": {
      "text/html": [
       "<strong>multilabel.hamloss:</strong> 0.263257575757576"
      ],
      "text/latex": [
       "\\textbf{multilabel.hamloss:} 0.263257575757576"
      ],
      "text/markdown": [
       "**multilabel.hamloss:** 0.263257575757576"
      ],
      "text/plain": [
       "multilabel.hamloss \n",
       "         0.2632576 "
      ]
     },
     "metadata": {},
     "output_type": "display_data"
    }
   ],
   "source": [
    "prediction <- predict(model_2, task, subset = subset(seq(1:592), !seq(1:592) %in% partition$Resample1))\n",
    "\n",
    "performance(prediction, measures = list(multilabel.hamloss))"
   ]
  }
 ],
 "metadata": {
  "kernelspec": {
   "display_name": "R",
   "language": "R",
   "name": "ir"
  },
  "language_info": {
   "codemirror_mode": "r",
   "file_extension": ".r",
   "mimetype": "text/x-r-source",
   "name": "R",
   "pygments_lexer": "r",
   "version": "4.3.1"
  }
 },
 "nbformat": 4,
 "nbformat_minor": 2
}
