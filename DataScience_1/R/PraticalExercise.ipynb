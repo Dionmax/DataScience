{
 "cells": [
  {
   "cell_type": "code",
   "execution_count": 69,
   "metadata": {
    "vscode": {
     "languageId": "r"
    }
   },
   "outputs": [
    {
     "data": {
      "text/html": [
       "<table class=\"dataframe\">\n",
       "<caption>A data.frame: 14 × 5</caption>\n",
       "<thead>\n",
       "\t<tr><th scope=col>Aparencia</th><th scope=col>Temperatura</th><th scope=col>Umidade</th><th scope=col>Vento</th><th scope=col>Jogar</th></tr>\n",
       "\t<tr><th scope=col>&lt;fct&gt;</th><th scope=col>&lt;int&gt;</th><th scope=col>&lt;int&gt;</th><th scope=col>&lt;fct&gt;</th><th scope=col>&lt;fct&gt;</th></tr>\n",
       "</thead>\n",
       "<tbody>\n",
       "\t<tr><td>sol    </td><td>  85</td><td> 85</td><td>FALSO     </td><td>nao</td></tr>\n",
       "\t<tr><td>sol    </td><td>  80</td><td> 90</td><td>VERDADEIRO</td><td>nao</td></tr>\n",
       "\t<tr><td>nublado</td><td>  83</td><td> 86</td><td>FALSO     </td><td>sim</td></tr>\n",
       "\t<tr><td>chuva  </td><td>  70</td><td> NA</td><td>FALSO     </td><td>sim</td></tr>\n",
       "\t<tr><td>chuva  </td><td>  68</td><td> 80</td><td>FALSO     </td><td>sim</td></tr>\n",
       "\t<tr><td>chuva  </td><td>  65</td><td> 70</td><td>VERDADEIRO</td><td>nao</td></tr>\n",
       "\t<tr><td>menos  </td><td>  64</td><td> 65</td><td>VERDADEIRO</td><td>sim</td></tr>\n",
       "\t<tr><td>sol    </td><td>1220</td><td> 95</td><td>FALSO     </td><td>nao</td></tr>\n",
       "\t<tr><td>sol    </td><td>  69</td><td> 70</td><td>FALSO     </td><td>sim</td></tr>\n",
       "\t<tr><td>chuva  </td><td>  75</td><td>200</td><td>NA        </td><td>sim</td></tr>\n",
       "\t<tr><td>sol    </td><td>  75</td><td> 70</td><td>VERDADEIRO</td><td>sim</td></tr>\n",
       "\t<tr><td>nublado</td><td>  72</td><td> 90</td><td>VERDADEIRO</td><td>sim</td></tr>\n",
       "\t<tr><td>nublado</td><td>  81</td><td> 75</td><td>FALSO     </td><td>sim</td></tr>\n",
       "\t<tr><td>chuva  </td><td>  71</td><td> 91</td><td>VERDADEIRO</td><td>nao</td></tr>\n",
       "</tbody>\n",
       "</table>\n"
      ],
      "text/latex": [
       "A data.frame: 14 × 5\n",
       "\\begin{tabular}{lllll}\n",
       " Aparencia & Temperatura & Umidade & Vento & Jogar\\\\\n",
       " <fct> & <int> & <int> & <fct> & <fct>\\\\\n",
       "\\hline\n",
       "\t sol     &   85 &  85 & FALSO      & nao\\\\\n",
       "\t sol     &   80 &  90 & VERDADEIRO & nao\\\\\n",
       "\t nublado &   83 &  86 & FALSO      & sim\\\\\n",
       "\t chuva   &   70 &  NA & FALSO      & sim\\\\\n",
       "\t chuva   &   68 &  80 & FALSO      & sim\\\\\n",
       "\t chuva   &   65 &  70 & VERDADEIRO & nao\\\\\n",
       "\t menos   &   64 &  65 & VERDADEIRO & sim\\\\\n",
       "\t sol     & 1220 &  95 & FALSO      & nao\\\\\n",
       "\t sol     &   69 &  70 & FALSO      & sim\\\\\n",
       "\t chuva   &   75 & 200 & NA         & sim\\\\\n",
       "\t sol     &   75 &  70 & VERDADEIRO & sim\\\\\n",
       "\t nublado &   72 &  90 & VERDADEIRO & sim\\\\\n",
       "\t nublado &   81 &  75 & FALSO      & sim\\\\\n",
       "\t chuva   &   71 &  91 & VERDADEIRO & nao\\\\\n",
       "\\end{tabular}\n"
      ],
      "text/markdown": [
       "\n",
       "A data.frame: 14 × 5\n",
       "\n",
       "| Aparencia &lt;fct&gt; | Temperatura &lt;int&gt; | Umidade &lt;int&gt; | Vento &lt;fct&gt; | Jogar &lt;fct&gt; |\n",
       "|---|---|---|---|---|\n",
       "| sol     |   85 |  85 | FALSO      | nao |\n",
       "| sol     |   80 |  90 | VERDADEIRO | nao |\n",
       "| nublado |   83 |  86 | FALSO      | sim |\n",
       "| chuva   |   70 |  NA | FALSO      | sim |\n",
       "| chuva   |   68 |  80 | FALSO      | sim |\n",
       "| chuva   |   65 |  70 | VERDADEIRO | nao |\n",
       "| menos   |   64 |  65 | VERDADEIRO | sim |\n",
       "| sol     | 1220 |  95 | FALSO      | nao |\n",
       "| sol     |   69 |  70 | FALSO      | sim |\n",
       "| chuva   |   75 | 200 | NA         | sim |\n",
       "| sol     |   75 |  70 | VERDADEIRO | sim |\n",
       "| nublado |   72 |  90 | VERDADEIRO | sim |\n",
       "| nublado |   81 |  75 | FALSO      | sim |\n",
       "| chuva   |   71 |  91 | VERDADEIRO | nao |\n",
       "\n"
      ],
      "text/plain": [
       "   Aparencia Temperatura Umidade Vento      Jogar\n",
       "1  sol         85         85     FALSO      nao  \n",
       "2  sol         80         90     VERDADEIRO nao  \n",
       "3  nublado     83         86     FALSO      sim  \n",
       "4  chuva       70         NA     FALSO      sim  \n",
       "5  chuva       68         80     FALSO      sim  \n",
       "6  chuva       65         70     VERDADEIRO nao  \n",
       "7  menos       64         65     VERDADEIRO sim  \n",
       "8  sol       1220         95     FALSO      nao  \n",
       "9  sol         69         70     FALSO      sim  \n",
       "10 chuva       75        200     NA         sim  \n",
       "11 sol         75         70     VERDADEIRO sim  \n",
       "12 nublado     72         90     VERDADEIRO sim  \n",
       "13 nublado     81         75     FALSO      sim  \n",
       "14 chuva       71         91     VERDADEIRO nao  "
      ]
     },
     "metadata": {},
     "output_type": "display_data"
    }
   ],
   "source": [
    "data_frame <- read.csv(\n",
    "    \"../data/tempo.csv\",\n",
    "    sep = \";\",\n",
    "    na.strings = \"\",\n",
    "    stringsAsFactors = TRUE\n",
    ")\n",
    "\n",
    "data_frame\n"
   ]
  },
  {
   "cell_type": "code",
   "execution_count": 70,
   "metadata": {
    "vscode": {
     "languageId": "r"
    }
   },
   "outputs": [
    {
     "data": {
      "text/html": [
       "<style>\n",
       ".list-inline {list-style: none; margin:0; padding: 0}\n",
       ".list-inline>li {display: inline-block}\n",
       ".list-inline>li:not(:last-child)::after {content: \"\\00b7\"; padding: 0 .5ex}\n",
       "</style>\n",
       "<ol class=list-inline><li>sol</li><li>nublado</li><li>chuva</li><li>menos</li></ol>\n",
       "\n",
       "<details>\n",
       "\t<summary style=display:list-item;cursor:pointer>\n",
       "\t\t<strong>Levels</strong>:\n",
       "\t</summary>\n",
       "\t<style>\n",
       "\t.list-inline {list-style: none; margin:0; padding: 0}\n",
       "\t.list-inline>li {display: inline-block}\n",
       "\t.list-inline>li:not(:last-child)::after {content: \"\\00b7\"; padding: 0 .5ex}\n",
       "\t</style>\n",
       "\t<ol class=list-inline><li>'chuva'</li><li>'menos'</li><li>'nublado'</li><li>'sol'</li></ol>\n",
       "</details>"
      ],
      "text/latex": [
       "\\begin{enumerate*}\n",
       "\\item sol\n",
       "\\item nublado\n",
       "\\item chuva\n",
       "\\item menos\n",
       "\\end{enumerate*}\n",
       "\n",
       "\\emph{Levels}: \\begin{enumerate*}\n",
       "\\item 'chuva'\n",
       "\\item 'menos'\n",
       "\\item 'nublado'\n",
       "\\item 'sol'\n",
       "\\end{enumerate*}\n"
      ],
      "text/markdown": [
       "1. sol\n",
       "2. nublado\n",
       "3. chuva\n",
       "4. menos\n",
       "\n",
       "\n",
       "\n",
       "**Levels**: 1. 'chuva'\n",
       "2. 'menos'\n",
       "3. 'nublado'\n",
       "4. 'sol'\n",
       "\n",
       "\n"
      ],
      "text/plain": [
       "[1] sol     nublado chuva   menos  \n",
       "Levels: chuva menos nublado sol"
      ]
     },
     "metadata": {},
     "output_type": "display_data"
    },
    {
     "data": {
      "text/html": [
       "<style>\n",
       ".dl-inline {width: auto; margin:0; padding: 0}\n",
       ".dl-inline>dt, .dl-inline>dd {float: none; width: auto; display: inline-block}\n",
       ".dl-inline>dt::after {content: \":\\0020\"; padding-right: .5ex}\n",
       ".dl-inline>dt:not(:first-of-type) {padding-left: .5ex}\n",
       "</style><dl class=dl-inline><dt>chuva</dt><dd>5</dd><dt>menos</dt><dd>1</dd><dt>nublado</dt><dd>3</dd><dt>sol</dt><dd>5</dd></dl>\n"
      ],
      "text/latex": [
       "\\begin{description*}\n",
       "\\item[chuva] 5\n",
       "\\item[menos] 1\n",
       "\\item[nublado] 3\n",
       "\\item[sol] 5\n",
       "\\end{description*}\n"
      ],
      "text/markdown": [
       "chuva\n",
       ":   5menos\n",
       ":   1nublado\n",
       ":   3sol\n",
       ":   5\n",
       "\n"
      ],
      "text/plain": [
       "  chuva   menos nublado     sol \n",
       "      5       1       3       5 "
      ]
     },
     "metadata": {},
     "output_type": "display_data"
    },
    {
     "data": {
      "text/html": [
       "<table class=\"dataframe\">\n",
       "<caption>A data.frame: 0 × 5</caption>\n",
       "<thead>\n",
       "\t<tr><th scope=col>Aparencia</th><th scope=col>Temperatura</th><th scope=col>Umidade</th><th scope=col>Vento</th><th scope=col>Jogar</th></tr>\n",
       "\t<tr><th scope=col>&lt;fct&gt;</th><th scope=col>&lt;int&gt;</th><th scope=col>&lt;int&gt;</th><th scope=col>&lt;fct&gt;</th><th scope=col>&lt;fct&gt;</th></tr>\n",
       "</thead>\n",
       "<tbody>\n",
       "</tbody>\n",
       "</table>\n"
      ],
      "text/latex": [
       "A data.frame: 0 × 5\n",
       "\\begin{tabular}{lllll}\n",
       " Aparencia & Temperatura & Umidade & Vento & Jogar\\\\\n",
       " <fct> & <int> & <int> & <fct> & <fct>\\\\\n",
       "\\hline\n",
       "\\end{tabular}\n"
      ],
      "text/markdown": [
       "\n",
       "A data.frame: 0 × 5\n",
       "\n",
       "| Aparencia &lt;fct&gt; | Temperatura &lt;int&gt; | Umidade &lt;int&gt; | Vento &lt;fct&gt; | Jogar &lt;fct&gt; |\n",
       "|---|---|---|---|---|\n",
       "\n"
      ],
      "text/plain": [
       "     Aparencia Temperatura Umidade Vento Jogar"
      ]
     },
     "metadata": {},
     "output_type": "display_data"
    },
    {
     "data": {
      "text/html": [
       "<table class=\"dataframe\">\n",
       "<caption>A data.frame: 14 × 5</caption>\n",
       "<thead>\n",
       "\t<tr><th scope=col>Aparencia</th><th scope=col>Temperatura</th><th scope=col>Umidade</th><th scope=col>Vento</th><th scope=col>Jogar</th></tr>\n",
       "\t<tr><th scope=col>&lt;fct&gt;</th><th scope=col>&lt;int&gt;</th><th scope=col>&lt;int&gt;</th><th scope=col>&lt;fct&gt;</th><th scope=col>&lt;fct&gt;</th></tr>\n",
       "</thead>\n",
       "<tbody>\n",
       "\t<tr><td>sol    </td><td>  85</td><td> 85</td><td>FALSO     </td><td>nao</td></tr>\n",
       "\t<tr><td>sol    </td><td>  80</td><td> 90</td><td>VERDADEIRO</td><td>nao</td></tr>\n",
       "\t<tr><td>nublado</td><td>  83</td><td> 86</td><td>FALSO     </td><td>sim</td></tr>\n",
       "\t<tr><td>chuva  </td><td>  70</td><td> NA</td><td>FALSO     </td><td>sim</td></tr>\n",
       "\t<tr><td>chuva  </td><td>  68</td><td> 80</td><td>FALSO     </td><td>sim</td></tr>\n",
       "\t<tr><td>chuva  </td><td>  65</td><td> 70</td><td>VERDADEIRO</td><td>nao</td></tr>\n",
       "\t<tr><td>sol    </td><td>  64</td><td> 65</td><td>VERDADEIRO</td><td>sim</td></tr>\n",
       "\t<tr><td>sol    </td><td>1220</td><td> 95</td><td>FALSO     </td><td>nao</td></tr>\n",
       "\t<tr><td>sol    </td><td>  69</td><td> 70</td><td>FALSO     </td><td>sim</td></tr>\n",
       "\t<tr><td>chuva  </td><td>  75</td><td>200</td><td>NA        </td><td>sim</td></tr>\n",
       "\t<tr><td>sol    </td><td>  75</td><td> 70</td><td>VERDADEIRO</td><td>sim</td></tr>\n",
       "\t<tr><td>nublado</td><td>  72</td><td> 90</td><td>VERDADEIRO</td><td>sim</td></tr>\n",
       "\t<tr><td>nublado</td><td>  81</td><td> 75</td><td>FALSO     </td><td>sim</td></tr>\n",
       "\t<tr><td>chuva  </td><td>  71</td><td> 91</td><td>VERDADEIRO</td><td>nao</td></tr>\n",
       "</tbody>\n",
       "</table>\n"
      ],
      "text/latex": [
       "A data.frame: 14 × 5\n",
       "\\begin{tabular}{lllll}\n",
       " Aparencia & Temperatura & Umidade & Vento & Jogar\\\\\n",
       " <fct> & <int> & <int> & <fct> & <fct>\\\\\n",
       "\\hline\n",
       "\t sol     &   85 &  85 & FALSO      & nao\\\\\n",
       "\t sol     &   80 &  90 & VERDADEIRO & nao\\\\\n",
       "\t nublado &   83 &  86 & FALSO      & sim\\\\\n",
       "\t chuva   &   70 &  NA & FALSO      & sim\\\\\n",
       "\t chuva   &   68 &  80 & FALSO      & sim\\\\\n",
       "\t chuva   &   65 &  70 & VERDADEIRO & nao\\\\\n",
       "\t sol     &   64 &  65 & VERDADEIRO & sim\\\\\n",
       "\t sol     & 1220 &  95 & FALSO      & nao\\\\\n",
       "\t sol     &   69 &  70 & FALSO      & sim\\\\\n",
       "\t chuva   &   75 & 200 & NA         & sim\\\\\n",
       "\t sol     &   75 &  70 & VERDADEIRO & sim\\\\\n",
       "\t nublado &   72 &  90 & VERDADEIRO & sim\\\\\n",
       "\t nublado &   81 &  75 & FALSO      & sim\\\\\n",
       "\t chuva   &   71 &  91 & VERDADEIRO & nao\\\\\n",
       "\\end{tabular}\n"
      ],
      "text/markdown": [
       "\n",
       "A data.frame: 14 × 5\n",
       "\n",
       "| Aparencia &lt;fct&gt; | Temperatura &lt;int&gt; | Umidade &lt;int&gt; | Vento &lt;fct&gt; | Jogar &lt;fct&gt; |\n",
       "|---|---|---|---|---|\n",
       "| sol     |   85 |  85 | FALSO      | nao |\n",
       "| sol     |   80 |  90 | VERDADEIRO | nao |\n",
       "| nublado |   83 |  86 | FALSO      | sim |\n",
       "| chuva   |   70 |  NA | FALSO      | sim |\n",
       "| chuva   |   68 |  80 | FALSO      | sim |\n",
       "| chuva   |   65 |  70 | VERDADEIRO | nao |\n",
       "| sol     |   64 |  65 | VERDADEIRO | sim |\n",
       "| sol     | 1220 |  95 | FALSO      | nao |\n",
       "| sol     |   69 |  70 | FALSO      | sim |\n",
       "| chuva   |   75 | 200 | NA         | sim |\n",
       "| sol     |   75 |  70 | VERDADEIRO | sim |\n",
       "| nublado |   72 |  90 | VERDADEIRO | sim |\n",
       "| nublado |   81 |  75 | FALSO      | sim |\n",
       "| chuva   |   71 |  91 | VERDADEIRO | nao |\n",
       "\n"
      ],
      "text/plain": [
       "   Aparencia Temperatura Umidade Vento      Jogar\n",
       "1  sol         85         85     FALSO      nao  \n",
       "2  sol         80         90     VERDADEIRO nao  \n",
       "3  nublado     83         86     FALSO      sim  \n",
       "4  chuva       70         NA     FALSO      sim  \n",
       "5  chuva       68         80     FALSO      sim  \n",
       "6  chuva       65         70     VERDADEIRO nao  \n",
       "7  sol         64         65     VERDADEIRO sim  \n",
       "8  sol       1220         95     FALSO      nao  \n",
       "9  sol         69         70     FALSO      sim  \n",
       "10 chuva       75        200     NA         sim  \n",
       "11 sol         75         70     VERDADEIRO sim  \n",
       "12 nublado     72         90     VERDADEIRO sim  \n",
       "13 nublado     81         75     FALSO      sim  \n",
       "14 chuva       71         91     VERDADEIRO nao  "
      ]
     },
     "metadata": {},
     "output_type": "display_data"
    }
   ],
   "source": [
    "unique(data_frame$Aparencia)\n",
    "summary(data_frame$Aparencia)\n",
    "data_frame[is.na(data_frame$Aparencia), ]\n",
    "\n",
    "data_frame[!data_frame$Aparencia %in% c(\"sol\", \"nublado\", \"chuva\"), ]$Aparencia <- \"sol\"\n",
    "\n",
    "data_frame\n"
   ]
  },
  {
   "cell_type": "code",
   "execution_count": 71,
   "metadata": {
    "vscode": {
     "languageId": "r"
    }
   },
   "outputs": [
    {
     "data": {
      "text/html": [
       "<style>\n",
       ".list-inline {list-style: none; margin:0; padding: 0}\n",
       ".list-inline>li {display: inline-block}\n",
       ".list-inline>li:not(:last-child)::after {content: \"\\00b7\"; padding: 0 .5ex}\n",
       "</style>\n",
       "<ol class=list-inline><li>85</li><li>80</li><li>83</li><li>70</li><li>68</li><li>65</li><li>64</li><li>1220</li><li>69</li><li>75</li><li>72</li><li>81</li><li>71</li></ol>\n"
      ],
      "text/latex": [
       "\\begin{enumerate*}\n",
       "\\item 85\n",
       "\\item 80\n",
       "\\item 83\n",
       "\\item 70\n",
       "\\item 68\n",
       "\\item 65\n",
       "\\item 64\n",
       "\\item 1220\n",
       "\\item 69\n",
       "\\item 75\n",
       "\\item 72\n",
       "\\item 81\n",
       "\\item 71\n",
       "\\end{enumerate*}\n"
      ],
      "text/markdown": [
       "1. 85\n",
       "2. 80\n",
       "3. 83\n",
       "4. 70\n",
       "5. 68\n",
       "6. 65\n",
       "7. 64\n",
       "8. 1220\n",
       "9. 69\n",
       "10. 75\n",
       "11. 72\n",
       "12. 81\n",
       "13. 71\n",
       "\n",
       "\n"
      ],
      "text/plain": [
       " [1]   85   80   83   70   68   65   64 1220   69   75   72   81   71"
      ]
     },
     "metadata": {},
     "output_type": "display_data"
    },
    {
     "data": {
      "text/plain": [
       "   Min. 1st Qu.  Median    Mean 3rd Qu.    Max. \n",
       "  64.00   69.25   73.50  155.57   80.75 1220.00 "
      ]
     },
     "metadata": {},
     "output_type": "display_data"
    },
    {
     "data": {
      "text/html": [
       "<table class=\"dataframe\">\n",
       "<caption>A data.frame: 0 × 5</caption>\n",
       "<thead>\n",
       "\t<tr><th scope=col>Aparencia</th><th scope=col>Temperatura</th><th scope=col>Umidade</th><th scope=col>Vento</th><th scope=col>Jogar</th></tr>\n",
       "\t<tr><th scope=col>&lt;fct&gt;</th><th scope=col>&lt;int&gt;</th><th scope=col>&lt;int&gt;</th><th scope=col>&lt;fct&gt;</th><th scope=col>&lt;fct&gt;</th></tr>\n",
       "</thead>\n",
       "<tbody>\n",
       "</tbody>\n",
       "</table>\n"
      ],
      "text/latex": [
       "A data.frame: 0 × 5\n",
       "\\begin{tabular}{lllll}\n",
       " Aparencia & Temperatura & Umidade & Vento & Jogar\\\\\n",
       " <fct> & <int> & <int> & <fct> & <fct>\\\\\n",
       "\\hline\n",
       "\\end{tabular}\n"
      ],
      "text/markdown": [
       "\n",
       "A data.frame: 0 × 5\n",
       "\n",
       "| Aparencia &lt;fct&gt; | Temperatura &lt;int&gt; | Umidade &lt;int&gt; | Vento &lt;fct&gt; | Jogar &lt;fct&gt; |\n",
       "|---|---|---|---|---|\n",
       "\n"
      ],
      "text/plain": [
       "     Aparencia Temperatura Umidade Vento Jogar"
      ]
     },
     "metadata": {},
     "output_type": "display_data"
    },
    {
     "data": {
      "text/html": [
       "<table class=\"dataframe\">\n",
       "<caption>A data.frame: 14 × 5</caption>\n",
       "<thead>\n",
       "\t<tr><th scope=col>Aparencia</th><th scope=col>Temperatura</th><th scope=col>Umidade</th><th scope=col>Vento</th><th scope=col>Jogar</th></tr>\n",
       "\t<tr><th scope=col>&lt;fct&gt;</th><th scope=col>&lt;dbl&gt;</th><th scope=col>&lt;int&gt;</th><th scope=col>&lt;fct&gt;</th><th scope=col>&lt;fct&gt;</th></tr>\n",
       "</thead>\n",
       "<tbody>\n",
       "\t<tr><td>sol    </td><td>85.0</td><td> 85</td><td>FALSO     </td><td>nao</td></tr>\n",
       "\t<tr><td>sol    </td><td>80.0</td><td> 90</td><td>VERDADEIRO</td><td>nao</td></tr>\n",
       "\t<tr><td>nublado</td><td>83.0</td><td> 86</td><td>FALSO     </td><td>sim</td></tr>\n",
       "\t<tr><td>chuva  </td><td>70.0</td><td> NA</td><td>FALSO     </td><td>sim</td></tr>\n",
       "\t<tr><td>chuva  </td><td>68.0</td><td> 80</td><td>FALSO     </td><td>sim</td></tr>\n",
       "\t<tr><td>chuva  </td><td>65.0</td><td> 70</td><td>VERDADEIRO</td><td>nao</td></tr>\n",
       "\t<tr><td>sol    </td><td>64.0</td><td> 65</td><td>VERDADEIRO</td><td>sim</td></tr>\n",
       "\t<tr><td>sol    </td><td>73.5</td><td> 95</td><td>FALSO     </td><td>nao</td></tr>\n",
       "\t<tr><td>sol    </td><td>69.0</td><td> 70</td><td>FALSO     </td><td>sim</td></tr>\n",
       "\t<tr><td>chuva  </td><td>75.0</td><td>200</td><td>NA        </td><td>sim</td></tr>\n",
       "\t<tr><td>sol    </td><td>75.0</td><td> 70</td><td>VERDADEIRO</td><td>sim</td></tr>\n",
       "\t<tr><td>nublado</td><td>72.0</td><td> 90</td><td>VERDADEIRO</td><td>sim</td></tr>\n",
       "\t<tr><td>nublado</td><td>81.0</td><td> 75</td><td>FALSO     </td><td>sim</td></tr>\n",
       "\t<tr><td>chuva  </td><td>71.0</td><td> 91</td><td>VERDADEIRO</td><td>nao</td></tr>\n",
       "</tbody>\n",
       "</table>\n"
      ],
      "text/latex": [
       "A data.frame: 14 × 5\n",
       "\\begin{tabular}{lllll}\n",
       " Aparencia & Temperatura & Umidade & Vento & Jogar\\\\\n",
       " <fct> & <dbl> & <int> & <fct> & <fct>\\\\\n",
       "\\hline\n",
       "\t sol     & 85.0 &  85 & FALSO      & nao\\\\\n",
       "\t sol     & 80.0 &  90 & VERDADEIRO & nao\\\\\n",
       "\t nublado & 83.0 &  86 & FALSO      & sim\\\\\n",
       "\t chuva   & 70.0 &  NA & FALSO      & sim\\\\\n",
       "\t chuva   & 68.0 &  80 & FALSO      & sim\\\\\n",
       "\t chuva   & 65.0 &  70 & VERDADEIRO & nao\\\\\n",
       "\t sol     & 64.0 &  65 & VERDADEIRO & sim\\\\\n",
       "\t sol     & 73.5 &  95 & FALSO      & nao\\\\\n",
       "\t sol     & 69.0 &  70 & FALSO      & sim\\\\\n",
       "\t chuva   & 75.0 & 200 & NA         & sim\\\\\n",
       "\t sol     & 75.0 &  70 & VERDADEIRO & sim\\\\\n",
       "\t nublado & 72.0 &  90 & VERDADEIRO & sim\\\\\n",
       "\t nublado & 81.0 &  75 & FALSO      & sim\\\\\n",
       "\t chuva   & 71.0 &  91 & VERDADEIRO & nao\\\\\n",
       "\\end{tabular}\n"
      ],
      "text/markdown": [
       "\n",
       "A data.frame: 14 × 5\n",
       "\n",
       "| Aparencia &lt;fct&gt; | Temperatura &lt;dbl&gt; | Umidade &lt;int&gt; | Vento &lt;fct&gt; | Jogar &lt;fct&gt; |\n",
       "|---|---|---|---|---|\n",
       "| sol     | 85.0 |  85 | FALSO      | nao |\n",
       "| sol     | 80.0 |  90 | VERDADEIRO | nao |\n",
       "| nublado | 83.0 |  86 | FALSO      | sim |\n",
       "| chuva   | 70.0 |  NA | FALSO      | sim |\n",
       "| chuva   | 68.0 |  80 | FALSO      | sim |\n",
       "| chuva   | 65.0 |  70 | VERDADEIRO | nao |\n",
       "| sol     | 64.0 |  65 | VERDADEIRO | sim |\n",
       "| sol     | 73.5 |  95 | FALSO      | nao |\n",
       "| sol     | 69.0 |  70 | FALSO      | sim |\n",
       "| chuva   | 75.0 | 200 | NA         | sim |\n",
       "| sol     | 75.0 |  70 | VERDADEIRO | sim |\n",
       "| nublado | 72.0 |  90 | VERDADEIRO | sim |\n",
       "| nublado | 81.0 |  75 | FALSO      | sim |\n",
       "| chuva   | 71.0 |  91 | VERDADEIRO | nao |\n",
       "\n"
      ],
      "text/plain": [
       "   Aparencia Temperatura Umidade Vento      Jogar\n",
       "1  sol       85.0         85     FALSO      nao  \n",
       "2  sol       80.0         90     VERDADEIRO nao  \n",
       "3  nublado   83.0         86     FALSO      sim  \n",
       "4  chuva     70.0         NA     FALSO      sim  \n",
       "5  chuva     68.0         80     FALSO      sim  \n",
       "6  chuva     65.0         70     VERDADEIRO nao  \n",
       "7  sol       64.0         65     VERDADEIRO sim  \n",
       "8  sol       73.5         95     FALSO      nao  \n",
       "9  sol       69.0         70     FALSO      sim  \n",
       "10 chuva     75.0        200     NA         sim  \n",
       "11 sol       75.0         70     VERDADEIRO sim  \n",
       "12 nublado   72.0         90     VERDADEIRO sim  \n",
       "13 nublado   81.0         75     FALSO      sim  \n",
       "14 chuva     71.0         91     VERDADEIRO nao  "
      ]
     },
     "metadata": {},
     "output_type": "display_data"
    }
   ],
   "source": [
    "unique(data_frame$Temperatura)\n",
    "summary(data_frame$Temperatura)\n",
    "data_frame[is.na(data_frame$Temperatura), ]\n",
    "\n",
    "data_frame[data_frame$Temperatura < -130 | data_frame$Temperatura > 130, ]$Temperatura <- median(data_frame$Temperatura)\n",
    "\n",
    "data_frame\n"
   ]
  },
  {
   "cell_type": "code",
   "execution_count": 72,
   "metadata": {
    "vscode": {
     "languageId": "r"
    }
   },
   "outputs": [
    {
     "data": {
      "text/html": [
       "<style>\n",
       ".list-inline {list-style: none; margin:0; padding: 0}\n",
       ".list-inline>li {display: inline-block}\n",
       ".list-inline>li:not(:last-child)::after {content: \"\\00b7\"; padding: 0 .5ex}\n",
       "</style>\n",
       "<ol class=list-inline><li>85</li><li>90</li><li>86</li><li>&lt;NA&gt;</li><li>80</li><li>70</li><li>65</li><li>95</li><li>200</li><li>75</li><li>91</li></ol>\n"
      ],
      "text/latex": [
       "\\begin{enumerate*}\n",
       "\\item 85\n",
       "\\item 90\n",
       "\\item 86\n",
       "\\item <NA>\n",
       "\\item 80\n",
       "\\item 70\n",
       "\\item 65\n",
       "\\item 95\n",
       "\\item 200\n",
       "\\item 75\n",
       "\\item 91\n",
       "\\end{enumerate*}\n"
      ],
      "text/markdown": [
       "1. 85\n",
       "2. 90\n",
       "3. 86\n",
       "4. &lt;NA&gt;\n",
       "5. 80\n",
       "6. 70\n",
       "7. 65\n",
       "8. 95\n",
       "9. 200\n",
       "10. 75\n",
       "11. 91\n",
       "\n",
       "\n"
      ],
      "text/plain": [
       " [1]  85  90  86  NA  80  70  65  95 200  75  91"
      ]
     },
     "metadata": {},
     "output_type": "display_data"
    },
    {
     "data": {
      "text/plain": [
       "   Min. 1st Qu.  Median    Mean 3rd Qu.    Max.    NA's \n",
       "  65.00   70.00   85.00   89.77   90.00  200.00       1 "
      ]
     },
     "metadata": {},
     "output_type": "display_data"
    },
    {
     "data": {
      "text/html": [
       "<table class=\"dataframe\">\n",
       "<caption>A data.frame: 1 × 5</caption>\n",
       "<thead>\n",
       "\t<tr><th></th><th scope=col>Aparencia</th><th scope=col>Temperatura</th><th scope=col>Umidade</th><th scope=col>Vento</th><th scope=col>Jogar</th></tr>\n",
       "\t<tr><th></th><th scope=col>&lt;fct&gt;</th><th scope=col>&lt;dbl&gt;</th><th scope=col>&lt;int&gt;</th><th scope=col>&lt;fct&gt;</th><th scope=col>&lt;fct&gt;</th></tr>\n",
       "</thead>\n",
       "<tbody>\n",
       "\t<tr><th scope=row>4</th><td>chuva</td><td>70</td><td>NA</td><td>FALSO</td><td>sim</td></tr>\n",
       "</tbody>\n",
       "</table>\n"
      ],
      "text/latex": [
       "A data.frame: 1 × 5\n",
       "\\begin{tabular}{r|lllll}\n",
       "  & Aparencia & Temperatura & Umidade & Vento & Jogar\\\\\n",
       "  & <fct> & <dbl> & <int> & <fct> & <fct>\\\\\n",
       "\\hline\n",
       "\t4 & chuva & 70 & NA & FALSO & sim\\\\\n",
       "\\end{tabular}\n"
      ],
      "text/markdown": [
       "\n",
       "A data.frame: 1 × 5\n",
       "\n",
       "| <!--/--> | Aparencia &lt;fct&gt; | Temperatura &lt;dbl&gt; | Umidade &lt;int&gt; | Vento &lt;fct&gt; | Jogar &lt;fct&gt; |\n",
       "|---|---|---|---|---|---|\n",
       "| 4 | chuva | 70 | NA | FALSO | sim |\n",
       "\n"
      ],
      "text/plain": [
       "  Aparencia Temperatura Umidade Vento Jogar\n",
       "4 chuva     70          NA      FALSO sim  "
      ]
     },
     "metadata": {},
     "output_type": "display_data"
    },
    {
     "data": {
      "text/html": [
       "85"
      ],
      "text/latex": [
       "85"
      ],
      "text/markdown": [
       "85"
      ],
      "text/plain": [
       "[1] 85"
      ]
     },
     "metadata": {},
     "output_type": "display_data"
    },
    {
     "data": {
      "text/html": [
       "<table class=\"dataframe\">\n",
       "<caption>A data.frame: 14 × 5</caption>\n",
       "<thead>\n",
       "\t<tr><th scope=col>Aparencia</th><th scope=col>Temperatura</th><th scope=col>Umidade</th><th scope=col>Vento</th><th scope=col>Jogar</th></tr>\n",
       "\t<tr><th scope=col>&lt;fct&gt;</th><th scope=col>&lt;dbl&gt;</th><th scope=col>&lt;dbl&gt;</th><th scope=col>&lt;fct&gt;</th><th scope=col>&lt;fct&gt;</th></tr>\n",
       "</thead>\n",
       "<tbody>\n",
       "\t<tr><td>sol    </td><td>85.0</td><td>85</td><td>FALSO     </td><td>nao</td></tr>\n",
       "\t<tr><td>sol    </td><td>80.0</td><td>90</td><td>VERDADEIRO</td><td>nao</td></tr>\n",
       "\t<tr><td>nublado</td><td>83.0</td><td>86</td><td>FALSO     </td><td>sim</td></tr>\n",
       "\t<tr><td>chuva  </td><td>70.0</td><td>85</td><td>FALSO     </td><td>sim</td></tr>\n",
       "\t<tr><td>chuva  </td><td>68.0</td><td>80</td><td>FALSO     </td><td>sim</td></tr>\n",
       "\t<tr><td>chuva  </td><td>65.0</td><td>70</td><td>VERDADEIRO</td><td>nao</td></tr>\n",
       "\t<tr><td>sol    </td><td>64.0</td><td>65</td><td>VERDADEIRO</td><td>sim</td></tr>\n",
       "\t<tr><td>sol    </td><td>73.5</td><td>95</td><td>FALSO     </td><td>nao</td></tr>\n",
       "\t<tr><td>sol    </td><td>69.0</td><td>70</td><td>FALSO     </td><td>sim</td></tr>\n",
       "\t<tr><td>chuva  </td><td>75.0</td><td>85</td><td>NA        </td><td>sim</td></tr>\n",
       "\t<tr><td>sol    </td><td>75.0</td><td>70</td><td>VERDADEIRO</td><td>sim</td></tr>\n",
       "\t<tr><td>nublado</td><td>72.0</td><td>90</td><td>VERDADEIRO</td><td>sim</td></tr>\n",
       "\t<tr><td>nublado</td><td>81.0</td><td>75</td><td>FALSO     </td><td>sim</td></tr>\n",
       "\t<tr><td>chuva  </td><td>71.0</td><td>91</td><td>VERDADEIRO</td><td>nao</td></tr>\n",
       "</tbody>\n",
       "</table>\n"
      ],
      "text/latex": [
       "A data.frame: 14 × 5\n",
       "\\begin{tabular}{lllll}\n",
       " Aparencia & Temperatura & Umidade & Vento & Jogar\\\\\n",
       " <fct> & <dbl> & <dbl> & <fct> & <fct>\\\\\n",
       "\\hline\n",
       "\t sol     & 85.0 & 85 & FALSO      & nao\\\\\n",
       "\t sol     & 80.0 & 90 & VERDADEIRO & nao\\\\\n",
       "\t nublado & 83.0 & 86 & FALSO      & sim\\\\\n",
       "\t chuva   & 70.0 & 85 & FALSO      & sim\\\\\n",
       "\t chuva   & 68.0 & 80 & FALSO      & sim\\\\\n",
       "\t chuva   & 65.0 & 70 & VERDADEIRO & nao\\\\\n",
       "\t sol     & 64.0 & 65 & VERDADEIRO & sim\\\\\n",
       "\t sol     & 73.5 & 95 & FALSO      & nao\\\\\n",
       "\t sol     & 69.0 & 70 & FALSO      & sim\\\\\n",
       "\t chuva   & 75.0 & 85 & NA         & sim\\\\\n",
       "\t sol     & 75.0 & 70 & VERDADEIRO & sim\\\\\n",
       "\t nublado & 72.0 & 90 & VERDADEIRO & sim\\\\\n",
       "\t nublado & 81.0 & 75 & FALSO      & sim\\\\\n",
       "\t chuva   & 71.0 & 91 & VERDADEIRO & nao\\\\\n",
       "\\end{tabular}\n"
      ],
      "text/markdown": [
       "\n",
       "A data.frame: 14 × 5\n",
       "\n",
       "| Aparencia &lt;fct&gt; | Temperatura &lt;dbl&gt; | Umidade &lt;dbl&gt; | Vento &lt;fct&gt; | Jogar &lt;fct&gt; |\n",
       "|---|---|---|---|---|\n",
       "| sol     | 85.0 | 85 | FALSO      | nao |\n",
       "| sol     | 80.0 | 90 | VERDADEIRO | nao |\n",
       "| nublado | 83.0 | 86 | FALSO      | sim |\n",
       "| chuva   | 70.0 | 85 | FALSO      | sim |\n",
       "| chuva   | 68.0 | 80 | FALSO      | sim |\n",
       "| chuva   | 65.0 | 70 | VERDADEIRO | nao |\n",
       "| sol     | 64.0 | 65 | VERDADEIRO | sim |\n",
       "| sol     | 73.5 | 95 | FALSO      | nao |\n",
       "| sol     | 69.0 | 70 | FALSO      | sim |\n",
       "| chuva   | 75.0 | 85 | NA         | sim |\n",
       "| sol     | 75.0 | 70 | VERDADEIRO | sim |\n",
       "| nublado | 72.0 | 90 | VERDADEIRO | sim |\n",
       "| nublado | 81.0 | 75 | FALSO      | sim |\n",
       "| chuva   | 71.0 | 91 | VERDADEIRO | nao |\n",
       "\n"
      ],
      "text/plain": [
       "   Aparencia Temperatura Umidade Vento      Jogar\n",
       "1  sol       85.0        85      FALSO      nao  \n",
       "2  sol       80.0        90      VERDADEIRO nao  \n",
       "3  nublado   83.0        86      FALSO      sim  \n",
       "4  chuva     70.0        85      FALSO      sim  \n",
       "5  chuva     68.0        80      FALSO      sim  \n",
       "6  chuva     65.0        70      VERDADEIRO nao  \n",
       "7  sol       64.0        65      VERDADEIRO sim  \n",
       "8  sol       73.5        95      FALSO      nao  \n",
       "9  sol       69.0        70      FALSO      sim  \n",
       "10 chuva     75.0        85      NA         sim  \n",
       "11 sol       75.0        70      VERDADEIRO sim  \n",
       "12 nublado   72.0        90      VERDADEIRO sim  \n",
       "13 nublado   81.0        75      FALSO      sim  \n",
       "14 chuva     71.0        91      VERDADEIRO nao  "
      ]
     },
     "metadata": {},
     "output_type": "display_data"
    }
   ],
   "source": [
    "unique(data_frame$Umidade)\n",
    "summary(data_frame$Umidade)\n",
    "data_frame[is.na(data_frame$Umidade), ]\n",
    "\n",
    "median(data_frame$Umidade, na.rm = TRUE)\n",
    "\n",
    "data_frame[is.na(data_frame$Umidade), ]$Umidade <- median(data_frame$Umidade, na.rm = TRUE)\n",
    "\n",
    "data_frame[data_frame$Umidade < 0 | data_frame$Umidade > 100, ]$Umidade <- median(data_frame$Umidade)\n",
    "\n",
    "data_frame\n"
   ]
  },
  {
   "cell_type": "code",
   "execution_count": 75,
   "metadata": {
    "vscode": {
     "languageId": "r"
    }
   },
   "outputs": [
    {
     "data": {
      "text/html": [
       "<style>\n",
       ".list-inline {list-style: none; margin:0; padding: 0}\n",
       ".list-inline>li {display: inline-block}\n",
       ".list-inline>li:not(:last-child)::after {content: \"\\00b7\"; padding: 0 .5ex}\n",
       "</style>\n",
       "<ol class=list-inline><li>FALSO</li><li>VERDADEIRO</li><li>&lt;NA&gt;</li></ol>\n",
       "\n",
       "<details>\n",
       "\t<summary style=display:list-item;cursor:pointer>\n",
       "\t\t<strong>Levels</strong>:\n",
       "\t</summary>\n",
       "\t<style>\n",
       "\t.list-inline {list-style: none; margin:0; padding: 0}\n",
       "\t.list-inline>li {display: inline-block}\n",
       "\t.list-inline>li:not(:last-child)::after {content: \"\\00b7\"; padding: 0 .5ex}\n",
       "\t</style>\n",
       "\t<ol class=list-inline><li>'FALSO'</li><li>'VERDADEIRO'</li></ol>\n",
       "</details>"
      ],
      "text/latex": [
       "\\begin{enumerate*}\n",
       "\\item FALSO\n",
       "\\item VERDADEIRO\n",
       "\\item <NA>\n",
       "\\end{enumerate*}\n",
       "\n",
       "\\emph{Levels}: \\begin{enumerate*}\n",
       "\\item 'FALSO'\n",
       "\\item 'VERDADEIRO'\n",
       "\\end{enumerate*}\n"
      ],
      "text/markdown": [
       "1. FALSO\n",
       "2. VERDADEIRO\n",
       "3. &lt;NA&gt;\n",
       "\n",
       "\n",
       "\n",
       "**Levels**: 1. 'FALSO'\n",
       "2. 'VERDADEIRO'\n",
       "\n",
       "\n"
      ],
      "text/plain": [
       "[1] FALSO      VERDADEIRO <NA>      \n",
       "Levels: FALSO VERDADEIRO"
      ]
     },
     "metadata": {},
     "output_type": "display_data"
    },
    {
     "data": {
      "text/html": [
       "<style>\n",
       ".dl-inline {width: auto; margin:0; padding: 0}\n",
       ".dl-inline>dt, .dl-inline>dd {float: none; width: auto; display: inline-block}\n",
       ".dl-inline>dt::after {content: \":\\0020\"; padding-right: .5ex}\n",
       ".dl-inline>dt:not(:first-of-type) {padding-left: .5ex}\n",
       "</style><dl class=dl-inline><dt>FALSO</dt><dd>7</dd><dt>VERDADEIRO</dt><dd>6</dd><dt>NA's</dt><dd>1</dd></dl>\n"
      ],
      "text/latex": [
       "\\begin{description*}\n",
       "\\item[FALSO] 7\n",
       "\\item[VERDADEIRO] 6\n",
       "\\item[NA's] 1\n",
       "\\end{description*}\n"
      ],
      "text/markdown": [
       "FALSO\n",
       ":   7VERDADEIRO\n",
       ":   6NA's\n",
       ":   1\n",
       "\n"
      ],
      "text/plain": [
       "     FALSO VERDADEIRO       NA's \n",
       "         7          6          1 "
      ]
     },
     "metadata": {},
     "output_type": "display_data"
    },
    {
     "data": {
      "text/html": [
       "<table class=\"dataframe\">\n",
       "<caption>A data.frame: 1 × 5</caption>\n",
       "<thead>\n",
       "\t<tr><th></th><th scope=col>Aparencia</th><th scope=col>Temperatura</th><th scope=col>Umidade</th><th scope=col>Vento</th><th scope=col>Jogar</th></tr>\n",
       "\t<tr><th></th><th scope=col>&lt;fct&gt;</th><th scope=col>&lt;dbl&gt;</th><th scope=col>&lt;dbl&gt;</th><th scope=col>&lt;fct&gt;</th><th scope=col>&lt;fct&gt;</th></tr>\n",
       "</thead>\n",
       "<tbody>\n",
       "\t<tr><th scope=row>10</th><td>chuva</td><td>75</td><td>85</td><td>NA</td><td>sim</td></tr>\n",
       "</tbody>\n",
       "</table>\n"
      ],
      "text/latex": [
       "A data.frame: 1 × 5\n",
       "\\begin{tabular}{r|lllll}\n",
       "  & Aparencia & Temperatura & Umidade & Vento & Jogar\\\\\n",
       "  & <fct> & <dbl> & <dbl> & <fct> & <fct>\\\\\n",
       "\\hline\n",
       "\t10 & chuva & 75 & 85 & NA & sim\\\\\n",
       "\\end{tabular}\n"
      ],
      "text/markdown": [
       "\n",
       "A data.frame: 1 × 5\n",
       "\n",
       "| <!--/--> | Aparencia &lt;fct&gt; | Temperatura &lt;dbl&gt; | Umidade &lt;dbl&gt; | Vento &lt;fct&gt; | Jogar &lt;fct&gt; |\n",
       "|---|---|---|---|---|---|\n",
       "| 10 | chuva | 75 | 85 | NA | sim |\n",
       "\n"
      ],
      "text/plain": [
       "   Aparencia Temperatura Umidade Vento Jogar\n",
       "10 chuva     75          85      NA    sim  "
      ]
     },
     "metadata": {},
     "output_type": "display_data"
    },
    {
     "data": {
      "text/html": [
       "<table class=\"dataframe\">\n",
       "<caption>A data.frame: 14 × 5</caption>\n",
       "<thead>\n",
       "\t<tr><th scope=col>Aparencia</th><th scope=col>Temperatura</th><th scope=col>Umidade</th><th scope=col>Vento</th><th scope=col>Jogar</th></tr>\n",
       "\t<tr><th scope=col>&lt;fct&gt;</th><th scope=col>&lt;dbl&gt;</th><th scope=col>&lt;dbl&gt;</th><th scope=col>&lt;fct&gt;</th><th scope=col>&lt;fct&gt;</th></tr>\n",
       "</thead>\n",
       "<tbody>\n",
       "\t<tr><td>sol    </td><td>85.0</td><td>85</td><td>FALSO     </td><td>nao</td></tr>\n",
       "\t<tr><td>sol    </td><td>80.0</td><td>90</td><td>VERDADEIRO</td><td>nao</td></tr>\n",
       "\t<tr><td>nublado</td><td>83.0</td><td>86</td><td>FALSO     </td><td>sim</td></tr>\n",
       "\t<tr><td>chuva  </td><td>70.0</td><td>85</td><td>FALSO     </td><td>sim</td></tr>\n",
       "\t<tr><td>chuva  </td><td>68.0</td><td>80</td><td>FALSO     </td><td>sim</td></tr>\n",
       "\t<tr><td>chuva  </td><td>65.0</td><td>70</td><td>VERDADEIRO</td><td>nao</td></tr>\n",
       "\t<tr><td>sol    </td><td>64.0</td><td>65</td><td>VERDADEIRO</td><td>sim</td></tr>\n",
       "\t<tr><td>sol    </td><td>73.5</td><td>95</td><td>FALSO     </td><td>nao</td></tr>\n",
       "\t<tr><td>sol    </td><td>69.0</td><td>70</td><td>FALSO     </td><td>sim</td></tr>\n",
       "\t<tr><td>chuva  </td><td>75.0</td><td>85</td><td>FALSO     </td><td>sim</td></tr>\n",
       "\t<tr><td>sol    </td><td>75.0</td><td>70</td><td>VERDADEIRO</td><td>sim</td></tr>\n",
       "\t<tr><td>nublado</td><td>72.0</td><td>90</td><td>VERDADEIRO</td><td>sim</td></tr>\n",
       "\t<tr><td>nublado</td><td>81.0</td><td>75</td><td>FALSO     </td><td>sim</td></tr>\n",
       "\t<tr><td>chuva  </td><td>71.0</td><td>91</td><td>VERDADEIRO</td><td>nao</td></tr>\n",
       "</tbody>\n",
       "</table>\n"
      ],
      "text/latex": [
       "A data.frame: 14 × 5\n",
       "\\begin{tabular}{lllll}\n",
       " Aparencia & Temperatura & Umidade & Vento & Jogar\\\\\n",
       " <fct> & <dbl> & <dbl> & <fct> & <fct>\\\\\n",
       "\\hline\n",
       "\t sol     & 85.0 & 85 & FALSO      & nao\\\\\n",
       "\t sol     & 80.0 & 90 & VERDADEIRO & nao\\\\\n",
       "\t nublado & 83.0 & 86 & FALSO      & sim\\\\\n",
       "\t chuva   & 70.0 & 85 & FALSO      & sim\\\\\n",
       "\t chuva   & 68.0 & 80 & FALSO      & sim\\\\\n",
       "\t chuva   & 65.0 & 70 & VERDADEIRO & nao\\\\\n",
       "\t sol     & 64.0 & 65 & VERDADEIRO & sim\\\\\n",
       "\t sol     & 73.5 & 95 & FALSO      & nao\\\\\n",
       "\t sol     & 69.0 & 70 & FALSO      & sim\\\\\n",
       "\t chuva   & 75.0 & 85 & FALSO      & sim\\\\\n",
       "\t sol     & 75.0 & 70 & VERDADEIRO & sim\\\\\n",
       "\t nublado & 72.0 & 90 & VERDADEIRO & sim\\\\\n",
       "\t nublado & 81.0 & 75 & FALSO      & sim\\\\\n",
       "\t chuva   & 71.0 & 91 & VERDADEIRO & nao\\\\\n",
       "\\end{tabular}\n"
      ],
      "text/markdown": [
       "\n",
       "A data.frame: 14 × 5\n",
       "\n",
       "| Aparencia &lt;fct&gt; | Temperatura &lt;dbl&gt; | Umidade &lt;dbl&gt; | Vento &lt;fct&gt; | Jogar &lt;fct&gt; |\n",
       "|---|---|---|---|---|\n",
       "| sol     | 85.0 | 85 | FALSO      | nao |\n",
       "| sol     | 80.0 | 90 | VERDADEIRO | nao |\n",
       "| nublado | 83.0 | 86 | FALSO      | sim |\n",
       "| chuva   | 70.0 | 85 | FALSO      | sim |\n",
       "| chuva   | 68.0 | 80 | FALSO      | sim |\n",
       "| chuva   | 65.0 | 70 | VERDADEIRO | nao |\n",
       "| sol     | 64.0 | 65 | VERDADEIRO | sim |\n",
       "| sol     | 73.5 | 95 | FALSO      | nao |\n",
       "| sol     | 69.0 | 70 | FALSO      | sim |\n",
       "| chuva   | 75.0 | 85 | FALSO      | sim |\n",
       "| sol     | 75.0 | 70 | VERDADEIRO | sim |\n",
       "| nublado | 72.0 | 90 | VERDADEIRO | sim |\n",
       "| nublado | 81.0 | 75 | FALSO      | sim |\n",
       "| chuva   | 71.0 | 91 | VERDADEIRO | nao |\n",
       "\n"
      ],
      "text/plain": [
       "   Aparencia Temperatura Umidade Vento      Jogar\n",
       "1  sol       85.0        85      FALSO      nao  \n",
       "2  sol       80.0        90      VERDADEIRO nao  \n",
       "3  nublado   83.0        86      FALSO      sim  \n",
       "4  chuva     70.0        85      FALSO      sim  \n",
       "5  chuva     68.0        80      FALSO      sim  \n",
       "6  chuva     65.0        70      VERDADEIRO nao  \n",
       "7  sol       64.0        65      VERDADEIRO sim  \n",
       "8  sol       73.5        95      FALSO      nao  \n",
       "9  sol       69.0        70      FALSO      sim  \n",
       "10 chuva     75.0        85      FALSO      sim  \n",
       "11 sol       75.0        70      VERDADEIRO sim  \n",
       "12 nublado   72.0        90      VERDADEIRO sim  \n",
       "13 nublado   81.0        75      FALSO      sim  \n",
       "14 chuva     71.0        91      VERDADEIRO nao  "
      ]
     },
     "metadata": {},
     "output_type": "display_data"
    }
   ],
   "source": [
    "unique(data_frame$Vento)\n",
    "summary(data_frame$Vento)\n",
    "data_frame[is.na(data_frame$Vento), ]\n",
    "\n",
    "data_frame[is.na(data_frame$Vento), ]$Vento <- \"FALSO\"\n",
    "\n",
    "data_frame\n"
   ]
  },
  {
   "cell_type": "code",
   "execution_count": 76,
   "metadata": {
    "vscode": {
     "languageId": "r"
    }
   },
   "outputs": [
    {
     "data": {
      "text/html": [
       "<style>\n",
       ".list-inline {list-style: none; margin:0; padding: 0}\n",
       ".list-inline>li {display: inline-block}\n",
       ".list-inline>li:not(:last-child)::after {content: \"\\00b7\"; padding: 0 .5ex}\n",
       "</style>\n",
       "<ol class=list-inline><li>nao</li><li>sim</li></ol>\n",
       "\n",
       "<details>\n",
       "\t<summary style=display:list-item;cursor:pointer>\n",
       "\t\t<strong>Levels</strong>:\n",
       "\t</summary>\n",
       "\t<style>\n",
       "\t.list-inline {list-style: none; margin:0; padding: 0}\n",
       "\t.list-inline>li {display: inline-block}\n",
       "\t.list-inline>li:not(:last-child)::after {content: \"\\00b7\"; padding: 0 .5ex}\n",
       "\t</style>\n",
       "\t<ol class=list-inline><li>'nao'</li><li>'sim'</li></ol>\n",
       "</details>"
      ],
      "text/latex": [
       "\\begin{enumerate*}\n",
       "\\item nao\n",
       "\\item sim\n",
       "\\end{enumerate*}\n",
       "\n",
       "\\emph{Levels}: \\begin{enumerate*}\n",
       "\\item 'nao'\n",
       "\\item 'sim'\n",
       "\\end{enumerate*}\n"
      ],
      "text/markdown": [
       "1. nao\n",
       "2. sim\n",
       "\n",
       "\n",
       "\n",
       "**Levels**: 1. 'nao'\n",
       "2. 'sim'\n",
       "\n",
       "\n"
      ],
      "text/plain": [
       "[1] nao sim\n",
       "Levels: nao sim"
      ]
     },
     "metadata": {},
     "output_type": "display_data"
    },
    {
     "data": {
      "text/html": [
       "<style>\n",
       ".dl-inline {width: auto; margin:0; padding: 0}\n",
       ".dl-inline>dt, .dl-inline>dd {float: none; width: auto; display: inline-block}\n",
       ".dl-inline>dt::after {content: \":\\0020\"; padding-right: .5ex}\n",
       ".dl-inline>dt:not(:first-of-type) {padding-left: .5ex}\n",
       "</style><dl class=dl-inline><dt>nao</dt><dd>5</dd><dt>sim</dt><dd>9</dd></dl>\n"
      ],
      "text/latex": [
       "\\begin{description*}\n",
       "\\item[nao] 5\n",
       "\\item[sim] 9\n",
       "\\end{description*}\n"
      ],
      "text/markdown": [
       "nao\n",
       ":   5sim\n",
       ":   9\n",
       "\n"
      ],
      "text/plain": [
       "nao sim \n",
       "  5   9 "
      ]
     },
     "metadata": {},
     "output_type": "display_data"
    },
    {
     "data": {
      "text/html": [
       "<table class=\"dataframe\">\n",
       "<caption>A data.frame: 0 × 5</caption>\n",
       "<thead>\n",
       "\t<tr><th scope=col>Aparencia</th><th scope=col>Temperatura</th><th scope=col>Umidade</th><th scope=col>Vento</th><th scope=col>Jogar</th></tr>\n",
       "\t<tr><th scope=col>&lt;fct&gt;</th><th scope=col>&lt;dbl&gt;</th><th scope=col>&lt;dbl&gt;</th><th scope=col>&lt;fct&gt;</th><th scope=col>&lt;fct&gt;</th></tr>\n",
       "</thead>\n",
       "<tbody>\n",
       "</tbody>\n",
       "</table>\n"
      ],
      "text/latex": [
       "A data.frame: 0 × 5\n",
       "\\begin{tabular}{lllll}\n",
       " Aparencia & Temperatura & Umidade & Vento & Jogar\\\\\n",
       " <fct> & <dbl> & <dbl> & <fct> & <fct>\\\\\n",
       "\\hline\n",
       "\\end{tabular}\n"
      ],
      "text/markdown": [
       "\n",
       "A data.frame: 0 × 5\n",
       "\n",
       "| Aparencia &lt;fct&gt; | Temperatura &lt;dbl&gt; | Umidade &lt;dbl&gt; | Vento &lt;fct&gt; | Jogar &lt;fct&gt; |\n",
       "|---|---|---|---|---|\n",
       "\n"
      ],
      "text/plain": [
       "     Aparencia Temperatura Umidade Vento Jogar"
      ]
     },
     "metadata": {},
     "output_type": "display_data"
    }
   ],
   "source": [
    "unique(data_frame$Jogar)\n",
    "summary(data_frame$Jogar)\n",
    "data_frame[is.na(data_frame$Jogar), ]"
   ]
  }
 ],
 "metadata": {
  "kernelspec": {
   "display_name": "R",
   "language": "R",
   "name": "ir"
  },
  "language_info": {
   "codemirror_mode": "r",
   "file_extension": ".r",
   "mimetype": "text/x-r-source",
   "name": "R",
   "pygments_lexer": "r",
   "version": "4.3.1"
  }
 },
 "nbformat": 4,
 "nbformat_minor": 2
}
