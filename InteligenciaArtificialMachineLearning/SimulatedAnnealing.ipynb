{
 "cells": [
  {
   "cell_type": "code",
   "execution_count": 2,
   "metadata": {},
   "outputs": [],
   "source": [
    "import numpy as np\n",
    "from scipy.optimize import basinhopping"
   ]
  },
  {
   "cell_type": "code",
   "execution_count": 4,
   "metadata": {},
   "outputs": [
    {
     "name": "stdout",
     "output_type": "stream",
     "text": [
      "                    message: ['requested number of basinhopping iterations completed successfully']\n",
      "                    success: True\n",
      "                        fun: 3.7306655545328313e-13\n",
      "                          x: [ 1.000e+00  1.000e+00]\n",
      "                        nit: 100\n",
      "      minimization_failures: 0\n",
      "                       nfev: 6879\n",
      "                       njev: 2293\n",
      " lowest_optimization_result:  message: CONVERGENCE: NORM_OF_PROJECTED_GRADIENT_<=_PGTOL\n",
      "                              success: True\n",
      "                               status: 0\n",
      "                                  fun: 3.7306655545328313e-13\n",
      "                                    x: [ 1.000e+00  1.000e+00]\n",
      "                                  nit: 16\n",
      "                                  jac: [ 5.619e-06 -4.112e-07]\n",
      "                                 nfev: 69\n",
      "                                 njev: 23\n",
      "                             hess_inv: <2x2 LbfgsInvHessProduct with dtype=float64>\n"
     ]
    }
   ],
   "source": [
    "def rosenbrock(x):\n",
    "    return (1 - x[0]) ** 2 + 100 * (x[1] - x[0] ** 2) ** 2\n",
    "\n",
    "\n",
    "bounds = [(-2, 2), (-2, 2)]\n",
    "\n",
    "x0 = np.array([0, 0])\n",
    "\n",
    "options = {\"stepsize\": 0.5, \"T\": 1.0, \"niter\": 100, \"disp\": False}\n",
    "\n",
    "result = basinhopping(rosenbrock, x0, minimizer_kwargs={\"bounds\": bounds}, **options)\n",
    "\n",
    "print(result)"
   ]
  }
 ],
 "metadata": {
  "kernelspec": {
   "display_name": "base",
   "language": "python",
   "name": "python3"
  },
  "language_info": {
   "codemirror_mode": {
    "name": "ipython",
    "version": 3
   },
   "file_extension": ".py",
   "mimetype": "text/x-python",
   "name": "python",
   "nbconvert_exporter": "python",
   "pygments_lexer": "ipython3",
   "version": "3.12.2"
  }
 },
 "nbformat": 4,
 "nbformat_minor": 2
}
