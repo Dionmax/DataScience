{
 "cells": [
  {
   "cell_type": "code",
   "execution_count": 12,
   "metadata": {
    "vscode": {
     "languageId": "r"
    }
   },
   "outputs": [],
   "source": [
    "# install.packages(\"sampling\")\n",
    "library(sampling)"
   ]
  },
  {
   "cell_type": "code",
   "execution_count": 13,
   "metadata": {
    "vscode": {
     "languageId": "r"
    }
   },
   "outputs": [],
   "source": [
    "proporcao <- 25\n"
   ]
  },
  {
   "cell_type": "code",
   "execution_count": 14,
   "metadata": {
    "vscode": {
     "languageId": "r"
    }
   },
   "outputs": [
    {
     "data": {
      "text/plain": [
       "       Species      ID_unit            Prob        Stratum \n",
       " setosa    :25   Min.   :  1.00   Min.   :0.5   Min.   :1  \n",
       " versicolor:25   1st Qu.: 40.50   1st Qu.:0.5   1st Qu.:1  \n",
       " virginica :25   Median : 82.00   Median :0.5   Median :2  \n",
       "                 Mean   : 75.97   Mean   :0.5   Mean   :2  \n",
       "                 3rd Qu.:113.00   3rd Qu.:0.5   3rd Qu.:3  \n",
       "                 Max.   :150.00   Max.   :0.5   Max.   :3  "
      ]
     },
     "metadata": {},
     "output_type": "display_data"
    }
   ],
   "source": [
    "# Srswor - Simple Random Sampling Without Replacement\n",
    "\n",
    "# amostra_iris <- strata(iris, stratanames = c(\"Species\"), size = c(25, 25, 25), method = \"srswor\")\n",
    "amostra_iris <- strata(iris, stratanames = c(\"Species\"), size = c(rep(proporcao, 3)), method = \"srswor\")\n",
    "\n",
    "summary(amostra_iris)\n"
   ]
  },
  {
   "cell_type": "code",
   "execution_count": 15,
   "metadata": {
    "vscode": {
     "languageId": "r"
    }
   },
   "outputs": [
    {
     "data": {
      "text/html": [
       "<table class=\"dataframe\">\n",
       "<caption>A data.frame: 15 × 8</caption>\n",
       "<thead>\n",
       "\t<tr><th></th><th scope=col>education</th><th scope=col>age</th><th scope=col>parity</th><th scope=col>induced</th><th scope=col>case</th><th scope=col>spontaneous</th><th scope=col>stratum</th><th scope=col>pooled.stratum</th></tr>\n",
       "\t<tr><th></th><th scope=col>&lt;fct&gt;</th><th scope=col>&lt;dbl&gt;</th><th scope=col>&lt;dbl&gt;</th><th scope=col>&lt;dbl&gt;</th><th scope=col>&lt;dbl&gt;</th><th scope=col>&lt;dbl&gt;</th><th scope=col>&lt;int&gt;</th><th scope=col>&lt;dbl&gt;</th></tr>\n",
       "</thead>\n",
       "<tbody>\n",
       "\t<tr><th scope=row>1</th><td>0-5yrs </td><td>26</td><td>6</td><td>1</td><td>1</td><td>2</td><td> 1</td><td> 3</td></tr>\n",
       "\t<tr><th scope=row>2</th><td>0-5yrs </td><td>42</td><td>1</td><td>1</td><td>1</td><td>0</td><td> 2</td><td> 1</td></tr>\n",
       "\t<tr><th scope=row>3</th><td>0-5yrs </td><td>39</td><td>6</td><td>2</td><td>1</td><td>0</td><td> 3</td><td> 4</td></tr>\n",
       "\t<tr><th scope=row>4</th><td>0-5yrs </td><td>34</td><td>4</td><td>2</td><td>1</td><td>0</td><td> 4</td><td> 2</td></tr>\n",
       "\t<tr><th scope=row>5</th><td>6-11yrs</td><td>35</td><td>3</td><td>1</td><td>1</td><td>1</td><td> 5</td><td>32</td></tr>\n",
       "\t<tr><th scope=row>6</th><td>6-11yrs</td><td>36</td><td>4</td><td>2</td><td>1</td><td>1</td><td> 6</td><td>36</td></tr>\n",
       "\t<tr><th scope=row>7</th><td>6-11yrs</td><td>23</td><td>1</td><td>0</td><td>1</td><td>0</td><td> 7</td><td> 6</td></tr>\n",
       "\t<tr><th scope=row>8</th><td>6-11yrs</td><td>32</td><td>2</td><td>0</td><td>1</td><td>0</td><td> 8</td><td>22</td></tr>\n",
       "\t<tr><th scope=row>9</th><td>6-11yrs</td><td>21</td><td>1</td><td>0</td><td>1</td><td>1</td><td> 9</td><td> 5</td></tr>\n",
       "\t<tr><th scope=row>10</th><td>6-11yrs</td><td>28</td><td>2</td><td>0</td><td>1</td><td>0</td><td>10</td><td>19</td></tr>\n",
       "\t<tr><th scope=row>11</th><td>6-11yrs</td><td>29</td><td>2</td><td>1</td><td>1</td><td>0</td><td>11</td><td>20</td></tr>\n",
       "\t<tr><th scope=row>12</th><td>6-11yrs</td><td>37</td><td>4</td><td>2</td><td>1</td><td>1</td><td>12</td><td>37</td></tr>\n",
       "\t<tr><th scope=row>13</th><td>6-11yrs</td><td>31</td><td>1</td><td>1</td><td>1</td><td>0</td><td>13</td><td> 9</td></tr>\n",
       "\t<tr><th scope=row>14</th><td>6-11yrs</td><td>29</td><td>3</td><td>2</td><td>1</td><td>0</td><td>14</td><td>29</td></tr>\n",
       "\t<tr><th scope=row>15</th><td>6-11yrs</td><td>31</td><td>2</td><td>1</td><td>1</td><td>1</td><td>15</td><td>21</td></tr>\n",
       "</tbody>\n",
       "</table>\n"
      ],
      "text/latex": [
       "A data.frame: 15 × 8\n",
       "\\begin{tabular}{r|llllllll}\n",
       "  & education & age & parity & induced & case & spontaneous & stratum & pooled.stratum\\\\\n",
       "  & <fct> & <dbl> & <dbl> & <dbl> & <dbl> & <dbl> & <int> & <dbl>\\\\\n",
       "\\hline\n",
       "\t1 & 0-5yrs  & 26 & 6 & 1 & 1 & 2 &  1 &  3\\\\\n",
       "\t2 & 0-5yrs  & 42 & 1 & 1 & 1 & 0 &  2 &  1\\\\\n",
       "\t3 & 0-5yrs  & 39 & 6 & 2 & 1 & 0 &  3 &  4\\\\\n",
       "\t4 & 0-5yrs  & 34 & 4 & 2 & 1 & 0 &  4 &  2\\\\\n",
       "\t5 & 6-11yrs & 35 & 3 & 1 & 1 & 1 &  5 & 32\\\\\n",
       "\t6 & 6-11yrs & 36 & 4 & 2 & 1 & 1 &  6 & 36\\\\\n",
       "\t7 & 6-11yrs & 23 & 1 & 0 & 1 & 0 &  7 &  6\\\\\n",
       "\t8 & 6-11yrs & 32 & 2 & 0 & 1 & 0 &  8 & 22\\\\\n",
       "\t9 & 6-11yrs & 21 & 1 & 0 & 1 & 1 &  9 &  5\\\\\n",
       "\t10 & 6-11yrs & 28 & 2 & 0 & 1 & 0 & 10 & 19\\\\\n",
       "\t11 & 6-11yrs & 29 & 2 & 1 & 1 & 0 & 11 & 20\\\\\n",
       "\t12 & 6-11yrs & 37 & 4 & 2 & 1 & 1 & 12 & 37\\\\\n",
       "\t13 & 6-11yrs & 31 & 1 & 1 & 1 & 0 & 13 &  9\\\\\n",
       "\t14 & 6-11yrs & 29 & 3 & 2 & 1 & 0 & 14 & 29\\\\\n",
       "\t15 & 6-11yrs & 31 & 2 & 1 & 1 & 1 & 15 & 21\\\\\n",
       "\\end{tabular}\n"
      ],
      "text/markdown": [
       "\n",
       "A data.frame: 15 × 8\n",
       "\n",
       "| <!--/--> | education &lt;fct&gt; | age &lt;dbl&gt; | parity &lt;dbl&gt; | induced &lt;dbl&gt; | case &lt;dbl&gt; | spontaneous &lt;dbl&gt; | stratum &lt;int&gt; | pooled.stratum &lt;dbl&gt; |\n",
       "|---|---|---|---|---|---|---|---|---|\n",
       "| 1 | 0-5yrs  | 26 | 6 | 1 | 1 | 2 |  1 |  3 |\n",
       "| 2 | 0-5yrs  | 42 | 1 | 1 | 1 | 0 |  2 |  1 |\n",
       "| 3 | 0-5yrs  | 39 | 6 | 2 | 1 | 0 |  3 |  4 |\n",
       "| 4 | 0-5yrs  | 34 | 4 | 2 | 1 | 0 |  4 |  2 |\n",
       "| 5 | 6-11yrs | 35 | 3 | 1 | 1 | 1 |  5 | 32 |\n",
       "| 6 | 6-11yrs | 36 | 4 | 2 | 1 | 1 |  6 | 36 |\n",
       "| 7 | 6-11yrs | 23 | 1 | 0 | 1 | 0 |  7 |  6 |\n",
       "| 8 | 6-11yrs | 32 | 2 | 0 | 1 | 0 |  8 | 22 |\n",
       "| 9 | 6-11yrs | 21 | 1 | 0 | 1 | 1 |  9 |  5 |\n",
       "| 10 | 6-11yrs | 28 | 2 | 0 | 1 | 0 | 10 | 19 |\n",
       "| 11 | 6-11yrs | 29 | 2 | 1 | 1 | 0 | 11 | 20 |\n",
       "| 12 | 6-11yrs | 37 | 4 | 2 | 1 | 1 | 12 | 37 |\n",
       "| 13 | 6-11yrs | 31 | 1 | 1 | 1 | 0 | 13 |  9 |\n",
       "| 14 | 6-11yrs | 29 | 3 | 2 | 1 | 0 | 14 | 29 |\n",
       "| 15 | 6-11yrs | 31 | 2 | 1 | 1 | 1 | 15 | 21 |\n",
       "\n"
      ],
      "text/plain": [
       "   education age parity induced case spontaneous stratum pooled.stratum\n",
       "1  0-5yrs    26  6      1       1    2            1       3            \n",
       "2  0-5yrs    42  1      1       1    0            2       1            \n",
       "3  0-5yrs    39  6      2       1    0            3       4            \n",
       "4  0-5yrs    34  4      2       1    0            4       2            \n",
       "5  6-11yrs   35  3      1       1    1            5      32            \n",
       "6  6-11yrs   36  4      2       1    1            6      36            \n",
       "7  6-11yrs   23  1      0       1    0            7       6            \n",
       "8  6-11yrs   32  2      0       1    0            8      22            \n",
       "9  6-11yrs   21  1      0       1    1            9       5            \n",
       "10 6-11yrs   28  2      0       1    0           10      19            \n",
       "11 6-11yrs   29  2      1       1    0           11      20            \n",
       "12 6-11yrs   37  4      2       1    1           12      37            \n",
       "13 6-11yrs   31  1      1       1    0           13       9            \n",
       "14 6-11yrs   29  3      2       1    0           14      29            \n",
       "15 6-11yrs   31  2      1       1    1           15      21            "
      ]
     },
     "metadata": {},
     "output_type": "display_data"
    }
   ],
   "source": [
    "head(infert, 15)"
   ]
  },
  {
   "cell_type": "code",
   "execution_count": 16,
   "metadata": {
    "vscode": {
     "languageId": "r"
    }
   },
   "outputs": [
    {
     "data": {
      "text/plain": [
       "   education        age            parity         induced      \n",
       " 0-5yrs : 12   Min.   :21.00   Min.   :1.000   Min.   :0.0000  \n",
       " 6-11yrs:120   1st Qu.:28.00   1st Qu.:1.000   1st Qu.:0.0000  \n",
       " 12+ yrs:116   Median :31.00   Median :2.000   Median :0.0000  \n",
       "               Mean   :31.50   Mean   :2.093   Mean   :0.5726  \n",
       "               3rd Qu.:35.25   3rd Qu.:3.000   3rd Qu.:1.0000  \n",
       "               Max.   :44.00   Max.   :6.000   Max.   :2.0000  \n",
       "      case         spontaneous        stratum      pooled.stratum \n",
       " Min.   :0.0000   Min.   :0.0000   Min.   : 1.00   Min.   : 1.00  \n",
       " 1st Qu.:0.0000   1st Qu.:0.0000   1st Qu.:21.00   1st Qu.:19.00  \n",
       " Median :0.0000   Median :0.0000   Median :42.00   Median :36.00  \n",
       " Mean   :0.3347   Mean   :0.5766   Mean   :41.87   Mean   :33.58  \n",
       " 3rd Qu.:1.0000   3rd Qu.:1.0000   3rd Qu.:62.25   3rd Qu.:48.25  \n",
       " Max.   :1.0000   Max.   :2.0000   Max.   :83.00   Max.   :63.00  "
      ]
     },
     "metadata": {},
     "output_type": "display_data"
    }
   ],
   "source": [
    "summary(infert)"
   ]
  },
  {
   "cell_type": "code",
   "execution_count": 18,
   "metadata": {
    "vscode": {
     "languageId": "r"
    }
   },
   "outputs": [
    {
     "data": {
      "text/html": [
       "<table class=\"dataframe\">\n",
       "<caption>A data.frame: 10 × 4</caption>\n",
       "<thead>\n",
       "\t<tr><th></th><th scope=col>education</th><th scope=col>ID_unit</th><th scope=col>Prob</th><th scope=col>Stratum</th></tr>\n",
       "\t<tr><th></th><th scope=col>&lt;fct&gt;</th><th scope=col>&lt;int&gt;</th><th scope=col>&lt;dbl&gt;</th><th scope=col>&lt;int&gt;</th></tr>\n",
       "</thead>\n",
       "<tbody>\n",
       "\t<tr><th scope=row>1</th><td>0-5yrs </td><td>  1</td><td>0.4166667</td><td>1</td></tr>\n",
       "\t<tr><th scope=row>2</th><td>0-5yrs </td><td>  2</td><td>0.4166667</td><td>1</td></tr>\n",
       "\t<tr><th scope=row>4</th><td>0-5yrs </td><td>  4</td><td>0.4166667</td><td>1</td></tr>\n",
       "\t<tr><th scope=row>87</th><td>0-5yrs </td><td> 87</td><td>0.4166667</td><td>1</td></tr>\n",
       "\t<tr><th scope=row>169</th><td>0-5yrs </td><td>169</td><td>0.4166667</td><td>1</td></tr>\n",
       "\t<tr><th scope=row>5</th><td>6-11yrs</td><td>  5</td><td>0.4000000</td><td>2</td></tr>\n",
       "\t<tr><th scope=row>8</th><td>6-11yrs</td><td>  8</td><td>0.4000000</td><td>2</td></tr>\n",
       "\t<tr><th scope=row>9</th><td>6-11yrs</td><td>  9</td><td>0.4000000</td><td>2</td></tr>\n",
       "\t<tr><th scope=row>13</th><td>6-11yrs</td><td> 13</td><td>0.4000000</td><td>2</td></tr>\n",
       "\t<tr><th scope=row>16</th><td>6-11yrs</td><td> 16</td><td>0.4000000</td><td>2</td></tr>\n",
       "</tbody>\n",
       "</table>\n"
      ],
      "text/latex": [
       "A data.frame: 10 × 4\n",
       "\\begin{tabular}{r|llll}\n",
       "  & education & ID\\_unit & Prob & Stratum\\\\\n",
       "  & <fct> & <int> & <dbl> & <int>\\\\\n",
       "\\hline\n",
       "\t1 & 0-5yrs  &   1 & 0.4166667 & 1\\\\\n",
       "\t2 & 0-5yrs  &   2 & 0.4166667 & 1\\\\\n",
       "\t4 & 0-5yrs  &   4 & 0.4166667 & 1\\\\\n",
       "\t87 & 0-5yrs  &  87 & 0.4166667 & 1\\\\\n",
       "\t169 & 0-5yrs  & 169 & 0.4166667 & 1\\\\\n",
       "\t5 & 6-11yrs &   5 & 0.4000000 & 2\\\\\n",
       "\t8 & 6-11yrs &   8 & 0.4000000 & 2\\\\\n",
       "\t9 & 6-11yrs &   9 & 0.4000000 & 2\\\\\n",
       "\t13 & 6-11yrs &  13 & 0.4000000 & 2\\\\\n",
       "\t16 & 6-11yrs &  16 & 0.4000000 & 2\\\\\n",
       "\\end{tabular}\n"
      ],
      "text/markdown": [
       "\n",
       "A data.frame: 10 × 4\n",
       "\n",
       "| <!--/--> | education &lt;fct&gt; | ID_unit &lt;int&gt; | Prob &lt;dbl&gt; | Stratum &lt;int&gt; |\n",
       "|---|---|---|---|---|\n",
       "| 1 | 0-5yrs  |   1 | 0.4166667 | 1 |\n",
       "| 2 | 0-5yrs  |   2 | 0.4166667 | 1 |\n",
       "| 4 | 0-5yrs  |   4 | 0.4166667 | 1 |\n",
       "| 87 | 0-5yrs  |  87 | 0.4166667 | 1 |\n",
       "| 169 | 0-5yrs  | 169 | 0.4166667 | 1 |\n",
       "| 5 | 6-11yrs |   5 | 0.4000000 | 2 |\n",
       "| 8 | 6-11yrs |   8 | 0.4000000 | 2 |\n",
       "| 9 | 6-11yrs |   9 | 0.4000000 | 2 |\n",
       "| 13 | 6-11yrs |  13 | 0.4000000 | 2 |\n",
       "| 16 | 6-11yrs |  16 | 0.4000000 | 2 |\n",
       "\n"
      ],
      "text/plain": [
       "    education ID_unit Prob      Stratum\n",
       "1   0-5yrs      1     0.4166667 1      \n",
       "2   0-5yrs      2     0.4166667 1      \n",
       "4   0-5yrs      4     0.4166667 1      \n",
       "87  0-5yrs     87     0.4166667 1      \n",
       "169 0-5yrs    169     0.4166667 1      \n",
       "5   6-11yrs     5     0.4000000 2      \n",
       "8   6-11yrs     8     0.4000000 2      \n",
       "9   6-11yrs     9     0.4000000 2      \n",
       "13  6-11yrs    13     0.4000000 2      \n",
       "16  6-11yrs    16     0.4000000 2      "
      ]
     },
     "metadata": {},
     "output_type": "display_data"
    }
   ],
   "source": [
    "amostra_infert <- strata(infert, stratanames = c(\"education\"), size = c(5, 48, 47), method = \"srswor\")\n",
    "\n",
    "head(amostra_infert, 10)\n"
   ]
  },
  {
   "cell_type": "code",
   "execution_count": 19,
   "metadata": {
    "vscode": {
     "languageId": "r"
    }
   },
   "outputs": [
    {
     "data": {
      "text/plain": [
       "   education     ID_unit            Prob           Stratum    \n",
       " 0-5yrs : 5   Min.   :  1.00   Min.   :0.4000   Min.   :1.00  \n",
       " 6-11yrs:48   1st Qu.: 58.75   1st Qu.:0.4000   1st Qu.:2.00  \n",
       " 12+ yrs:47   Median :111.00   Median :0.4052   Median :2.00  \n",
       "              Mean   :118.39   Mean   :0.4033   Mean   :2.42  \n",
       "              3rd Qu.:180.25   3rd Qu.:0.4052   3rd Qu.:3.00  \n",
       "              Max.   :247.00   Max.   :0.4167   Max.   :3.00  "
      ]
     },
     "metadata": {},
     "output_type": "display_data"
    }
   ],
   "source": [
    "summary(amostra_infert)"
   ]
  }
 ],
 "metadata": {
  "kernelspec": {
   "display_name": "R",
   "language": "R",
   "name": "ir"
  },
  "language_info": {
   "codemirror_mode": "r",
   "file_extension": ".r",
   "mimetype": "text/x-r-source",
   "name": "R",
   "pygments_lexer": "r",
   "version": "4.3.1"
  }
 },
 "nbformat": 4,
 "nbformat_minor": 2
}
