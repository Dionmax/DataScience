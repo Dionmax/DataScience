{
 "cells": [
  {
   "cell_type": "code",
   "execution_count": 33,
   "metadata": {},
   "outputs": [],
   "source": [
    "# pip install pygad\n",
    "import pygad\n",
    "\n",
    "import numpy as np"
   ]
  },
  {
   "cell_type": "code",
   "execution_count": 34,
   "metadata": {},
   "outputs": [],
   "source": [
    "itens = [\n",
    "    (\"Canivete\", 10, 1),\n",
    "    (\"Feijao\", 20, 5),\n",
    "    (\"Batatas\", 15, 10),\n",
    "    (\"Lanterna\", 2, 1),\n",
    "    (\"Saco de dormir\", 30, 7),\n",
    "    (\"Corda\", 10, 5),\n",
    "    (\"Bussula\", 30, 1),\n",
    "]\n",
    "\n",
    "weightsLimit = 15"
   ]
  },
  {
   "cell_type": "code",
   "execution_count": 35,
   "metadata": {},
   "outputs": [],
   "source": [
    "def fitness_function(ga_instance, solution, solution_idx):\n",
    "    points = 0\n",
    "    weight = 0\n",
    "\n",
    "    for i in range(len(solution)):\n",
    "        if solution[i] == 1:\n",
    "            points += itens[i][1]\n",
    "            weight += itens[i][2]\n",
    "\n",
    "    if weight > weightsLimit:\n",
    "        return -1\n",
    "\n",
    "    return points"
   ]
  },
  {
   "cell_type": "code",
   "execution_count": 41,
   "metadata": {},
   "outputs": [
    {
     "name": "stdout",
     "output_type": "stream",
     "text": [
      "Best solution:  [1 1 0 1 1 0 1]\n",
      "Poins:  92\n"
     ]
    }
   ],
   "source": [
    "ga_instance = pygad.GA(\n",
    "    num_generations=500,\n",
    "    num_parents_mating=5,\n",
    "    fitness_func=fitness_function,\n",
    "    sol_per_pop=50,\n",
    "    num_genes=len(itens),\n",
    "    gene_type=int,\n",
    "    init_range_low=0,\n",
    "    init_range_high=2,\n",
    ")\n",
    "\n",
    "ga_instance.run()\n",
    "\n",
    "solution, solution_fitness, _ = ga_instance.best_solution()\n",
    "\n",
    "print(\"Best solution: \", solution)\n",
    "\n",
    "print(\"Poins: \", solution_fitness)"
   ]
  }
 ],
 "metadata": {
  "kernelspec": {
   "display_name": "base",
   "language": "python",
   "name": "python3"
  },
  "language_info": {
   "codemirror_mode": {
    "name": "ipython",
    "version": 3
   },
   "file_extension": ".py",
   "mimetype": "text/x-python",
   "name": "python",
   "nbconvert_exporter": "python",
   "pygments_lexer": "ipython3",
   "version": "3.12.2"
  }
 },
 "nbformat": 4,
 "nbformat_minor": 2
}
