{
 "cells": [
  {
   "cell_type": "code",
   "execution_count": 29,
   "metadata": {},
   "outputs": [],
   "source": [
    "from pymongo import MongoClient"
   ]
  },
  {
   "cell_type": "code",
   "execution_count": 30,
   "metadata": {},
   "outputs": [],
   "source": [
    "cliente = MongoClient(\"192.168.0.135\", 27017, username=\"mongodb\", password=\"mongodb\")"
   ]
  },
  {
   "cell_type": "code",
   "execution_count": 31,
   "metadata": {},
   "outputs": [],
   "source": [
    "db = cliente.mydb"
   ]
  },
  {
   "cell_type": "code",
   "execution_count": 32,
   "metadata": {},
   "outputs": [],
   "source": [
    "conexao = db.posts"
   ]
  },
  {
   "cell_type": "code",
   "execution_count": 33,
   "metadata": {},
   "outputs": [
    {
     "name": "stdout",
     "output_type": "stream",
     "text": [
      "{'_id': ObjectId('6686d7c86db1b2341e149f48'), 'nome': 'José', 'postagem': 'Bons Produtos!', 'data': '31/09/2023'}\n"
     ]
    }
   ],
   "source": [
    "print(conexao.find_one())"
   ]
  },
  {
   "cell_type": "code",
   "execution_count": 34,
   "metadata": {},
   "outputs": [
    {
     "name": "stdout",
     "output_type": "stream",
     "text": [
      "{'_id': ObjectId('6686d7c86db1b2341e149f48'), 'nome': 'José', 'postagem': 'Bons Produtos!', 'data': '31/09/2023'}\n",
      "{'_id': ObjectId('6686dd276db1b2341e149f49'), 'nome': 'Ana', 'postagem': 'Produtos de qualidade!', 'data': '30/09/2023'}\n",
      "{'_id': ObjectId('6686dd276db1b2341e149f4a'), 'nome': 'Maria', 'postagem': 'Ótimo atendimento!', 'data': '01/10/2023'}\n",
      "{'_id': ObjectId('6686dd276db1b2341e149f4b'), 'nome': 'Carlos', 'postagem': 'Entrega rápida!', 'data': '02/10/2023'}\n"
     ]
    }
   ],
   "source": [
    "for conexao in conexao.find():\n",
    "    print(conexao)"
   ]
  },
  {
   "cell_type": "code",
   "execution_count": 35,
   "metadata": {},
   "outputs": [],
   "source": [
    "cliente.close()"
   ]
  }
 ],
 "metadata": {
  "kernelspec": {
   "display_name": "base",
   "language": "python",
   "name": "python3"
  },
  "language_info": {
   "codemirror_mode": {
    "name": "ipython",
    "version": 3
   },
   "file_extension": ".py",
   "mimetype": "text/x-python",
   "name": "python",
   "nbconvert_exporter": "python",
   "pygments_lexer": "ipython3",
   "version": "3.12.4"
  }
 },
 "nbformat": 4,
 "nbformat_minor": 2
}
